{
 "cells": [
  {
   "cell_type": "markdown",
   "metadata": {
    "id": "eBY8RGfz2E1j"
   },
   "source": [
    "# TRABALHO PRÁTICO 1 \n"
   ]
  },
  {
   "cell_type": "markdown",
   "metadata": {
    "id": "TEgetfHo13ri"
   },
   "source": [
    "  O objetivo desse trabalho é avaliar a capacidade do aluno de gerar consultas em SQL a partir das questões propostas. Um Banco de Dados foi adaptado exclusivamente para esta tarefa, a partir dos dados de Documento de Empenho, Liquidação e Pagamento, disponibilizados em: \n",
    "*   [Portal da Transparência - Despesas](https://portaldatransparencia.gov.br/download-de-dados/despesas)"
   ]
  },
  {
   "cell_type": "markdown",
   "metadata": {
    "id": "gQabrrBfOLLh"
   },
   "source": [
    "**IMPORTANTE**: \n",
    "\n",
    "1.   Altere apenas dentro das aspas duplas onde estiver escrito *Altere Aqui*. \n",
    "2.   Não serão necessárias alterações em funções ou outras partes do código.\n",
    "3.   Após finalizar todas as consultas, clique em *Kernel -> Restart and Run All* no ambiente Jupyter.\n",
    "4.   Altere o nome do arquivo *TP1_matricula.ipynb* adicionando o seu número de matrícula substituindo onde está escrito matrícula.\n",
    "5.   Um arquivo *.csv* com a sua matrícula será gerado automaticamente no diretório do ambiente. \n",
    "6.   Compactar os arquivos *TP1_matricula.ipynb* e *matricula.csv* em *matricula.zip* e submeter na tarefa criada para o TP1 via Moodle.\n",
    "\n",
    "\n",
    "\n"
   ]
  },
  {
   "cell_type": "code",
   "execution_count": 20,
   "metadata": {
    "colab": {
     "base_uri": "https://localhost:8080/"
    },
    "id": "6FnNsp038eNA",
    "outputId": "9f3324b5-7102-474d-8486-397b38860de1"
   },
   "outputs": [
    {
     "name": "stdout",
     "output_type": "stream",
     "text": [
      "\u001b[31mERROR: Could not find a version that satisfies the requirement sqlite3 (from versions: none)\u001b[0m\u001b[31m\n",
      "\u001b[0m\u001b[31mERROR: No matching distribution found for sqlite3\u001b[0m\u001b[31m\n",
      "\u001b[0mRequirement already satisfied: pandas in /opt/homebrew/anaconda3/lib/python3.10/site-packages (1.5.3)\n",
      "Requirement already satisfied: python-dateutil>=2.8.1 in /opt/homebrew/anaconda3/lib/python3.10/site-packages (from pandas) (2.8.2)\n",
      "Requirement already satisfied: pytz>=2020.1 in /opt/homebrew/anaconda3/lib/python3.10/site-packages (from pandas) (2022.7)\n",
      "Requirement already satisfied: numpy>=1.21.0 in /opt/homebrew/anaconda3/lib/python3.10/site-packages (from pandas) (1.23.5)\n",
      "Requirement already satisfied: six>=1.5 in /opt/homebrew/anaconda3/lib/python3.10/site-packages (from python-dateutil>=2.8.1->pandas) (1.16.0)\n",
      "\u001b[31mERROR: Could not find a version that satisfies the requirement csv (from versions: none)\u001b[0m\u001b[31m\n",
      "\u001b[0m\u001b[31mERROR: No matching distribution found for csv\u001b[0m\u001b[31m\n",
      "\u001b[0mRequirement already satisfied: gdown in /opt/homebrew/anaconda3/lib/python3.10/site-packages (4.7.1)\n",
      "Requirement already satisfied: tqdm in /opt/homebrew/anaconda3/lib/python3.10/site-packages (from gdown) (4.64.1)\n",
      "Requirement already satisfied: filelock in /opt/homebrew/anaconda3/lib/python3.10/site-packages (from gdown) (3.9.0)\n",
      "Requirement already satisfied: six in /opt/homebrew/anaconda3/lib/python3.10/site-packages (from gdown) (1.16.0)\n",
      "Requirement already satisfied: requests[socks] in /opt/homebrew/anaconda3/lib/python3.10/site-packages (from gdown) (2.28.1)\n",
      "Requirement already satisfied: beautifulsoup4 in /opt/homebrew/anaconda3/lib/python3.10/site-packages (from gdown) (4.11.1)\n",
      "Requirement already satisfied: soupsieve>1.2 in /opt/homebrew/anaconda3/lib/python3.10/site-packages (from beautifulsoup4->gdown) (2.3.2.post1)\n",
      "Requirement already satisfied: urllib3<1.27,>=1.21.1 in /opt/homebrew/anaconda3/lib/python3.10/site-packages (from requests[socks]->gdown) (1.26.14)\n",
      "Requirement already satisfied: charset-normalizer<3,>=2 in /opt/homebrew/anaconda3/lib/python3.10/site-packages (from requests[socks]->gdown) (2.0.4)\n",
      "Requirement already satisfied: certifi>=2017.4.17 in /opt/homebrew/anaconda3/lib/python3.10/site-packages (from requests[socks]->gdown) (2022.12.7)\n",
      "Requirement already satisfied: idna<4,>=2.5 in /opt/homebrew/anaconda3/lib/python3.10/site-packages (from requests[socks]->gdown) (3.4)\n",
      "Requirement already satisfied: PySocks!=1.5.7,>=1.5.6 in /opt/homebrew/anaconda3/lib/python3.10/site-packages (from requests[socks]->gdown) (1.7.1)\n"
     ]
    }
   ],
   "source": [
    "#NÃO ALTERE AS LINHAS ABAIXO\n",
    "import sys\n",
    "!{sys.executable} -m pip install sqlite3\n",
    "!{sys.executable} -m pip install pandas\n",
    "!{sys.executable} -m pip install csv\n",
    "!{sys.executable} -m pip install gdown"
   ]
  },
  {
   "cell_type": "code",
   "execution_count": 21,
   "metadata": {
    "id": "UTEN6eIxoIW2"
   },
   "outputs": [],
   "source": [
    "#NÃO ALTERE AS LINHAS ABAIXO\n",
    "import sqlite3 as sql3\n",
    "import pandas as pd\n",
    "import csv\n",
    "import gdown"
   ]
  },
  {
   "cell_type": "markdown",
   "metadata": {
    "id": "MZfJfrgrOdUz"
   },
   "source": [
    "## Banco de Dados\n",
    "Caso queira, você poderá fazer o download do banco de dados para explorá-lo:\n",
    "*   [Banco de Dados - Despesas de Empenho](https://drive.google.com/file/d/1-dcxPb7DhPfBC1EQg2VzTXvTH28KxXH8/view?usp=share_link) \n",
    "\n",
    "**OBS**: Esse processo não é necessário para execução do trabalho, pois tudo o que você irá precisar, o próprio notebook já irá buscar, gerar e conectar ao banco fornecido, nas células 2 e 3."
   ]
  },
  {
   "cell_type": "code",
   "execution_count": 22,
   "metadata": {
    "colab": {
     "base_uri": "https://localhost:8080/"
    },
    "id": "UrY52E3oowC-",
    "outputId": "b109f844-079c-4825-d1aa-3bca1e400c13"
   },
   "outputs": [
    {
     "name": "stdout",
     "output_type": "stream",
     "text": [
      "Downloading...\n",
      "From: https://drive.google.com/uc?id=1-dcxPb7DhPfBC1EQg2VzTXvTH28KxXH8\n",
      "To: /Users/joaomarcostomaz/Desktop/Estudos/segundo_semestre/IBD/bancoDadosDespesas.sql\n",
      "100%|███████████████████████████████████████| 41.4k/41.4k [00:00<00:00, 939kB/s]\n"
     ]
    }
   ],
   "source": [
    "#NÃO ALTERE AS LINHAS ABAIXO\n",
    "!gdown \"1-dcxPb7DhPfBC1EQg2VzTXvTH28KxXH8\""
   ]
  },
  {
   "cell_type": "code",
   "execution_count": 23,
   "metadata": {
    "id": "DfPu88XYnWvM"
   },
   "outputs": [],
   "source": [
    "#NÃO ALTERE AS LINHAS ABAIXO\n",
    "con = sql3.connect(\":memory:\")\n",
    "sql_file = open('bancoDadosDespesas.sql', encoding=\"utf8\")\n",
    "cur = con.cursor()\n",
    "db = sql_file.read()\n",
    "cur.executescript(db)\n",
    "con.commit()"
   ]
  },
  {
   "cell_type": "markdown",
   "metadata": {
    "id": "-3YwrO_-l2WZ"
   },
   "source": [
    "## Estrutura das Tabelas do Banco de Dados Despesas\n",
    "\n",
    "Nas células de 5 a 9 abaixo, estão listadas as informações referentes aos campos e tipos de dados relacionados a todas as tabelas do Banco de Dados Despesas:"
   ]
  },
  {
   "cell_type": "markdown",
   "metadata": {
    "id": "YNbhzCECo-cG"
   },
   "source": [
    "### TABELA EMPENHO"
   ]
  },
  {
   "cell_type": "code",
   "execution_count": 24,
   "metadata": {
    "colab": {
     "base_uri": "https://localhost:8080/",
     "height": 300
    },
    "id": "8jkvRmLal28e",
    "outputId": "b8d003f0-3889-464d-8835-3094885c4725"
   },
   "outputs": [
    {
     "data": {
      "text/html": [
       "<div>\n",
       "<style scoped>\n",
       "    .dataframe tbody tr th:only-of-type {\n",
       "        vertical-align: middle;\n",
       "    }\n",
       "\n",
       "    .dataframe tbody tr th {\n",
       "        vertical-align: top;\n",
       "    }\n",
       "\n",
       "    .dataframe thead th {\n",
       "        text-align: right;\n",
       "    }\n",
       "</style>\n",
       "<table border=\"1\" class=\"dataframe\">\n",
       "  <thead>\n",
       "    <tr style=\"text-align: right;\">\n",
       "      <th></th>\n",
       "      <th>cid</th>\n",
       "      <th>name</th>\n",
       "      <th>type</th>\n",
       "      <th>notnull</th>\n",
       "      <th>dflt_value</th>\n",
       "      <th>pk</th>\n",
       "    </tr>\n",
       "  </thead>\n",
       "  <tbody>\n",
       "    <tr>\n",
       "      <th>0</th>\n",
       "      <td>0</td>\n",
       "      <td>id_empenho</td>\n",
       "      <td>INTEGER</td>\n",
       "      <td>0</td>\n",
       "      <td>None</td>\n",
       "      <td>1</td>\n",
       "    </tr>\n",
       "    <tr>\n",
       "      <th>1</th>\n",
       "      <td>1</td>\n",
       "      <td>id_unidade</td>\n",
       "      <td>INTEGER</td>\n",
       "      <td>1</td>\n",
       "      <td>None</td>\n",
       "      <td>0</td>\n",
       "    </tr>\n",
       "    <tr>\n",
       "      <th>2</th>\n",
       "      <td>2</td>\n",
       "      <td>id_favorecido</td>\n",
       "      <td>INTEGER</td>\n",
       "      <td>1</td>\n",
       "      <td>None</td>\n",
       "      <td>0</td>\n",
       "    </tr>\n",
       "    <tr>\n",
       "      <th>3</th>\n",
       "      <td>3</td>\n",
       "      <td>codigo_empenho</td>\n",
       "      <td>character varying(50)</td>\n",
       "      <td>1</td>\n",
       "      <td>None</td>\n",
       "      <td>0</td>\n",
       "    </tr>\n",
       "    <tr>\n",
       "      <th>4</th>\n",
       "      <td>4</td>\n",
       "      <td>data_emissao</td>\n",
       "      <td>date</td>\n",
       "      <td>1</td>\n",
       "      <td>None</td>\n",
       "      <td>0</td>\n",
       "    </tr>\n",
       "    <tr>\n",
       "      <th>5</th>\n",
       "      <td>5</td>\n",
       "      <td>observacao</td>\n",
       "      <td>character varying(500)</td>\n",
       "      <td>0</td>\n",
       "      <td>None</td>\n",
       "      <td>0</td>\n",
       "    </tr>\n",
       "    <tr>\n",
       "      <th>6</th>\n",
       "      <td>6</td>\n",
       "      <td>processo</td>\n",
       "      <td>character varying(100)</td>\n",
       "      <td>1</td>\n",
       "      <td>None</td>\n",
       "      <td>0</td>\n",
       "    </tr>\n",
       "    <tr>\n",
       "      <th>7</th>\n",
       "      <td>7</td>\n",
       "      <td>valor_empenho</td>\n",
       "      <td>numeric</td>\n",
       "      <td>1</td>\n",
       "      <td>None</td>\n",
       "      <td>0</td>\n",
       "    </tr>\n",
       "  </tbody>\n",
       "</table>\n",
       "</div>"
      ],
      "text/plain": [
       "   cid            name                    type  notnull dflt_value  pk\n",
       "0    0      id_empenho                 INTEGER        0       None   1\n",
       "1    1      id_unidade                 INTEGER        1       None   0\n",
       "2    2   id_favorecido                 INTEGER        1       None   0\n",
       "3    3  codigo_empenho   character varying(50)        1       None   0\n",
       "4    4    data_emissao                    date        1       None   0\n",
       "5    5      observacao  character varying(500)        0       None   0\n",
       "6    6        processo  character varying(100)        1       None   0\n",
       "7    7   valor_empenho                 numeric        1       None   0"
      ]
     },
     "metadata": {},
     "output_type": "display_data"
    }
   ],
   "source": [
    "#NÃO ALTERE AS LINHAS ABAIXO\n",
    "query = \"PRAGMA table_info('empenho')\"\n",
    "df = pd.read_sql(query, con)\n",
    "display(df)"
   ]
  },
  {
   "cell_type": "markdown",
   "metadata": {
    "id": "8hfCV641pC9H"
   },
   "source": [
    "### TABELA FAVORECIDO"
   ]
  },
  {
   "cell_type": "code",
   "execution_count": 25,
   "metadata": {
    "colab": {
     "base_uri": "https://localhost:8080/",
     "height": 143
    },
    "id": "KixV7M2lpIue",
    "outputId": "3a89ce56-4c07-46e1-d14c-ae03c9ac722a"
   },
   "outputs": [
    {
     "data": {
      "text/html": [
       "<div>\n",
       "<style scoped>\n",
       "    .dataframe tbody tr th:only-of-type {\n",
       "        vertical-align: middle;\n",
       "    }\n",
       "\n",
       "    .dataframe tbody tr th {\n",
       "        vertical-align: top;\n",
       "    }\n",
       "\n",
       "    .dataframe thead th {\n",
       "        text-align: right;\n",
       "    }\n",
       "</style>\n",
       "<table border=\"1\" class=\"dataframe\">\n",
       "  <thead>\n",
       "    <tr style=\"text-align: right;\">\n",
       "      <th></th>\n",
       "      <th>cid</th>\n",
       "      <th>name</th>\n",
       "      <th>type</th>\n",
       "      <th>notnull</th>\n",
       "      <th>dflt_value</th>\n",
       "      <th>pk</th>\n",
       "    </tr>\n",
       "  </thead>\n",
       "  <tbody>\n",
       "    <tr>\n",
       "      <th>0</th>\n",
       "      <td>0</td>\n",
       "      <td>id_favorecido</td>\n",
       "      <td>INTEGER</td>\n",
       "      <td>0</td>\n",
       "      <td>None</td>\n",
       "      <td>1</td>\n",
       "    </tr>\n",
       "    <tr>\n",
       "      <th>1</th>\n",
       "      <td>1</td>\n",
       "      <td>nome_fornecedor</td>\n",
       "      <td>character varying(100)</td>\n",
       "      <td>1</td>\n",
       "      <td>None</td>\n",
       "      <td>0</td>\n",
       "    </tr>\n",
       "    <tr>\n",
       "      <th>2</th>\n",
       "      <td>2</td>\n",
       "      <td>uf</td>\n",
       "      <td>character varying(2)</td>\n",
       "      <td>1</td>\n",
       "      <td>None</td>\n",
       "      <td>0</td>\n",
       "    </tr>\n",
       "  </tbody>\n",
       "</table>\n",
       "</div>"
      ],
      "text/plain": [
       "   cid             name                    type  notnull dflt_value  pk\n",
       "0    0    id_favorecido                 INTEGER        0       None   1\n",
       "1    1  nome_fornecedor  character varying(100)        1       None   0\n",
       "2    2               uf    character varying(2)        1       None   0"
      ]
     },
     "metadata": {},
     "output_type": "display_data"
    }
   ],
   "source": [
    "#NÃO ALTERE AS LINHAS ABAIXO\n",
    "query = \"PRAGMA table_info('favorecido')\"\n",
    "df = pd.read_sql(query, con)\n",
    "display(df)"
   ]
  },
  {
   "cell_type": "markdown",
   "metadata": {
    "id": "D3Rt9RGApJIc"
   },
   "source": [
    "### TABELA ITEM_EMPENHO"
   ]
  },
  {
   "cell_type": "code",
   "execution_count": 26,
   "metadata": {
    "colab": {
     "base_uri": "https://localhost:8080/",
     "height": 206
    },
    "id": "ipQyCv7EpLif",
    "outputId": "1370c27f-c7bf-49dd-eeb0-5039b488292b"
   },
   "outputs": [
    {
     "data": {
      "text/html": [
       "<div>\n",
       "<style scoped>\n",
       "    .dataframe tbody tr th:only-of-type {\n",
       "        vertical-align: middle;\n",
       "    }\n",
       "\n",
       "    .dataframe tbody tr th {\n",
       "        vertical-align: top;\n",
       "    }\n",
       "\n",
       "    .dataframe thead th {\n",
       "        text-align: right;\n",
       "    }\n",
       "</style>\n",
       "<table border=\"1\" class=\"dataframe\">\n",
       "  <thead>\n",
       "    <tr style=\"text-align: right;\">\n",
       "      <th></th>\n",
       "      <th>cid</th>\n",
       "      <th>name</th>\n",
       "      <th>type</th>\n",
       "      <th>notnull</th>\n",
       "      <th>dflt_value</th>\n",
       "      <th>pk</th>\n",
       "    </tr>\n",
       "  </thead>\n",
       "  <tbody>\n",
       "    <tr>\n",
       "      <th>0</th>\n",
       "      <td>0</td>\n",
       "      <td>id_item_empenho</td>\n",
       "      <td>INTEGER</td>\n",
       "      <td>0</td>\n",
       "      <td>None</td>\n",
       "      <td>1</td>\n",
       "    </tr>\n",
       "    <tr>\n",
       "      <th>1</th>\n",
       "      <td>1</td>\n",
       "      <td>id_empenho</td>\n",
       "      <td>INTEGER</td>\n",
       "      <td>1</td>\n",
       "      <td>None</td>\n",
       "      <td>0</td>\n",
       "    </tr>\n",
       "    <tr>\n",
       "      <th>2</th>\n",
       "      <td>2</td>\n",
       "      <td>descricao</td>\n",
       "      <td>character varying(1000)</td>\n",
       "      <td>1</td>\n",
       "      <td>None</td>\n",
       "      <td>0</td>\n",
       "    </tr>\n",
       "    <tr>\n",
       "      <th>3</th>\n",
       "      <td>3</td>\n",
       "      <td>quantidade</td>\n",
       "      <td>INTEGER</td>\n",
       "      <td>1</td>\n",
       "      <td>None</td>\n",
       "      <td>0</td>\n",
       "    </tr>\n",
       "    <tr>\n",
       "      <th>4</th>\n",
       "      <td>4</td>\n",
       "      <td>valor_total_item</td>\n",
       "      <td>numeric</td>\n",
       "      <td>1</td>\n",
       "      <td>None</td>\n",
       "      <td>0</td>\n",
       "    </tr>\n",
       "  </tbody>\n",
       "</table>\n",
       "</div>"
      ],
      "text/plain": [
       "   cid              name                     type  notnull dflt_value  pk\n",
       "0    0   id_item_empenho                  INTEGER        0       None   1\n",
       "1    1        id_empenho                  INTEGER        1       None   0\n",
       "2    2         descricao  character varying(1000)        1       None   0\n",
       "3    3        quantidade                  INTEGER        1       None   0\n",
       "4    4  valor_total_item                  numeric        1       None   0"
      ]
     },
     "metadata": {},
     "output_type": "display_data"
    }
   ],
   "source": [
    "#NÃO ALTERE AS LINHAS ABAIXO\n",
    "query = \"PRAGMA table_info('item_empenho')\"\n",
    "df = pd.read_sql(query, con)\n",
    "display(df)"
   ]
  },
  {
   "cell_type": "markdown",
   "metadata": {
    "id": "OkYuOWLopLvH"
   },
   "source": [
    "### TABELA ORGAO"
   ]
  },
  {
   "cell_type": "code",
   "execution_count": 27,
   "metadata": {
    "colab": {
     "base_uri": "https://localhost:8080/",
     "height": 143
    },
    "id": "6OzRcTiOpN3j",
    "outputId": "24628e6d-7b54-485c-ea6a-a78f00e245c5"
   },
   "outputs": [
    {
     "data": {
      "text/html": [
       "<div>\n",
       "<style scoped>\n",
       "    .dataframe tbody tr th:only-of-type {\n",
       "        vertical-align: middle;\n",
       "    }\n",
       "\n",
       "    .dataframe tbody tr th {\n",
       "        vertical-align: top;\n",
       "    }\n",
       "\n",
       "    .dataframe thead th {\n",
       "        text-align: right;\n",
       "    }\n",
       "</style>\n",
       "<table border=\"1\" class=\"dataframe\">\n",
       "  <thead>\n",
       "    <tr style=\"text-align: right;\">\n",
       "      <th></th>\n",
       "      <th>cid</th>\n",
       "      <th>name</th>\n",
       "      <th>type</th>\n",
       "      <th>notnull</th>\n",
       "      <th>dflt_value</th>\n",
       "      <th>pk</th>\n",
       "    </tr>\n",
       "  </thead>\n",
       "  <tbody>\n",
       "    <tr>\n",
       "      <th>0</th>\n",
       "      <td>0</td>\n",
       "      <td>id_orgao</td>\n",
       "      <td>INTEGER</td>\n",
       "      <td>0</td>\n",
       "      <td>None</td>\n",
       "      <td>1</td>\n",
       "    </tr>\n",
       "    <tr>\n",
       "      <th>1</th>\n",
       "      <td>1</td>\n",
       "      <td>codigo_orgao</td>\n",
       "      <td>INTEGER</td>\n",
       "      <td>1</td>\n",
       "      <td>None</td>\n",
       "      <td>0</td>\n",
       "    </tr>\n",
       "    <tr>\n",
       "      <th>2</th>\n",
       "      <td>2</td>\n",
       "      <td>nome_orgao</td>\n",
       "      <td>character varying(100)</td>\n",
       "      <td>1</td>\n",
       "      <td>None</td>\n",
       "      <td>0</td>\n",
       "    </tr>\n",
       "  </tbody>\n",
       "</table>\n",
       "</div>"
      ],
      "text/plain": [
       "   cid          name                    type  notnull dflt_value  pk\n",
       "0    0      id_orgao                 INTEGER        0       None   1\n",
       "1    1  codigo_orgao                 INTEGER        1       None   0\n",
       "2    2    nome_orgao  character varying(100)        1       None   0"
      ]
     },
     "metadata": {},
     "output_type": "display_data"
    }
   ],
   "source": [
    "#NÃO ALTERE AS LINHAS ABAIXO\n",
    "query = \"PRAGMA table_info('orgao')\"\n",
    "df = pd.read_sql(query, con)\n",
    "display(df)"
   ]
  },
  {
   "cell_type": "markdown",
   "metadata": {
    "id": "mME1mUVIpODT"
   },
   "source": [
    "### TABELA UNIDADE"
   ]
  },
  {
   "cell_type": "code",
   "execution_count": 28,
   "metadata": {
    "colab": {
     "base_uri": "https://localhost:8080/",
     "height": 175
    },
    "id": "B6B4VS0QpRcO",
    "outputId": "35104d87-72b7-476d-f93b-edb1ab26db83"
   },
   "outputs": [
    {
     "data": {
      "text/html": [
       "<div>\n",
       "<style scoped>\n",
       "    .dataframe tbody tr th:only-of-type {\n",
       "        vertical-align: middle;\n",
       "    }\n",
       "\n",
       "    .dataframe tbody tr th {\n",
       "        vertical-align: top;\n",
       "    }\n",
       "\n",
       "    .dataframe thead th {\n",
       "        text-align: right;\n",
       "    }\n",
       "</style>\n",
       "<table border=\"1\" class=\"dataframe\">\n",
       "  <thead>\n",
       "    <tr style=\"text-align: right;\">\n",
       "      <th></th>\n",
       "      <th>cid</th>\n",
       "      <th>name</th>\n",
       "      <th>type</th>\n",
       "      <th>notnull</th>\n",
       "      <th>dflt_value</th>\n",
       "      <th>pk</th>\n",
       "    </tr>\n",
       "  </thead>\n",
       "  <tbody>\n",
       "    <tr>\n",
       "      <th>0</th>\n",
       "      <td>0</td>\n",
       "      <td>id_unidade</td>\n",
       "      <td>INTEGER</td>\n",
       "      <td>0</td>\n",
       "      <td>None</td>\n",
       "      <td>1</td>\n",
       "    </tr>\n",
       "    <tr>\n",
       "      <th>1</th>\n",
       "      <td>1</td>\n",
       "      <td>id_orgao</td>\n",
       "      <td>INTEGER</td>\n",
       "      <td>1</td>\n",
       "      <td>None</td>\n",
       "      <td>0</td>\n",
       "    </tr>\n",
       "    <tr>\n",
       "      <th>2</th>\n",
       "      <td>2</td>\n",
       "      <td>codigo_unidade</td>\n",
       "      <td>INTEGER</td>\n",
       "      <td>1</td>\n",
       "      <td>None</td>\n",
       "      <td>0</td>\n",
       "    </tr>\n",
       "    <tr>\n",
       "      <th>3</th>\n",
       "      <td>3</td>\n",
       "      <td>nome_unidade</td>\n",
       "      <td>character varying(100)</td>\n",
       "      <td>1</td>\n",
       "      <td>None</td>\n",
       "      <td>0</td>\n",
       "    </tr>\n",
       "  </tbody>\n",
       "</table>\n",
       "</div>"
      ],
      "text/plain": [
       "   cid            name                    type  notnull dflt_value  pk\n",
       "0    0      id_unidade                 INTEGER        0       None   1\n",
       "1    1        id_orgao                 INTEGER        1       None   0\n",
       "2    2  codigo_unidade                 INTEGER        1       None   0\n",
       "3    3    nome_unidade  character varying(100)        1       None   0"
      ]
     },
     "metadata": {},
     "output_type": "display_data"
    }
   ],
   "source": [
    "#NÃO ALTERE AS LINHAS ABAIXO\n",
    "query = \"PRAGMA table_info('unidade')\"\n",
    "df = pd.read_sql(query, con)\n",
    "display(df)"
   ]
  },
  {
   "cell_type": "markdown",
   "metadata": {
    "id": "yrtZ8sTRP3TB"
   },
   "source": [
    "## Arquivo de Resultados\n",
    "Na célula 10 abaixo, você irá colocar o numero da sua matrícula. Essa é a primeira alteração necessária para executar o TP. A partir das células 10 e 11, o arquivo de resultado será gerado. \n"
   ]
  },
  {
   "cell_type": "code",
   "execution_count": 29,
   "metadata": {
    "id": "KSY2f9O34Lhk"
   },
   "outputs": [],
   "source": [
    "matricula = \"2022043728\""
   ]
  },
  {
   "cell_type": "code",
   "execution_count": 30,
   "metadata": {
    "colab": {
     "base_uri": "https://localhost:8080/"
    },
    "id": "6hcHAMc_5EV_",
    "outputId": "20aef052-f3d3-4940-851d-edd0f97e9d5d"
   },
   "outputs": [
    {
     "data": {
      "text/plain": [
       "25"
      ]
     },
     "execution_count": 30,
     "metadata": {},
     "output_type": "execute_result"
    }
   ],
   "source": [
    "#NÃO ALTERE AS LINHAS ABAIXO\n",
    "tp1_csv = matricula+\".csv\"\n",
    "queries = open(tp1_csv, 'w')\n",
    "writer = csv.writer(queries)\n",
    "writer.writerow([\"Query Number\", \"Query Size\"])"
   ]
  },
  {
   "cell_type": "markdown",
   "metadata": {
    "id": "uhNxD8rdQNCh"
   },
   "source": [
    "## Função de Consulta\n",
    "A função abaixo executa a consulta, exibe o retorno da consulta no banco e grava os dados necessários no arquivo resultado."
   ]
  },
  {
   "cell_type": "code",
   "execution_count": 31,
   "metadata": {
    "id": "_gPzai2DnYTB"
   },
   "outputs": [],
   "source": [
    "#NÃO ALTERE AS LINHAS ABAIXO\n",
    "def runQuery(query, query_name):\n",
    "  df = pd.read_sql(query, con)\n",
    "  query_size = df.shape\n",
    "  writer.writerow([query_name, query_size])\n",
    "  writer.writerow([a1, df])\n",
    "  display(df)"
   ]
  },
  {
   "cell_type": "markdown",
   "metadata": {
    "id": "lRYyoTpcXfIV"
   },
   "source": [
    "## PARTE 1 - Transformar Algebra Relacional para SQL\n",
    "Abaixo, seguem as consultas que voce terá de transformar de Algebra Relacional para SQL. Altere **APENAS** o espaço entre as aspas. Dentro desse espaço é que você deverá digitar o comando de execução da consulta."
   ]
  },
  {
   "cell_type": "markdown",
   "metadata": {
    "id": "dRwnzh8kYK_G"
   },
   "source": [
    "### 1 - $\\pi_{nome\\_fornecedor} \\: \\sigma_{uf  =  'SP'}$ (favorecido)\n",
    "\n",
    "\n"
   ]
  },
  {
   "cell_type": "code",
   "execution_count": 32,
   "metadata": {
    "colab": {
     "base_uri": "https://localhost:8080/",
     "height": 434
    },
    "id": "K0ISjW0gXxVC",
    "outputId": "8725cc38-f8fd-4dc3-b36b-070fd090de99"
   },
   "outputs": [
    {
     "data": {
      "text/html": [
       "<div>\n",
       "<style scoped>\n",
       "    .dataframe tbody tr th:only-of-type {\n",
       "        vertical-align: middle;\n",
       "    }\n",
       "\n",
       "    .dataframe tbody tr th {\n",
       "        vertical-align: top;\n",
       "    }\n",
       "\n",
       "    .dataframe thead th {\n",
       "        text-align: right;\n",
       "    }\n",
       "</style>\n",
       "<table border=\"1\" class=\"dataframe\">\n",
       "  <thead>\n",
       "    <tr style=\"text-align: right;\">\n",
       "      <th></th>\n",
       "      <th>nome_fornecedor</th>\n",
       "    </tr>\n",
       "  </thead>\n",
       "  <tbody>\n",
       "    <tr>\n",
       "      <th>0</th>\n",
       "      <td>OSIRNET INFO TELECOM EIRELI</td>\n",
       "    </tr>\n",
       "    <tr>\n",
       "      <th>1</th>\n",
       "      <td>FUNDACAO DE PREVIDENCIA COMPLEMENTAR DO SERVID...</td>\n",
       "    </tr>\n",
       "    <tr>\n",
       "      <th>2</th>\n",
       "      <td>VANLUZ PECAS E ACESSORIOS LTDA</td>\n",
       "    </tr>\n",
       "    <tr>\n",
       "      <th>3</th>\n",
       "      <td>HERA SUL TRATAMENTOS DE RESIDUOS LTDA</td>\n",
       "    </tr>\n",
       "    <tr>\n",
       "      <th>4</th>\n",
       "      <td>COOPERATIVA REGIONAL DE ELETRIF RURAL FRONTEIR...</td>\n",
       "    </tr>\n",
       "    <tr>\n",
       "      <th>5</th>\n",
       "      <td>NETWARE TELECOMUNICACOES E INFORMATICA LTDA</td>\n",
       "    </tr>\n",
       "    <tr>\n",
       "      <th>6</th>\n",
       "      <td>KIOTO AMBIENTAL LTDA</td>\n",
       "    </tr>\n",
       "    <tr>\n",
       "      <th>7</th>\n",
       "      <td>SECRETARIA ESP. DA RECEITA FEDERAL DO BRASIL</td>\n",
       "    </tr>\n",
       "    <tr>\n",
       "      <th>8</th>\n",
       "      <td>ABC</td>\n",
       "    </tr>\n",
       "    <tr>\n",
       "      <th>9</th>\n",
       "      <td>Nestle</td>\n",
       "    </tr>\n",
       "  </tbody>\n",
       "</table>\n",
       "</div>"
      ],
      "text/plain": [
       "                                     nome_fornecedor\n",
       "0                        OSIRNET INFO TELECOM EIRELI\n",
       "1  FUNDACAO DE PREVIDENCIA COMPLEMENTAR DO SERVID...\n",
       "2                     VANLUZ PECAS E ACESSORIOS LTDA\n",
       "3              HERA SUL TRATAMENTOS DE RESIDUOS LTDA\n",
       "4  COOPERATIVA REGIONAL DE ELETRIF RURAL FRONTEIR...\n",
       "5        NETWARE TELECOMUNICACOES E INFORMATICA LTDA\n",
       "6                               KIOTO AMBIENTAL LTDA\n",
       "7       SECRETARIA ESP. DA RECEITA FEDERAL DO BRASIL\n",
       "8                                                ABC\n",
       "9                                             Nestle"
      ]
     },
     "metadata": {},
     "output_type": "display_data"
    }
   ],
   "source": [
    "a1 = \"SELECT nome_fornecedor from favorecido where uf = 'SP'\"\n",
    "#NÃO ALTERE AS LINHAS ABAIXO\n",
    "runQuery(a1, \"a1\")"
   ]
  },
  {
   "cell_type": "markdown",
   "metadata": {
    "id": "1REuYZGrY92T"
   },
   "source": [
    "### 2 - $\\pi_{codigo\\_empenho, valor\\_empenho} \\: \\sigma_{valor\\_empenho  >  1000000}$ (empenho)"
   ]
  },
  {
   "cell_type": "code",
   "execution_count": 33,
   "metadata": {
    "id": "JIUuV2_RXxhS"
   },
   "outputs": [
    {
     "data": {
      "text/html": [
       "<div>\n",
       "<style scoped>\n",
       "    .dataframe tbody tr th:only-of-type {\n",
       "        vertical-align: middle;\n",
       "    }\n",
       "\n",
       "    .dataframe tbody tr th {\n",
       "        vertical-align: top;\n",
       "    }\n",
       "\n",
       "    .dataframe thead th {\n",
       "        text-align: right;\n",
       "    }\n",
       "</style>\n",
       "<table border=\"1\" class=\"dataframe\">\n",
       "  <thead>\n",
       "    <tr style=\"text-align: right;\">\n",
       "      <th></th>\n",
       "      <th>codigo_empenho</th>\n",
       "      <th>valor_empenho</th>\n",
       "    </tr>\n",
       "  </thead>\n",
       "  <tbody>\n",
       "    <tr>\n",
       "      <th>0</th>\n",
       "      <td>2023NE000014</td>\n",
       "      <td>2110000.00</td>\n",
       "    </tr>\n",
       "    <tr>\n",
       "      <th>1</th>\n",
       "      <td>2023NE000002</td>\n",
       "      <td>43599556.56</td>\n",
       "    </tr>\n",
       "    <tr>\n",
       "      <th>2</th>\n",
       "      <td>2023NE000008</td>\n",
       "      <td>9764459.59</td>\n",
       "    </tr>\n",
       "    <tr>\n",
       "      <th>3</th>\n",
       "      <td>2023NE000007</td>\n",
       "      <td>46049753.36</td>\n",
       "    </tr>\n",
       "    <tr>\n",
       "      <th>4</th>\n",
       "      <td>2023NE000010</td>\n",
       "      <td>9794889.00</td>\n",
       "    </tr>\n",
       "  </tbody>\n",
       "</table>\n",
       "</div>"
      ],
      "text/plain": [
       "  codigo_empenho  valor_empenho\n",
       "0   2023NE000014     2110000.00\n",
       "1   2023NE000002    43599556.56\n",
       "2   2023NE000008     9764459.59\n",
       "3   2023NE000007    46049753.36\n",
       "4   2023NE000010     9794889.00"
      ]
     },
     "metadata": {},
     "output_type": "display_data"
    }
   ],
   "source": [
    "a2 = \"SELECT codigo_empenho,valor_empenho from empenho where valor_empenho > 1000000\"\n",
    "#NÃO ALTERE AS LINHAS ABAIXO\n",
    "runQuery(a2, \"a2\")"
   ]
  },
  {
   "cell_type": "markdown",
   "metadata": {
    "id": "NzOHoiA6ZBul"
   },
   "source": [
    "### 3 - $\\pi_{nome\\_fornecedor, valor\\_empenho} \\: \\sigma_{valor\\_empenho  <  1000}$ (favorecido $\\bowtie$ empenho )"
   ]
  },
  {
   "cell_type": "code",
   "execution_count": 34,
   "metadata": {
    "id": "xd-dr96uXxu9"
   },
   "outputs": [
    {
     "data": {
      "text/html": [
       "<div>\n",
       "<style scoped>\n",
       "    .dataframe tbody tr th:only-of-type {\n",
       "        vertical-align: middle;\n",
       "    }\n",
       "\n",
       "    .dataframe tbody tr th {\n",
       "        vertical-align: top;\n",
       "    }\n",
       "\n",
       "    .dataframe thead th {\n",
       "        text-align: right;\n",
       "    }\n",
       "</style>\n",
       "<table border=\"1\" class=\"dataframe\">\n",
       "  <thead>\n",
       "    <tr style=\"text-align: right;\">\n",
       "      <th></th>\n",
       "      <th>nome_fornecedor</th>\n",
       "      <th>valor_empenho</th>\n",
       "    </tr>\n",
       "  </thead>\n",
       "  <tbody>\n",
       "    <tr>\n",
       "      <th>0</th>\n",
       "      <td>VANLUZ PECAS E ACESSORIOS LTDA</td>\n",
       "      <td>2.0</td>\n",
       "    </tr>\n",
       "    <tr>\n",
       "      <th>1</th>\n",
       "      <td>LIMPADORA SANTO AUGUSTO LTDA</td>\n",
       "      <td>10.0</td>\n",
       "    </tr>\n",
       "    <tr>\n",
       "      <th>2</th>\n",
       "      <td>HERA SUL TRATAMENTOS DE RESIDUOS LTDA</td>\n",
       "      <td>10.0</td>\n",
       "    </tr>\n",
       "    <tr>\n",
       "      <th>3</th>\n",
       "      <td>INSTITUTO NACIONAL DE EDUCACAO DE SURDOS-RJ</td>\n",
       "      <td>300.0</td>\n",
       "    </tr>\n",
       "    <tr>\n",
       "      <th>4</th>\n",
       "      <td>VANLUZ PECAS E ACESSORIOS LTDA</td>\n",
       "      <td>1.0</td>\n",
       "    </tr>\n",
       "    <tr>\n",
       "      <th>5</th>\n",
       "      <td>HENRIQUE HONORIO PEREIRA CABRAL</td>\n",
       "      <td>10.0</td>\n",
       "    </tr>\n",
       "    <tr>\n",
       "      <th>6</th>\n",
       "      <td>CLARO S.A.</td>\n",
       "      <td>844.9</td>\n",
       "    </tr>\n",
       "    <tr>\n",
       "      <th>7</th>\n",
       "      <td>INSTITUTO NACIONAL DE EDUCACAO DE SURDOS-RJ</td>\n",
       "      <td>400.0</td>\n",
       "    </tr>\n",
       "    <tr>\n",
       "      <th>8</th>\n",
       "      <td>VANLUZ PECAS E ACESSORIOS LTDA</td>\n",
       "      <td>1.0</td>\n",
       "    </tr>\n",
       "    <tr>\n",
       "      <th>9</th>\n",
       "      <td>HENRIQUE GONCALVES</td>\n",
       "      <td>10.0</td>\n",
       "    </tr>\n",
       "    <tr>\n",
       "      <th>10</th>\n",
       "      <td>VANLUZ PECAS E ACESSORIOS LTDA</td>\n",
       "      <td>1.0</td>\n",
       "    </tr>\n",
       "    <tr>\n",
       "      <th>11</th>\n",
       "      <td>VANLUZ PECAS E ACESSORIOS LTDA</td>\n",
       "      <td>1.0</td>\n",
       "    </tr>\n",
       "    <tr>\n",
       "      <th>12</th>\n",
       "      <td>INSTITUTO NACIONAL DE EDUCACAO DE SURDOS-RJ</td>\n",
       "      <td>500.0</td>\n",
       "    </tr>\n",
       "    <tr>\n",
       "      <th>13</th>\n",
       "      <td>ENGELINK LTDA.</td>\n",
       "      <td>10.0</td>\n",
       "    </tr>\n",
       "    <tr>\n",
       "      <th>14</th>\n",
       "      <td>EMPRESA BRASIL DE COMUNICACAO S.A</td>\n",
       "      <td>10.0</td>\n",
       "    </tr>\n",
       "    <tr>\n",
       "      <th>15</th>\n",
       "      <td>VANLUZ PECAS E ACESSORIOS LTDA</td>\n",
       "      <td>2.0</td>\n",
       "    </tr>\n",
       "    <tr>\n",
       "      <th>16</th>\n",
       "      <td>HENRIQUE GONCALVES</td>\n",
       "      <td>10.0</td>\n",
       "    </tr>\n",
       "    <tr>\n",
       "      <th>17</th>\n",
       "      <td>TELEFONICA BRASIL S.A.</td>\n",
       "      <td>3.0</td>\n",
       "    </tr>\n",
       "    <tr>\n",
       "      <th>18</th>\n",
       "      <td>HENRIQUE HONORIO PEREIRA CABRAL</td>\n",
       "      <td>10.0</td>\n",
       "    </tr>\n",
       "    <tr>\n",
       "      <th>19</th>\n",
       "      <td>OSIRNET INFO TELECOM EIRELI</td>\n",
       "      <td>10.0</td>\n",
       "    </tr>\n",
       "    <tr>\n",
       "      <th>20</th>\n",
       "      <td>HENRIQUE GONCALVES</td>\n",
       "      <td>4.0</td>\n",
       "    </tr>\n",
       "    <tr>\n",
       "      <th>21</th>\n",
       "      <td>VANLUZ PECAS E ACESSORIOS LTDA</td>\n",
       "      <td>1.0</td>\n",
       "    </tr>\n",
       "    <tr>\n",
       "      <th>22</th>\n",
       "      <td>CLARO S.A.</td>\n",
       "      <td>10.0</td>\n",
       "    </tr>\n",
       "    <tr>\n",
       "      <th>23</th>\n",
       "      <td>CLARO S.A.</td>\n",
       "      <td>0.0</td>\n",
       "    </tr>\n",
       "    <tr>\n",
       "      <th>24</th>\n",
       "      <td>INSTITUTO NACIONAL DE EDUCACAO DE SURDOS-RJ</td>\n",
       "      <td>0.1</td>\n",
       "    </tr>\n",
       "    <tr>\n",
       "      <th>25</th>\n",
       "      <td>L. A. VIAGENS E TURISMO LTDA</td>\n",
       "      <td>500.0</td>\n",
       "    </tr>\n",
       "    <tr>\n",
       "      <th>26</th>\n",
       "      <td>COOPERATIVA REGIONAL DE ELETRIF RURAL FRONTEIR...</td>\n",
       "      <td>10.0</td>\n",
       "    </tr>\n",
       "    <tr>\n",
       "      <th>27</th>\n",
       "      <td>HENRIQUE GONCALVES</td>\n",
       "      <td>15.0</td>\n",
       "    </tr>\n",
       "    <tr>\n",
       "      <th>28</th>\n",
       "      <td>L. A. VIAGENS E TURISMO LTDA</td>\n",
       "      <td>100.0</td>\n",
       "    </tr>\n",
       "  </tbody>\n",
       "</table>\n",
       "</div>"
      ],
      "text/plain": [
       "                                      nome_fornecedor  valor_empenho\n",
       "0                      VANLUZ PECAS E ACESSORIOS LTDA            2.0\n",
       "1                        LIMPADORA SANTO AUGUSTO LTDA           10.0\n",
       "2               HERA SUL TRATAMENTOS DE RESIDUOS LTDA           10.0\n",
       "3         INSTITUTO NACIONAL DE EDUCACAO DE SURDOS-RJ          300.0\n",
       "4                      VANLUZ PECAS E ACESSORIOS LTDA            1.0\n",
       "5                     HENRIQUE HONORIO PEREIRA CABRAL           10.0\n",
       "6                                          CLARO S.A.          844.9\n",
       "7         INSTITUTO NACIONAL DE EDUCACAO DE SURDOS-RJ          400.0\n",
       "8                      VANLUZ PECAS E ACESSORIOS LTDA            1.0\n",
       "9                                  HENRIQUE GONCALVES           10.0\n",
       "10                     VANLUZ PECAS E ACESSORIOS LTDA            1.0\n",
       "11                     VANLUZ PECAS E ACESSORIOS LTDA            1.0\n",
       "12        INSTITUTO NACIONAL DE EDUCACAO DE SURDOS-RJ          500.0\n",
       "13                                     ENGELINK LTDA.           10.0\n",
       "14                  EMPRESA BRASIL DE COMUNICACAO S.A           10.0\n",
       "15                     VANLUZ PECAS E ACESSORIOS LTDA            2.0\n",
       "16                                 HENRIQUE GONCALVES           10.0\n",
       "17                             TELEFONICA BRASIL S.A.            3.0\n",
       "18                    HENRIQUE HONORIO PEREIRA CABRAL           10.0\n",
       "19                        OSIRNET INFO TELECOM EIRELI           10.0\n",
       "20                                 HENRIQUE GONCALVES            4.0\n",
       "21                     VANLUZ PECAS E ACESSORIOS LTDA            1.0\n",
       "22                                         CLARO S.A.           10.0\n",
       "23                                         CLARO S.A.            0.0\n",
       "24        INSTITUTO NACIONAL DE EDUCACAO DE SURDOS-RJ            0.1\n",
       "25                       L. A. VIAGENS E TURISMO LTDA          500.0\n",
       "26  COOPERATIVA REGIONAL DE ELETRIF RURAL FRONTEIR...           10.0\n",
       "27                                 HENRIQUE GONCALVES           15.0\n",
       "28                       L. A. VIAGENS E TURISMO LTDA          100.0"
      ]
     },
     "metadata": {},
     "output_type": "display_data"
    }
   ],
   "source": [
    "a3 = \"Select nome_fornecedor, valor_empenho from favorecido natural join empenho where valor_empenho < 1000\"\n",
    "#NÃO ALTERE AS LINHAS ABAIXO\n",
    "runQuery(a3, \"a3\")"
   ]
  },
  {
   "cell_type": "markdown",
   "metadata": {
    "id": "1yvlpqVjZFho"
   },
   "source": [
    "### 4 - $\\pi_{nome\\_unidade, valor\\_empenho} \\: \\sigma_{codigo\\_unidade = 152005}$ (empenho $\\bowtie$ unidade)\n"
   ]
  },
  {
   "cell_type": "code",
   "execution_count": 35,
   "metadata": {
    "id": "gHfP3j2DXx6P"
   },
   "outputs": [
    {
     "data": {
      "text/html": [
       "<div>\n",
       "<style scoped>\n",
       "    .dataframe tbody tr th:only-of-type {\n",
       "        vertical-align: middle;\n",
       "    }\n",
       "\n",
       "    .dataframe tbody tr th {\n",
       "        vertical-align: top;\n",
       "    }\n",
       "\n",
       "    .dataframe thead th {\n",
       "        text-align: right;\n",
       "    }\n",
       "</style>\n",
       "<table border=\"1\" class=\"dataframe\">\n",
       "  <thead>\n",
       "    <tr style=\"text-align: right;\">\n",
       "      <th></th>\n",
       "      <th>nome_unidade</th>\n",
       "      <th>valor_empenho</th>\n",
       "    </tr>\n",
       "  </thead>\n",
       "  <tbody>\n",
       "    <tr>\n",
       "      <th>0</th>\n",
       "      <td>INSTITUTO NACIONAL DE EDUCACAO DE SURDOS-RJ</td>\n",
       "      <td>60000.00</td>\n",
       "    </tr>\n",
       "    <tr>\n",
       "      <th>1</th>\n",
       "      <td>INSTITUTO NACIONAL DE EDUCACAO DE SURDOS-RJ</td>\n",
       "      <td>300000.00</td>\n",
       "    </tr>\n",
       "    <tr>\n",
       "      <th>2</th>\n",
       "      <td>INSTITUTO NACIONAL DE EDUCACAO DE SURDOS-RJ</td>\n",
       "      <td>223000.00</td>\n",
       "    </tr>\n",
       "    <tr>\n",
       "      <th>3</th>\n",
       "      <td>INSTITUTO NACIONAL DE EDUCACAO DE SURDOS-RJ</td>\n",
       "      <td>830000.00</td>\n",
       "    </tr>\n",
       "    <tr>\n",
       "      <th>4</th>\n",
       "      <td>INSTITUTO NACIONAL DE EDUCACAO DE SURDOS-RJ</td>\n",
       "      <td>50000.00</td>\n",
       "    </tr>\n",
       "    <tr>\n",
       "      <th>5</th>\n",
       "      <td>INSTITUTO NACIONAL DE EDUCACAO DE SURDOS-RJ</td>\n",
       "      <td>2110000.00</td>\n",
       "    </tr>\n",
       "    <tr>\n",
       "      <th>6</th>\n",
       "      <td>INSTITUTO NACIONAL DE EDUCACAO DE SURDOS-RJ</td>\n",
       "      <td>2500.00</td>\n",
       "    </tr>\n",
       "    <tr>\n",
       "      <th>7</th>\n",
       "      <td>INSTITUTO NACIONAL DE EDUCACAO DE SURDOS-RJ</td>\n",
       "      <td>7036.32</td>\n",
       "    </tr>\n",
       "    <tr>\n",
       "      <th>8</th>\n",
       "      <td>INSTITUTO NACIONAL DE EDUCACAO DE SURDOS-RJ</td>\n",
       "      <td>300.00</td>\n",
       "    </tr>\n",
       "    <tr>\n",
       "      <th>9</th>\n",
       "      <td>INSTITUTO NACIONAL DE EDUCACAO DE SURDOS-RJ</td>\n",
       "      <td>10000.00</td>\n",
       "    </tr>\n",
       "    <tr>\n",
       "      <th>10</th>\n",
       "      <td>INSTITUTO NACIONAL DE EDUCACAO DE SURDOS-RJ</td>\n",
       "      <td>6000.00</td>\n",
       "    </tr>\n",
       "    <tr>\n",
       "      <th>11</th>\n",
       "      <td>INSTITUTO NACIONAL DE EDUCACAO DE SURDOS-RJ</td>\n",
       "      <td>3000.00</td>\n",
       "    </tr>\n",
       "    <tr>\n",
       "      <th>12</th>\n",
       "      <td>INSTITUTO NACIONAL DE EDUCACAO DE SURDOS-RJ</td>\n",
       "      <td>86055.16</td>\n",
       "    </tr>\n",
       "    <tr>\n",
       "      <th>13</th>\n",
       "      <td>INSTITUTO NACIONAL DE EDUCACAO DE SURDOS-RJ</td>\n",
       "      <td>400.00</td>\n",
       "    </tr>\n",
       "    <tr>\n",
       "      <th>14</th>\n",
       "      <td>INSTITUTO NACIONAL DE EDUCACAO DE SURDOS-RJ</td>\n",
       "      <td>10672.00</td>\n",
       "    </tr>\n",
       "    <tr>\n",
       "      <th>15</th>\n",
       "      <td>INSTITUTO NACIONAL DE EDUCACAO DE SURDOS-RJ</td>\n",
       "      <td>14352.12</td>\n",
       "    </tr>\n",
       "    <tr>\n",
       "      <th>16</th>\n",
       "      <td>INSTITUTO NACIONAL DE EDUCACAO DE SURDOS-RJ</td>\n",
       "      <td>3000.00</td>\n",
       "    </tr>\n",
       "    <tr>\n",
       "      <th>17</th>\n",
       "      <td>INSTITUTO NACIONAL DE EDUCACAO DE SURDOS-RJ</td>\n",
       "      <td>500.00</td>\n",
       "    </tr>\n",
       "    <tr>\n",
       "      <th>18</th>\n",
       "      <td>INSTITUTO NACIONAL DE EDUCACAO DE SURDOS-RJ</td>\n",
       "      <td>2500.00</td>\n",
       "    </tr>\n",
       "    <tr>\n",
       "      <th>19</th>\n",
       "      <td>INSTITUTO NACIONAL DE EDUCACAO DE SURDOS-RJ</td>\n",
       "      <td>175000.00</td>\n",
       "    </tr>\n",
       "    <tr>\n",
       "      <th>20</th>\n",
       "      <td>INSTITUTO NACIONAL DE EDUCACAO DE SURDOS-RJ</td>\n",
       "      <td>83955.50</td>\n",
       "    </tr>\n",
       "    <tr>\n",
       "      <th>21</th>\n",
       "      <td>INSTITUTO NACIONAL DE EDUCACAO DE SURDOS-RJ</td>\n",
       "      <td>34944.00</td>\n",
       "    </tr>\n",
       "    <tr>\n",
       "      <th>22</th>\n",
       "      <td>INSTITUTO NACIONAL DE EDUCACAO DE SURDOS-RJ</td>\n",
       "      <td>43599556.56</td>\n",
       "    </tr>\n",
       "    <tr>\n",
       "      <th>23</th>\n",
       "      <td>INSTITUTO NACIONAL DE EDUCACAO DE SURDOS-RJ</td>\n",
       "      <td>9764459.59</td>\n",
       "    </tr>\n",
       "    <tr>\n",
       "      <th>24</th>\n",
       "      <td>INSTITUTO NACIONAL DE EDUCACAO DE SURDOS-RJ</td>\n",
       "      <td>46049753.36</td>\n",
       "    </tr>\n",
       "    <tr>\n",
       "      <th>25</th>\n",
       "      <td>INSTITUTO NACIONAL DE EDUCACAO DE SURDOS-RJ</td>\n",
       "      <td>10000.10</td>\n",
       "    </tr>\n",
       "    <tr>\n",
       "      <th>26</th>\n",
       "      <td>INSTITUTO NACIONAL DE EDUCACAO DE SURDOS-RJ</td>\n",
       "      <td>5000.00</td>\n",
       "    </tr>\n",
       "    <tr>\n",
       "      <th>27</th>\n",
       "      <td>INSTITUTO NACIONAL DE EDUCACAO DE SURDOS-RJ</td>\n",
       "      <td>28398.20</td>\n",
       "    </tr>\n",
       "    <tr>\n",
       "      <th>28</th>\n",
       "      <td>INSTITUTO NACIONAL DE EDUCACAO DE SURDOS-RJ</td>\n",
       "      <td>34995.36</td>\n",
       "    </tr>\n",
       "    <tr>\n",
       "      <th>29</th>\n",
       "      <td>INSTITUTO NACIONAL DE EDUCACAO DE SURDOS-RJ</td>\n",
       "      <td>7600.00</td>\n",
       "    </tr>\n",
       "    <tr>\n",
       "      <th>30</th>\n",
       "      <td>INSTITUTO NACIONAL DE EDUCACAO DE SURDOS-RJ</td>\n",
       "      <td>0.10</td>\n",
       "    </tr>\n",
       "    <tr>\n",
       "      <th>31</th>\n",
       "      <td>INSTITUTO NACIONAL DE EDUCACAO DE SURDOS-RJ</td>\n",
       "      <td>500.00</td>\n",
       "    </tr>\n",
       "    <tr>\n",
       "      <th>32</th>\n",
       "      <td>INSTITUTO NACIONAL DE EDUCACAO DE SURDOS-RJ</td>\n",
       "      <td>10000.00</td>\n",
       "    </tr>\n",
       "    <tr>\n",
       "      <th>33</th>\n",
       "      <td>INSTITUTO NACIONAL DE EDUCACAO DE SURDOS-RJ</td>\n",
       "      <td>9794889.00</td>\n",
       "    </tr>\n",
       "    <tr>\n",
       "      <th>34</th>\n",
       "      <td>INSTITUTO NACIONAL DE EDUCACAO DE SURDOS-RJ</td>\n",
       "      <td>12745.92</td>\n",
       "    </tr>\n",
       "    <tr>\n",
       "      <th>35</th>\n",
       "      <td>INSTITUTO NACIONAL DE EDUCACAO DE SURDOS-RJ</td>\n",
       "      <td>200000.00</td>\n",
       "    </tr>\n",
       "    <tr>\n",
       "      <th>36</th>\n",
       "      <td>INSTITUTO NACIONAL DE EDUCACAO DE SURDOS-RJ</td>\n",
       "      <td>12209.28</td>\n",
       "    </tr>\n",
       "    <tr>\n",
       "      <th>37</th>\n",
       "      <td>INSTITUTO NACIONAL DE EDUCACAO DE SURDOS-RJ</td>\n",
       "      <td>4000.00</td>\n",
       "    </tr>\n",
       "    <tr>\n",
       "      <th>38</th>\n",
       "      <td>INSTITUTO NACIONAL DE EDUCACAO DE SURDOS-RJ</td>\n",
       "      <td>67000.00</td>\n",
       "    </tr>\n",
       "    <tr>\n",
       "      <th>39</th>\n",
       "      <td>INSTITUTO NACIONAL DE EDUCACAO DE SURDOS-RJ</td>\n",
       "      <td>100.00</td>\n",
       "    </tr>\n",
       "    <tr>\n",
       "      <th>40</th>\n",
       "      <td>INSTITUTO NACIONAL DE EDUCACAO DE SURDOS-RJ</td>\n",
       "      <td>850000.00</td>\n",
       "    </tr>\n",
       "  </tbody>\n",
       "</table>\n",
       "</div>"
      ],
      "text/plain": [
       "                                   nome_unidade  valor_empenho\n",
       "0   INSTITUTO NACIONAL DE EDUCACAO DE SURDOS-RJ       60000.00\n",
       "1   INSTITUTO NACIONAL DE EDUCACAO DE SURDOS-RJ      300000.00\n",
       "2   INSTITUTO NACIONAL DE EDUCACAO DE SURDOS-RJ      223000.00\n",
       "3   INSTITUTO NACIONAL DE EDUCACAO DE SURDOS-RJ      830000.00\n",
       "4   INSTITUTO NACIONAL DE EDUCACAO DE SURDOS-RJ       50000.00\n",
       "5   INSTITUTO NACIONAL DE EDUCACAO DE SURDOS-RJ     2110000.00\n",
       "6   INSTITUTO NACIONAL DE EDUCACAO DE SURDOS-RJ        2500.00\n",
       "7   INSTITUTO NACIONAL DE EDUCACAO DE SURDOS-RJ        7036.32\n",
       "8   INSTITUTO NACIONAL DE EDUCACAO DE SURDOS-RJ         300.00\n",
       "9   INSTITUTO NACIONAL DE EDUCACAO DE SURDOS-RJ       10000.00\n",
       "10  INSTITUTO NACIONAL DE EDUCACAO DE SURDOS-RJ        6000.00\n",
       "11  INSTITUTO NACIONAL DE EDUCACAO DE SURDOS-RJ        3000.00\n",
       "12  INSTITUTO NACIONAL DE EDUCACAO DE SURDOS-RJ       86055.16\n",
       "13  INSTITUTO NACIONAL DE EDUCACAO DE SURDOS-RJ         400.00\n",
       "14  INSTITUTO NACIONAL DE EDUCACAO DE SURDOS-RJ       10672.00\n",
       "15  INSTITUTO NACIONAL DE EDUCACAO DE SURDOS-RJ       14352.12\n",
       "16  INSTITUTO NACIONAL DE EDUCACAO DE SURDOS-RJ        3000.00\n",
       "17  INSTITUTO NACIONAL DE EDUCACAO DE SURDOS-RJ         500.00\n",
       "18  INSTITUTO NACIONAL DE EDUCACAO DE SURDOS-RJ        2500.00\n",
       "19  INSTITUTO NACIONAL DE EDUCACAO DE SURDOS-RJ      175000.00\n",
       "20  INSTITUTO NACIONAL DE EDUCACAO DE SURDOS-RJ       83955.50\n",
       "21  INSTITUTO NACIONAL DE EDUCACAO DE SURDOS-RJ       34944.00\n",
       "22  INSTITUTO NACIONAL DE EDUCACAO DE SURDOS-RJ    43599556.56\n",
       "23  INSTITUTO NACIONAL DE EDUCACAO DE SURDOS-RJ     9764459.59\n",
       "24  INSTITUTO NACIONAL DE EDUCACAO DE SURDOS-RJ    46049753.36\n",
       "25  INSTITUTO NACIONAL DE EDUCACAO DE SURDOS-RJ       10000.10\n",
       "26  INSTITUTO NACIONAL DE EDUCACAO DE SURDOS-RJ        5000.00\n",
       "27  INSTITUTO NACIONAL DE EDUCACAO DE SURDOS-RJ       28398.20\n",
       "28  INSTITUTO NACIONAL DE EDUCACAO DE SURDOS-RJ       34995.36\n",
       "29  INSTITUTO NACIONAL DE EDUCACAO DE SURDOS-RJ        7600.00\n",
       "30  INSTITUTO NACIONAL DE EDUCACAO DE SURDOS-RJ           0.10\n",
       "31  INSTITUTO NACIONAL DE EDUCACAO DE SURDOS-RJ         500.00\n",
       "32  INSTITUTO NACIONAL DE EDUCACAO DE SURDOS-RJ       10000.00\n",
       "33  INSTITUTO NACIONAL DE EDUCACAO DE SURDOS-RJ     9794889.00\n",
       "34  INSTITUTO NACIONAL DE EDUCACAO DE SURDOS-RJ       12745.92\n",
       "35  INSTITUTO NACIONAL DE EDUCACAO DE SURDOS-RJ      200000.00\n",
       "36  INSTITUTO NACIONAL DE EDUCACAO DE SURDOS-RJ       12209.28\n",
       "37  INSTITUTO NACIONAL DE EDUCACAO DE SURDOS-RJ        4000.00\n",
       "38  INSTITUTO NACIONAL DE EDUCACAO DE SURDOS-RJ       67000.00\n",
       "39  INSTITUTO NACIONAL DE EDUCACAO DE SURDOS-RJ         100.00\n",
       "40  INSTITUTO NACIONAL DE EDUCACAO DE SURDOS-RJ      850000.00"
      ]
     },
     "metadata": {},
     "output_type": "display_data"
    }
   ],
   "source": [
    "a4 = \"Select nome_unidade, valor_empenho from empenho natural join unidade where codigo_unidade = 152005\"\n",
    "#NÃO ALTERE AS LINHAS ABAIXO\n",
    "runQuery(a4, \"a4\")"
   ]
  },
  {
   "cell_type": "markdown",
   "metadata": {
    "id": "oPCZUoeNZNGA"
   },
   "source": [
    "### 5 - $\\pi_{id\\_unidade, nome\\_unidade} \\: \\sigma_{nome\\_orgao = Ministério\\  da\\ Economia}$ (orgao $\\bowtie$ unidade)\n"
   ]
  },
  {
   "cell_type": "code",
   "execution_count": 36,
   "metadata": {
    "id": "9_gkv1k1XydB"
   },
   "outputs": [
    {
     "data": {
      "text/html": [
       "<div>\n",
       "<style scoped>\n",
       "    .dataframe tbody tr th:only-of-type {\n",
       "        vertical-align: middle;\n",
       "    }\n",
       "\n",
       "    .dataframe tbody tr th {\n",
       "        vertical-align: top;\n",
       "    }\n",
       "\n",
       "    .dataframe thead th {\n",
       "        text-align: right;\n",
       "    }\n",
       "</style>\n",
       "<table border=\"1\" class=\"dataframe\">\n",
       "  <thead>\n",
       "    <tr style=\"text-align: right;\">\n",
       "      <th></th>\n",
       "      <th>id_unidade</th>\n",
       "      <th>nome_unidade</th>\n",
       "    </tr>\n",
       "  </thead>\n",
       "  <tbody>\n",
       "    <tr>\n",
       "      <th>0</th>\n",
       "      <td>1</td>\n",
       "      <td>SUPERINTENDENCIA REGIONAL DA RFB NA 10A RF</td>\n",
       "    </tr>\n",
       "    <tr>\n",
       "      <th>1</th>\n",
       "      <td>3</td>\n",
       "      <td>DELEGACIA DA RFB EM SANTA MARIA</td>\n",
       "    </tr>\n",
       "    <tr>\n",
       "      <th>2</th>\n",
       "      <td>6</td>\n",
       "      <td>DELEGACIA DA RFB EM CAXIAS DO SUL</td>\n",
       "    </tr>\n",
       "  </tbody>\n",
       "</table>\n",
       "</div>"
      ],
      "text/plain": [
       "   id_unidade                                nome_unidade\n",
       "0           1  SUPERINTENDENCIA REGIONAL DA RFB NA 10A RF\n",
       "1           3             DELEGACIA DA RFB EM SANTA MARIA\n",
       "2           6           DELEGACIA DA RFB EM CAXIAS DO SUL"
      ]
     },
     "metadata": {},
     "output_type": "display_data"
    }
   ],
   "source": [
    "a5 = \"Select id_unidade,nome_unidade from unidade,orgao on unidade.id_orgao = orgao.id_orgao where nome_orgao = 'Ministério da Economia' \"\n",
    "#NÃO ALTERE AS LINHAS ABAIXO\n",
    "runQuery(a5, \"a5\")"
   ]
  },
  {
   "cell_type": "markdown",
   "metadata": {
    "id": "2l0qzHBRSoro"
   },
   "source": [
    "## PARTE 2 - Consultas SQL\n",
    "Abaixo, seguem as consultas que voce terá de executar. Altere **APENAS** o espaço entre as aspas. Dentro desse espaço é que você deverá digitar o comando de execução da consulta."
   ]
  },
  {
   "cell_type": "markdown",
   "metadata": {
    "id": "CvnC0xN2TB0x"
   },
   "source": [
    "### 1 - Liste os campos id_empenho, observacao e data_emissao para todos os empenhos com data de emissão entre 2020-01-01 e 2020-12-31:"
   ]
  },
  {
   "cell_type": "code",
   "execution_count": 37,
   "metadata": {
    "id": "D6IAlQow3DM8"
   },
   "outputs": [
    {
     "data": {
      "text/html": [
       "<div>\n",
       "<style scoped>\n",
       "    .dataframe tbody tr th:only-of-type {\n",
       "        vertical-align: middle;\n",
       "    }\n",
       "\n",
       "    .dataframe tbody tr th {\n",
       "        vertical-align: top;\n",
       "    }\n",
       "\n",
       "    .dataframe thead th {\n",
       "        text-align: right;\n",
       "    }\n",
       "</style>\n",
       "<table border=\"1\" class=\"dataframe\">\n",
       "  <thead>\n",
       "    <tr style=\"text-align: right;\">\n",
       "      <th></th>\n",
       "      <th>id_empenho</th>\n",
       "      <th>observacao</th>\n",
       "      <th>data_emissao</th>\n",
       "    </tr>\n",
       "  </thead>\n",
       "  <tbody>\n",
       "    <tr>\n",
       "      <th>0</th>\n",
       "      <td>506601548</td>\n",
       "      <td>ATENDER DESPESAS VARIAVEIS DE PESSOAL CIVIL AT...</td>\n",
       "      <td>2020-03-18</td>\n",
       "    </tr>\n",
       "    <tr>\n",
       "      <th>1</th>\n",
       "      <td>507001630</td>\n",
       "      <td>EMPENHO PARA CONTRATO DE SERVICO DE INCINERACA...</td>\n",
       "      <td>2020-02-25</td>\n",
       "    </tr>\n",
       "    <tr>\n",
       "      <th>2</th>\n",
       "      <td>509601561</td>\n",
       "      <td>PRESTACAO DE SERVICOS DE GERENCIAMENTO; CONTRO...</td>\n",
       "      <td>2020-06-12</td>\n",
       "    </tr>\n",
       "    <tr>\n",
       "      <th>3</th>\n",
       "      <td>510501565</td>\n",
       "      <td>CONTRATACAO DE BANDA LARGA - INTERNET CHUI - RLE</td>\n",
       "      <td>2020-01-01</td>\n",
       "    </tr>\n",
       "    <tr>\n",
       "      <th>4</th>\n",
       "      <td>511301583</td>\n",
       "      <td>ATENDER DESPESA COM DIARIAS DE COLABORADORES E...</td>\n",
       "      <td>2020-09-24</td>\n",
       "    </tr>\n",
       "    <tr>\n",
       "      <th>5</th>\n",
       "      <td>511701585</td>\n",
       "      <td>ATENDER DESPESA COM SERVICOS PARA FINS DE MANU...</td>\n",
       "      <td>2020-09-17</td>\n",
       "    </tr>\n",
       "    <tr>\n",
       "      <th>6</th>\n",
       "      <td>512001614</td>\n",
       "      <td>CONTRATO DE SERVICOS DE LAVAGEM DE  VEICULOS  ...</td>\n",
       "      <td>2020-01-16</td>\n",
       "    </tr>\n",
       "    <tr>\n",
       "      <th>7</th>\n",
       "      <td>512301631</td>\n",
       "      <td>CONTRATO NR. 22/2018. ATENDER DESPESA COM SERV...</td>\n",
       "      <td>2020-02-22</td>\n",
       "    </tr>\n",
       "    <tr>\n",
       "      <th>8</th>\n",
       "      <td>513201843</td>\n",
       "      <td>ATENDER DESPESAS COM PRESTACAO DE SERVICOS DE ...</td>\n",
       "      <td>2020-03-11</td>\n",
       "    </tr>\n",
       "    <tr>\n",
       "      <th>9</th>\n",
       "      <td>513701584</td>\n",
       "      <td>ATENDER DESPESA COM DIARIAS DE PESSOAL CIVIL A...</td>\n",
       "      <td>2020-05-30</td>\n",
       "    </tr>\n",
       "    <tr>\n",
       "      <th>10</th>\n",
       "      <td>521001622</td>\n",
       "      <td>ATENDER DESPESAS COM PAGAMENTO DE PENSOES CIVI...</td>\n",
       "      <td>2020-07-15</td>\n",
       "    </tr>\n",
       "    <tr>\n",
       "      <th>11</th>\n",
       "      <td>524201553</td>\n",
       "      <td>ATENDER DESPESA COM SERVICOS DE: COMBATE A VET...</td>\n",
       "      <td>2020-11-27</td>\n",
       "    </tr>\n",
       "    <tr>\n",
       "      <th>12</th>\n",
       "      <td>525001610</td>\n",
       "      <td>EMPENHO PARA ATENDER DESPESA COM TELEFONIA MOD...</td>\n",
       "      <td>2020-04-14</td>\n",
       "    </tr>\n",
       "    <tr>\n",
       "      <th>13</th>\n",
       "      <td>525601604</td>\n",
       "      <td>CONTRATO 09/2020. PREGAO ELETRONICO 15/2020. -...</td>\n",
       "      <td>2020-02-28</td>\n",
       "    </tr>\n",
       "    <tr>\n",
       "      <th>14</th>\n",
       "      <td>531001585</td>\n",
       "      <td>ATENDER DESPESA COM PAGAMENTO DE CONTRIBUICOES...</td>\n",
       "      <td>2020-02-08</td>\n",
       "    </tr>\n",
       "  </tbody>\n",
       "</table>\n",
       "</div>"
      ],
      "text/plain": [
       "    id_empenho                                         observacao data_emissao\n",
       "0    506601548  ATENDER DESPESAS VARIAVEIS DE PESSOAL CIVIL AT...   2020-03-18\n",
       "1    507001630  EMPENHO PARA CONTRATO DE SERVICO DE INCINERACA...   2020-02-25\n",
       "2    509601561  PRESTACAO DE SERVICOS DE GERENCIAMENTO; CONTRO...   2020-06-12\n",
       "3    510501565   CONTRATACAO DE BANDA LARGA - INTERNET CHUI - RLE   2020-01-01\n",
       "4    511301583  ATENDER DESPESA COM DIARIAS DE COLABORADORES E...   2020-09-24\n",
       "5    511701585  ATENDER DESPESA COM SERVICOS PARA FINS DE MANU...   2020-09-17\n",
       "6    512001614  CONTRATO DE SERVICOS DE LAVAGEM DE  VEICULOS  ...   2020-01-16\n",
       "7    512301631  CONTRATO NR. 22/2018. ATENDER DESPESA COM SERV...   2020-02-22\n",
       "8    513201843  ATENDER DESPESAS COM PRESTACAO DE SERVICOS DE ...   2020-03-11\n",
       "9    513701584  ATENDER DESPESA COM DIARIAS DE PESSOAL CIVIL A...   2020-05-30\n",
       "10   521001622  ATENDER DESPESAS COM PAGAMENTO DE PENSOES CIVI...   2020-07-15\n",
       "11   524201553  ATENDER DESPESA COM SERVICOS DE: COMBATE A VET...   2020-11-27\n",
       "12   525001610  EMPENHO PARA ATENDER DESPESA COM TELEFONIA MOD...   2020-04-14\n",
       "13   525601604  CONTRATO 09/2020. PREGAO ELETRONICO 15/2020. -...   2020-02-28\n",
       "14   531001585  ATENDER DESPESA COM PAGAMENTO DE CONTRIBUICOES...   2020-02-08"
      ]
     },
     "metadata": {},
     "output_type": "display_data"
    }
   ],
   "source": [
    "q1 = \"Select id_empenho, observacao, data_emissao from empenho where data_emissao Between '2020-01-01'and '2020-12-31'\"\n",
    "#NÃO ALTERE AS LINHAS ABAIXO\n",
    "runQuery(q1, \"q1\")"
   ]
  },
  {
   "cell_type": "markdown",
   "metadata": {
    "id": "cHnE0cZyTq-K",
    "tags": []
   },
   "source": [
    "### 2 - Liste as 3 unidades federativas (uf) com menos favorecidos cadastrados e a quantidade de favorecidos destes Estados:"
   ]
  },
  {
   "cell_type": "code",
   "execution_count": 38,
   "metadata": {
    "id": "qJj2evYi9uPp"
   },
   "outputs": [
    {
     "data": {
      "text/html": [
       "<div>\n",
       "<style scoped>\n",
       "    .dataframe tbody tr th:only-of-type {\n",
       "        vertical-align: middle;\n",
       "    }\n",
       "\n",
       "    .dataframe tbody tr th {\n",
       "        vertical-align: top;\n",
       "    }\n",
       "\n",
       "    .dataframe thead th {\n",
       "        text-align: right;\n",
       "    }\n",
       "</style>\n",
       "<table border=\"1\" class=\"dataframe\">\n",
       "  <thead>\n",
       "    <tr style=\"text-align: right;\">\n",
       "      <th></th>\n",
       "      <th>uf</th>\n",
       "      <th>n_fav</th>\n",
       "    </tr>\n",
       "  </thead>\n",
       "  <tbody>\n",
       "    <tr>\n",
       "      <th>0</th>\n",
       "      <td>BA</td>\n",
       "      <td>1</td>\n",
       "    </tr>\n",
       "    <tr>\n",
       "      <th>1</th>\n",
       "      <td>ES</td>\n",
       "      <td>3</td>\n",
       "    </tr>\n",
       "    <tr>\n",
       "      <th>2</th>\n",
       "      <td>PR</td>\n",
       "      <td>3</td>\n",
       "    </tr>\n",
       "  </tbody>\n",
       "</table>\n",
       "</div>"
      ],
      "text/plain": [
       "   uf  n_fav\n",
       "0  BA      1\n",
       "1  ES      3\n",
       "2  PR      3"
      ]
     },
     "metadata": {},
     "output_type": "display_data"
    }
   ],
   "source": [
    "q2 = \"Select uf, COUNT(*) AS n_fav from favorecido GROUP BY uf ORDER BY n_fav asc limit 3\"\n",
    "#NÃO ALTERE AS LINHAS ABAIXO\n",
    "runQuery(q2, \"q2\")"
   ]
  },
  {
   "cell_type": "markdown",
   "metadata": {
    "id": "7d9DopVBT2LF"
   },
   "source": [
    "### 3 - Liste o nome das unidades que começam com a palavra SUPERINTENDENCIA e o nome do orgão ao qual pertencem:"
   ]
  },
  {
   "cell_type": "code",
   "execution_count": 39,
   "metadata": {
    "id": "6USqrESAJJl9"
   },
   "outputs": [
    {
     "data": {
      "text/html": [
       "<div>\n",
       "<style scoped>\n",
       "    .dataframe tbody tr th:only-of-type {\n",
       "        vertical-align: middle;\n",
       "    }\n",
       "\n",
       "    .dataframe tbody tr th {\n",
       "        vertical-align: top;\n",
       "    }\n",
       "\n",
       "    .dataframe thead th {\n",
       "        text-align: right;\n",
       "    }\n",
       "</style>\n",
       "<table border=\"1\" class=\"dataframe\">\n",
       "  <thead>\n",
       "    <tr style=\"text-align: right;\">\n",
       "      <th></th>\n",
       "      <th>nome_unidade</th>\n",
       "      <th>nome_orgao</th>\n",
       "    </tr>\n",
       "  </thead>\n",
       "  <tbody>\n",
       "    <tr>\n",
       "      <th>0</th>\n",
       "      <td>SUPERINTENDENCIA REGIONAL DA RFB NA 10A RF</td>\n",
       "      <td>Ministério da Economia</td>\n",
       "    </tr>\n",
       "    <tr>\n",
       "      <th>1</th>\n",
       "      <td>SUPERINTENDENCIA ESTADUAL DO MS/MG</td>\n",
       "      <td>Ministério da Saúde</td>\n",
       "    </tr>\n",
       "    <tr>\n",
       "      <th>2</th>\n",
       "      <td>SUPERINTENDENCIA ESTADUAL DO MS/PI</td>\n",
       "      <td>Ministério da Saúde</td>\n",
       "    </tr>\n",
       "    <tr>\n",
       "      <th>3</th>\n",
       "      <td>SUPERINTENDENCIA REGIONAL NO ESTADO DA BA</td>\n",
       "      <td>Ministério da Justiça e Segurança Pública</td>\n",
       "    </tr>\n",
       "  </tbody>\n",
       "</table>\n",
       "</div>"
      ],
      "text/plain": [
       "                                 nome_unidade  \\\n",
       "0  SUPERINTENDENCIA REGIONAL DA RFB NA 10A RF   \n",
       "1          SUPERINTENDENCIA ESTADUAL DO MS/MG   \n",
       "2          SUPERINTENDENCIA ESTADUAL DO MS/PI   \n",
       "3   SUPERINTENDENCIA REGIONAL NO ESTADO DA BA   \n",
       "\n",
       "                                  nome_orgao  \n",
       "0                     Ministério da Economia  \n",
       "1                        Ministério da Saúde  \n",
       "2                        Ministério da Saúde  \n",
       "3  Ministério da Justiça e Segurança Pública  "
      ]
     },
     "metadata": {},
     "output_type": "display_data"
    }
   ],
   "source": [
    "q3 = \"Select nome_unidade, nome_orgao from unidade join orgao on unidade.id_orgao = orgao.id_orgao where nome_unidade like 'SUPERINTENDENCIA%'\"\n",
    "#NÃO ALTERE AS LINHAS ABAIXO\n",
    "runQuery(q3, \"q3\")"
   ]
  },
  {
   "cell_type": "markdown",
   "metadata": {
    "id": "D5CG1uPiUUpf"
   },
   "source": []
  },
  {
   "cell_type": "markdown",
   "metadata": {
    "id": "IqsiU4KFUD2W"
   },
   "source": [
    "### 4 - Liste os códigos de empenho que tenham a palavra COBRIR no campo observacao:\n",
    "**OBS** (pesquisar a palavra em caixa alta)."
   ]
  },
  {
   "cell_type": "code",
   "execution_count": 40,
   "metadata": {
    "id": "d9XKVY69JJKu"
   },
   "outputs": [
    {
     "data": {
      "text/html": [
       "<div>\n",
       "<style scoped>\n",
       "    .dataframe tbody tr th:only-of-type {\n",
       "        vertical-align: middle;\n",
       "    }\n",
       "\n",
       "    .dataframe tbody tr th {\n",
       "        vertical-align: top;\n",
       "    }\n",
       "\n",
       "    .dataframe thead th {\n",
       "        text-align: right;\n",
       "    }\n",
       "</style>\n",
       "<table border=\"1\" class=\"dataframe\">\n",
       "  <thead>\n",
       "    <tr style=\"text-align: right;\">\n",
       "      <th></th>\n",
       "      <th>codigo_empenho</th>\n",
       "    </tr>\n",
       "  </thead>\n",
       "  <tbody>\n",
       "    <tr>\n",
       "      <th>0</th>\n",
       "      <td>2023NE000004</td>\n",
       "    </tr>\n",
       "    <tr>\n",
       "      <th>1</th>\n",
       "      <td>2023NE000018</td>\n",
       "    </tr>\n",
       "  </tbody>\n",
       "</table>\n",
       "</div>"
      ],
      "text/plain": [
       "  codigo_empenho\n",
       "0   2023NE000004\n",
       "1   2023NE000018"
      ]
     },
     "metadata": {},
     "output_type": "display_data"
    }
   ],
   "source": [
    "q4 = \"Select codigo_empenho from empenho where observacao like 'COBRIR%'\"\n",
    "#NÃO ALTERE AS LINHAS ABAIXO\n",
    "runQuery(q4, \"q4\")"
   ]
  },
  {
   "cell_type": "markdown",
   "metadata": {
    "id": "oZHwfdUjUh-0"
   },
   "source": [
    "### 5 - Liste, em ordem crescente, os nomes de todos os fornecedores que tenham mais de 1 empenho, exibindo também a quantidade de empenhos relacionados à cada um deles:"
   ]
  },
  {
   "cell_type": "code",
   "execution_count": 41,
   "metadata": {
    "id": "FgGtoeqfJOC8"
   },
   "outputs": [
    {
     "data": {
      "text/html": [
       "<div>\n",
       "<style scoped>\n",
       "    .dataframe tbody tr th:only-of-type {\n",
       "        vertical-align: middle;\n",
       "    }\n",
       "\n",
       "    .dataframe tbody tr th {\n",
       "        vertical-align: top;\n",
       "    }\n",
       "\n",
       "    .dataframe thead th {\n",
       "        text-align: right;\n",
       "    }\n",
       "</style>\n",
       "<table border=\"1\" class=\"dataframe\">\n",
       "  <thead>\n",
       "    <tr style=\"text-align: right;\">\n",
       "      <th></th>\n",
       "      <th>nome_fornecedor</th>\n",
       "      <th>num</th>\n",
       "    </tr>\n",
       "  </thead>\n",
       "  <tbody>\n",
       "    <tr>\n",
       "      <th>0</th>\n",
       "      <td>HENRIQUE HONORIO PEREIRA CABRAL</td>\n",
       "      <td>2</td>\n",
       "    </tr>\n",
       "    <tr>\n",
       "      <th>1</th>\n",
       "      <td>NETWARE TELECOMUNICACOES E INFORMATICA LTDA</td>\n",
       "      <td>2</td>\n",
       "    </tr>\n",
       "    <tr>\n",
       "      <th>2</th>\n",
       "      <td>RENOV AR CONDICIONADO LTDA</td>\n",
       "      <td>2</td>\n",
       "    </tr>\n",
       "    <tr>\n",
       "      <th>3</th>\n",
       "      <td>CLARO S.A.</td>\n",
       "      <td>3</td>\n",
       "    </tr>\n",
       "    <tr>\n",
       "      <th>4</th>\n",
       "      <td>HENRIQUE GONCALVES</td>\n",
       "      <td>4</td>\n",
       "    </tr>\n",
       "    <tr>\n",
       "      <th>5</th>\n",
       "      <td>L. A. VIAGENS E TURISMO LTDA</td>\n",
       "      <td>5</td>\n",
       "    </tr>\n",
       "    <tr>\n",
       "      <th>6</th>\n",
       "      <td>VANLUZ PECAS E ACESSORIOS LTDA</td>\n",
       "      <td>7</td>\n",
       "    </tr>\n",
       "    <tr>\n",
       "      <th>7</th>\n",
       "      <td>INSTITUTO NACIONAL DE EDUCACAO DE SURDOS-RJ</td>\n",
       "      <td>22</td>\n",
       "    </tr>\n",
       "  </tbody>\n",
       "</table>\n",
       "</div>"
      ],
      "text/plain": [
       "                               nome_fornecedor  num\n",
       "0              HENRIQUE HONORIO PEREIRA CABRAL    2\n",
       "1  NETWARE TELECOMUNICACOES E INFORMATICA LTDA    2\n",
       "2                   RENOV AR CONDICIONADO LTDA    2\n",
       "3                                   CLARO S.A.    3\n",
       "4                           HENRIQUE GONCALVES    4\n",
       "5                 L. A. VIAGENS E TURISMO LTDA    5\n",
       "6               VANLUZ PECAS E ACESSORIOS LTDA    7\n",
       "7  INSTITUTO NACIONAL DE EDUCACAO DE SURDOS-RJ   22"
      ]
     },
     "metadata": {},
     "output_type": "display_data"
    }
   ],
   "source": [
    "q5 = \"Select nome_fornecedor, COUNT(*) AS num from favorecido,empenho on favorecido.id_favorecido = empenho.id_favorecido GROUP BY nome_fornecedor HAVING num > 1 ORDER BY num asc\"\n",
    "#NÃO ALTERE AS LINHAS ABAIXO\n",
    "runQuery(q5, \"q5\")"
   ]
  },
  {
   "cell_type": "markdown",
   "metadata": {
    "id": "hI8FPQXEUxmJ"
   },
   "source": [
    "### 6 - Liste, em ordem crescente, o nome das unidades e a soma do valor de todos os itens pertencentes a cada uma delas:"
   ]
  },
  {
   "cell_type": "markdown",
   "metadata": {
    "id": "scuyrNi7fvZs"
   },
   "source": [
    "**Desafio**: Para tratar o erro de soma dos flutuantes na consulta, você pode reduzir o numero de casas decimais que serão exibidos."
   ]
  },
  {
   "cell_type": "code",
   "execution_count": 42,
   "metadata": {
    "id": "86wdM8M3JOSy"
   },
   "outputs": [
    {
     "data": {
      "text/html": [
       "<div>\n",
       "<style scoped>\n",
       "    .dataframe tbody tr th:only-of-type {\n",
       "        vertical-align: middle;\n",
       "    }\n",
       "\n",
       "    .dataframe tbody tr th {\n",
       "        vertical-align: top;\n",
       "    }\n",
       "\n",
       "    .dataframe thead th {\n",
       "        text-align: right;\n",
       "    }\n",
       "</style>\n",
       "<table border=\"1\" class=\"dataframe\">\n",
       "  <thead>\n",
       "    <tr style=\"text-align: right;\">\n",
       "      <th></th>\n",
       "      <th>nome_unidade</th>\n",
       "      <th>num</th>\n",
       "    </tr>\n",
       "  </thead>\n",
       "  <tbody>\n",
       "    <tr>\n",
       "      <th>0</th>\n",
       "      <td>DELEGACIA DA RFB EM CAXIAS DO SUL</td>\n",
       "      <td>10.0</td>\n",
       "    </tr>\n",
       "    <tr>\n",
       "      <th>1</th>\n",
       "      <td>SUPERINTENDENCIA REGIONAL DA RFB NA 10A RF</td>\n",
       "      <td>119.0</td>\n",
       "    </tr>\n",
       "    <tr>\n",
       "      <th>2</th>\n",
       "      <td>SUPERINTENDENCIA REGIONAL NO ESTADO DA BA</td>\n",
       "      <td>1000.0</td>\n",
       "    </tr>\n",
       "    <tr>\n",
       "      <th>3</th>\n",
       "      <td>SUPERINTENDENCIA ESTADUAL DO MS/PI</td>\n",
       "      <td>1122.5</td>\n",
       "    </tr>\n",
       "    <tr>\n",
       "      <th>4</th>\n",
       "      <td>COMANDO 5º BRIGADA DE CAVALARIA BLINDADA</td>\n",
       "      <td>4680.0</td>\n",
       "    </tr>\n",
       "    <tr>\n",
       "      <th>5</th>\n",
       "      <td>SUPERINTENDENCIA ESTADUAL DO MS/MG</td>\n",
       "      <td>12781.2</td>\n",
       "    </tr>\n",
       "    <tr>\n",
       "      <th>6</th>\n",
       "      <td>DELEGACIA DA RFB EM SANTA MARIA</td>\n",
       "      <td>150829.9</td>\n",
       "    </tr>\n",
       "    <tr>\n",
       "      <th>7</th>\n",
       "      <td>INSTITUTO NACIONAL DE EDUCACAO DE SURDOS-RJ</td>\n",
       "      <td>114464422.6</td>\n",
       "    </tr>\n",
       "  </tbody>\n",
       "</table>\n",
       "</div>"
      ],
      "text/plain": [
       "                                  nome_unidade          num\n",
       "0            DELEGACIA DA RFB EM CAXIAS DO SUL         10.0\n",
       "1   SUPERINTENDENCIA REGIONAL DA RFB NA 10A RF        119.0\n",
       "2    SUPERINTENDENCIA REGIONAL NO ESTADO DA BA       1000.0\n",
       "3           SUPERINTENDENCIA ESTADUAL DO MS/PI       1122.5\n",
       "4     COMANDO 5º BRIGADA DE CAVALARIA BLINDADA       4680.0\n",
       "5           SUPERINTENDENCIA ESTADUAL DO MS/MG      12781.2\n",
       "6              DELEGACIA DA RFB EM SANTA MARIA     150829.9\n",
       "7  INSTITUTO NACIONAL DE EDUCACAO DE SURDOS-RJ  114464422.6"
      ]
     },
     "metadata": {},
     "output_type": "display_data"
    }
   ],
   "source": [
    "q6 = \"Select nome_unidade, ROUND(SUM(valor_total_item),1) as num from item_empenho inner join empenho on item_empenho.id_empenho = empenho.id_empenho inner join unidade on empenho.id_unidade = unidade.id_unidade GROUP BY unidade.nome_unidade ORDER BY num asc\"\n",
    "#NÃO ALTERE AS LINHAS ABAIXO\n",
    "runQuery(q6, \"q6\")"
   ]
  },
  {
   "cell_type": "markdown",
   "metadata": {
    "id": "MVeODvQLVnC2"
   },
   "source": [
    "### 7 - Liste o nome dos orgãos que tenham mais de 10 favorecidos e a quantidade de favorecidos relacionados à cada orgão:"
   ]
  },
  {
   "cell_type": "code",
   "execution_count": 43,
   "metadata": {
    "id": "edYyqGoCJOXy"
   },
   "outputs": [
    {
     "data": {
      "text/html": [
       "<div>\n",
       "<style scoped>\n",
       "    .dataframe tbody tr th:only-of-type {\n",
       "        vertical-align: middle;\n",
       "    }\n",
       "\n",
       "    .dataframe tbody tr th {\n",
       "        vertical-align: top;\n",
       "    }\n",
       "\n",
       "    .dataframe thead th {\n",
       "        text-align: right;\n",
       "    }\n",
       "</style>\n",
       "<table border=\"1\" class=\"dataframe\">\n",
       "  <thead>\n",
       "    <tr style=\"text-align: right;\">\n",
       "      <th></th>\n",
       "      <th>nome_orgao</th>\n",
       "      <th>num</th>\n",
       "    </tr>\n",
       "  </thead>\n",
       "  <tbody>\n",
       "    <tr>\n",
       "      <th>0</th>\n",
       "      <td>Ministério da Economia</td>\n",
       "      <td>13</td>\n",
       "    </tr>\n",
       "    <tr>\n",
       "      <th>1</th>\n",
       "      <td>Ministério da Educação</td>\n",
       "      <td>14</td>\n",
       "    </tr>\n",
       "  </tbody>\n",
       "</table>\n",
       "</div>"
      ],
      "text/plain": [
       "               nome_orgao  num\n",
       "0  Ministério da Economia   13\n",
       "1  Ministério da Educação   14"
      ]
     },
     "metadata": {},
     "output_type": "display_data"
    }
   ],
   "source": [
    "q7 = \"Select nome_orgao, COUNT(DISTINCT favorecido.id_favorecido) as num from favorecido inner join empenho on favorecido.id_favorecido = empenho.id_favorecido inner join unidade on empenho.id_unidade = unidade.id_unidade inner join orgao on unidade.id_orgao = orgao.id_orgao GROUP BY orgao.nome_orgao HAVING COUNT(DISTINCT favorecido.id_favorecido) > 10\"\n",
    "#NÃO ALTERE AS LINHAS ABAIXO\n",
    "runQuery(q7, \"q7\")"
   ]
  },
  {
   "cell_type": "markdown",
   "metadata": {
    "id": "Zol-cAqOV5Om"
   },
   "source": [
    "### 8 - Liste o id de todos os empenhos que tenham alguma relação com o orgão Ministério da Saúde:"
   ]
  },
  {
   "cell_type": "code",
   "execution_count": 44,
   "metadata": {
    "id": "7S3rNj7fJOaU"
   },
   "outputs": [
    {
     "data": {
      "text/html": [
       "<div>\n",
       "<style scoped>\n",
       "    .dataframe tbody tr th:only-of-type {\n",
       "        vertical-align: middle;\n",
       "    }\n",
       "\n",
       "    .dataframe tbody tr th {\n",
       "        vertical-align: top;\n",
       "    }\n",
       "\n",
       "    .dataframe thead th {\n",
       "        text-align: right;\n",
       "    }\n",
       "</style>\n",
       "<table border=\"1\" class=\"dataframe\">\n",
       "  <thead>\n",
       "    <tr style=\"text-align: right;\">\n",
       "      <th></th>\n",
       "      <th>id_empenho</th>\n",
       "    </tr>\n",
       "  </thead>\n",
       "  <tbody>\n",
       "    <tr>\n",
       "      <th>0</th>\n",
       "      <td>508901604</td>\n",
       "    </tr>\n",
       "    <tr>\n",
       "      <th>1</th>\n",
       "      <td>510901650</td>\n",
       "    </tr>\n",
       "    <tr>\n",
       "      <th>2</th>\n",
       "      <td>525601598</td>\n",
       "    </tr>\n",
       "    <tr>\n",
       "      <th>3</th>\n",
       "      <td>526501194</td>\n",
       "    </tr>\n",
       "  </tbody>\n",
       "</table>\n",
       "</div>"
      ],
      "text/plain": [
       "   id_empenho\n",
       "0   508901604\n",
       "1   510901650\n",
       "2   525601598\n",
       "3   526501194"
      ]
     },
     "metadata": {},
     "output_type": "display_data"
    }
   ],
   "source": [
    "q8 = \"Select id_empenho from empenho inner join unidade on empenho.id_unidade = unidade.id_unidade inner join orgao on unidade.id_orgao = orgao.id_orgao where orgao.nome_orgao like '%Ministério da Saúde'\"\n",
    "#NÃO ALTERE AS LINHAS ABAIXO\n",
    "runQuery(q8, \"q8\")"
   ]
  },
  {
   "cell_type": "markdown",
   "metadata": {
    "id": "EJlHLd2EWHmM"
   },
   "source": [
    "### 9 - Liste o nome das unidades que possuem favorecidos em MG:"
   ]
  },
  {
   "cell_type": "code",
   "execution_count": 45,
   "metadata": {
    "id": "0I2xuul5JOce"
   },
   "outputs": [
    {
     "data": {
      "text/html": [
       "<div>\n",
       "<style scoped>\n",
       "    .dataframe tbody tr th:only-of-type {\n",
       "        vertical-align: middle;\n",
       "    }\n",
       "\n",
       "    .dataframe tbody tr th {\n",
       "        vertical-align: top;\n",
       "    }\n",
       "\n",
       "    .dataframe thead th {\n",
       "        text-align: right;\n",
       "    }\n",
       "</style>\n",
       "<table border=\"1\" class=\"dataframe\">\n",
       "  <thead>\n",
       "    <tr style=\"text-align: right;\">\n",
       "      <th></th>\n",
       "      <th>nome_unidade</th>\n",
       "    </tr>\n",
       "  </thead>\n",
       "  <tbody>\n",
       "    <tr>\n",
       "      <th>0</th>\n",
       "      <td>INSTITUTO NACIONAL DE EDUCACAO DE SURDOS-RJ</td>\n",
       "    </tr>\n",
       "    <tr>\n",
       "      <th>1</th>\n",
       "      <td>DELEGACIA DA RFB EM SANTA MARIA</td>\n",
       "    </tr>\n",
       "    <tr>\n",
       "      <th>2</th>\n",
       "      <td>SUPERINTENDENCIA REGIONAL DA RFB NA 10A RF</td>\n",
       "    </tr>\n",
       "  </tbody>\n",
       "</table>\n",
       "</div>"
      ],
      "text/plain": [
       "                                  nome_unidade\n",
       "0  INSTITUTO NACIONAL DE EDUCACAO DE SURDOS-RJ\n",
       "1              DELEGACIA DA RFB EM SANTA MARIA\n",
       "2   SUPERINTENDENCIA REGIONAL DA RFB NA 10A RF"
      ]
     },
     "metadata": {},
     "output_type": "display_data"
    }
   ],
   "source": [
    "q9 = \"Select distinct(nome_unidade) from unidade inner join empenho on unidade.id_unidade = empenho.id_unidade inner join favorecido on empenho.id_favorecido = favorecido.id_favorecido where favorecido.uf like '%MG%'\"\n",
    "#NÃO ALTERE AS LINHAS ABAIXO\n",
    "runQuery(q9, \"q9\")"
   ]
  },
  {
   "cell_type": "markdown",
   "metadata": {
    "id": "yRqjnag9WTcY"
   },
   "source": [
    "### 10 - Liste, em ordem crescente, a descriçãoo dos itens de empenho relacionados ao orgão do Ministério da Saúde:"
   ]
  },
  {
   "cell_type": "code",
   "execution_count": 46,
   "metadata": {
    "id": "L475F4fUJOei"
   },
   "outputs": [
    {
     "data": {
      "text/html": [
       "<div>\n",
       "<style scoped>\n",
       "    .dataframe tbody tr th:only-of-type {\n",
       "        vertical-align: middle;\n",
       "    }\n",
       "\n",
       "    .dataframe tbody tr th {\n",
       "        vertical-align: top;\n",
       "    }\n",
       "\n",
       "    .dataframe thead th {\n",
       "        text-align: right;\n",
       "    }\n",
       "</style>\n",
       "<table border=\"1\" class=\"dataframe\">\n",
       "  <thead>\n",
       "    <tr style=\"text-align: right;\">\n",
       "      <th></th>\n",
       "      <th>descricao</th>\n",
       "    </tr>\n",
       "  </thead>\n",
       "  <tbody>\n",
       "    <tr>\n",
       "      <th>0</th>\n",
       "      <td>Baixa de saldos não liquidados.</td>\n",
       "    </tr>\n",
       "    <tr>\n",
       "      <th>1</th>\n",
       "      <td>Item compra: 00001 - Estudos e Projetos de Rec...</td>\n",
       "    </tr>\n",
       "    <tr>\n",
       "      <th>2</th>\n",
       "      <td>Item compra: 00001 - TAXA DE INSTALACAO/HABILI...</td>\n",
       "    </tr>\n",
       "    <tr>\n",
       "      <th>3</th>\n",
       "      <td>Item compra: 00002 - TAXA DE INSTALACAO/HABILI...</td>\n",
       "    </tr>\n",
       "    <tr>\n",
       "      <th>4</th>\n",
       "      <td>Item compra: 00003 - TAXA DE INSTALACAO/HABILI...</td>\n",
       "    </tr>\n",
       "    <tr>\n",
       "      <th>5</th>\n",
       "      <td>Item compra: 00004 - Pacote de Serviços SMP (V...</td>\n",
       "    </tr>\n",
       "    <tr>\n",
       "      <th>6</th>\n",
       "      <td>Item compra: 00004 - Pacote de Serviços SMP (V...</td>\n",
       "    </tr>\n",
       "    <tr>\n",
       "      <th>7</th>\n",
       "      <td>Item compra: 00004 - TAXA DE INSTALACAO/HABILI...</td>\n",
       "    </tr>\n",
       "    <tr>\n",
       "      <th>8</th>\n",
       "      <td>Item compra: 00006 - TAXA DE INSTALACAO/HABILI...</td>\n",
       "    </tr>\n",
       "    <tr>\n",
       "      <th>9</th>\n",
       "      <td>Item compra: 00007 - TAXA DE INSTALACAO/HABILI...</td>\n",
       "    </tr>\n",
       "    <tr>\n",
       "      <th>10</th>\n",
       "      <td>Item compra: 00008 - TAXA DE INSTALACAO/HABILI...</td>\n",
       "    </tr>\n",
       "    <tr>\n",
       "      <th>11</th>\n",
       "      <td>Item compra: 00009 - TAXA DE INSTALACAO/HABILI...</td>\n",
       "    </tr>\n",
       "  </tbody>\n",
       "</table>\n",
       "</div>"
      ],
      "text/plain": [
       "                                            descricao\n",
       "0                     Baixa de saldos não liquidados.\n",
       "1   Item compra: 00001 - Estudos e Projetos de Rec...\n",
       "2   Item compra: 00001 - TAXA DE INSTALACAO/HABILI...\n",
       "3   Item compra: 00002 - TAXA DE INSTALACAO/HABILI...\n",
       "4   Item compra: 00003 - TAXA DE INSTALACAO/HABILI...\n",
       "5   Item compra: 00004 - Pacote de Serviços SMP (V...\n",
       "6   Item compra: 00004 - Pacote de Serviços SMP (V...\n",
       "7   Item compra: 00004 - TAXA DE INSTALACAO/HABILI...\n",
       "8   Item compra: 00006 - TAXA DE INSTALACAO/HABILI...\n",
       "9   Item compra: 00007 - TAXA DE INSTALACAO/HABILI...\n",
       "10  Item compra: 00008 - TAXA DE INSTALACAO/HABILI...\n",
       "11  Item compra: 00009 - TAXA DE INSTALACAO/HABILI..."
      ]
     },
     "metadata": {},
     "output_type": "display_data"
    }
   ],
   "source": [
    "q10 = \"Select descricao from item_empenho inner join empenho on item_empenho.id_empenho = empenho.id_empenho inner join unidade on empenho.id_unidade = unidade.id_unidade inner join orgao on unidade.id_orgao = orgao.id_orgao where orgao.nome_orgao like '%Ministério da Saúde%' ORDER BY item_empenho.descricao asc\"\n",
    "#NÃO ALTERE AS LINHAS ABAIXO\n",
    "runQuery(q10, \"q10\")"
   ]
  },
  {
   "cell_type": "markdown",
   "metadata": {
    "id": "xqbHWlAJAF_M"
   },
   "source": [
    "# Finalizando o Banco de Dados e o Arquivo de Consultas gerado:"
   ]
  },
  {
   "cell_type": "code",
   "execution_count": 47,
   "metadata": {
    "id": "liMikAbtIauA"
   },
   "outputs": [],
   "source": [
    "#NÃO ALTERE AS LINHAS ABAIXO\n",
    "queries.close()\n",
    "con.close()"
   ]
  },
  {
   "cell_type": "markdown",
   "metadata": {
    "id": "ZpgeqGXs7TUp"
   },
   "source": [
    "## Compactando Arquivos\n",
    "Na célula abaixo, substitua onde está escrito MATRÍCULA pelo seu número de matrícula."
   ]
  },
  {
   "cell_type": "code",
   "execution_count": 48,
   "metadata": {
    "id": "a_nL7tLM7k7q"
   },
   "outputs": [
    {
     "name": "stdout",
     "output_type": "stream",
     "text": [
      "\tzip warning: name not matched: TP1_2022043728.ipynb\n",
      "updating: 2022043728.csv (deflated 78%)\n"
     ]
    }
   ],
   "source": [
    "#ALTERE ONDE ESTÁ ESCRITO MATRICULA para o numero de sua Matrícula\n",
    "!zip -r \"2022043728.zip\" \"TP1_2022043728.ipynb\" \"2022043728.csv\""
   ]
  },
  {
   "cell_type": "markdown",
   "metadata": {
    "id": "2ftAbAxDWqG2"
   },
   "source": [
    "**LEMBRE-SE:** Após finalizar todas as consultas, clique em *Kernel -> Restart and Run All* no ambiente Jupyter!"
   ]
  },
  {
   "cell_type": "code",
   "execution_count": null,
   "metadata": {},
   "outputs": [],
   "source": []
  },
  {
   "cell_type": "code",
   "execution_count": null,
   "metadata": {},
   "outputs": [],
   "source": []
  }
 ],
 "metadata": {
  "colab": {
   "provenance": []
  },
  "kernelspec": {
   "display_name": "Python 3 (ipykernel)",
   "language": "python",
   "name": "python3"
  },
  "language_info": {
   "codemirror_mode": {
    "name": "ipython",
    "version": 3
   },
   "file_extension": ".py",
   "mimetype": "text/x-python",
   "name": "python",
   "nbconvert_exporter": "python",
   "pygments_lexer": "ipython3",
   "version": "3.10.9"
  }
 },
 "nbformat": 4,
 "nbformat_minor": 4
}
