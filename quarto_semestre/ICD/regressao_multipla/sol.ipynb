{
 "cells": [
  {
   "cell_type": "markdown",
   "metadata": {
    "id": "TL5V2HQ8PqKh"
   },
   "source": [
    "# Lista 10 - Regressão Múltipla"
   ]
  },
  {
   "cell_type": "markdown",
   "metadata": {
    "id": "SrVUUzqkPvKA"
   },
   "source": [
    "## Introdução"
   ]
  },
  {
   "cell_type": "code",
   "execution_count": 1,
   "metadata": {
    "id": "zRrnh21EIr1N"
   },
   "outputs": [],
   "source": [
    "# -*- coding: utf8\n",
    "\n",
    "from scipy import stats as ss\n",
    "\n",
    "import matplotlib.pyplot as plt\n",
    "from numpy.testing import assert_equal, assert_array_equal, assert_array_almost_equal\n",
    "import numpy as np\n",
    "import pandas as pd\n",
    "import seaborn as sns\n",
    "\n",
    "plt.rcParams['figure.figsize']  = (18, 10)\n",
    "plt.rcParams['axes.labelsize']  = 20\n",
    "plt.rcParams['axes.titlesize']  = 20\n",
    "plt.rcParams['legend.fontsize'] = 20\n",
    "plt.rcParams['xtick.labelsize'] = 20\n",
    "plt.rcParams['ytick.labelsize'] = 20\n",
    "plt.rcParams['lines.linewidth'] = 4"
   ]
  },
  {
   "cell_type": "code",
   "execution_count": 2,
   "metadata": {
    "id": "k3iXb3YrIr1T"
   },
   "outputs": [
    {
     "name": "stderr",
     "output_type": "stream",
     "text": [
      "/var/folders/q8/9d5d2vtj4832w_98dq64xxr00000gn/T/ipykernel_99663/156476233.py:2: MatplotlibDeprecationWarning: The seaborn styles shipped by Matplotlib are deprecated since 3.6, as they no longer correspond to the styles shipped by seaborn. However, they will remain available as 'seaborn-v0_8-<style>'. Alternatively, directly use the seaborn API instead.\n",
      "  plt.style.use('seaborn-colorblind')\n"
     ]
    }
   ],
   "source": [
    "plt.ion()\n",
    "plt.style.use('seaborn-colorblind')\n",
    "plt.rcParams['figure.figsize']  = (12, 8)"
   ]
  },
  {
   "cell_type": "code",
   "execution_count": 3,
   "metadata": {
    "id": "5-_wCNIeIr1U"
   },
   "outputs": [],
   "source": [
    "def despine(ax=None):\n",
    "    if ax is None:\n",
    "        ax = plt.gca()\n",
    "    # Hide the right and top spines\n",
    "    ax.spines['right'].set_visible(False)\n",
    "    ax.spines['top'].set_visible(False)\n",
    "\n",
    "    # Only show ticks on the left and bottom spines\n",
    "    ax.yaxis.set_ticks_position('left')\n",
    "    ax.xaxis.set_ticks_position('bottom')"
   ]
  },
  {
   "cell_type": "markdown",
   "metadata": {
    "id": "ss20_wBmP_sF"
   },
   "source": [
    "Continuando da aula passada, vamos agora focar em casos mais específicos de regressão. Nesta aula, vamos estender a ideia de mínimos quadrados e de regressão linear para modelos mais complexos. Para tal, vamos continuar nosso foco nos dados de preços de apartamentos em BH."
   ]
  },
  {
   "cell_type": "markdown",
   "metadata": {
    "id": "-q4qd-uOQB1q"
   },
   "source": [
    "## Dados"
   ]
  },
  {
   "cell_type": "markdown",
   "metadata": {
    "id": "CnqNWsJeIr1V"
   },
   "source": [
    "Observe como temos 4 possíveis preditores de preço:\n",
    "1. Área\n",
    "1. Quartos\n",
    "1. Suítes\n",
    "1. Vagas"
   ]
  },
  {
   "cell_type": "code",
   "execution_count": 4,
   "metadata": {
    "colab": {
     "base_uri": "https://localhost:8080/",
     "height": 235
    },
    "id": "rqbmgF5cIr1V",
    "outputId": "1c03d526-9423-483d-ee92-fed589bfd9f4"
   },
   "outputs": [
    {
     "data": {
      "text/html": [
       "<div>\n",
       "<style scoped>\n",
       "    .dataframe tbody tr th:only-of-type {\n",
       "        vertical-align: middle;\n",
       "    }\n",
       "\n",
       "    .dataframe tbody tr th {\n",
       "        vertical-align: top;\n",
       "    }\n",
       "\n",
       "    .dataframe thead th {\n",
       "        text-align: right;\n",
       "    }\n",
       "</style>\n",
       "<table border=\"1\" class=\"dataframe\">\n",
       "  <thead>\n",
       "    <tr style=\"text-align: right;\">\n",
       "      <th></th>\n",
       "      <th>area</th>\n",
       "      <th>quartos</th>\n",
       "      <th>suites</th>\n",
       "      <th>vagas</th>\n",
       "      <th>preco</th>\n",
       "    </tr>\n",
       "    <tr>\n",
       "      <th>ID</th>\n",
       "      <th></th>\n",
       "      <th></th>\n",
       "      <th></th>\n",
       "      <th></th>\n",
       "      <th></th>\n",
       "    </tr>\n",
       "  </thead>\n",
       "  <tbody>\n",
       "    <tr>\n",
       "      <th>353534.0</th>\n",
       "      <td>110.00</td>\n",
       "      <td>3.0</td>\n",
       "      <td>1.0</td>\n",
       "      <td>2.0</td>\n",
       "      <td>880000.0</td>\n",
       "    </tr>\n",
       "    <tr>\n",
       "      <th>366113.0</th>\n",
       "      <td>101.89</td>\n",
       "      <td>3.0</td>\n",
       "      <td>1.0</td>\n",
       "      <td>4.0</td>\n",
       "      <td>900000.0</td>\n",
       "    </tr>\n",
       "    <tr>\n",
       "      <th>186728.0</th>\n",
       "      <td>191.00</td>\n",
       "      <td>3.0</td>\n",
       "      <td>1.0</td>\n",
       "      <td>3.0</td>\n",
       "      <td>920000.0</td>\n",
       "    </tr>\n",
       "    <tr>\n",
       "      <th>366115.0</th>\n",
       "      <td>101.89</td>\n",
       "      <td>3.0</td>\n",
       "      <td>1.0</td>\n",
       "      <td>4.0</td>\n",
       "      <td>950000.0</td>\n",
       "    </tr>\n",
       "    <tr>\n",
       "      <th>353022.0</th>\n",
       "      <td>280.61</td>\n",
       "      <td>3.0</td>\n",
       "      <td>1.0</td>\n",
       "      <td>4.0</td>\n",
       "      <td>1000000.0</td>\n",
       "    </tr>\n",
       "  </tbody>\n",
       "</table>\n",
       "</div>"
      ],
      "text/plain": [
       "            area  quartos  suites  vagas      preco\n",
       "ID                                                 \n",
       "353534.0  110.00      3.0     1.0    2.0   880000.0\n",
       "366113.0  101.89      3.0     1.0    4.0   900000.0\n",
       "186728.0  191.00      3.0     1.0    3.0   920000.0\n",
       "366115.0  101.89      3.0     1.0    4.0   950000.0\n",
       "353022.0  280.61      3.0     1.0    4.0  1000000.0"
      ]
     },
     "execution_count": 4,
     "metadata": {},
     "output_type": "execute_result"
    }
   ],
   "source": [
    "df = pd.read_csv('https://raw.githubusercontent.com/pedroharaujo/ICD_Docencia/master/aptosBH.txt', index_col=0)\n",
    "df.head()"
   ]
  },
  {
   "cell_type": "markdown",
   "metadata": {
    "id": "GqK-B2rFIr1X"
   },
   "source": [
    "Cada preditor é correlacionado com o preço de alguma forma. No pairplot abaixo, observe a última coluna, onde cada linha corresponde a um preditor."
   ]
  },
  {
   "cell_type": "code",
   "execution_count": 5,
   "metadata": {
    "colab": {
     "base_uri": "https://localhost:8080/",
     "height": 762
    },
    "id": "9WBHbMaRIr1Y",
    "outputId": "59eeab10-e025-4749-a8ce-96e17c8dbaea"
   },
   "outputs": [
    {
     "name": "stderr",
     "output_type": "stream",
     "text": [
      "/opt/homebrew/lib/python3.11/site-packages/seaborn/axisgrid.py:118: UserWarning: The figure layout has changed to tight\n",
      "  self._figure.tight_layout(*args, **kwargs)\n"
     ]
    },
    {
     "data": {
      "text/plain": [
       "<seaborn.axisgrid.PairGrid at 0x15b7e4e90>"
      ]
     },
     "execution_count": 5,
     "metadata": {},
     "output_type": "execute_result"
    },
    {
     "data": {
      "image/png": "[encoded data removed]",
      "text/plain": [
       "<Figure size 1250x1250 with 30 Axes>"
      ]
     },
     "metadata": {},
     "output_type": "display_data"
    }
   ],
   "source": [
    "sns.pairplot(df, diag_kws={'edgecolor':'k'}, plot_kws={'alpha':0.5, 'edgecolor':'k'})"
   ]
  },
  {
   "cell_type": "markdown",
   "metadata": {
    "id": "Jshbj3f6QbEy"
   },
   "source": [
    "## Regressão Múltipla"
   ]
  },
  {
   "cell_type": "markdown",
   "metadata": {
    "id": "Y9_YqjHKIr1Y"
   },
   "source": [
    "Para realizar uma regressão múltipla, vamos representar nossos dados na forma matricial. Sendo `n` o número de linhas nos nossos dados (observações) e `f` o número de colunas (features/atríbutos). Os dados podem ser vistos como a matriz abaixo:\n",
    "\n",
    "$$\n",
    "\\mathbf{X} = \\begin{pmatrix}\\mathbf {x} _{1}^{\\mathsf {T}}\\\\\\mathbf {x} _{2}^{\\mathsf {T}}\\\\\\vdots \\\\\\mathbf {x} _{n}^{\\mathsf {T}}\\end{pmatrix} =\\begin{pmatrix}1&x_{11}&\\cdots &x_{1f}\\\\1&x_{21}&\\cdots &x_{2f}\\\\\\vdots &\\vdots &\\ddots &\\vdots \\\\1&x_{n1}&\\cdots &x_{nf}\\end{pmatrix}\n",
    "$$\n",
    "\n",
    "Observe como a primeira coluna é toda `1`. A mesma vai capturar o fator constante, intercepto, da regressão linear. O nosso modelo é capturado pela equação abaixo:\n",
    "\n",
    "$$y_i = \\theta_0 x_{i0} + \\theta_1 x_{i1}^{1} + \\theta_2 x_{i2}^{2} + \\cdots + \\theta_f x_{if}^{f} + \\epsilon_i$$\n",
    "\n",
    "Aqui, $x_{i0} = 1$ sempre (por isso usamos uma coluna de 1s). Dessa forma, obtemos a equação:\n",
    "\n",
    "$$y_i = \\theta_0 + \\theta_1 x_{i1}^{1} + \\theta_2 x_{i2}^{2} + \\cdots + \\theta_f x_{if}^{f} + \\epsilon_i$$"
   ]
  },
  {
   "cell_type": "markdown",
   "metadata": {
    "id": "InDVFjTwIr1a"
   },
   "source": [
    "Vamos organizar uma matriz de fatores explanatórios X usando pandas."
   ]
  },
  {
   "cell_type": "code",
   "execution_count": 6,
   "metadata": {
    "colab": {
     "base_uri": "https://localhost:8080/"
    },
    "id": "oQsw2R2tIr1a",
    "outputId": "2682fd00-9226-4aab-b49a-1342df457935"
   },
   "outputs": [
    {
     "data": {
      "text/html": [
       "<div>\n",
       "<style scoped>\n",
       "    .dataframe tbody tr th:only-of-type {\n",
       "        vertical-align: middle;\n",
       "    }\n",
       "\n",
       "    .dataframe tbody tr th {\n",
       "        vertical-align: top;\n",
       "    }\n",
       "\n",
       "    .dataframe thead th {\n",
       "        text-align: right;\n",
       "    }\n",
       "</style>\n",
       "<table border=\"1\" class=\"dataframe\">\n",
       "  <thead>\n",
       "    <tr style=\"text-align: right;\">\n",
       "      <th></th>\n",
       "      <th>intercepto</th>\n",
       "      <th>area</th>\n",
       "      <th>quartos</th>\n",
       "      <th>suites</th>\n",
       "      <th>vagas</th>\n",
       "    </tr>\n",
       "    <tr>\n",
       "      <th>ID</th>\n",
       "      <th></th>\n",
       "      <th></th>\n",
       "      <th></th>\n",
       "      <th></th>\n",
       "      <th></th>\n",
       "    </tr>\n",
       "  </thead>\n",
       "  <tbody>\n",
       "    <tr>\n",
       "      <th>353534.0</th>\n",
       "      <td>1</td>\n",
       "      <td>110.00</td>\n",
       "      <td>3.0</td>\n",
       "      <td>1.0</td>\n",
       "      <td>2.0</td>\n",
       "    </tr>\n",
       "    <tr>\n",
       "      <th>366113.0</th>\n",
       "      <td>1</td>\n",
       "      <td>101.89</td>\n",
       "      <td>3.0</td>\n",
       "      <td>1.0</td>\n",
       "      <td>4.0</td>\n",
       "    </tr>\n",
       "    <tr>\n",
       "      <th>186728.0</th>\n",
       "      <td>1</td>\n",
       "      <td>191.00</td>\n",
       "      <td>3.0</td>\n",
       "      <td>1.0</td>\n",
       "      <td>3.0</td>\n",
       "    </tr>\n",
       "    <tr>\n",
       "      <th>366115.0</th>\n",
       "      <td>1</td>\n",
       "      <td>101.89</td>\n",
       "      <td>3.0</td>\n",
       "      <td>1.0</td>\n",
       "      <td>4.0</td>\n",
       "    </tr>\n",
       "    <tr>\n",
       "      <th>353022.0</th>\n",
       "      <td>1</td>\n",
       "      <td>280.61</td>\n",
       "      <td>3.0</td>\n",
       "      <td>1.0</td>\n",
       "      <td>4.0</td>\n",
       "    </tr>\n",
       "  </tbody>\n",
       "</table>\n",
       "</div>"
      ],
      "text/plain": [
       "          intercepto    area  quartos  suites  vagas\n",
       "ID                                                  \n",
       "353534.0           1  110.00      3.0     1.0    2.0\n",
       "366113.0           1  101.89      3.0     1.0    4.0\n",
       "186728.0           1  191.00      3.0     1.0    3.0\n",
       "366115.0           1  101.89      3.0     1.0    4.0\n",
       "353022.0           1  280.61      3.0     1.0    4.0"
      ]
     },
     "execution_count": 6,
     "metadata": {},
     "output_type": "execute_result"
    }
   ],
   "source": [
    "y = df['preco']\n",
    "X = df[['area', 'quartos', 'suites', 'vagas']]\n",
    "X['intercepto'] = 1\n",
    "X = X[['intercepto', 'area', 'quartos', 'suites', 'vagas']]\n",
    "X.head()"
   ]
  },
  {
   "cell_type": "markdown",
   "metadata": {
    "id": "XJWQ9Ga4Ir1b"
   },
   "source": [
    "Temos 216 observações."
   ]
  },
  {
   "cell_type": "code",
   "execution_count": 7,
   "metadata": {
    "colab": {
     "base_uri": "https://localhost:8080/"
    },
    "id": "zTeOMtZWIr1b",
    "outputId": "dd68e65e-d140-42e4-f6f5-6da70175736a"
   },
   "outputs": [
    {
     "data": {
      "text/plain": [
       "(216,)"
      ]
     },
     "execution_count": 7,
     "metadata": {},
     "output_type": "execute_result"
    }
   ],
   "source": [
    "y.shape"
   ]
  },
  {
   "cell_type": "markdown",
   "metadata": {
    "id": "E3tTs0reIr1b"
   },
   "source": [
    "5 atributos, onde um deles é o intercepto."
   ]
  },
  {
   "cell_type": "code",
   "execution_count": 8,
   "metadata": {
    "colab": {
     "base_uri": "https://localhost:8080/"
    },
    "id": "1xHPdB1nIr1c",
    "outputId": "51c9ca8f-bae6-425c-f315-9c6ccef15598"
   },
   "outputs": [
    {
     "data": {
      "text/plain": [
       "(216, 5)"
      ]
     },
     "execution_count": 8,
     "metadata": {},
     "output_type": "execute_result"
    }
   ],
   "source": [
    "X.shape"
   ]
  },
  {
   "cell_type": "markdown",
   "metadata": {
    "id": "bh9pVw5_Ir1c"
   },
   "source": [
    "X.values retorna a matriz."
   ]
  },
  {
   "cell_type": "code",
   "execution_count": 9,
   "metadata": {
    "colab": {
     "base_uri": "https://localhost:8080/"
    },
    "id": "nxEYCjxyIr1d",
    "outputId": "1ed7d235-4ab4-4a2d-fda5-9ef48967fe50"
   },
   "outputs": [
    {
     "data": {
      "text/plain": [
       "array([[  1.  , 110.  ,   3.  ,   1.  ,   2.  ],\n",
       "       [  1.  , 101.89,   3.  ,   1.  ,   4.  ],\n",
       "       [  1.  , 191.  ,   3.  ,   1.  ,   3.  ],\n",
       "       ...,\n",
       "       [  1.  ,  70.  ,   2.  ,   2.  ,   2.  ],\n",
       "       [  1.  ,  70.  ,   2.  ,   2.  ,   2.  ],\n",
       "       [  1.  , 115.  ,   3.  ,   1.  ,   2.  ]])"
      ]
     },
     "execution_count": 9,
     "metadata": {},
     "output_type": "execute_result"
    }
   ],
   "source": [
    "X = X.values\n",
    "y = y.values # pegar a matrix\n",
    "X"
   ]
  },
  {
   "cell_type": "markdown",
   "metadata": {
    "id": "DmRW-FeXQmmc"
   },
   "source": [
    "## Modelo"
   ]
  },
  {
   "cell_type": "markdown",
   "metadata": {
    "id": "kzliRjAPIr1d"
   },
   "source": [
    "Sendo $\\mathbf{y}$ a nossa resposta. Na forma matricial o nosso modelo tem a seguinte forma:\n",
    "\n",
    "\n",
    "$$\\mathbf {y} =\\mathbf{X}{\\boldsymbol {\\theta }}+{\\boldsymbol {\\varepsilon }} $$\n",
    "\n",
    "Cada observação $y_i$ vai ser capturada pelo modelo linear $y_i = \\theta_0 + \\theta_1 x_{i1}^{1} + \\theta_2 x_{i2}^{2} + \\cdots + \\theta_f x_{if}^{f} + \\epsilon_i$. Basta pensar em operações de matrizes e vetores como somatórios! Cada linha de $\\mathbf{X}$ multiplica o vetor de parâmetros $\\theta$."
   ]
  },
  {
   "cell_type": "markdown",
   "metadata": {
    "id": "reYHc_eqQplh"
   },
   "source": [
    "## Soma dos erros quadrados"
   ]
  },
  {
   "cell_type": "markdown",
   "metadata": {
    "id": "UEe3qP0cIr1e"
   },
   "source": [
    "A função de perda na forma matricial é:\n",
    "\n",
    "$$L({\\boldsymbol {\\theta }}) = ||\\mathbf{y} - \\mathbf{X} {\\boldsymbol {\\theta }}||^2_2$$\n",
    "\n",
    "Essa função é obtida através do quadrado da norma de Frobenius (com p=2), cuja fórmula é dada por:\n",
    "\n",
    "$$||A||_p = (\\sum_i \\sum_j |a_{i,j}|^p)^{\\frac{1}{p}}$$"
   ]
  },
  {
   "cell_type": "markdown",
   "metadata": {
    "id": "nLZaGp36Qr1o"
   },
   "source": [
    "## Jacobiana"
   ]
  },
  {
   "cell_type": "markdown",
   "metadata": {
    "id": "cNR5Im49Ir1e"
   },
   "source": [
    "Quando temos várias derivadas de equações na forma matricial, estamos computando a Jacobiana J (vetor de derivadas). Cada elemento do vetor J é uma derivada:\n",
    "\n",
    "$$J(\\theta) = [\\frac{dL}{d\\theta_0}, \\frac{dL}{d\\theta_1}, ..., \\frac{dL}{d\\theta_f}]$$\n",
    "\n",
    "\n",
    "Um fator bastante interessante deste modelo é que todas as derivadas (para cada $\\theta_i$) têm a mesma forma. Como temos uma soma de fatores lineares, cada $\\theta_i$ vai ter o mesmo formato. Assim:\n",
    "\n",
    "$$\\frac{dL}{d\\theta_j} = -2n^{-1} \\sum_{i=1}^{n} (y_i - \\sum_{j=0} \\theta_j x_{ij}) x_{ij}$$\n",
    "\n",
    "$$\\frac{dL}{d\\theta_j} = -2n^{-1} \\sum_{i=1}^{n} \\epsilon_i x_{ij}$$\n",
    "\n",
    "A função abaixo computa tal derivada explorando o conceito de vetorização."
   ]
  },
  {
   "cell_type": "code",
   "execution_count": 10,
   "metadata": {
    "id": "0hD3bTFTIr1f"
   },
   "outputs": [],
   "source": [
    "def derivadas_regressao_media_old(theta, X, y):\n",
    "    return -2 * ((y - X @ theta) * X.T).mean(axis=1)"
   ]
  },
  {
   "cell_type": "code",
   "execution_count": 11,
   "metadata": {
    "id": "bY_1pZjYIr1f"
   },
   "outputs": [],
   "source": [
    "def derivadas_regressao(theta, X, y):\n",
    "    return -2 * ((y - X @ theta) @ X)"
   ]
  },
  {
   "cell_type": "markdown",
   "metadata": {
    "id": "16L6PnePIr1f"
   },
   "source": [
    "## Versão nova da função da média"
   ]
  },
  {
   "cell_type": "code",
   "execution_count": 12,
   "metadata": {
    "id": "c2rfyXjAIr1g"
   },
   "outputs": [],
   "source": [
    "def derivadas_regressao_media(theta, X, y):\n",
    "    return -2 * ((y - X @ theta) @ X) / len(y)"
   ]
  },
  {
   "cell_type": "markdown",
   "metadata": {
    "id": "rB8thLS_Q3Lu"
   },
   "source": [
    "## Gradiente Descendente"
   ]
  },
  {
   "cell_type": "markdown",
   "metadata": {
    "id": "XPlhqjuDIr1g"
   },
   "source": [
    "Após definir o modelo, a função de erro e a Jacobiana para a Regressão Múltipla, podemos calcular o gradiente descendente!"
   ]
  },
  {
   "cell_type": "code",
   "execution_count": 13,
   "metadata": {
    "id": "uvMFjaZDIr1g"
   },
   "outputs": [],
   "source": [
    "# def gd(theta, d_fun, X, y, lambda_=0.0001, tol=0.00001, max_iter=10000):\n",
    "#   theta = theta.copy()\n",
    "#   #print('Iter {}; theta = '.format(0), theta)\n",
    "#   old_err_sq = np.inf\n",
    "#   i = 0\n",
    "#   while True:\n",
    "#     # Computar as derivadas\n",
    "#     grad = d_fun(theta, X, y)\n",
    "#     # Atualizar\n",
    "#     theta_novo = theta - lambda_ * grad\n",
    "    \n",
    "#     # Parar quando o erro convergir\n",
    "#     err_sq = ((X.dot(theta) - y) ** 2).mean()\n",
    "#     if np.abs(old_err_sq - err_sq) <= tol:\n",
    "#       break\n",
    "#     theta = theta_novo\n",
    "#     old_err_sq = err_sq\n",
    "#     #print('Iter {}; theta = '.format(i+1), theta)\n",
    "#     i += 1\n",
    "#     if i == max_iter:\n",
    "#       break\n",
    "#   return theta"
   ]
  },
  {
   "cell_type": "markdown",
   "metadata": {
    "id": "pwWCbwSyRFJB"
   },
   "source": [
    "## Gradiente Descendente Estocástico"
   ]
  },
  {
   "cell_type": "markdown",
   "metadata": {
    "id": "dBj1tL8uIr1h"
   },
   "source": [
    "O gradiente descendente estocástico também funciona! Entretanto, temos que acertar a taxa de aprendizado.\n",
    "Um dos problemas do uso recorrente do gradiente descendente estocástico é que não sabemos ainda como acertar nossa taxa. Para tal, geralmente fazemos uso de treino/validação/teste (assunto das próximas aulas)."
   ]
  },
  {
   "cell_type": "code",
   "execution_count": 14,
   "metadata": {
    "id": "GE1pxsq1Ir1h"
   },
   "outputs": [],
   "source": [
    "# def sgd(theta, d_fun, X, y, lambda_=0.001, tol=0.01, max_iter=10000):\n",
    "#   theta = theta.copy()\n",
    "#   #print('Iter {}; alpha, beta = '.format(0), theta)\n",
    "#   old_err_sq = np.inf\n",
    "#   for i in range(max_iter):\n",
    "#     # Escolhe ponto aleatório\n",
    "#     r = np.random.randint(len(y))\n",
    "#     X_r, y_r = X[r], y[r]\n",
    "#     X_r = X_r.reshape(1, len(X_r)) # transforma o vetor linha em matriz\n",
    "            \n",
    "#     # Deriva e atualiza\n",
    "#     grad = d_fun(theta, X_r, y_r)\n",
    "#     theta_novo = theta - lambda_ * grad\n",
    "    \n",
    "#     #Calcula o erro\n",
    "#     err_sq = ((X.dot(theta) - y) ** 2).mean()\n",
    "    \n",
    "#     theta = theta_novo\n",
    "#     if err_sq < tol:\n",
    "#       break\n",
    "    \n",
    "#       #print('Iter {}; alpha, beta = '.format(i+1), theta)\n",
    "\n",
    "#   return theta"
   ]
  },
  {
   "cell_type": "markdown",
   "metadata": {
    "id": "MmXhGrjGRH1y"
   },
   "source": [
    "## Normalização dos Dados"
   ]
  },
  {
   "cell_type": "markdown",
   "metadata": {
    "id": "zPDUS83OIr1i"
   },
   "source": [
    "A normalização dos dados pode ser útil para ajudar o gradiente. O algoritmo funciona sem tal passo, porém é mais chato definir uma taxa de aprendizado quando não temos isto e, além disso, a convergência é mais lenta.\n",
    "\n",
    "Quando as features aparecem com ordens de grandeza muito diferentes (ex: idade entre 0 a 100 e renda mensal entre  800 e 100.000 reais) a função de custo é distorcida, tornando o ponto mínimo difícil de alcançar. Sendo assim, um truque importante é garantir que todos as features estejam em uma escala similar. \n",
    "\n",
    "Abaixo normalizamos as features dos dados de preços de apartamentos em BH e, em seguida, calculamos o gradiente descendente e o gradiente descendente estocástico."
   ]
  },
  {
   "cell_type": "code",
   "execution_count": 15,
   "metadata": {
    "id": "ZT0UxTIdIr1j"
   },
   "outputs": [],
   "source": [
    "# df = pd.read_csv('https://raw.githubusercontent.com/pedroharaujo/ICD_Docencia/master/aptosBH.txt', index_col=0)\n",
    "# z_df = (df-df.mean())/df.std()\n",
    "\n",
    "# y = z_df['preco']\n",
    "# X = z_df[['area', 'quartos', 'suites', 'vagas']]\n",
    "# X['intercepto'] = 1\n",
    "\n",
    "# X = X.values\n",
    "# y = y.values\n",
    "\n",
    "# theta = np.ones(5)\n",
    "# theta = gd(theta, derivadas_regressao, X, y)"
   ]
  },
  {
   "cell_type": "code",
   "execution_count": 16,
   "metadata": {
    "id": "InGTCV24Ir1j",
    "scrolled": true
   },
   "outputs": [],
   "source": [
    "# print(\"theta = \", theta)"
   ]
  },
  {
   "cell_type": "code",
   "execution_count": 17,
   "metadata": {
    "id": "_iViPhPzIr1k"
   },
   "outputs": [],
   "source": [
    "# print(X[0:4])"
   ]
  },
  {
   "cell_type": "code",
   "execution_count": 18,
   "metadata": {
    "id": "RLOJV2NTIr1k",
    "scrolled": false
   },
   "outputs": [],
   "source": [
    "# df = pd.read_csv('https://raw.githubusercontent.com/pedroharaujo/ICD_Docencia/master/aptosBH.txt', index_col=0)\n",
    "# z_df = (df-df.mean())/df.std()\n",
    "\n",
    "# y = z_df['preco']\n",
    "# X = z_df[['area', 'quartos', 'suites', 'vagas']]\n",
    "# X['intercepto'] = 1\n",
    "\n",
    "# X = X.values\n",
    "# y = y.values\n",
    "\n",
    "# theta = np.ones(5)\n",
    "# theta = sgd(theta, derivadas_regressao, X, y, lambda_=0.002)"
   ]
  },
  {
   "cell_type": "code",
   "execution_count": 19,
   "metadata": {
    "id": "CApG5ZK5Ir1l"
   },
   "outputs": [],
   "source": [
    "# print(\"theta = \", theta)"
   ]
  },
  {
   "cell_type": "markdown",
   "metadata": {
    "id": "8OYa1u3BIr1l"
   },
   "source": [
    "Observe como os resultados batem com o scikit learn."
   ]
  },
  {
   "cell_type": "code",
   "execution_count": 20,
   "metadata": {
    "id": "kfTuPkbDIr1l"
   },
   "outputs": [],
   "source": [
    "# from sklearn.linear_model import LinearRegression\n",
    "# model = LinearRegression(fit_intercept=True)\n",
    "# model.fit(X, y)"
   ]
  },
  {
   "cell_type": "code",
   "execution_count": 21,
   "metadata": {
    "id": "CmKDsIdyIr1m"
   },
   "outputs": [],
   "source": [
    "# model.coef_"
   ]
  },
  {
   "cell_type": "code",
   "execution_count": 22,
   "metadata": {
    "id": "cwRZjX6eIr1m",
    "scrolled": true
   },
   "outputs": [],
   "source": [
    "# model.intercept_"
   ]
  },
  {
   "cell_type": "markdown",
   "metadata": {
    "id": "7zDAsNlRTeVy"
   },
   "source": [
    "## Erros e Validação"
   ]
  },
  {
   "cell_type": "markdown",
   "metadata": {
    "id": "Obf8rKXTIr1n"
   },
   "source": [
    "Ainda podemos usar o R-quadrado para avaliar a qualidade de uma regressão linear múltipla. A interpretação permanece a mesma: quanto da variância dos dados é capturada pelo modelo."
   ]
  },
  {
   "cell_type": "markdown",
   "metadata": {
    "id": "nB7UhGEFIr1n"
   },
   "source": [
    "* Ainda considerando o exemplo da predição do preço de apartamentos em BH, calcule o valor do R-quadrado da regressão com os dados normalizados. Faça o mesmo usando os dados não normalizados."
   ]
  },
  {
   "cell_type": "code",
   "execution_count": 23,
   "metadata": {
    "id": "e3Gor1fLIr1n"
   },
   "outputs": [],
   "source": [
    "# def erro(y, X, theta):\n",
    "#   return y - X@theta\n",
    "\n",
    "# def multiple_r_squared(X, y, theta):\n",
    "#   sse = sum(erro(y, X, theta)**2)\n",
    "#   sst = sum((y - np.mean(y))**2)\n",
    "#   return 1.0 - sse / sst\n",
    "\n",
    "\n",
    "# df = pd.read_csv('https://raw.githubusercontent.com/pedroharaujo/ICD_Docencia/master/aptosBH.txt', index_col=0)\n",
    "\n",
    "# y = df['preco']\n",
    "# X = df[['area', 'quartos', 'suites', 'vagas']]\n",
    "# X['intercepto'] = 1\n",
    "\n",
    "# X = X.values\n",
    "# y = y.values\n",
    "\n",
    "# model = LinearRegression(fit_intercept=False)\n",
    "# model.fit(X, y)\n",
    "# print(model.coef_)\n",
    "# print(\"R2 sem normalizacao = \", model.score(X, y))\n",
    "\n",
    "\n",
    "# df = pd.read_csv('https://raw.githubusercontent.com/pedroharaujo/ICD_Docencia/master/aptosBH.txt', index_col=0)\n",
    "# z_df=(df-df.mean())/df.std()\n",
    "\n",
    "# y = z_df['preco']\n",
    "# X = z_df[['area', 'quartos', 'suites', 'vagas']]\n",
    "# X['intercepto'] = 1\n",
    "\n",
    "# X = X.values\n",
    "# y = y.values\n",
    "\n",
    "# model = LinearRegression(fit_intercept=False)\n",
    "# model.fit(X, y)\n",
    "# print(model.coef_)\n",
    "# print(\"R2 com normalizacao = \", model.score(X, y))"
   ]
  },
  {
   "cell_type": "markdown",
   "metadata": {
    "id": "kVkBHC7CT70d"
   },
   "source": [
    "## Bootstrap para entender a importância de fatores"
   ]
  },
  {
   "cell_type": "markdown",
   "metadata": {
    "id": "bodKKYnKIr1n"
   },
   "source": [
    "Podemos aplicar um bootstrap para entender a importância dos fatores. Nós repetidamente tomamos um `bootstrap_regression` dos nossos dados e estimamos o vetor `\\Theta` com base nessa amostra. Se o coeficiente correspondente a uma das variáveis independentes não variar muito entre as amostras, podemos ter certeza de que nossa estimativa é relativamente segura. Se o coeficiente variar muito entre as amostras, não podemos ficar confiantes em nossa estimativa. Caso o intervalo capture o zero, o fator não importa do ponto de vista estatístico. Vamos fazer uso de scikit learn.\n",
    "\n",
    "Vamos ver exemplos nos dados dos apartamentos."
   ]
  },
  {
   "cell_type": "code",
   "execution_count": 24,
   "metadata": {
    "id": "-y6RhmRZIr1o"
   },
   "outputs": [],
   "source": [
    "# def bootstrap_regression(X, y, n=10000, size=None):\n",
    "#   if size is None:\n",
    "#     size = len(df)\n",
    "      \n",
    "#   T = np.zeros(shape=(n, X.shape[1]))\n",
    "#   for i in range(n):\n",
    "#     # Gera amostras com reposição\n",
    "#     idx = np.random.choice(len(y), len(y))\n",
    "#     Xb = X[idx]\n",
    "#     yb = y[idx]\n",
    "    \n",
    "#     # Fit usando sklearn\n",
    "#     model = LinearRegression(fit_intercept=True)\n",
    "#     model.fit(Xb, yb)\n",
    "    \n",
    "#     T[i] = model.coef_\n",
    "#   return T"
   ]
  },
  {
   "cell_type": "markdown",
   "metadata": {
    "id": "Qs-xC4VIIr1p"
   },
   "source": [
    "A seguir, não usamos o scikit learn e eliminamos duplicatas da amostra:"
   ]
  },
  {
   "cell_type": "code",
   "execution_count": 25,
   "metadata": {
    "id": "XoXFajiAIr1p"
   },
   "outputs": [],
   "source": [
    "# def bootstrap_regression_gd(X, y, n=10000, size=None):\n",
    "#   if size is None:\n",
    "#     size = len(df)\n",
    "      \n",
    "#   T = np.zeros(shape=(n, X.shape[1]))\n",
    "#   for i in range(n):\n",
    "#     if i%400 == 0:\n",
    "#       print(\"bootstrap iter \", i)\n",
    "#     # Gera amostras com reposição e remove duplicatas\n",
    "#     idx = list(np.random.choice(len(y), len(y)))\n",
    "#     Xb = X[idx]\n",
    "#     yb = y[idx]\n",
    "    \n",
    "#     # Fit usando gd\n",
    "#     theta = np.ones(X.shape[1])\n",
    "#     theta = gd(theta, derivadas_regressao, Xb, yb)\n",
    "    \n",
    "#     T[i] = theta\n",
    "#   return T"
   ]
  },
  {
   "cell_type": "code",
   "execution_count": 26,
   "metadata": {
    "id": "Zy6EJe2sIr1p"
   },
   "outputs": [],
   "source": [
    "# y = z_df['preco'].values\n",
    "# names = ['area', 'quartos', 'suites', 'vagas']\n",
    "# X = z_df[names]\n",
    "# X['intercepto'] = 1\n",
    "# X = X.values\n",
    "\n",
    "# T = bootstrap_regression_gd(X, y)\n",
    "# names = ['area', 'quartos', 'suites', 'vagas', 'intercepto']\n",
    "\n",
    "# for col in range(T.shape[1]):\n",
    "#   fig = plt.figure()\n",
    "#   plt.hist(T[:, col], edgecolor='k')\n",
    "#   plt.title('{} - 95% CI Bootstrap: ({:.2f}, {:.2f})'.format(names[col],\n",
    "#                                                              np.percentile(T[:, col], 2.5),\n",
    "#                                                              np.percentile(T[:, col], 97.5)))\n",
    "#   plt.xlabel(r'$\\theta_i$')\n",
    "#   plt.ylabel('# Boot Amostras')\n",
    "#   despine()\n",
    "#   plt.show()"
   ]
  },
  {
   "cell_type": "markdown",
   "metadata": {
    "id": "GRvmFj3PIr1r",
    "nbgrader": {
     "grade": false,
     "grade_id": "cell-1694d2965535bd5b",
     "locked": true,
     "schema_version": 1,
     "solution": false
    }
   },
   "source": [
    "##  Exercícios - Outros datasets:"
   ]
  },
  {
   "cell_type": "markdown",
   "metadata": {
    "id": "K_lK_BqQUhU5"
   },
   "source": [
    "### Carros"
   ]
  },
  {
   "cell_type": "markdown",
   "metadata": {
    "id": "CSSl0i3OIr1r",
    "nbgrader": {
     "grade": false,
     "grade_id": "cell-1694d2965535bd5b",
     "locked": true,
     "schema_version": 1,
     "solution": false
    }
   },
   "source": [
    "Utilizando a base de dados carros, ``hybrid.csv``, vamos fazer um gradiente descendente para uma regressão linear com múltiplas variáveis. As colunas são definidas da seguinte forma:\n",
    "\n",
    "veículo (vehicle): modelo do carro\n",
    "\n",
    "ano (year): ano de fabricação\n",
    "\n",
    "msrp: preço de varejo em dólar sugerido pelo fabricante em 2013.\n",
    "\n",
    "aceleração (acceleration): taxa de aceleração em km por hora por segundo\n",
    "\n",
    "mpg: economia de combustível em milhas por galão\n",
    "\n",
    "classe (class): a classe do modelo.\n",
    "\n",
    "Nosso objetivo será estimar o valor de preço sugerido dos carros a partir dos demais atributos (exluindo o nome do veículo e a classe).\n",
    "Portanto, teremos a regressão definida pela fórmula:\n",
    "\n",
    "$$ Y = X\\Theta + \\epsilon $$\n",
    "\n",
    "onde, Y corresponde à coluna ``msrp`` dos dados, e X corresponde às colunas ``year,acceleration,mpg``."
   ]
  },
  {
   "cell_type": "markdown",
   "metadata": {
    "id": "Bv_xBs2-Ir1r"
   },
   "source": [
    "Observe a forma dos dados e a correlação entre as variáveis:"
   ]
  },
  {
   "cell_type": "code",
   "execution_count": 27,
   "metadata": {
    "colab": {
     "base_uri": "https://localhost:8080/"
    },
    "id": "oNHIvc-AIr1r",
    "nbgrader": {
     "grade": false,
     "grade_id": "cell-e75a900fc1119637",
     "locked": true,
     "schema_version": 1,
     "solution": false
    },
    "outputId": "bc13c6c3-ed1f-4381-8e55-6c8dc934b148",
    "scrolled": true
   },
   "outputs": [
    {
     "data": {
      "text/html": [
       "<div>\n",
       "<style scoped>\n",
       "    .dataframe tbody tr th:only-of-type {\n",
       "        vertical-align: middle;\n",
       "    }\n",
       "\n",
       "    .dataframe tbody tr th {\n",
       "        vertical-align: top;\n",
       "    }\n",
       "\n",
       "    .dataframe thead th {\n",
       "        text-align: right;\n",
       "    }\n",
       "</style>\n",
       "<table border=\"1\" class=\"dataframe\">\n",
       "  <thead>\n",
       "    <tr style=\"text-align: right;\">\n",
       "      <th></th>\n",
       "      <th>vehicle</th>\n",
       "      <th>year</th>\n",
       "      <th>msrp</th>\n",
       "      <th>acceleration</th>\n",
       "      <th>mpg</th>\n",
       "      <th>class</th>\n",
       "    </tr>\n",
       "  </thead>\n",
       "  <tbody>\n",
       "    <tr>\n",
       "      <th>0</th>\n",
       "      <td>Prius (1st Gen)</td>\n",
       "      <td>1997</td>\n",
       "      <td>24509.74</td>\n",
       "      <td>7.46</td>\n",
       "      <td>41.26</td>\n",
       "      <td>Compact</td>\n",
       "    </tr>\n",
       "    <tr>\n",
       "      <th>1</th>\n",
       "      <td>Tino</td>\n",
       "      <td>2000</td>\n",
       "      <td>35354.97</td>\n",
       "      <td>8.20</td>\n",
       "      <td>54.10</td>\n",
       "      <td>Compact</td>\n",
       "    </tr>\n",
       "    <tr>\n",
       "      <th>2</th>\n",
       "      <td>Prius (2nd Gen)</td>\n",
       "      <td>2000</td>\n",
       "      <td>26832.25</td>\n",
       "      <td>7.97</td>\n",
       "      <td>45.23</td>\n",
       "      <td>Compact</td>\n",
       "    </tr>\n",
       "    <tr>\n",
       "      <th>3</th>\n",
       "      <td>Insight</td>\n",
       "      <td>2000</td>\n",
       "      <td>18936.41</td>\n",
       "      <td>9.52</td>\n",
       "      <td>53.00</td>\n",
       "      <td>Two Seater</td>\n",
       "    </tr>\n",
       "    <tr>\n",
       "      <th>4</th>\n",
       "      <td>Civic (1st Gen)</td>\n",
       "      <td>2001</td>\n",
       "      <td>25833.38</td>\n",
       "      <td>7.04</td>\n",
       "      <td>47.04</td>\n",
       "      <td>Compact</td>\n",
       "    </tr>\n",
       "  </tbody>\n",
       "</table>\n",
       "</div>"
      ],
      "text/plain": [
       "           vehicle  year      msrp  acceleration    mpg       class\n",
       "0  Prius (1st Gen)  1997  24509.74          7.46  41.26     Compact\n",
       "1             Tino  2000  35354.97          8.20  54.10     Compact\n",
       "2  Prius (2nd Gen)  2000  26832.25          7.97  45.23     Compact\n",
       "3          Insight  2000  18936.41          9.52  53.00  Two Seater\n",
       "4  Civic (1st Gen)  2001  25833.38          7.04  47.04     Compact"
      ]
     },
     "execution_count": 27,
     "metadata": {},
     "output_type": "execute_result"
    }
   ],
   "source": [
    "df = pd.read_csv('https://raw.githubusercontent.com/pedroharaujo/ICD_Docencia/master/hybrid.csv')\n",
    "df.head()"
   ]
  },
  {
   "cell_type": "code",
   "execution_count": 28,
   "metadata": {
    "colab": {
     "base_uri": "https://localhost:8080/"
    },
    "id": "aCxTbJmBIr1s",
    "nbgrader": {
     "grade": false,
     "grade_id": "cell-3fd8504900d1ab3c",
     "locked": true,
     "schema_version": 1,
     "solution": false
    },
    "outputId": "799f456b-829e-4161-bfde-71de79f3276e"
   },
   "outputs": [
    {
     "name": "stderr",
     "output_type": "stream",
     "text": [
      "/opt/homebrew/lib/python3.11/site-packages/seaborn/axisgrid.py:118: UserWarning: The figure layout has changed to tight\n",
      "  self._figure.tight_layout(*args, **kwargs)\n"
     ]
    },
    {
     "data": {
      "text/plain": [
       "<seaborn.axisgrid.PairGrid at 0x16e16b690>"
      ]
     },
     "execution_count": 28,
     "metadata": {},
     "output_type": "execute_result"
    },
    {
     "data": {
      "image/png": "[encoded data removed]",
      "text/plain": [
       "<Figure size 1000x1000 with 20 Axes>"
      ]
     },
     "metadata": {},
     "output_type": "display_data"
    }
   ],
   "source": [
    "import seaborn as sns\n",
    "sns.pairplot(df, diag_kws={'edgecolor':'k'}, plot_kws={'alpha':0.5, 'edgecolor':'k'})"
   ]
  },
  {
   "cell_type": "markdown",
   "metadata": {
    "id": "o_upOfEOIr1s",
    "nbgrader": {
     "grade": false,
     "grade_id": "cell-3adf57d9e72b0726",
     "locked": true,
     "schema_version": 1,
     "solution": false
    }
   },
   "source": [
    "**Exercício 1:** Selecione apenas as colunas que serão utilizadas e normalize os dados para que o gradiente descendente rode sem problemas."
   ]
  },
  {
   "cell_type": "code",
   "execution_count": 29,
   "metadata": {
    "id": "kOkF72bjajbA"
   },
   "outputs": [
    {
     "name": "stdout",
     "output_type": "stream",
     "text": [
      "[[ 1.         -3.67677448 -1.52998404  0.5889757 ]\n",
      " [ 1.         -2.80953939 -1.27830259  1.75917155]\n",
      " [ 1.         -2.80953939 -1.35652791  0.95078859]\n",
      " [ 1.         -2.80953939 -0.8293573   1.65892112]\n",
      " [ 1.         -2.52046103 -1.67283027  1.11574611]\n",
      " [ 1.         -2.52046103 -0.8293573   1.65892112]\n",
      " [ 1.         -2.23138266 -0.76473638  1.65892112]\n",
      " [ 1.         -1.9423043  -1.23408828  0.5160663 ]\n",
      " [ 1.         -1.9423043  -0.8293573   1.65892112]\n",
      " [ 1.         -1.9423043  -1.13545636  0.56528015]\n",
      " [ 1.         -1.65322594 -0.55726924 -0.25586195]\n",
      " [ 1.         -1.65322594 -0.88717601  1.56778438]\n",
      " [ 1.         -1.65322594 -0.70011547  1.02096389]\n",
      " [ 1.         -1.65322594 -0.97560463 -1.62200181]\n",
      " [ 1.         -1.36414757  0.27259933 -0.59853613]\n",
      " [ 1.         -1.36414757 -1.47216533  0.47323203]\n",
      " [ 1.         -1.36414757  0.27259933 -0.49190613]\n",
      " [ 1.         -1.36414757 -0.76473638  1.56778438]\n",
      " [ 1.         -1.36414757 -1.25789599  0.56528015]\n",
      " [ 1.         -1.36414757 -0.8293573  -0.52836083]\n",
      " [ 1.         -1.36414757  1.01063819 -0.61949758]\n",
      " [ 1.         -1.36414757 -0.28858228 -1.62200181]\n",
      " [ 1.         -1.07506921 -1.01301673 -0.17019341]\n",
      " [ 1.         -1.07506921 -0.23076357 -0.10548632]\n",
      " [ 1.         -1.07506921  2.27584765 -0.12735914]\n",
      " [ 1.         -1.07506921 -0.91778591  1.11574611]\n",
      " [ 1.         -1.07506921  0.45285767 -0.17019341]\n",
      " [ 1.         -0.78599085 -0.3566043  -1.1344202 ]\n",
      " [ 1.         -0.78599085  0.27259933 -0.81361885]\n",
      " [ 1.         -0.78599085  1.89832547 -1.25745481]\n",
      " [ 1.         -0.78599085 -0.23076357 -0.27773477]\n",
      " [ 1.         -0.78599085  0.1093465  -1.18636815]\n",
      " [ 1.         -0.78599085 -0.3702087  -0.71063433]\n",
      " [ 1.         -0.78599085 -0.41102191 -0.80177107]\n",
      " [ 1.         -0.78599085 -0.15934046 -1.62200181]\n",
      " [ 1.         -0.49691248 -1.10824755  0.21531503]\n",
      " [ 1.         -0.49691248 -0.97560463 -1.1344202 ]\n",
      " [ 1.         -0.49691248 -0.8293573  -0.42719904]\n",
      " [ 1.         -0.49691248  0.5923028  -0.07267709]\n",
      " [ 1.         -0.20783412 -1.39053891  0.04397795]\n",
      " [ 1.         -0.20783412  0.51407748 -0.25586195]\n",
      " [ 1.         -0.20783412  0.21818172 -0.98495594]\n",
      " [ 1.         -0.20783412 -0.80214849  1.20141465]\n",
      " [ 1.         -0.20783412  0.65692371 -0.77078458]\n",
      " [ 1.         -0.20783412 -0.13893385  0.53702776]\n",
      " [ 1.         -0.20783412 -0.13893385  1.75917155]\n",
      " [ 1.         -0.20783412 -0.59468135  0.64456912]\n",
      " [ 1.         -0.20783412  2.0411717  -1.45613293]\n",
      " [ 1.         -0.20783412 -0.13893385  1.75917155]\n",
      " [ 1.         -0.20783412 -0.97560463 -0.52836083]\n",
      " [ 1.         -0.20783412  0.5923028  -0.61949758]\n",
      " [ 1.         -0.20783412  0.52768189 -1.25745481]\n",
      " [ 1.         -0.20783412 -1.23408828 -1.25745481]\n",
      " [ 1.          0.08124425 -1.05723104  3.04511106]\n",
      " [ 1.          0.08124425 -0.92458812  0.20073316]\n",
      " [ 1.          0.08124425 -0.92458812 -0.42355357]\n",
      " [ 1.          0.08124425  1.16368772 -0.55570185]\n",
      " [ 1.          0.08124425  0.72154463 -0.10548632]\n",
      " [ 1.          0.08124425  0.03112118 -0.49190613]\n",
      " [ 1.          0.08124425 -1.63881926 -0.32056904]\n",
      " [ 1.          0.08124425  2.87444137 -1.15629302]\n",
      " [ 1.          0.08124425 -0.27497788  0.25814931]\n",
      " [ 1.          0.08124425 -1.25789599 -0.43722408]\n",
      " [ 1.          0.08124425  0.93241287  0.20073316]\n",
      " [ 1.          0.08124425  0.93581397 -0.79174603]\n",
      " [ 1.          0.08124425 -0.94839582  0.56528015]\n",
      " [ 1.          0.08124425  2.27584765 -0.10548632]\n",
      " [ 1.          0.08124425 -0.40081861  0.01845966]\n",
      " [ 1.          0.08124425  0.1331542  -0.52836083]\n",
      " [ 1.          0.08124425 -0.15934046  0.38300665]\n",
      " [ 1.          0.08124425 -0.06751074  0.01845966]\n",
      " [ 1.          0.08124425 -0.11172505 -0.25495059]\n",
      " [ 1.          0.08124425  0.65692371 -0.43722408]\n",
      " [ 1.          0.08124425  0.35082465 -1.16631807]\n",
      " [ 1.          0.08124425 -0.06751074 -1.16631807]\n",
      " [ 1.          0.08124425  0.35082465 -1.25745481]\n",
      " [ 1.          0.37032261 -0.88717601  1.38551088]\n",
      " [ 1.          0.37032261 -0.76473638  0.6564169 ]\n",
      " [ 1.          0.37032261 -0.80214849  0.87149962]\n",
      " [ 1.          0.37032261 -0.66610446  3.47436515]\n",
      " [ 1.          0.37032261 -0.20355477  2.40259699]\n",
      " [ 1.          0.37032261 -1.50957744  2.18751426]\n",
      " [ 1.          0.37032261  0.03112118 -0.80268244]\n",
      " [ 1.          0.37032261 -0.8327584  -0.17019341]\n",
      " [ 1.          0.37032261 -1.92791282  1.45933165]\n",
      " [ 1.          0.37032261 -0.48244502  0.10959641]\n",
      " [ 1.          0.37032261  0.1331542  -0.25495059]\n",
      " [ 1.          0.37032261 -0.8293573   0.56528015]\n",
      " [ 1.          0.37032261 -0.15934046  0.38300665]\n",
      " [ 1.          0.37032261  0.08213769  0.20073316]\n",
      " [ 1.          0.37032261 -0.01989533  0.10959641]\n",
      " [ 1.          0.37032261  0.65692371 -0.16381384]\n",
      " [ 1.          0.37032261  0.18417071 -0.25495059]\n",
      " [ 1.          0.37032261  2.23163334 -1.25745481]\n",
      " [ 1.          0.37032261  1.41877027 -1.25745481]\n",
      " [ 1.          0.37032261  2.11599592 -1.34859156]\n",
      " [ 1.          0.65940097 -0.88717601  1.38551088]\n",
      " [ 1.          0.65940097 -1.06743435  1.38551088]\n",
      " [ 1.          0.65940097 -0.28858228  0.20073316]\n",
      " [ 1.          0.65940097  1.60242971 -0.80177107]\n",
      " [ 1.          0.65940097  1.69766053 -0.34608733]\n",
      " [ 1.          0.65940097 -0.8633683   0.6564169 ]\n",
      " [ 1.          0.65940097 -0.28858228  0.20073316]\n",
      " [ 1.          0.65940097  0.40864336  0.56528015]\n",
      " [ 1.          0.65940097 -0.15934046  0.38300665]\n",
      " [ 1.          0.65940097  2.47311149 -0.52836083]\n",
      " [ 1.          0.65940097 -0.20355477 -0.52836083]\n",
      " [ 1.          0.65940097  1.89832547 -0.80177107]\n",
      " [ 1.          0.65940097  1.89832547 -0.89290782]\n",
      " [ 1.          0.65940097  0.52428079 -1.25745481]\n",
      " [ 1.          0.94847934 -1.10824755  1.38551088]\n",
      " [ 1.          0.94847934  0.23858833  0.92982714]\n",
      " [ 1.          0.94847934 -0.59808245  0.83869039]\n",
      " [ 1.          0.94847934 -0.59808245  1.38551088]\n",
      " [ 1.          0.94847934 -0.08111514  1.11210064]\n",
      " [ 1.          0.94847934  0.1331542   0.74755364]\n",
      " [ 1.          0.94847934 -0.06751074  0.6564169 ]\n",
      " [ 1.          0.94847934  0.52768189  0.56528015]\n",
      " [ 1.          0.94847934  0.46646207  0.4741434 ]\n",
      " [ 1.          0.94847934 -0.06751074  0.2918699 ]\n",
      " [ 1.          0.94847934 -0.11172505  0.2918699 ]\n",
      " [ 1.          0.94847934 -0.06751074  0.20073316]\n",
      " [ 1.          0.94847934 -0.20355477  0.20073316]\n",
      " [ 1.          0.94847934 -0.15934046 -0.52836083]\n",
      " [ 1.          0.94847934 -0.20355477 -0.52836083]\n",
      " [ 1.          0.94847934  0.08213769 -0.52836083]\n",
      " [ 1.          0.94847934  0.35082465 -0.43722408]\n",
      " [ 1.          0.94847934  0.65692371 -0.61949758]\n",
      " [ 1.          0.94847934  0.93581397 -0.80177107]\n",
      " [ 1.          0.94847934  1.50719889 -1.25745481]\n",
      " [ 1.          0.94847934  1.41877027 -1.25745481]\n",
      " [ 1.          0.94847934 -0.11172505 -1.25745481]\n",
      " [ 1.          0.94847934 -0.01989533 -1.25745481]\n",
      " [ 1.          0.94847934 -0.02669753 -1.25745481]\n",
      " [ 1.          0.94847934  0.46646207 -1.25745481]\n",
      " [ 1.          0.94847934  0.70453912  0.92982714]\n",
      " [ 1.          0.94847934 -0.56067034  0.6564169 ]\n",
      " [ 1.          0.94847934  0.1331542   0.4741434 ]\n",
      " [ 1.          0.94847934 -0.91778591  0.2918699 ]\n",
      " [ 1.          0.94847934  1.01063819 -0.61949758]\n",
      " [ 1.          0.94847934  0.1331542  -1.25745481]\n",
      " [ 1.          0.94847934 -0.66610446 -1.25745481]\n",
      " [ 1.          0.94847934  1.60242971 -0.34608733]\n",
      " [ 1.          0.94847934  2.60235332 -0.52836083]\n",
      " [ 1.          0.94847934  1.01063819 -0.80177107]\n",
      " [ 1.          0.94847934  0.35082465 -0.80177107]\n",
      " [ 1.          0.94847934  2.11599592 -0.89290782]\n",
      " [ 1.          0.94847934  2.23163334 -0.89290782]\n",
      " [ 1.          0.94847934  0.65692371 -1.25745481]\n",
      " [ 1.          0.94847934 -0.94839582  1.38551088]\n",
      " [ 1.          0.94847934 -0.06751074  0.74755364]\n",
      " [ 1.          0.94847934 -0.06751074  0.74755364]\n",
      " [ 1.          0.94847934 -0.28858228  0.20073316]] [-6.91359298e-01 -1.85072656e-01 -5.82937828e-01 -9.51538431e-01\n",
      " -6.29567962e-01 -9.46856137e-01 -9.42173844e-01 -5.76377125e-02\n",
      " -9.42173844e-01 -1.17862687e+00 -1.23398494e-01 -9.37491550e-01\n",
      " -8.85284678e-01 -4.30873460e-01  8.96391031e-01 -6.05243378e-01\n",
      " -4.73048180e-01 -9.30468110e-01 -9.84220186e-01 -9.33511834e-01\n",
      " -1.07257408e+00 -3.11476375e-01 -2.12268706e-01 -4.41908827e-01\n",
      "  1.17772171e+00 -1.54367921e-01 -4.57244155e-01  1.68287852e-01\n",
      "  3.22580861e-01  3.69841272e+00 -6.76696671e-01  8.29805829e-01\n",
      " -8.03345475e-01 -7.64717253e-01 -2.17831905e-01  1.07235003e+00\n",
      "  1.84926671e+00 -7.27103451e-01 -9.63712394e-01 -1.28237911e+00\n",
      "  3.22761990e-01  9.89695649e-01 -6.85223300e-01  2.65576586e+00\n",
      " -4.10663037e-01 -3.92735985e-02 -8.14463471e-01  2.70380115e+00\n",
      " -6.86213719e-03 -6.79266097e-01 -6.02711765e-01  2.60692891e-01\n",
      "  8.00053782e-02 -1.64890711e-01 -8.34871828e-01 -7.56022099e-01\n",
      "  1.16144759e+00 -8.44294879e-02 -1.03983211e+00 -1.15459965e+00\n",
      "  3.03350043e+00 -1.06567446e-01 -1.04605074e+00 -5.14995088e-01\n",
      "  1.58087092e+00 -9.08461797e-01  1.43958750e+00  1.68287852e-01\n",
      " -5.29902801e-01 -5.26859543e-01 -2.13149612e-01 -4.25957285e-01\n",
      "  1.63068238e-01  7.39685450e-01 -4.03748478e-02  2.28248249e+00\n",
      " -7.68800139e-01 -4.31222648e-01 -6.68491686e-01 -4.07592237e-01\n",
      "  2.69925366e-01 -1.07020866e+00 -5.30807982e-01 -5.62395957e-01\n",
      " -5.29727740e-01 -5.96153286e-01 -4.04184853e-01 -9.83377560e-01\n",
      " -2.13383493e-01 -9.29765999e-01 -6.27761802e-01 -5.68999718e-01\n",
      " -6.11842004e-01  1.33432973e+00  5.05573575e-01  2.95438368e+00\n",
      " -9.48260825e-01 -3.37228990e-01 -3.53850898e-01  1.06720791e+00\n",
      "  9.24634177e-01 -9.69330679e-01 -2.68308518e-03 -6.18631096e-01\n",
      " -2.08233437e-01  6.78816568e-01 -4.32746377e-01  1.01827865e+00\n",
      "  2.61258045e+00  6.21224824e-01 -9.44835235e-01 -6.68705961e-01\n",
      " -6.98349594e-01 -7.05818856e-01 -5.65770196e-01 -6.59135969e-01\n",
      " -9.67243021e-01 -6.15254056e-01 -5.43829239e-01 -6.38128670e-01\n",
      " -6.26457949e-01 -4.09382526e-01 -3.44026485e-01 -6.69172790e-01\n",
      " -3.57564522e-01 -4.81040757e-01  3.26339767e-01  3.97068432e-02\n",
      "  5.40614216e-01  1.42525492e+00  1.08563692e+00  1.63882912e+00\n",
      "  6.67591668e-01  6.92100183e-01  1.05692694e+00 -1.58462010e-01\n",
      " -3.39358196e-01 -3.24141250e-03 -4.86409289e-01  4.82260608e-01\n",
      "  8.47558287e-02  1.04362641e-01  9.39752897e-01  7.20343330e-01\n",
      "  7.69360361e-01  1.03078453e+00  2.09982263e+00  2.65301483e+00\n",
      "  2.47561987e+00 -3.41692340e-01 -2.97343598e-01 -2.89170001e-02\n",
      " -8.14311559e-03]\n"
     ]
    }
   ],
   "source": [
    "# SELECIONE AS COLUNAS\n",
    "y = df['msrp']\n",
    "X = df[['year', 'acceleration', 'mpg']]\n",
    "\n",
    "# NORMALIZE OS DADOS\n",
    "X = (X - X.mean()) / X.std(ddof=1)\n",
    "y = (y - y.mean()) / y.std(ddof=1)\n",
    "# ACRESCENTE INTERCEPTO\n",
    "intercept = np.ones(y.size)\n",
    "X.insert(0, 'intercepto', intercept, True)\n",
    "# EXTRAIA MATRIZES COM .VALUES\n",
    "X = X.values\n",
    "y = y.values\n",
    "print(X,y)"
   ]
  },
  {
   "cell_type": "markdown",
   "metadata": {
    "id": "YN3SfXtEIr1v",
    "nbgrader": {
     "grade": false,
     "grade_id": "cell-5885727150c53c96",
     "locked": true,
     "schema_version": 1,
     "solution": false
    }
   },
   "source": [
    "**Exercício 2:** Implemente a função de gradiente dos parâmetros da regressão, retornando um array com os valores dos gradientes para cada parâmetro."
   ]
  },
  {
   "cell_type": "code",
   "execution_count": 30,
   "metadata": {
    "id": "HMBnuR-EWCsF"
   },
   "outputs": [],
   "source": [
    "def gradients(theta, X, y):\n",
    "  # YOUR CODE HERE\n",
    "  # x : matriz nxm\n",
    "  # y : array nx1\n",
    "  # theta : array mx1\n",
    "  gradients = -2 * ((y - X @ theta) @ X) / len(y)\n",
    "  return gradients"
   ]
  },
  {
   "cell_type": "markdown",
   "metadata": {
    "id": "QG6uuEWHIr1v",
    "nbgrader": {
     "grade": false,
     "grade_id": "cell-b493768e8d28f574",
     "locked": true,
     "schema_version": 1,
     "solution": false
    }
   },
   "source": [
    "* Implemente a função de gradiente descendente para os parâmetros da regressão, retornando um array com os valores de alpha e os valores de beta para cada coluna. Você deve usar a função `gradients` definida anteriormente."
   ]
  },
  {
   "cell_type": "code",
   "execution_count": 31,
   "metadata": {
    "id": "MVXwCmoDXAme"
   },
   "outputs": [],
   "source": [
    "def descent(theta0, X, y, learning_rate=0.005, tolerance=0.0000001):\n",
    "  # YOUR CODE HERE\n",
    "  old_err_sq = np.inf\n",
    "  i = 0\n",
    "  niters = 10000\n",
    "  for i in range(niters):\n",
    "    grad = gradients(theta0, X, y)\n",
    "    theta = theta0 - learning_rate * grad \n",
    "    err_sq = ((X.dot(theta) - y) ** 2).mean()\n",
    "    if np.abs(old_err_sq - err_sq) <= tolerance:\n",
    "      break\n",
    "    theta0 = theta\n",
    "    old_err_sq = err_sq\n",
    "\n",
    "  return theta"
   ]
  },
  {
   "cell_type": "code",
   "execution_count": 32,
   "metadata": {
    "id": "vmI-vMoxXO7W"
   },
   "outputs": [],
   "source": [
    "_teste_param0 = np.array([ 1000, 1, 1, 1 ])\n",
    "theta = descent(_teste_param0, X, y)\n",
    "assert_array_almost_equal(theta, np.array([ 0.00201339, -0.04349112,  0.59055261, -0.23979036]))"
   ]
  },
  {
   "cell_type": "markdown",
   "metadata": {
    "id": "MJK1sWAEIr1w",
    "nbgrader": {
     "grade": false,
     "grade_id": "cell-2c670571eef2731d",
     "locked": true,
     "schema_version": 1,
     "solution": false
    }
   },
   "source": [
    "**Exercício 3:** Agora vamos tentar avaliar o modelo de regressão linear obtido com o gradiente descendente. Para isso, implemente a função que calcula o R-quadrado. \n",
    "\n",
    "Lembre-se que, para calcular o R-quadrado, você precisa do valor da soma total dos quadrados e da soma dos erros quadrados. Os parâmetros de entrada de cada função são dados."
   ]
  },
  {
   "cell_type": "code",
   "execution_count": 33,
   "metadata": {
    "id": "2bbWNBqdXnZh"
   },
   "outputs": [],
   "source": [
    "def sst(y):\n",
    "  # YOUR CODE HERE\n",
    "  sst = ((y - y.mean())**2).sum()\n",
    "  return sst\n",
    "\n",
    "def predict(X, theta):\n",
    "  # YOUR CODE HERE\n",
    "  y_pred = X.dot(theta)\n",
    "  return y_pred\n",
    "\n",
    "def sse(X, y, theta):\n",
    "  # YOUR CODE HERE\n",
    "  sse = ((y - X.dot(theta))**2).sum()\n",
    "  return sse\n",
    "\n",
    "def rsquared(X, y, theta):\n",
    "  # YOUR CODE HERE\n",
    "  return 1 - sse(X, y, theta) / sst(y)"
   ]
  },
  {
   "cell_type": "code",
   "execution_count": 34,
   "metadata": {
    "id": "6Xs-vkvkX12V"
   },
   "outputs": [],
   "source": [
    "rs = rsquared(X, y, theta)\n",
    "assert_equal(rs, 0.5288887684860548)"
   ]
  },
  {
   "cell_type": "markdown",
   "metadata": {
    "id": "-6JsEPpSIr1w",
    "nbgrader": {
     "grade": true,
     "grade_id": "cell-2e6ae38f9694d078",
     "locked": true,
     "points": 1,
     "schema_version": 1,
     "solution": false
    }
   },
   "source": [
    "Se observarmos os dados pelos gráficos que mostram as correlações entre as variáveis, podemos perceber que nem todos possuem uma relação linear. Vamos tentar transformar os dados de um dos atributos dos carros, para que uma regressão linear possa ser aplicada com melhores resultados.\n",
    "\n",
    "**Exercício 4:** Para isso, tire o logaritmo da variável ```mpg``` e, em seguida, z-normalize os dados (todos as variáveis em X)."
   ]
  },
  {
   "cell_type": "code",
   "execution_count": 35,
   "metadata": {
    "id": "XOOWorAmYz42"
   },
   "outputs": [
    {
     "name": "stderr",
     "output_type": "stream",
     "text": [
      "/var/folders/q8/9d5d2vtj4832w_98dq64xxr00000gn/T/ipykernel_99663/4005682991.py:5: SettingWithCopyWarning: \n",
      "A value is trying to be set on a copy of a slice from a DataFrame.\n",
      "Try using .loc[row_indexer,col_indexer] = value instead\n",
      "\n",
      "See the caveats in the documentation: https://pandas.pydata.org/pandas-docs/stable/user_guide/indexing.html#returning-a-view-versus-a-copy\n",
      "  X['mpg'] = np.log(X['mpg'])\n",
      "/var/folders/q8/9d5d2vtj4832w_98dq64xxr00000gn/T/ipykernel_99663/4005682991.py:12: SettingWithCopyWarning: \n",
      "A value is trying to be set on a copy of a slice from a DataFrame.\n",
      "Try using .loc[row_indexer,col_indexer] = value instead\n",
      "\n",
      "See the caveats in the documentation: https://pandas.pydata.org/pandas-docs/stable/user_guide/indexing.html#returning-a-view-versus-a-copy\n",
      "  X['intercepto'] = 1\n"
     ]
    }
   ],
   "source": [
    "y = df['msrp']\n",
    "X = df[['year','acceleration','mpg']]\n",
    "\n",
    "# TIRE O LOG DA VARIAVEL MPG\n",
    "X['mpg'] = np.log(X['mpg'])\n",
    "\n",
    "# Z-NORMALIZE OS DADOS\n",
    "normalized_x = (X - X.mean()) / X.std()\n",
    "normalized_y = (y - y.mean()) / y.std()\n",
    "\n",
    "# ADICIONE O INTERCEPTO\n",
    "X['intercepto'] = 1\n",
    "\n",
    "# DEFINA X e Y UTILIZANDO .VALUES\n",
    "X = X[['intercepto', 'year', 'acceleration', 'mpg']].values\n",
    "y = y.values"
   ]
  },
  {
   "cell_type": "markdown",
   "metadata": {
    "id": "u1xsXbZXIr1x",
    "nbgrader": {
     "grade": false,
     "grade_id": "cell-1bd1ffbd5ffddb14",
     "locked": true,
     "schema_version": 1,
     "solution": false
    }
   },
   "source": [
    "* Rode novamente o código do gradiente descendente e verifique se o R-quadrado da regressão melhorou ou piorou após a transformação dos dados."
   ]
  },
  {
   "cell_type": "code",
   "execution_count": 36,
   "metadata": {
    "id": "xFefsQh1Ir1x"
   },
   "outputs": [
    {
     "name": "stderr",
     "output_type": "stream",
     "text": [
      "/var/folders/q8/9d5d2vtj4832w_98dq64xxr00000gn/T/ipykernel_99663/3577983559.py:9: RuntimeWarning: overflow encountered in square\n",
      "  err_sq = ((X.dot(theta) - y) ** 2).mean()\n",
      "/var/folders/q8/9d5d2vtj4832w_98dq64xxr00000gn/T/ipykernel_99663/3577983559.py:10: RuntimeWarning: invalid value encountered in scalar subtract\n",
      "  if np.abs(old_err_sq - err_sq) <= tolerance:\n",
      "/var/folders/q8/9d5d2vtj4832w_98dq64xxr00000gn/T/ipykernel_99663/3122734375.py:6: RuntimeWarning: overflow encountered in matmul\n",
      "  gradients = -2 * ((y - X @ theta) @ X) / len(y)\n",
      "/var/folders/q8/9d5d2vtj4832w_98dq64xxr00000gn/T/ipykernel_99663/3577983559.py:8: RuntimeWarning: invalid value encountered in subtract\n",
      "  theta = theta0 - learning_rate * grad\n"
     ]
    },
    {
     "ename": "AssertionError",
     "evalue": "\nItems are not equal:\n ACTUAL: nan\n DESIRED: 0.5543728866213389",
     "output_type": "error",
     "traceback": [
      "\u001b[0;31m---------------------------------------------------------------------------\u001b[0m",
      "\u001b[0;31mAssertionError\u001b[0m                            Traceback (most recent call last)",
      "Cell \u001b[0;32mIn[36], line 4\u001b[0m\n\u001b[1;32m      1\u001b[0m _teste_param0 \u001b[39m=\u001b[39m np\u001b[39m.\u001b[39marray([ \u001b[39m1000\u001b[39m, \u001b[39m1\u001b[39m, \u001b[39m1\u001b[39m, \u001b[39m1\u001b[39m ])\n\u001b[1;32m      2\u001b[0m theta \u001b[39m=\u001b[39m descent(_teste_param0, X, y)\n\u001b[0;32m----> 4\u001b[0m assert_equal(rsquared(X,y,theta), \u001b[39m0.5543728866213389\u001b[39;49m)\n",
      "File \u001b[0;32m/opt/homebrew/lib/python3.11/site-packages/numpy/testing/_private/utils.py:362\u001b[0m, in \u001b[0;36massert_equal\u001b[0;34m(actual, desired, err_msg, verbose)\u001b[0m\n\u001b[1;32m    359\u001b[0m \u001b[39mtry\u001b[39;00m:\n\u001b[1;32m    360\u001b[0m     \u001b[39m# Explicitly use __eq__ for comparison, gh-2552\u001b[39;00m\n\u001b[1;32m    361\u001b[0m     \u001b[39mif\u001b[39;00m \u001b[39mnot\u001b[39;00m (desired \u001b[39m==\u001b[39m actual):\n\u001b[0;32m--> 362\u001b[0m         \u001b[39mraise\u001b[39;00m \u001b[39mAssertionError\u001b[39;00m(msg)\n\u001b[1;32m    364\u001b[0m \u001b[39mexcept\u001b[39;00m (\u001b[39mDeprecationWarning\u001b[39;00m, \u001b[39mFutureWarning\u001b[39;00m) \u001b[39mas\u001b[39;00m e:\n\u001b[1;32m    365\u001b[0m     \u001b[39m# this handles the case when the two types are not even comparable\u001b[39;00m\n\u001b[1;32m    366\u001b[0m     \u001b[39mif\u001b[39;00m \u001b[39m'\u001b[39m\u001b[39melementwise == comparison\u001b[39m\u001b[39m'\u001b[39m \u001b[39min\u001b[39;00m e\u001b[39m.\u001b[39margs[\u001b[39m0\u001b[39m]:\n",
      "\u001b[0;31mAssertionError\u001b[0m: \nItems are not equal:\n ACTUAL: nan\n DESIRED: 0.5543728866213389"
     ]
    }
   ],
   "source": [
    "_teste_param0 = np.array([ 1000, 1, 1, 1 ])\n",
    "theta = descent(_teste_param0, X, y)\n",
    "\n",
    "assert_equal(rsquared(X,y,theta), 0.5543728866213389)"
   ]
  },
  {
   "cell_type": "markdown",
   "metadata": {
    "id": "1mb7F-SMbpJv"
   },
   "source": [
    "### ATENÇÃO"
   ]
  },
  {
   "cell_type": "markdown",
   "metadata": {
    "id": "o-K87EFAbsK8"
   },
   "source": [
    "Os próximos dois exercícios não possuem correção automática, porém são de vital importância. Ambos os datasets utilizados nos exercícios a seguir são datasets com grande número de variáveis, o que se aproxima de problemas reais. Como a realização de testes com os valores é dificultada devido ao alto número de variáveis, optou-se pela não correção automática.\n",
    "\n",
    "Tente encontrar o modelo que melhor se ajusta aos dados, com maior valor de $R²$. Tente também compreender a interpretação dos coeficientes para cada variável explicativa. Em caso de dúvidas, acione o monitor da disciplina."
   ]
  },
  {
   "cell_type": "markdown",
   "metadata": {
    "id": "bBodSjHMU14S"
   },
   "source": [
    "### Dataset Reações Químicas - SEM CORREÇÃO AUTOMÁTICA"
   ]
  },
  {
   "cell_type": "markdown",
   "metadata": {
    "id": "Kx74LyQUTagB",
    "nbgrader": {
     "grade": false,
     "grade_id": "cell2c-a00",
     "locked": true,
     "schema_version": 1,
     "solution": false
    }
   },
   "source": [
    "Um cientista maluco misturou quantidades (em milímetros cúbicos) aleatórias de diversos reagentes e conseguiu gerar uma determinada quantidade (em milímetros cúbicos) de um produto químico, que embora não sirva para nada, não é tóxico e é muito bonito. O problema é que o cientista não sabe quais reagentes estão, de fato, reagindo e gerando o tal produto. Mais importante, ele não sabe a quantidade que ele tem que colocar de cada reagente para gerar uma dada quantidade do produto. Para descobrir, ele misturou quantidades aleatórias de cada reagente 1000 vezes e anotou a quantidade do produto que foi gerada em cada um desses experimentos. Para encontrar a fórmula mágica tão desejada, ele pediu a sua ajuda. Os experimentos estão descritos nas linhas do arquivo. A quantidade gerada do produto para cada experimento está descrita na linha \"q_produto\". \n",
    "\n",
    "E aí? Será que regressão linear múltipla resolve? O professor sabe que resolve, e tem um modelo com $R^2$ superior a $0.99$. \n",
    "\n",
    "* Encontre esse modelo e mostre os coeficientes, a qualidade do ajuste, e os fatores significativos. Você pode utilizar as funções definidas anteriormente, ou utilizar a biblioteca sklearn."
   ]
  },
  {
   "cell_type": "code",
   "execution_count": 37,
   "metadata": {
    "colab": {
     "base_uri": "https://localhost:8080/"
    },
    "id": "gL_ZWllsIr1y",
    "outputId": "c90e54ab-e817-4eb3-c082-349f5e5fedcd"
   },
   "outputs": [
    {
     "data": {
      "text/html": [
       "<div>\n",
       "<style scoped>\n",
       "    .dataframe tbody tr th:only-of-type {\n",
       "        vertical-align: middle;\n",
       "    }\n",
       "\n",
       "    .dataframe tbody tr th {\n",
       "        vertical-align: top;\n",
       "    }\n",
       "\n",
       "    .dataframe thead th {\n",
       "        text-align: right;\n",
       "    }\n",
       "</style>\n",
       "<table border=\"1\" class=\"dataframe\">\n",
       "  <thead>\n",
       "    <tr style=\"text-align: right;\">\n",
       "      <th></th>\n",
       "      <th>q_produto</th>\n",
       "      <th>q_reagente_116</th>\n",
       "      <th>q_reagente_158</th>\n",
       "      <th>q_reagente_18</th>\n",
       "      <th>q_reagente_199</th>\n",
       "      <th>q_reagente_219</th>\n",
       "      <th>q_reagente_226</th>\n",
       "      <th>q_reagente_263</th>\n",
       "      <th>q_reagente_273</th>\n",
       "      <th>q_reagente_278</th>\n",
       "      <th>...</th>\n",
       "      <th>q_reagente_519</th>\n",
       "      <th>q_reagente_527</th>\n",
       "      <th>q_reagente_575</th>\n",
       "      <th>q_reagente_6</th>\n",
       "      <th>q_reagente_607</th>\n",
       "      <th>q_reagente_652</th>\n",
       "      <th>q_reagente_804</th>\n",
       "      <th>q_reagente_875</th>\n",
       "      <th>q_reagente_881</th>\n",
       "      <th>q_reagente_964</th>\n",
       "    </tr>\n",
       "  </thead>\n",
       "  <tbody>\n",
       "    <tr>\n",
       "      <th>0</th>\n",
       "      <td>3428.673522</td>\n",
       "      <td>92.137035</td>\n",
       "      <td>14.079712</td>\n",
       "      <td>28.643950</td>\n",
       "      <td>25.372276</td>\n",
       "      <td>18.289846</td>\n",
       "      <td>17.076072</td>\n",
       "      <td>2.901502</td>\n",
       "      <td>14.742738</td>\n",
       "      <td>99.545861</td>\n",
       "      <td>...</td>\n",
       "      <td>72.339598</td>\n",
       "      <td>35.637056</td>\n",
       "      <td>24.995370</td>\n",
       "      <td>49.289794</td>\n",
       "      <td>27.811497</td>\n",
       "      <td>25.764701</td>\n",
       "      <td>402.293234</td>\n",
       "      <td>22.804591</td>\n",
       "      <td>25.716139</td>\n",
       "      <td>2.691570</td>\n",
       "    </tr>\n",
       "    <tr>\n",
       "      <th>1</th>\n",
       "      <td>3948.229590</td>\n",
       "      <td>56.839770</td>\n",
       "      <td>13.803082</td>\n",
       "      <td>42.557560</td>\n",
       "      <td>25.184082</td>\n",
       "      <td>21.905475</td>\n",
       "      <td>17.712958</td>\n",
       "      <td>5.556623</td>\n",
       "      <td>3.384606</td>\n",
       "      <td>155.477082</td>\n",
       "      <td>...</td>\n",
       "      <td>71.836274</td>\n",
       "      <td>9.700495</td>\n",
       "      <td>27.524265</td>\n",
       "      <td>66.765039</td>\n",
       "      <td>34.779973</td>\n",
       "      <td>18.437969</td>\n",
       "      <td>116.751047</td>\n",
       "      <td>0.000000</td>\n",
       "      <td>19.688559</td>\n",
       "      <td>4.997487</td>\n",
       "    </tr>\n",
       "    <tr>\n",
       "      <th>2</th>\n",
       "      <td>4331.650198</td>\n",
       "      <td>77.566164</td>\n",
       "      <td>14.406301</td>\n",
       "      <td>29.468819</td>\n",
       "      <td>22.124179</td>\n",
       "      <td>19.858404</td>\n",
       "      <td>17.515865</td>\n",
       "      <td>4.053366</td>\n",
       "      <td>10.054049</td>\n",
       "      <td>143.705008</td>\n",
       "      <td>...</td>\n",
       "      <td>63.652580</td>\n",
       "      <td>19.945071</td>\n",
       "      <td>26.505182</td>\n",
       "      <td>39.582032</td>\n",
       "      <td>26.960548</td>\n",
       "      <td>15.038279</td>\n",
       "      <td>229.536187</td>\n",
       "      <td>11.460976</td>\n",
       "      <td>26.045952</td>\n",
       "      <td>2.409985</td>\n",
       "    </tr>\n",
       "    <tr>\n",
       "      <th>3</th>\n",
       "      <td>4530.153671</td>\n",
       "      <td>100.463237</td>\n",
       "      <td>18.494555</td>\n",
       "      <td>23.825064</td>\n",
       "      <td>16.914770</td>\n",
       "      <td>22.210331</td>\n",
       "      <td>17.416410</td>\n",
       "      <td>5.780492</td>\n",
       "      <td>17.421985</td>\n",
       "      <td>181.786609</td>\n",
       "      <td>...</td>\n",
       "      <td>49.720042</td>\n",
       "      <td>25.430917</td>\n",
       "      <td>27.532888</td>\n",
       "      <td>45.951732</td>\n",
       "      <td>32.820727</td>\n",
       "      <td>20.077703</td>\n",
       "      <td>289.931261</td>\n",
       "      <td>25.243309</td>\n",
       "      <td>19.865627</td>\n",
       "      <td>4.349159</td>\n",
       "    </tr>\n",
       "    <tr>\n",
       "      <th>4</th>\n",
       "      <td>4699.087741</td>\n",
       "      <td>82.795664</td>\n",
       "      <td>17.347322</td>\n",
       "      <td>24.402419</td>\n",
       "      <td>24.935485</td>\n",
       "      <td>22.400284</td>\n",
       "      <td>16.741933</td>\n",
       "      <td>5.919984</td>\n",
       "      <td>11.736824</td>\n",
       "      <td>161.379815</td>\n",
       "      <td>...</td>\n",
       "      <td>71.171403</td>\n",
       "      <td>22.102092</td>\n",
       "      <td>27.705269</td>\n",
       "      <td>43.655474</td>\n",
       "      <td>30.476209</td>\n",
       "      <td>36.563123</td>\n",
       "      <td>253.283373</td>\n",
       "      <td>24.863983</td>\n",
       "      <td>20.994606</td>\n",
       "      <td>3.573342</td>\n",
       "    </tr>\n",
       "  </tbody>\n",
       "</table>\n",
       "<p>5 rows × 25 columns</p>\n",
       "</div>"
      ],
      "text/plain": [
       "     q_produto  q_reagente_116  q_reagente_158  q_reagente_18  q_reagente_199  \\\n",
       "0  3428.673522       92.137035       14.079712      28.643950       25.372276   \n",
       "1  3948.229590       56.839770       13.803082      42.557560       25.184082   \n",
       "2  4331.650198       77.566164       14.406301      29.468819       22.124179   \n",
       "3  4530.153671      100.463237       18.494555      23.825064       16.914770   \n",
       "4  4699.087741       82.795664       17.347322      24.402419       24.935485   \n",
       "\n",
       "   q_reagente_219  q_reagente_226  q_reagente_263  q_reagente_273  \\\n",
       "0       18.289846       17.076072        2.901502       14.742738   \n",
       "1       21.905475       17.712958        5.556623        3.384606   \n",
       "2       19.858404       17.515865        4.053366       10.054049   \n",
       "3       22.210331       17.416410        5.780492       17.421985   \n",
       "4       22.400284       16.741933        5.919984       11.736824   \n",
       "\n",
       "   q_reagente_278  ...  q_reagente_519  q_reagente_527  q_reagente_575  \\\n",
       "0       99.545861  ...       72.339598       35.637056       24.995370   \n",
       "1      155.477082  ...       71.836274        9.700495       27.524265   \n",
       "2      143.705008  ...       63.652580       19.945071       26.505182   \n",
       "3      181.786609  ...       49.720042       25.430917       27.532888   \n",
       "4      161.379815  ...       71.171403       22.102092       27.705269   \n",
       "\n",
       "   q_reagente_6  q_reagente_607  q_reagente_652  q_reagente_804  \\\n",
       "0     49.289794       27.811497       25.764701      402.293234   \n",
       "1     66.765039       34.779973       18.437969      116.751047   \n",
       "2     39.582032       26.960548       15.038279      229.536187   \n",
       "3     45.951732       32.820727       20.077703      289.931261   \n",
       "4     43.655474       30.476209       36.563123      253.283373   \n",
       "\n",
       "   q_reagente_875  q_reagente_881  q_reagente_964  \n",
       "0       22.804591       25.716139        2.691570  \n",
       "1        0.000000       19.688559        4.997487  \n",
       "2       11.460976       26.045952        2.409985  \n",
       "3       25.243309       19.865627        4.349159  \n",
       "4       24.863983       20.994606        3.573342  \n",
       "\n",
       "[5 rows x 25 columns]"
      ]
     },
     "execution_count": 37,
     "metadata": {},
     "output_type": "execute_result"
    }
   ],
   "source": [
    "df = pd.read_csv('https://raw.githubusercontent.com/pedroharaujo/ICD_Docencia/master/chemical_reaction.csv')\n",
    "df.head()"
   ]
  },
  {
   "cell_type": "code",
   "execution_count": null,
   "metadata": {
    "id": "pJ9yLl56Ir1y"
   },
   "outputs": [],
   "source": [
    "# def derivadas_regressao(theta, X, y):\n",
    "#     return -2 * ((y - X @ theta) @ X)\n",
    "\n",
    "\n",
    "# def gd(theta, d_fun, X, y, lambda_=0.0001, tol=0.000001, max_iter=100000):\n",
    "#     theta = theta.copy()\n",
    "#     #print('Iter {}; theta = '.format(0), theta)\n",
    "#     old_err_sq = np.inf\n",
    "#     i = 0\n",
    "#     while True:\n",
    "#         # Computar as derivadas\n",
    "#         grad = d_fun(theta, X, y)\n",
    "#         # Atualizar\n",
    "#         theta_novo = theta - lambda_ * grad\n",
    "        \n",
    "#         # Parar quando o erro convergir\n",
    "#         err_sq = ((X.dot(theta) - y) ** 2).mean()\n",
    "#         if np.abs(old_err_sq - err_sq) <= tol:\n",
    "#             break\n",
    "#         theta = theta_novo\n",
    "#         old_err_sq = err_sq\n",
    "#         print('Iter {}; theta = '.format(i+1), theta)\n",
    "#         i += 1\n",
    "#         if i == max_iter:\n",
    "#             break\n",
    "#     return theta\n",
    "\n",
    "# def multiple_r_squared(X, y, theta):\n",
    "#     sse = sum(erro(y, X, theta)**2)\n",
    "#     sst = sum((y - np.mean(y))**2)\n",
    "#     return 1.0 - sse / sst"
   ]
  },
  {
   "cell_type": "code",
   "execution_count": null,
   "metadata": {
    "id": "PwpGTkxQIr1y"
   },
   "outputs": [],
   "source": [
    "# df = pd.read_csv('https://raw.githubusercontent.com/pedroharaujo/ICD_Docencia/master/chemical_reaction.csv', index_col=0)\n",
    "# z_df=(df-df.mean())/df.std()\n",
    "\n",
    "# X = z_df.iloc[:, 1:]\n",
    "# y = z_df.iloc[:, 0]\n",
    "# X['intercepto'] = 1\n",
    "\n",
    "# X = X.values\n",
    "# y = y.values\n",
    "\n",
    "# theta = np.zeros(X.shape[1])\n",
    "\n",
    "# theta = gd(theta, derivadas_regressao, X, y)\n",
    "# rm2 = multiple_r_squared(X, y, theta)"
   ]
  },
  {
   "cell_type": "code",
   "execution_count": null,
   "metadata": {
    "id": "ukFzl4BDIr1z"
   },
   "outputs": [],
   "source": [
    "# theta"
   ]
  },
  {
   "cell_type": "code",
   "execution_count": null,
   "metadata": {
    "id": "WYcURTGDIr1z"
   },
   "outputs": [],
   "source": [
    "# rm2"
   ]
  },
  {
   "cell_type": "code",
   "execution_count": null,
   "metadata": {
    "id": "Nu8E9tjzIr1z"
   },
   "outputs": [],
   "source": [
    "# def bootstrap_regression_gd(X, y, n=100, size=None):\n",
    "#     if size is None:\n",
    "#         size = len(df)\n",
    "        \n",
    "#     T = np.zeros(shape=(n, X.shape[1]))\n",
    "#     for i in range(n):\n",
    "#         if i%500 == 0:\n",
    "#             print(\"bootstrap iter \", i)\n",
    "#         # Gera amostras com reposição e remove duplicatas\n",
    "#         idx = list(set(np.random.choice(len(y), len(y))))\n",
    "#         Xb = X[idx]\n",
    "#         yb = y[idx]\n",
    "        \n",
    "#         # Fit usando gd\n",
    "#         theta = np.ones(X.shape[1])\n",
    "#         theta = gd(theta, derivadas_regressao, Xb, yb, lambda_=0.0001, tol=0.0001, max_iter=1000)\n",
    "        \n",
    "#         T[i] = theta\n",
    "#     return T"
   ]
  },
  {
   "cell_type": "code",
   "execution_count": null,
   "metadata": {
    "id": "djxfzWjCIr1z"
   },
   "outputs": [],
   "source": [
    "# T = bootstrap_regression_gd(X, y)"
   ]
  },
  {
   "cell_type": "code",
   "execution_count": null,
   "metadata": {
    "id": "_Pmv6AD5Ir18"
   },
   "outputs": [],
   "source": [
    "# for col in range(T.shape[1]):\n",
    "#     fig = plt.figure()\n",
    "#     plt.hist(T[:, col], edgecolor='k')\n",
    "#     plt.title('{} - 95% CI Bootstrap: ({:.2f}, {:.2f})'.format(col,\n",
    "#                                                              np.percentile(T[:, col], 2.5),\n",
    "#                                                              np.percentile(T[:, col], 97.5)))\n",
    "#     plt.xlabel(r'$\\theta_i$')\n",
    "#     plt.ylabel('# Boot Amostras')\n",
    "#     despine()\n",
    "#     plt.show()"
   ]
  },
  {
   "cell_type": "markdown",
   "metadata": {
    "id": "UbZ18uGDIr18"
   },
   "source": [
    "#### Usando o sklearn"
   ]
  },
  {
   "cell_type": "code",
   "execution_count": 43,
   "metadata": {
    "colab": {
     "base_uri": "https://localhost:8080/"
    },
    "id": "KWeI5Go8Ir19",
    "outputId": "8e70980e-6f12-4808-9938-d946e7946f10"
   },
   "outputs": [
    {
     "name": "stdout",
     "output_type": "stream",
     "text": [
      "Coeficientes: [ 2.04202169e-16 -4.88498131e-15  3.21107761e-16 -4.40896403e-15\n",
      " -2.54798123e-14 -3.47288275e-15  3.10766459e+00  1.26907727e-15\n",
      "  1.80520145e-15 -7.44125667e-17 -1.06712710e-15  3.03690994e-16\n",
      " -3.76021259e-15 -5.75059956e-17 -1.57683547e-16  7.97497001e-15\n",
      "  1.74168222e-16 -5.05549800e-16 -2.23785391e-16  1.12454623e-17\n",
      " -5.43448183e-16  1.20943322e-15 -1.29882563e-16]\n",
      "Intercept: 46.32155050809118\n",
      "R^2: 1.0\n"
     ]
    }
   ],
   "source": [
    "from sklearn.linear_model import LinearRegression\n",
    "\n",
    "df = pd.read_csv('https://raw.githubusercontent.com/pedroharaujo/ICD_Docencia/master/chemical_reaction.csv', index_col=0)\n",
    "\n",
    "X = df.iloc[:, 1:].values\n",
    "y = df.iloc[:, 0].values\n",
    "\n",
    "lm = LinearRegression()\n",
    "lm.fit(X, y)\n",
    "\n",
    "print(\"Coeficientes: {}\".format(lm.coef_))\n",
    "print(\"Intercept: {}\".format(lm.intercept_))\n",
    "print(\"R^2: {}\".format(lm.score(X, y)))"
   ]
  },
  {
   "cell_type": "code",
   "execution_count": 44,
   "metadata": {},
   "outputs": [
    {
     "data": {
      "text/plain": [
       "array([ 92.13703468,  56.83977012,  77.56616388, 100.46323712,\n",
       "        82.79566386, 117.9022195 , 107.38457194,  69.43865479,\n",
       "        93.54059085,  99.97494871, 108.58684044,  58.47274896,\n",
       "       113.66148885, 121.9059158 , 116.87929238, 109.05228455,\n",
       "       115.37531778,  95.01520179, 112.25582794,  98.77388548,\n",
       "        98.57273898,  91.34002507, 119.72656555, 114.53113377,\n",
       "       130.21782114, 102.87543979,  65.50340882, 104.67023561,\n",
       "        75.7432273 , 106.93870945, 115.34632567, 103.05710259,\n",
       "       115.87306848,  85.77537159, 102.92583389, 113.46264633,\n",
       "       112.3129444 ,  84.24588943,  79.06507699,  79.17464104,\n",
       "       111.1530517 , 101.07512938, 102.65370434,  96.83129438,\n",
       "        70.89704459,  77.64959038,  90.85717769,  56.7161594 ,\n",
       "        86.14360123,  84.30742709,  90.35309587,  90.35338862,\n",
       "       109.22270764, 114.66924569, 102.84580944,  79.8978951 ,\n",
       "        97.35279942,  72.75312792, 103.37507322,  84.56688372,\n",
       "       111.36922052, 120.30180158,  96.68629901, 104.39200119,\n",
       "        89.09469387, 120.52952519, 100.51598672,  80.54690212,\n",
       "       121.48371184, 114.58305942,  96.68806529,  96.60182954,\n",
       "        88.49253126, 103.54625409,  90.53031665, 103.36033392,\n",
       "        56.8472327 , 101.50011678, 107.65347826,  91.31958707,\n",
       "        89.59732836,  84.71026172,  88.167802  , 122.06667044,\n",
       "        96.28102888,  97.88730087, 117.00650542,  82.35961057,\n",
       "        84.99497929,  89.60439144,  72.41480595, 124.70795188,\n",
       "        84.4930916 ,  98.176461  ,  91.56535453,  99.70322109,\n",
       "       102.46831263,  98.8681212 ,  85.79335312,  93.44279444,\n",
       "       106.96993058,  89.80184655,  93.35920538, 103.9511708 ,\n",
       "       116.96366352,  80.92161676, 103.768305  , 103.31397959,\n",
       "        84.35782303,  78.88717488,  78.61869776,  91.70904044,\n",
       "        98.99374465, 117.0241905 , 109.49220099,  76.35192042,\n",
       "       108.35734852,  78.74604805, 118.81031484, 102.31695382,\n",
       "        86.2691811 ,  86.51626523,  65.40964993,  87.52286031,\n",
       "       113.65305807,  80.55325943, 114.49791214, 107.63610975,\n",
       "       112.23573532,  58.88967252,  78.8222156 ,  94.70567457,\n",
       "        87.51935008, 105.84550993, 100.84259491,  93.02855257,\n",
       "       122.83057661,  86.27550021, 123.79955449, 104.18712716,\n",
       "       103.15025711,  81.9568687 , 112.95511156,  92.76449179,\n",
       "        80.10958752,  93.6419563 ,  97.57778247,  91.7755335 ,\n",
       "       123.00715847,  89.73403177,  80.08902653,  95.14747859,\n",
       "        87.63894353, 102.22018102, 130.60323405,  89.52661455,\n",
       "        80.88420362,  98.72105149,  83.11388442, 111.77684422,\n",
       "       132.23252024, 106.65513932, 104.8909766 , 113.48144287,\n",
       "        85.21545346, 118.64574213,  73.74738367, 100.1253393 ,\n",
       "        79.64939225,  85.73757745,  94.43881456, 114.17973835,\n",
       "        82.47682117, 103.35480891,  98.84379328,  85.23293206,\n",
       "        81.43448976,  98.81457089,  76.71176118,  99.06666956,\n",
       "        93.63435349,  71.49610954,  99.86363632, 104.77271115,\n",
       "       104.48476717,  95.80004213,  93.30490055,  85.73256856,\n",
       "       107.06296833,  74.57833502,  68.12414552, 113.45348264,\n",
       "        84.27600128,  78.71926442,  95.06640755,  76.56439371,\n",
       "       105.51138628, 107.01319784,  93.56261242, 100.88312593,\n",
       "        60.02654246,  69.50764204,  84.78560483, 111.34745812,\n",
       "        59.34273713,  81.2588626 , 106.17124466, 108.7742743 ,\n",
       "        90.32819031,  80.19463578,  76.82612033,  94.26284574,\n",
       "        84.04971311,  90.48867777,  83.81082833, 108.18341254,\n",
       "       111.30920359,  89.64777458,  66.26638781,  83.74512237,\n",
       "        77.27923285,  98.97819238,  46.32155051,  96.30699045,\n",
       "        91.58975057, 129.32643502, 132.89942099, 101.97061732,\n",
       "       106.55320706,  84.23350282, 107.10764332, 110.60762529,\n",
       "       121.78658868,  85.36736632, 124.49468005,  97.4621139 ,\n",
       "       113.37486975,  94.40676934,  87.8643489 ,  79.30334067,\n",
       "        89.368676  ,  94.47785651,  94.74592189, 116.87048556,\n",
       "       103.41393639,  65.88516945,  88.01506658, 137.35520072,\n",
       "        90.69751667,  65.71664108,  93.55431375, 109.06201851,\n",
       "        80.78785342,  90.06034825, 111.30832189,  98.55812903,\n",
       "       100.29998248, 110.55042396,  98.94557271, 114.83021117,\n",
       "       121.87512349, 109.63770644,  86.70288399,  90.63397019,\n",
       "       127.26020629, 105.88624419, 132.06704025,  85.68046184,\n",
       "       119.01581328,  85.15777246, 111.09246232,  94.22582847,\n",
       "        80.73127426, 104.2318339 , 105.4832524 ,  85.62030366,\n",
       "        93.78358435, 120.719748  ,  68.78465353, 111.47072799,\n",
       "        94.48525966,  83.95274716,  93.05056892,  96.38862687,\n",
       "        97.05201651,  80.07143486,  96.66911034,  96.20171084,\n",
       "        95.5370385 ,  81.16127787,  99.86834228, 102.17659881,\n",
       "        80.55897791,  93.96260117, 106.74945487, 103.16003061,\n",
       "        77.99453889, 117.86255532,  95.12242103,  77.9304716 ,\n",
       "        68.14894042,  58.13258541,  81.9409919 ,  79.88592212,\n",
       "        93.092519  , 105.75746034,  93.73482221,  95.6689806 ,\n",
       "        97.35311193, 119.32870214,  98.29865067,  76.74924242,\n",
       "        91.48506646, 131.35900957, 117.4187887 , 129.4012712 ,\n",
       "        79.42188326,  68.40027507, 105.68831907, 134.17067748,\n",
       "        70.9165846 , 101.85610341,  73.40558625,  79.79863788,\n",
       "        79.85247984,  84.3487098 ,  57.47868964,  81.80784979,\n",
       "       118.53850854, 101.40777604,  86.67783281,  99.08979181,\n",
       "       102.30784892,  81.00506604,  89.01401079,  80.43967401,\n",
       "        98.16712891,  96.40124609, 118.2348537 , 112.3576369 ,\n",
       "        53.37187207,  94.6004148 , 110.13345082,  96.38369474,\n",
       "        97.68970331,  82.42609888, 105.60240577, 131.27966178,\n",
       "        92.14765784,  94.08022675,  78.34078171, 111.14818166,\n",
       "        92.51947168, 107.6614713 , 110.76552058,  78.38946637,\n",
       "        83.76807536,  95.9467282 ,  98.08494616, 152.73961579,\n",
       "        94.31047433,  99.98791615, 114.64702919, 114.7494617 ,\n",
       "       112.28771979,  79.39517195,  76.95994193, 110.10824519,\n",
       "        99.25029362,  82.68159879, 102.39922388, 111.8778705 ,\n",
       "       105.63704459, 132.12114314,  77.1911669 ,  93.65758579,\n",
       "       100.41689685,  93.95556018, 106.79214398, 106.23459361,\n",
       "       113.43113649,  59.86797207, 102.4277739 ,  94.70345945,\n",
       "       106.37242057, 103.81545765,  99.38076726,  85.93960505,\n",
       "       113.92017756, 106.04536133,  56.75827217, 119.3166759 ,\n",
       "       121.05422075, 117.25315796,  97.80037056,  79.80940412,\n",
       "        81.6421529 , 101.17420926,  70.38058453, 112.70737222,\n",
       "        82.8162551 ,  86.94295668,  84.58894956,  80.89231364,\n",
       "       104.94925496, 111.3405147 ,  84.89049959,  97.14398579,\n",
       "       118.06766517, 103.27045598,  90.04006721,  91.15185032,\n",
       "        83.54896129,  99.45814923,  94.66125835, 101.74372578,\n",
       "       103.32607037,  78.95342369, 105.44882111,  87.46570158,\n",
       "        87.7545264 , 109.73905416,  80.87154787,  71.29420973,\n",
       "        82.98584064, 120.69092508,  94.308136  ,  83.82088091,\n",
       "        97.96491921,  69.38671253,  78.6871385 ,  78.68581518,\n",
       "       100.98375001, 119.58625276,  88.39623151,  87.87922495,\n",
       "        98.02592204,  91.29413636, 103.80272098, 105.61999599,\n",
       "        87.84228522, 116.39636985, 130.86596488,  73.3712996 ,\n",
       "       113.53194216,  74.55364682,  97.27508047, 103.45174796,\n",
       "       103.13828775,  83.2766111 , 101.73097931, 103.18943609,\n",
       "        92.33432328, 112.80772424,  89.15300818,  61.45810976,\n",
       "       127.24259083,  75.26955609, 141.95630409,  95.66488215,\n",
       "        96.59577747, 110.0260874 ,  97.43644018,  92.43870681,\n",
       "       102.89588326, 127.5388351 ,  67.52684669,  56.79041209,\n",
       "        86.70327613,  79.33283113,  87.26623026, 106.09742254,\n",
       "        91.36116948, 104.28670246,  91.52593181,  66.31399826,\n",
       "        87.52309505, 105.7249436 , 101.62728682, 102.02050798,\n",
       "       100.66093205,  90.23737742, 101.16504475,  79.60144469,\n",
       "       113.16172222, 114.90860067, 103.47094732,  90.72875528,\n",
       "        85.74044608, 102.79910691, 111.12731141,  86.5127636 ,\n",
       "       119.29803682,  72.56694838,  60.0297357 , 107.40261164,\n",
       "        88.93900546,  71.27741325, 112.62894116,  86.38869872,\n",
       "       105.43954184,  94.11729543,  91.90046657,  88.62110722,\n",
       "        82.54015676,  77.60162258, 108.49740659, 116.21008836,\n",
       "       112.94687722,  81.75387515,  97.77377736, 114.14667609,\n",
       "        94.45314027, 105.34084672, 112.07389359,  94.01433225,\n",
       "        86.35782078, 101.75077584, 101.61074769,  98.84671345,\n",
       "        93.5639926 ,  79.35930369, 127.25941771, 104.02006357,\n",
       "       123.1692384 ,  96.88398429,  88.69336801,  95.54922311,\n",
       "        78.44091915,  89.89298467, 116.4312427 ,  97.74674216,\n",
       "        89.14037772,  90.57707229, 107.41932138,  92.6321309 ,\n",
       "        99.30716185,  92.92309089,  82.01236165, 112.49309851,\n",
       "        78.76473935,  99.96861854,  93.27221218, 105.74274838,\n",
       "        95.82930199,  65.02960117,  69.14515103,  73.91219369,\n",
       "        97.2310078 , 112.33366533,  97.71552732, 109.4497819 ,\n",
       "        87.2335419 , 112.45092902,  78.7226901 ,  76.08264783,\n",
       "        62.0572173 , 111.76401008, 109.61295867,  79.79690254,\n",
       "        85.097755  ,  77.52635901,  70.35413962,  95.77636874,\n",
       "       110.70747006,  90.71531613,  79.04455636,  91.39162247,\n",
       "        64.24784047,  63.46114426, 106.15136766,  52.72157606,\n",
       "        89.82528163,  76.20944443,  93.53073426,  97.05952102,\n",
       "       119.62471943,  84.38678819,  88.88068205,  82.16040862,\n",
       "        95.89119949, 103.0252079 , 101.84026749,  76.1117679 ,\n",
       "        98.39071162,  64.21510063,  65.47442548,  77.44128458,\n",
       "       103.14463802, 103.63011595, 114.69501859, 101.98562566,\n",
       "        77.62703056, 123.41504391, 124.86105676, 107.90975658,\n",
       "       108.36063724,  62.26825996,  78.82106024,  83.50793517,\n",
       "       115.17098814,  63.60250835,  77.93975618, 100.30400148,\n",
       "       113.27400811, 121.83136682,  80.45410402,  86.50855764,\n",
       "        71.83362212,  74.63350998, 106.58366293, 119.49632802,\n",
       "       114.17767167, 112.93251708, 127.14213703,  87.10754049,\n",
       "       129.27762455, 111.14237946, 104.06277259,  83.43471752,\n",
       "        86.928779  , 104.54612513,  86.50443842,  97.75199518,\n",
       "        92.70292397, 112.99380505, 119.23361829,  77.96351331,\n",
       "       111.76222324, 104.96733494,  97.79069927, 128.53201608,\n",
       "        99.38681572,  85.33412016, 105.87372808,  90.80647395,\n",
       "        83.60403072, 132.13100722,  94.1344087 ,  85.4204096 ,\n",
       "       144.09019397,  88.41991462,  86.59628391,  93.86879992,\n",
       "       103.28207045, 142.84841764,  98.8060987 , 109.37072965,\n",
       "       107.90864771, 101.70681723,  79.52018168,  62.89503422,\n",
       "        81.6379375 ,  73.17989084,  84.23205514,  65.66549249,\n",
       "       115.88288274, 117.76546174,  82.41688764,  67.20376005,\n",
       "       104.01850642,  92.42710579, 110.28010606, 104.07048159,\n",
       "        91.72166718, 109.90131788, 106.70772937, 113.53824922,\n",
       "       104.80502982,  87.50455602,  97.87636244,  86.35301555,\n",
       "        75.06069422, 107.38646874,  81.96460399,  98.17892719,\n",
       "        94.19360491,  81.38013218,  89.63337392,  97.32629699,\n",
       "        99.06347028,  91.95467792, 100.11516117,  93.8701187 ,\n",
       "        94.27369017,  47.90729465,  81.5007817 ,  74.92968153,\n",
       "        81.36285343,  96.54870811, 119.01382369, 109.32262456,\n",
       "       103.92495626, 113.9699067 ,  70.06168395,  98.94386373,\n",
       "       105.56376776, 107.45344256,  99.78732212,  84.72784249,\n",
       "       115.30094892,  92.84743816,  88.22815484,  91.96953201,\n",
       "       113.44453824,  83.65587038, 101.93687254, 103.80394955,\n",
       "        96.3638371 ,  89.68153202,  97.48935189,  91.99992898,\n",
       "       157.99324799, 108.99002282,  75.19724107, 104.45117579,\n",
       "       111.1602183 , 116.75851311, 105.86307752,  85.15951494,\n",
       "       108.46193366,  94.17290247,  97.19691089,  78.85257488,\n",
       "        82.81378154,  89.94290277,  78.51894811,  85.14111496,\n",
       "       105.61778178,  81.85041878, 103.5306416 , 114.63323153,\n",
       "        96.35400853, 110.55373685,  89.80914657, 113.04085959,\n",
       "       105.91495012, 124.01016374,  98.93462729,  90.07867178,\n",
       "        89.59853514,  97.4047868 ,  98.80711274, 100.45587889,\n",
       "       115.73438452,  70.5707514 ,  96.79821371, 120.14289216,\n",
       "        78.54313825,  94.0015362 ,  94.81346365, 106.80546765,\n",
       "        90.15163862,  95.8364572 ,  67.99969877,  82.63505565,\n",
       "        98.25748106,  99.37309631,  95.02292762,  90.41153656,\n",
       "        87.69683304,  68.64296841,  76.20440183, 103.46692024,\n",
       "        97.17872066,  84.74143501, 106.04549442,  87.30489185,\n",
       "        97.9513587 ,  83.85701745, 106.81868104, 104.87779211,\n",
       "        95.55968058,  89.6802945 , 106.83118472,  71.35933391,\n",
       "        91.09197397,  87.02813832, 109.89491665, 118.56757377,\n",
       "        88.98539587, 110.29728798,  89.10835564,  80.63806075,\n",
       "       122.7583014 , 118.97712251,  79.89212428,  90.92287779,\n",
       "        80.63026302,  82.89511576, 132.03196788, 110.06081525,\n",
       "        97.81192873,  89.81217788,  79.12162201, 101.51803785,\n",
       "        93.35705841, 114.50538369,  71.9333895 ,  92.17041439,\n",
       "       122.8844675 , 111.89221057,  93.14547837, 118.04486985,\n",
       "        96.02120948,  81.28783914, 114.64460455,  79.69480425,\n",
       "       102.29754078,  97.0140306 , 100.02143084,  97.94198124,\n",
       "       105.62677846,  90.27053388,  77.59778183,  56.49519323,\n",
       "        84.37857569, 108.9146143 ,  96.25955165,  83.77893591,\n",
       "        92.97488604, 116.53740672,  85.13066667,  94.44090587,\n",
       "       121.54859351, 110.0435372 ,  98.57210766, 107.80278318,\n",
       "        89.14205419,  78.3016519 ,  92.52947972,  73.1803774 ,\n",
       "        95.82863702,  77.01495206, 112.9597064 ,  93.09558255,\n",
       "        99.30202731, 100.94192706,  92.00005727, 108.8140635 ,\n",
       "       116.89188877, 102.01773363,  59.77844351, 102.53452675,\n",
       "       113.12627577, 102.59815126,  75.97592114,  89.50636043,\n",
       "        88.90922803,  78.4946012 , 100.90005847,  84.52588344,\n",
       "       101.04756921,  73.47139291,  77.65619767,  87.90616411,\n",
       "       124.49441981,  78.62381406,  78.35212746, 107.26800937,\n",
       "        78.88069031,  64.90942888,  99.36289239, 116.1390914 ,\n",
       "       116.71692822,  72.08232134, 112.64131093, 111.15016416,\n",
       "        78.26974014, 101.21778754,  94.84163627,  83.02311519,\n",
       "        94.67570795,  90.97026389,  76.57693671, 121.21276234,\n",
       "       117.93083327,  66.85234916,  83.88962899, 127.70624924,\n",
       "       113.35837797, 108.25097612, 111.68656379, 113.14727749,\n",
       "       131.60954958,  85.01911023, 108.62055093,  84.37487157,\n",
       "       102.44762833,  99.67675364,  82.03035592,  83.42206362,\n",
       "        88.09027548,  96.10427881,  60.52159129, 107.42255681,\n",
       "       102.33809809, 116.48848627,  77.85780025,  92.45076134,\n",
       "        86.86068663,  91.24692494, 101.40598516, 106.1432985 ,\n",
       "        98.60183922, 105.77809861,  77.33526672,  68.62408429,\n",
       "        85.27162133, 115.45163555,  97.37845027, 112.37289659,\n",
       "       112.20537366, 113.9683149 ,  77.69741815,  63.6361554 ,\n",
       "       120.17251134,  91.06281354,  81.26197931,  95.03705105,\n",
       "       106.00013055,  88.58218662, 102.37045137, 118.19713813,\n",
       "        60.42301855, 100.07259719,  99.82730762,  77.6868867 ,\n",
       "        95.09546643,  75.32907062,  87.31237768, 109.9203433 ,\n",
       "       118.19930538,  85.12559671, 105.35244729,  91.41758247,\n",
       "        83.69071193, 139.89589616, 126.84419874,  93.49966739,\n",
       "       122.62896315, 117.10985599,  88.58045384, 104.90000838,\n",
       "       115.93792741,  98.75820054,  75.94827377,  80.14984337,\n",
       "       111.85238092, 102.9700157 , 112.9789178 , 130.63074571,\n",
       "        97.8067072 ,  98.90462442, 106.25275814, 100.90867581,\n",
       "        84.04790131,  93.78405502, 104.22539027, 100.63252314,\n",
       "        90.87306483,  90.37511553, 110.02207494,  98.76696492,\n",
       "       135.26186906,  47.59642126, 130.0245093 ,  83.17118731,\n",
       "       104.1489747 , 128.23555873,  65.31088745, 102.3058324 ,\n",
       "       118.3209556 , 107.85630845,  83.60358049,  69.87277393,\n",
       "        84.71888448,  99.34129789,  95.64292458, 116.60727258,\n",
       "       119.10022183, 107.27745639,  80.8395924 , 129.21584157,\n",
       "       115.64368313,  96.9025745 ,  66.54115449,  88.10689369,\n",
       "       110.11964005, 118.84985302,  73.99483659,  97.020537  ,\n",
       "        69.25174055, 144.56578224, 106.65882423, 100.42263319,\n",
       "        84.10078491,  88.25049252,  77.55326411, 101.79066131])"
      ]
     },
     "execution_count": 44,
     "metadata": {},
     "output_type": "execute_result"
    }
   ],
   "source": [
    "y"
   ]
  },
  {
   "cell_type": "code",
   "execution_count": 45,
   "metadata": {
    "colab": {
     "base_uri": "https://localhost:8080/"
    },
    "id": "pBn0h3u5Ir19",
    "outputId": "359a9e7b-8ca7-4572-abec-430a956d6b79"
   },
   "outputs": [
    {
     "name": "stdout",
     "output_type": "stream",
     "text": [
      "                            OLS Regression Results                            \n",
      "==============================================================================\n",
      "Dep. Variable:                      y   R-squared:                       1.000\n",
      "Model:                            OLS   Adj. R-squared:                  1.000\n",
      "Method:                 Least Squares   F-statistic:                 2.368e+29\n",
      "Date:                Tue, 28 Nov 2023   Prob (F-statistic):               0.00\n",
      "Time:                        22:25:47   Log-Likelihood:                 27620.\n",
      "No. Observations:                1000   AIC:                        -5.520e+04\n",
      "Df Residuals:                     980   BIC:                        -5.510e+04\n",
      "Df Model:                          19                                         \n",
      "Covariance Type:            nonrobust                                         \n",
      "==============================================================================\n",
      "                 coef    std err          t      P>|t|      [0.025      0.975]\n",
      "------------------------------------------------------------------------------\n",
      "const          0.4045   5.17e-15   7.83e+13      0.000       0.404       0.404\n",
      "x1         -1.887e-15   1.68e-15     -1.127      0.260   -5.18e-15     1.4e-15\n",
      "x2         -7.112e-17   7.09e-16     -0.100      0.920   -1.46e-15    1.32e-15\n",
      "x3            -0.5947    7.6e-15  -7.82e+13      0.000      -0.595      -0.595\n",
      "x4             2.0319   3.84e-14   5.29e+13      0.000       2.032       2.032\n",
      "x5          1.776e-14   1.88e-14      0.946      0.344   -1.91e-14    5.46e-14\n",
      "x6            -2.7670    2.8e-14  -9.87e+13      0.000      -2.767      -2.767\n",
      "x7             3.1077   2.06e-15   1.51e+15      0.000       3.108       3.108\n",
      "x8         -3.997e-15   8.42e-15     -0.475      0.635   -2.05e-14    1.25e-14\n",
      "x9          1.221e-15   6.34e-16      1.926      0.054   -2.28e-17    2.47e-15\n",
      "x10        -2.706e-16   1.67e-16     -1.616      0.106   -5.99e-16    5.79e-17\n",
      "x11          6.55e-15   8.42e-15      0.778      0.437   -9.98e-15    2.31e-14\n",
      "x12         3.997e-15   4.59e-15      0.871      0.384      -5e-15     1.3e-14\n",
      "x13         1.166e-15   6.99e-16      1.668      0.096   -2.06e-16    2.54e-15\n",
      "x14            0.2223   2.86e-15   7.77e+13      0.000       0.222       0.222\n",
      "x15           -0.3628   4.64e-15  -7.82e+13      0.000      -0.363      -0.363\n",
      "x16        -2.487e-14   3.07e-14     -0.810      0.418   -8.51e-14    3.54e-14\n",
      "x17         3.473e-16   4.19e-16      0.830      0.407   -4.74e-16    1.17e-15\n",
      "x18            0.7855   1.01e-14   7.79e+13      0.000       0.786       0.786\n",
      "x19        -6.384e-16   1.04e-15     -0.616      0.538   -2.67e-15     1.4e-15\n",
      "x20            0.0330    4.2e-16   7.85e+13      0.000       0.033       0.033\n",
      "x21        -1.055e-15    1.5e-15     -0.702      0.483      -4e-15    1.89e-15\n",
      "x22        -5.274e-16   2.01e-15     -0.262      0.794   -4.48e-15    3.43e-15\n",
      "x23           -2.3739   3.04e-14  -7.82e+13      0.000      -2.374      -2.374\n",
      "==============================================================================\n",
      "Omnibus:                        2.223   Durbin-Watson:                   0.360\n",
      "Prob(Omnibus):                  0.329   Jarque-Bera (JB):                2.114\n",
      "Skew:                           0.109   Prob(JB):                        0.348\n",
      "Kurtosis:                       3.058   Cond. No.                     5.35e+18\n",
      "==============================================================================\n",
      "\n",
      "Notes:\n",
      "[1] Standard Errors assume that the covariance matrix of the errors is correctly specified.\n",
      "[2] The smallest eigenvalue is 6.63e-30. This might indicate that there are\n",
      "strong multicollinearity problems or that the design matrix is singular.\n"
     ]
    }
   ],
   "source": [
    "import statsmodels.api as sm\n",
    "\n",
    "X = sm.add_constant(X) # adding a constant\n",
    "\n",
    "model = sm.OLS(y, X).fit()\n",
    "predictions = model.predict(X) \n",
    "\n",
    "print_model = model.summary()\n",
    "print(print_model)"
   ]
  },
  {
   "cell_type": "markdown",
   "metadata": {
    "id": "GrQt9weDU4mV"
   },
   "source": [
    "### Dataset FIFA - SEM CORREÇÃO AUTOMÁTICA"
   ]
  },
  {
   "cell_type": "markdown",
   "metadata": {
    "id": "y-4zWsCNTagv",
    "nbgrader": {
     "grade": false,
     "grade_id": "cell3c-a00",
     "locked": true,
     "schema_version": 1,
     "solution": false
    }
   },
   "source": [
    "O [FIFA](https://pt.wikipedia.org/wiki/FIFA_(s%C3%A9rie)) é um jogo eletrônico de futebol muito popular em que, parte da diversão, é poder jogar partidas envolvendo jogadores reais. Para simular um jogador real, o jogo descreve-os usando diversos atributos (como poder do chute, velocidade, etc) que, de alguma forma, resultado em sua habilidade como um todo (*overall*). \n",
    "\n",
    "* Neste exercício você deve encontrar um modelo linear que explique a habilidade *overall* dos jogadores do FIFA a partir das suas outras habilidades. Para isso, utilize o arquivo contendo as habilidades de 20 mil jogadores. Mostre os coeficientes, a qualidade do ajuste e os fatores significativos. \n",
    "\n",
    "**Dica:** pode haver mais de um modelo!"
   ]
  },
  {
   "cell_type": "code",
   "execution_count": null,
   "metadata": {
    "colab": {
     "base_uri": "https://localhost:8080/"
    },
    "id": "p8vS7xKUIr1-",
    "outputId": "24fc69ec-e233-4d1f-a03d-200efaedd8dc"
   },
   "outputs": [
    {
     "data": {
      "text/html": [
       "<div>\n",
       "<style scoped>\n",
       "    .dataframe tbody tr th:only-of-type {\n",
       "        vertical-align: middle;\n",
       "    }\n",
       "\n",
       "    .dataframe tbody tr th {\n",
       "        vertical-align: top;\n",
       "    }\n",
       "\n",
       "    .dataframe thead th {\n",
       "        text-align: right;\n",
       "    }\n",
       "</style>\n",
       "<table border=\"1\" class=\"dataframe\">\n",
       "  <thead>\n",
       "    <tr style=\"text-align: right;\">\n",
       "      <th></th>\n",
       "      <th>Crossing</th>\n",
       "      <th>Finishing</th>\n",
       "      <th>Heading Accuracy</th>\n",
       "      <th>Short Passing</th>\n",
       "      <th>Volleys</th>\n",
       "      <th>Dribbling</th>\n",
       "      <th>Curve</th>\n",
       "      <th>Long Passing</th>\n",
       "      <th>Ball Control</th>\n",
       "      <th>Acceleration</th>\n",
       "      <th>Sprint Speed</th>\n",
       "      <th>Agility</th>\n",
       "      <th>Reactions</th>\n",
       "      <th>Balance</th>\n",
       "      <th>Shot Power</th>\n",
       "      <th>Jumping</th>\n",
       "      <th>Stamina</th>\n",
       "      <th>Strength</th>\n",
       "      <th>Long Shots</th>\n",
       "      <th>Aggression</th>\n",
       "      <th>Interceptions</th>\n",
       "      <th>Positioning</th>\n",
       "      <th>Vision</th>\n",
       "      <th>Penalties</th>\n",
       "      <th>Marking</th>\n",
       "      <th>Standing Tackle</th>\n",
       "      <th>Sliding Tackle</th>\n",
       "      <th>GK Diving</th>\n",
       "      <th>GK Handling</th>\n",
       "      <th>GK Kicking</th>\n",
       "      <th>GK Positioning</th>\n",
       "      <th>GK Reflexes</th>\n",
       "      <th>Free Kick Accuracy</th>\n",
       "      <th>Overall</th>\n",
       "      <th>Position</th>\n",
       "      <th>Position class</th>\n",
       "      <th>ID</th>\n",
       "      <th>VersionID</th>\n",
       "    </tr>\n",
       "  </thead>\n",
       "  <tbody>\n",
       "    <tr>\n",
       "      <th>71672</th>\n",
       "      <td>37</td>\n",
       "      <td>51</td>\n",
       "      <td>57</td>\n",
       "      <td>62</td>\n",
       "      <td>49</td>\n",
       "      <td>44</td>\n",
       "      <td>35</td>\n",
       "      <td>57</td>\n",
       "      <td>60</td>\n",
       "      <td>69</td>\n",
       "      <td>65</td>\n",
       "      <td>67</td>\n",
       "      <td>58</td>\n",
       "      <td>68</td>\n",
       "      <td>82</td>\n",
       "      <td>72</td>\n",
       "      <td>68</td>\n",
       "      <td>67</td>\n",
       "      <td>68</td>\n",
       "      <td>74</td>\n",
       "      <td>63</td>\n",
       "      <td>56</td>\n",
       "      <td>55</td>\n",
       "      <td>48</td>\n",
       "      <td>57</td>\n",
       "      <td>65</td>\n",
       "      <td>64</td>\n",
       "      <td>14</td>\n",
       "      <td>14</td>\n",
       "      <td>6</td>\n",
       "      <td>11</td>\n",
       "      <td>14</td>\n",
       "      <td>44</td>\n",
       "      <td>62</td>\n",
       "      <td>CDM</td>\n",
       "      <td>Midfield</td>\n",
       "      <td>203979</td>\n",
       "      <td>203979001</td>\n",
       "    </tr>\n",
       "    <tr>\n",
       "      <th>195550</th>\n",
       "      <td>25</td>\n",
       "      <td>25</td>\n",
       "      <td>25</td>\n",
       "      <td>37</td>\n",
       "      <td>25</td>\n",
       "      <td>25</td>\n",
       "      <td>25</td>\n",
       "      <td>31</td>\n",
       "      <td>29</td>\n",
       "      <td>46</td>\n",
       "      <td>50</td>\n",
       "      <td>34</td>\n",
       "      <td>71</td>\n",
       "      <td>42</td>\n",
       "      <td>42</td>\n",
       "      <td>54</td>\n",
       "      <td>35</td>\n",
       "      <td>70</td>\n",
       "      <td>25</td>\n",
       "      <td>32</td>\n",
       "      <td>20</td>\n",
       "      <td>25</td>\n",
       "      <td>25</td>\n",
       "      <td>27</td>\n",
       "      <td>25</td>\n",
       "      <td>25</td>\n",
       "      <td>25</td>\n",
       "      <td>68</td>\n",
       "      <td>65</td>\n",
       "      <td>62</td>\n",
       "      <td>67</td>\n",
       "      <td>68</td>\n",
       "      <td>25</td>\n",
       "      <td>67</td>\n",
       "      <td>GK</td>\n",
       "      <td>Goalkeeper</td>\n",
       "      <td>164507</td>\n",
       "      <td>164507032</td>\n",
       "    </tr>\n",
       "    <tr>\n",
       "      <th>119189</th>\n",
       "      <td>56</td>\n",
       "      <td>33</td>\n",
       "      <td>53</td>\n",
       "      <td>69</td>\n",
       "      <td>30</td>\n",
       "      <td>55</td>\n",
       "      <td>46</td>\n",
       "      <td>66</td>\n",
       "      <td>72</td>\n",
       "      <td>73</td>\n",
       "      <td>67</td>\n",
       "      <td>74</td>\n",
       "      <td>58</td>\n",
       "      <td>71</td>\n",
       "      <td>74</td>\n",
       "      <td>56</td>\n",
       "      <td>70</td>\n",
       "      <td>74</td>\n",
       "      <td>35</td>\n",
       "      <td>72</td>\n",
       "      <td>68</td>\n",
       "      <td>69</td>\n",
       "      <td>68</td>\n",
       "      <td>67</td>\n",
       "      <td>56</td>\n",
       "      <td>60</td>\n",
       "      <td>60</td>\n",
       "      <td>12</td>\n",
       "      <td>6</td>\n",
       "      <td>7</td>\n",
       "      <td>14</td>\n",
       "      <td>10</td>\n",
       "      <td>29</td>\n",
       "      <td>64</td>\n",
       "      <td>CM</td>\n",
       "      <td>Midfield</td>\n",
       "      <td>183768</td>\n",
       "      <td>183768011</td>\n",
       "    </tr>\n",
       "    <tr>\n",
       "      <th>97807</th>\n",
       "      <td>37</td>\n",
       "      <td>11</td>\n",
       "      <td>65</td>\n",
       "      <td>54</td>\n",
       "      <td>12</td>\n",
       "      <td>27</td>\n",
       "      <td>18</td>\n",
       "      <td>37</td>\n",
       "      <td>51</td>\n",
       "      <td>63</td>\n",
       "      <td>71</td>\n",
       "      <td>62</td>\n",
       "      <td>58</td>\n",
       "      <td>58</td>\n",
       "      <td>41</td>\n",
       "      <td>77</td>\n",
       "      <td>72</td>\n",
       "      <td>74</td>\n",
       "      <td>17</td>\n",
       "      <td>63</td>\n",
       "      <td>61</td>\n",
       "      <td>24</td>\n",
       "      <td>47</td>\n",
       "      <td>27</td>\n",
       "      <td>56</td>\n",
       "      <td>65</td>\n",
       "      <td>57</td>\n",
       "      <td>6</td>\n",
       "      <td>9</td>\n",
       "      <td>8</td>\n",
       "      <td>9</td>\n",
       "      <td>8</td>\n",
       "      <td>19</td>\n",
       "      <td>62</td>\n",
       "      <td>CB</td>\n",
       "      <td>Defense</td>\n",
       "      <td>170027</td>\n",
       "      <td>170027010</td>\n",
       "    </tr>\n",
       "    <tr>\n",
       "      <th>177150</th>\n",
       "      <td>39</td>\n",
       "      <td>63</td>\n",
       "      <td>62</td>\n",
       "      <td>46</td>\n",
       "      <td>57</td>\n",
       "      <td>57</td>\n",
       "      <td>44</td>\n",
       "      <td>44</td>\n",
       "      <td>64</td>\n",
       "      <td>78</td>\n",
       "      <td>77</td>\n",
       "      <td>85</td>\n",
       "      <td>66</td>\n",
       "      <td>69</td>\n",
       "      <td>65</td>\n",
       "      <td>71</td>\n",
       "      <td>73</td>\n",
       "      <td>72</td>\n",
       "      <td>44</td>\n",
       "      <td>52</td>\n",
       "      <td>25</td>\n",
       "      <td>64</td>\n",
       "      <td>55</td>\n",
       "      <td>62</td>\n",
       "      <td>25</td>\n",
       "      <td>25</td>\n",
       "      <td>25</td>\n",
       "      <td>4</td>\n",
       "      <td>6</td>\n",
       "      <td>6</td>\n",
       "      <td>5</td>\n",
       "      <td>6</td>\n",
       "      <td>36</td>\n",
       "      <td>65</td>\n",
       "      <td>ST</td>\n",
       "      <td>Attack</td>\n",
       "      <td>190254</td>\n",
       "      <td>190254023</td>\n",
       "    </tr>\n",
       "  </tbody>\n",
       "</table>\n",
       "</div>"
      ],
      "text/plain": [
       "        Crossing  Finishing  Heading Accuracy  ...  Position class      ID  VersionID\n",
       "71672         37         51                57  ...        Midfield  203979  203979001\n",
       "195550        25         25                25  ...      Goalkeeper  164507  164507032\n",
       "119189        56         33                53  ...        Midfield  183768  183768011\n",
       "97807         37         11                65  ...         Defense  170027  170027010\n",
       "177150        39         63                62  ...          Attack  190254  190254023\n",
       "\n",
       "[5 rows x 38 columns]"
      ]
     },
     "execution_count": 52,
     "metadata": {
      "tags": []
     },
     "output_type": "execute_result"
    }
   ],
   "source": [
    "df = pd.read_csv('https://raw.githubusercontent.com/pedroharaujo/ICD_Docencia/master/skills_and_overall_sample_20k.csv', index_col=0)\n",
    "df.head()"
   ]
  },
  {
   "cell_type": "code",
   "execution_count": null,
   "metadata": {
    "colab": {
     "base_uri": "https://localhost:8080/"
    },
    "id": "Ok89TTj2Ir1-",
    "outputId": "97732c1b-e8e0-422c-a6e7-798d723f2128"
   },
   "outputs": [
    {
     "name": "stdout",
     "output_type": "stream",
     "text": [
      "Coeficientes: [ 0.01084735  0.10576893  0.06986422 -0.00835185  0.00571818  0.00442602\n",
      "  0.01561893  0.183403    0.03083597  0.04326414  0.00430891  0.24256125\n",
      " -0.00652148  0.03605648  0.01427776 -0.026015    0.0534794  -0.02479087\n",
      "  0.00854711  0.01637681 -0.01793254  0.02066591  0.01385459  0.01055705\n",
      "  0.01445376 -0.00963099  0.17505381  0.04758202 -0.01168633  0.07283677\n",
      "  0.04387138  0.00858583]\n",
      "Intercept: 11.85812704163773\n",
      "R^2: 0.7092700713433605\n"
     ]
    }
   ],
   "source": [
    "from sklearn.linear_model import LinearRegression\n",
    "\n",
    "X = df.iloc[:, 1:33].values\n",
    "y = df.iloc[:, 33].values\n",
    "\n",
    "lm = LinearRegression()\n",
    "lm.fit(X, y)\n",
    "\n",
    "print(\"Coeficientes: {}\".format(lm.coef_))\n",
    "print(\"Intercept: {}\".format(lm.intercept_))\n",
    "print(\"R^2: {}\".format(lm.score(X, y)))"
   ]
  },
  {
   "cell_type": "code",
   "execution_count": null,
   "metadata": {
    "colab": {
     "base_uri": "https://localhost:8080/"
    },
    "id": "PCNGOcHnIr1-",
    "outputId": "d4bfd3b9-da2c-446e-f702-120aa61d0dcb"
   },
   "outputs": [
    {
     "name": "stdout",
     "output_type": "stream",
     "text": [
      "                            OLS Regression Results                            \n",
      "==============================================================================\n",
      "Dep. Variable:                      y   R-squared:                       0.709\n",
      "Model:                            OLS   Adj. R-squared:                  0.709\n",
      "Method:                 Least Squares   F-statistic:                     1522.\n",
      "Date:                Wed, 28 Jul 2021   Prob (F-statistic):               0.00\n",
      "Time:                        17:13:25   Log-Likelihood:                -54957.\n",
      "No. Observations:               20000   AIC:                         1.100e+05\n",
      "Df Residuals:                   19967   BIC:                         1.102e+05\n",
      "Df Model:                          32                                         \n",
      "Covariance Type:            nonrobust                                         \n",
      "==============================================================================\n",
      "                 coef    std err          t      P>|t|      [0.025      0.975]\n",
      "------------------------------------------------------------------------------\n",
      "const         11.8581      0.333     35.567      0.000      11.205      12.512\n",
      "x1             0.0108      0.003      3.141      0.002       0.004       0.018\n",
      "x2             0.1058      0.003     34.505      0.000       0.100       0.112\n",
      "x3             0.0699      0.005     14.345      0.000       0.060       0.079\n",
      "x4            -0.0084      0.003     -2.941      0.003      -0.014      -0.003\n",
      "x5             0.0057      0.004      1.396      0.163      -0.002       0.014\n",
      "x6             0.0044      0.003      1.561      0.118      -0.001       0.010\n",
      "x7             0.0156      0.004      4.462      0.000       0.009       0.022\n",
      "x8             0.1834      0.005     33.693      0.000       0.173       0.194\n",
      "x9             0.0308      0.005      6.205      0.000       0.021       0.041\n",
      "x10            0.0433      0.005      8.953      0.000       0.034       0.053\n",
      "x11            0.0043      0.003      1.233      0.218      -0.003       0.011\n",
      "x12            0.2426      0.004     62.573      0.000       0.235       0.250\n",
      "x13           -0.0065      0.003     -2.192      0.028      -0.012      -0.001\n",
      "x14            0.0361      0.003     10.819      0.000       0.030       0.043\n",
      "x15            0.0143      0.003      5.306      0.000       0.009       0.020\n",
      "x16           -0.0260      0.003     -8.246      0.000      -0.032      -0.020\n",
      "x17            0.0535      0.003     16.546      0.000       0.047       0.060\n",
      "x18           -0.0248      0.003     -7.153      0.000      -0.032      -0.018\n",
      "x19            0.0085      0.003      3.245      0.001       0.003       0.014\n",
      "x20            0.0164      0.003      5.895      0.000       0.011       0.022\n",
      "x21           -0.0179      0.003     -6.235      0.000      -0.024      -0.012\n",
      "x22            0.0207      0.003      6.488      0.000       0.014       0.027\n",
      "x23            0.0139      0.003      4.821      0.000       0.008       0.019\n",
      "x24            0.0106      0.004      2.615      0.009       0.003       0.018\n",
      "x25            0.0145      0.004      3.434      0.001       0.006       0.023\n",
      "x26           -0.0096      0.002     -3.972      0.000      -0.014      -0.005\n",
      "x27            0.1751      0.005     32.349      0.000       0.164       0.186\n",
      "x28            0.0476      0.008      6.201      0.000       0.033       0.063\n",
      "x29           -0.0117      0.002     -5.215      0.000      -0.016      -0.007\n",
      "x30            0.0728      0.008      9.479      0.000       0.058       0.088\n",
      "x31            0.0439      0.007      5.887      0.000       0.029       0.058\n",
      "x32            0.0086      0.003      3.225      0.001       0.003       0.014\n",
      "==============================================================================\n",
      "Omnibus:                      969.490   Durbin-Watson:                   2.010\n",
      "Prob(Omnibus):                  0.000   Jarque-Bera (JB):             2142.024\n",
      "Skew:                           0.320   Prob(JB):                         0.00\n",
      "Kurtosis:                       4.470   Cond. No.                     3.81e+03\n",
      "==============================================================================\n",
      "\n",
      "Warnings:\n",
      "[1] Standard Errors assume that the covariance matrix of the errors is correctly specified.\n",
      "[2] The condition number is large, 3.81e+03. This might indicate that there are\n",
      "strong multicollinearity or other numerical problems.\n"
     ]
    }
   ],
   "source": [
    "import statsmodels.api as sm\n",
    "\n",
    "X = sm.add_constant(X) # adding a constant\n",
    "\n",
    "model = sm.OLS(y, X).fit()\n",
    "predictions = model.predict(X) \n",
    "\n",
    "print_model = model.summary()\n",
    "print(print_model)"
   ]
  },
  {
   "cell_type": "code",
   "execution_count": null,
   "metadata": {
    "id": "NnQTWhZecsdE"
   },
   "outputs": [],
   "source": []
  }
 ],
 "metadata": {
  "colab": {
   "collapsed_sections": [
    "SrVUUzqkPvKA",
    "-q4qd-uOQB1q",
    "Jshbj3f6QbEy",
    "DmRW-FeXQmmc",
    "reYHc_eqQplh",
    "nLZaGp36Qr1o",
    "16L6PnePIr1f",
    "pwWCbwSyRFJB",
    "MmXhGrjGRH1y",
    "7zDAsNlRTeVy",
    "kVkBHC7CT70d",
    "1mb7F-SMbpJv",
    "bBodSjHMU14S",
    "UbZ18uGDIr18",
    "GrQt9weDU4mV"
   ],
   "name": "sol.ipynb",
   "provenance": []
  },
  "kernelspec": {
   "display_name": "Python 3 (ipykernel)",
   "language": "python",
   "name": "python3"
  },
  "language_info": {
   "codemirror_mode": {
    "name": "ipython",
    "version": 3
   },
   "file_extension": ".py",
   "mimetype": "text/x-python",
   "name": "python",
   "nbconvert_exporter": "python",
   "pygments_lexer": "ipython3",
   "version": "3.11.5"
  }
 },
 "nbformat": 4,
 "nbformat_minor": 1
}
