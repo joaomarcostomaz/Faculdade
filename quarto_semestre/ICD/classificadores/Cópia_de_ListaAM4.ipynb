{
  "cells": [
    {
      "cell_type": "markdown",
      "metadata": {
        "deletable": false,
        "editable": false,
        "id": "9DX52SnYm63_",
        "nbgrader": {
          "checksum": "796114292f40d93792b787b19fbed7ee",
          "grade": false,
          "grade_id": "cellc-a00",
          "locked": true,
          "schema_version": 1,
          "solution": false
        }
      },
      "source": [
        "# Lista Aberta do Módulo 4 - Comparando Classificadores"
      ]
    },
    {
      "cell_type": "markdown",
      "metadata": {
        "id": "rHUqhVKioqnO"
      },
      "source": [
        "**Regras para envio:**\n",
        "\n",
        "1. Faça uma cópia deste arquivo\n",
        "2. Deixe o arquivo aberto para qualquer pessoa com o link (Share > Anyone with the link)\n",
        "3. Garanta que as saídas do notebook estão salvas (Settings > deixe desligada a opção (New notebooks use private outputs (omit outputs when saving)), e acesse o link depois em outro navegador para garantir que estão!)\n",
        "4. Digite seu nome ##João Marcos Tomaz Silva Campos###\n",
        "5. Após finalizar o exercício, poste o link (apenas o link!) no moodle.\n",
        "\n",
        "**Atenção**: como temos pouco tempo para o fechamento do semestre, por favor garantam que seus links estão corretos! Não teremos tempo para correções. É essencial que os alunos de ICD saibam usar o Google Colab."
      ]
    },
    {
      "cell_type": "markdown",
      "metadata": {
        "id": "DeaO2FXyGjNL"
      },
      "source": [
        "## Identificação de malignidade em tumores de mama - UCI ML Breast Cancer Wisconsin (Diagnostic)"
      ]
    },
    {
      "cell_type": "markdown",
      "metadata": {
        "id": "XWz0JIVkAiGv"
      },
      "source": [
        "Neste trabalho você deverá realizar uma comparação entre o k-Nearest Neighbors (KNN) e o Random Forest para classificação de pacientes com tumores na mama (maligno = 1 vs benigno = 0). Para isso, usaremos o dataset de câncer de mama de UCI (já embutido no sklearn).\n",
        "\n",
        "A avaliação dos métodos deverá ser feito usando precisão, revocação e F1. Você também deve reportar a matriz de confusão.\n",
        "\n",
        "Você não precisa implementar os métodos, já que estão disponíveis na biblioteca scikit-learn da linguagem Python. Se necessário, pode fazer mais importações de bibliotecas."
      ]
    },
    {
      "cell_type": "markdown",
      "metadata": {
        "id": "3TVWlLvOLhR0"
      },
      "source": [
        "## Importando módulos e baixando dataset"
      ]
    },
    {
      "cell_type": "code",
      "execution_count": 43,
      "metadata": {
        "id": "TABP0905EhnN"
      },
      "outputs": [],
      "source": [
        "from sklearn.datasets import load_breast_cancer\n",
        "import pandas as pd\n",
        "import numpy as np\n",
        "from sklearn.metrics import make_scorer, precision_score, recall_score, f1_score, confusion_matrix\n",
        "from sklearn.ensemble import RandomForestClassifier\n",
        "from sklearn.neighbors import KNeighborsClassifier\n",
        "from sklearn.model_selection import StratifiedKFold\n",
        "from sklearn.model_selection import cross_val_score\n",
        "import matplotlib.pyplot as plt"
      ]
    },
    {
      "cell_type": "code",
      "execution_count": 2,
      "metadata": {
        "id": "D4K2s0aPEilP"
      },
      "outputs": [],
      "source": [
        "cancer = load_breast_cancer()\n",
        "df = pd.DataFrame(cancer.data,columns =[cancer.feature_names])"
      ]
    },
    {
      "cell_type": "code",
      "execution_count": 3,
      "metadata": {
        "colab": {
          "base_uri": "https://localhost:8080/"
        },
        "id": "DsVjiyU1FRYi",
        "outputId": "b3679ca6-fade-411b-eb0e-cc70ffdb0e01"
      },
      "outputs": [
        {
          "name": "stdout",
          "output_type": "stream",
          "text": [
            ".. _breast_cancer_dataset:\n",
            "\n",
            "Breast cancer wisconsin (diagnostic) dataset\n",
            "--------------------------------------------\n",
            "\n",
            "**Data Set Characteristics:**\n",
            "\n",
            "    :Number of Instances: 569\n",
            "\n",
            "    :Number of Attributes: 30 numeric, predictive attributes and the class\n",
            "\n",
            "    :Attribute Information:\n",
            "        - radius (mean of distances from center to points on the perimeter)\n",
            "        - texture (standard deviation of gray-scale values)\n",
            "        - perimeter\n",
            "        - area\n",
            "        - smoothness (local variation in radius lengths)\n",
            "        - compactness (perimeter^2 / area - 1.0)\n",
            "        - concavity (severity of concave portions of the contour)\n",
            "        - concave points (number of concave portions of the contour)\n",
            "        - symmetry\n",
            "        - fractal dimension (\"coastline approximation\" - 1)\n",
            "\n",
            "        The mean, standard error, and \"worst\" or largest (mean of the three\n",
            "        worst/largest values) of these features were computed for each image,\n",
            "        resulting in 30 features.  For instance, field 0 is Mean Radius, field\n",
            "        10 is Radius SE, field 20 is Worst Radius.\n",
            "\n",
            "        - class:\n",
            "                - WDBC-Malignant\n",
            "                - WDBC-Benign\n",
            "\n",
            "    :Summary Statistics:\n",
            "\n",
            "    ===================================== ====== ======\n",
            "                                           Min    Max\n",
            "    ===================================== ====== ======\n",
            "    radius (mean):                        6.981  28.11\n",
            "    texture (mean):                       9.71   39.28\n",
            "    perimeter (mean):                     43.79  188.5\n",
            "    area (mean):                          143.5  2501.0\n",
            "    smoothness (mean):                    0.053  0.163\n",
            "    compactness (mean):                   0.019  0.345\n",
            "    concavity (mean):                     0.0    0.427\n",
            "    concave points (mean):                0.0    0.201\n",
            "    symmetry (mean):                      0.106  0.304\n",
            "    fractal dimension (mean):             0.05   0.097\n",
            "    radius (standard error):              0.112  2.873\n",
            "    texture (standard error):             0.36   4.885\n",
            "    perimeter (standard error):           0.757  21.98\n",
            "    area (standard error):                6.802  542.2\n",
            "    smoothness (standard error):          0.002  0.031\n",
            "    compactness (standard error):         0.002  0.135\n",
            "    concavity (standard error):           0.0    0.396\n",
            "    concave points (standard error):      0.0    0.053\n",
            "    symmetry (standard error):            0.008  0.079\n",
            "    fractal dimension (standard error):   0.001  0.03\n",
            "    radius (worst):                       7.93   36.04\n",
            "    texture (worst):                      12.02  49.54\n",
            "    perimeter (worst):                    50.41  251.2\n",
            "    area (worst):                         185.2  4254.0\n",
            "    smoothness (worst):                   0.071  0.223\n",
            "    compactness (worst):                  0.027  1.058\n",
            "    concavity (worst):                    0.0    1.252\n",
            "    concave points (worst):               0.0    0.291\n",
            "    symmetry (worst):                     0.156  0.664\n",
            "    fractal dimension (worst):            0.055  0.208\n",
            "    ===================================== ====== ======\n",
            "\n",
            "    :Missing Attribute Values: None\n",
            "\n",
            "    :Class Distribution: 212 - Malignant, 357 - Benign\n",
            "\n",
            "    :Creator:  Dr. William H. Wolberg, W. Nick Street, Olvi L. Mangasarian\n",
            "\n",
            "    :Donor: Nick Street\n",
            "\n",
            "    :Date: November, 1995\n",
            "\n",
            "This is a copy of UCI ML Breast Cancer Wisconsin (Diagnostic) datasets.\n",
            "https://goo.gl/U2Uwz2\n",
            "\n",
            "Features are computed from a digitized image of a fine needle\n",
            "aspirate (FNA) of a breast mass.  They describe\n",
            "characteristics of the cell nuclei present in the image.\n",
            "\n",
            "Separating plane described above was obtained using\n",
            "Multisurface Method-Tree (MSM-T) [K. P. Bennett, \"Decision Tree\n",
            "Construction Via Linear Programming.\" Proceedings of the 4th\n",
            "Midwest Artificial Intelligence and Cognitive Science Society,\n",
            "pp. 97-101, 1992], a classification method which uses linear\n",
            "programming to construct a decision tree.  Relevant features\n",
            "were selected using an exhaustive search in the space of 1-4\n",
            "features and 1-3 separating planes.\n",
            "\n",
            "The actual linear program used to obtain the separating plane\n",
            "in the 3-dimensional space is that described in:\n",
            "[K. P. Bennett and O. L. Mangasarian: \"Robust Linear\n",
            "Programming Discrimination of Two Linearly Inseparable Sets\",\n",
            "Optimization Methods and Software 1, 1992, 23-34].\n",
            "\n",
            "This database is also available through the UW CS ftp server:\n",
            "\n",
            "ftp ftp.cs.wisc.edu\n",
            "cd math-prog/cpo-dataset/machine-learn/WDBC/\n",
            "\n",
            ".. topic:: References\n",
            "\n",
            "   - W.N. Street, W.H. Wolberg and O.L. Mangasarian. Nuclear feature extraction \n",
            "     for breast tumor diagnosis. IS&T/SPIE 1993 International Symposium on \n",
            "     Electronic Imaging: Science and Technology, volume 1905, pages 861-870,\n",
            "     San Jose, CA, 1993.\n",
            "   - O.L. Mangasarian, W.N. Street and W.H. Wolberg. Breast cancer diagnosis and \n",
            "     prognosis via linear programming. Operations Research, 43(4), pages 570-577, \n",
            "     July-August 1995.\n",
            "   - W.H. Wolberg, W.N. Street, and O.L. Mangasarian. Machine learning techniques\n",
            "     to diagnose breast cancer from fine-needle aspirates. Cancer Letters 77 (1994) \n",
            "     163-171.\n"
          ]
        }
      ],
      "source": [
        "print(cancer.DESCR)"
      ]
    },
    {
      "cell_type": "code",
      "execution_count": 4,
      "metadata": {
        "colab": {
          "base_uri": "https://localhost:8080/"
        },
        "id": "X8MSrfbN5PF_",
        "outputId": "3fee98b6-1214-4f2c-bb40-db0d34928bec"
      },
      "outputs": [
        {
          "data": {
            "text/plain": [
              "array([0, 0, 0, 0, 0, 0, 0, 0, 0, 0, 0, 0, 0, 0, 0, 0, 0, 0, 0, 1, 1, 1,\n",
              "       0, 0, 0, 0, 0, 0, 0, 0, 0, 0, 0, 0, 0, 0, 0, 1, 0, 0, 0, 0, 0, 0,\n",
              "       0, 0, 1, 0, 1, 1, 1, 1, 1, 0, 0, 1, 0, 0, 1, 1, 1, 1, 0, 1, 0, 0,\n",
              "       1, 1, 1, 1, 0, 1, 0, 0, 1, 0, 1, 0, 0, 1, 1, 1, 0, 0, 1, 0, 0, 0,\n",
              "       1, 1, 1, 0, 1, 1, 0, 0, 1, 1, 1, 0, 0, 1, 1, 1, 1, 0, 1, 1, 0, 1,\n",
              "       1, 1, 1, 1, 1, 1, 1, 0, 0, 0, 1, 0, 0, 1, 1, 1, 0, 0, 1, 0, 1, 0,\n",
              "       0, 1, 0, 0, 1, 1, 0, 1, 1, 0, 1, 1, 1, 1, 0, 1, 1, 1, 1, 1, 1, 1,\n",
              "       1, 1, 0, 1, 1, 1, 1, 0, 0, 1, 0, 1, 1, 0, 0, 1, 1, 0, 0, 1, 1, 1,\n",
              "       1, 0, 1, 1, 0, 0, 0, 1, 0, 1, 0, 1, 1, 1, 0, 1, 1, 0, 0, 1, 0, 0,\n",
              "       0, 0, 1, 0, 0, 0, 1, 0, 1, 0, 1, 1, 0, 1, 0, 0, 0, 0, 1, 1, 0, 0,\n",
              "       1, 1, 1, 0, 1, 1, 1, 1, 1, 0, 0, 1, 1, 0, 1, 1, 0, 0, 1, 0, 1, 1,\n",
              "       1, 1, 0, 1, 1, 1, 1, 1, 0, 1, 0, 0, 0, 0, 0, 0, 0, 0, 0, 0, 0, 0,\n",
              "       0, 0, 1, 1, 1, 1, 1, 1, 0, 1, 0, 1, 1, 0, 1, 1, 0, 1, 0, 0, 1, 1,\n",
              "       1, 1, 1, 1, 1, 1, 1, 1, 1, 1, 1, 0, 1, 1, 0, 1, 0, 1, 1, 1, 1, 1,\n",
              "       1, 1, 1, 1, 1, 1, 1, 1, 1, 0, 1, 1, 1, 0, 1, 0, 1, 1, 1, 1, 0, 0,\n",
              "       0, 1, 1, 1, 1, 0, 1, 0, 1, 0, 1, 1, 1, 0, 1, 1, 1, 1, 1, 1, 1, 0,\n",
              "       0, 0, 1, 1, 1, 1, 1, 1, 1, 1, 1, 1, 1, 0, 0, 1, 0, 0, 0, 1, 0, 0,\n",
              "       1, 1, 1, 1, 1, 0, 1, 1, 1, 1, 1, 0, 1, 1, 1, 0, 1, 1, 0, 0, 1, 1,\n",
              "       1, 1, 1, 1, 0, 1, 1, 1, 1, 1, 1, 1, 0, 1, 1, 1, 1, 1, 0, 1, 1, 0,\n",
              "       1, 1, 1, 1, 1, 1, 1, 1, 1, 1, 1, 1, 0, 1, 0, 0, 1, 0, 1, 1, 1, 1,\n",
              "       1, 0, 1, 1, 0, 1, 0, 1, 1, 0, 1, 0, 1, 1, 1, 1, 1, 1, 1, 1, 0, 0,\n",
              "       1, 1, 1, 1, 1, 1, 0, 1, 1, 1, 1, 1, 1, 1, 1, 1, 1, 0, 1, 1, 1, 1,\n",
              "       1, 1, 1, 0, 1, 0, 1, 1, 0, 1, 1, 1, 1, 1, 0, 0, 1, 0, 1, 0, 1, 1,\n",
              "       1, 1, 1, 0, 1, 1, 0, 1, 0, 1, 0, 0, 1, 1, 1, 0, 1, 1, 1, 1, 1, 1,\n",
              "       1, 1, 1, 1, 1, 0, 1, 0, 0, 1, 1, 1, 1, 1, 1, 1, 1, 1, 1, 1, 1, 1,\n",
              "       1, 1, 1, 1, 1, 1, 1, 1, 1, 1, 1, 1, 0, 0, 0, 0, 0, 0, 1])"
            ]
          },
          "execution_count": 4,
          "metadata": {},
          "output_type": "execute_result"
        }
      ],
      "source": [
        "#Para acessar as labels\n",
        "cancer.target"
      ]
    },
    {
      "cell_type": "code",
      "execution_count": 5,
      "metadata": {
        "colab": {
          "base_uri": "https://localhost:8080/"
        },
        "id": "1R6vdwi-_rKB",
        "outputId": "a87db7a6-338e-41bd-c498-3258aefd319c"
      },
      "outputs": [
        {
          "data": {
            "text/plain": [
              "MultiIndex([(            'mean radius',),\n",
              "            (           'mean texture',),\n",
              "            (         'mean perimeter',),\n",
              "            (              'mean area',),\n",
              "            (        'mean smoothness',),\n",
              "            (       'mean compactness',),\n",
              "            (         'mean concavity',),\n",
              "            (    'mean concave points',),\n",
              "            (          'mean symmetry',),\n",
              "            ( 'mean fractal dimension',),\n",
              "            (           'radius error',),\n",
              "            (          'texture error',),\n",
              "            (        'perimeter error',),\n",
              "            (             'area error',),\n",
              "            (       'smoothness error',),\n",
              "            (      'compactness error',),\n",
              "            (        'concavity error',),\n",
              "            (   'concave points error',),\n",
              "            (         'symmetry error',),\n",
              "            ('fractal dimension error',),\n",
              "            (           'worst radius',),\n",
              "            (          'worst texture',),\n",
              "            (        'worst perimeter',),\n",
              "            (             'worst area',),\n",
              "            (       'worst smoothness',),\n",
              "            (      'worst compactness',),\n",
              "            (        'worst concavity',),\n",
              "            (   'worst concave points',),\n",
              "            (         'worst symmetry',),\n",
              "            ('worst fractal dimension',)],\n",
              "           )"
            ]
          },
          "execution_count": 5,
          "metadata": {},
          "output_type": "execute_result"
        }
      ],
      "source": [
        "#Pegar as colunas que serão usadas na classificação\n",
        "features = df.columns\n",
        "\n",
        "# Número de folds da validação cruzada\n",
        "SPLITS = 5\n",
        "\n",
        "features"
      ]
    },
    {
      "cell_type": "markdown",
      "metadata": {
        "id": "wbYGm3DUNyGj"
      },
      "source": [
        "Se tiver dúvidas sobre a validação cruzada, recomendo :https://towardsdatascience.com/what-is-stratified-cross-validation-in-machine-learning-8844f3e7ae8e . Para regressão, vocês usaram o kfold, agora recomendo a utilização do StratifiedKFold."
      ]
    },
    {
      "cell_type": "markdown",
      "metadata": {
        "deletable": false,
        "editable": false,
        "id": "cV0uYQxcm64E",
        "nbgrader": {
          "checksum": "c77a6c3fedbe648e6e209ba6323f711e",
          "grade": false,
          "grade_id": "cell-acd6c643a4ce1477",
          "locked": true,
          "schema_version": 1,
          "solution": false
        }
      },
      "source": [
        "# Exercício 01:\n",
        "\n",
        "Use o RandomForest para classificar as pacientes com e sem câncer.\n",
        "\n",
        "Para a questão, faça as seguintes tarefas:\n",
        "* Varie a o número de árvores (n_estimators) e a profundidade máxima da árvore (n_estimators). Faça pelo menos 4 configurações.\n",
        "* Realize validação cruzada, com k-fold igual a 5\n",
        "* Reporte a precisão, revocação, F1 e a matriz de confusão para cada configuração\n"
      ]
    },
    {
      "cell_type": "code",
      "execution_count": 45,
      "metadata": {
        "deletable": false,
        "id": "4_gbUGwMm64F",
        "nbgrader": {
          "checksum": "c4c170d5f5a66e6cffe2a8da92fb9285",
          "grade": true,
          "grade_id": "cell-1b46a0ab690a7b8c",
          "locked": false,
          "points": 4,
          "schema_version": 1,
          "solution": true
        }
      },
      "outputs": [
        {
          "name": "stdout",
          "output_type": "stream",
          "text": [
            "{'n_estimators': 50, 'max_depth': 5}\n",
            "Precision: 0.9612398112398113\n",
            "Recall: 0.96924882629108\n",
            "F1 Score: 0.9612398112398113\n",
            "Confusion Matrix:\n",
            "[[207.   5.]\n",
            " [  0. 357.]]\n",
            "\n",
            "{'n_estimators': 100, 'max_depth': 5}\n",
            "Precision: 0.9610262986521979\n",
            "Recall: 0.9664710485133021\n",
            "F1 Score: 0.9610262986521979\n",
            "Confusion Matrix:\n",
            "[[207.   5.]\n",
            " [  0. 357.]]\n",
            "\n",
            "{'n_estimators': 150, 'max_depth': 15}\n",
            "Precision: 0.9637623402840795\n",
            "Recall: 0.9664710485133021\n",
            "F1 Score: 0.9637623402840795\n",
            "Confusion Matrix:\n",
            "[[212.   0.]\n",
            " [  0. 357.]]\n",
            "\n",
            "{'n_estimators': 200, 'max_depth': 10}\n",
            "Precision: 0.9637079759440008\n",
            "Recall: 0.9664710485133021\n",
            "F1 Score: 0.9637079759440008\n",
            "Confusion Matrix:\n",
            "[[212.   0.]\n",
            " [  0. 357.]]\n",
            "\n"
          ]
        }
      ],
      "source": [
        "# YOUR CODE HERE\n",
        "X = df[features]\n",
        "y = cancer.target\n",
        "configs = [\n",
        "    {'n_estimators':50, 'max_depth': 5},\n",
        "    {'n_estimators':100, 'max_depth': 5},\n",
        "    {'n_estimators':150, 'max_depth': 15},\n",
        "    {'n_estimators':200, 'max_depth': 10}\n",
        "]\n",
        "f1_rf = []\n",
        "\n",
        "def valuate_RF(config, X, y):\n",
        "  model = RandomForestClassifier(n_estimators=config['n_estimators'], max_depth=config['max_depth'],random_state=42)\n",
        "  score = make_scorer(f1_score)\n",
        "  fold = StratifiedKFold(n_splits=SPLITS,shuffle=True, random_state=42)\n",
        "\n",
        "  scores = cross_val_score(model, X.values, y, cv=fold, scoring=score)\n",
        "  precision = np.mean(scores)\n",
        "  recall = np.mean(cross_val_score(model, X.values, y, cv=fold, scoring='recall'))\n",
        "  f1 = np.mean(cross_val_score(model, X.values, y, cv=fold, scoring='f1'))\n",
        "\n",
        "  cm = np.mean([confusion_matrix(y, model.fit(X, y).predict(X.values)) for _ in range(5)], axis=0)\n",
        "\n",
        "  return precision, recall, f1, cm\n",
        "\n",
        "for config in configs:\n",
        "  precision, recall, f1, cm = valuate_RF(config, X, y)\n",
        "  print(f\"{config}\")\n",
        "  print(f\"Precision: {precision}\")\n",
        "  print(f\"Recall: {recall}\")\n",
        "  print(f\"F1 Score: {f1}\")\n",
        "  print(f\"Confusion Matrix:\\n{cm}\\n\")\n",
        "  f1_rf.append(f1)\n"
      ]
    },
    {
      "cell_type": "markdown",
      "metadata": {
        "deletable": false,
        "editable": false,
        "id": "27nDGLBAm64H",
        "nbgrader": {
          "checksum": "c5c0a788bafbd1227adf600b857ee636",
          "grade": false,
          "grade_id": "cell-b8fab7f24e1b2a35",
          "locked": true,
          "schema_version": 1,
          "solution": false
        }
      },
      "source": [
        "# Exercício 02:\n",
        "\n",
        "Use a knn para classificar as pacientes com e sem câncer.\n",
        "\n",
        "Para a questão, faça as seguintes tarefas:\n",
        "\n",
        "* Escolha e reporte resultados com 3 números de vizinhos diferentes (k)\n",
        "* Realize validação cruzada, com k-fold igual a 5 (para cada um dos k vizinhos)\n",
        "* Reporte a precisão, revocação, F1 e a matriz de confusão para cada configuração\n"
      ]
    },
    {
      "cell_type": "code",
      "execution_count": 51,
      "metadata": {
        "id": "r5uQmMpPM2Q0"
      },
      "outputs": [
        {
          "name": "stdout",
          "output_type": "stream",
          "text": [
            "5\n",
            "Precision: 0.9386574657741706\n",
            "Recall: 0.9608372456964007\n",
            "F1 Score: 0.948952504120703\n",
            "Confusion Matrix:\n",
            "[[191.  21.]\n",
            " [  9. 348.]]\n",
            "\n",
            "10\n",
            "Precision: 0.9360890368213024\n",
            "Recall: 0.9635758998435054\n",
            "F1 Score: 0.9490894919063934\n",
            "Confusion Matrix:\n",
            "[[192.  20.]\n",
            " [ 13. 344.]]\n",
            "\n",
            "50\n",
            "Precision: 0.8988456313098482\n",
            "Recall: 0.9776604068857591\n",
            "F1 Score: 0.936036060401172\n",
            "Confusion Matrix:\n",
            "[[178.  34.]\n",
            " [  7. 350.]]\n",
            "\n",
            "100\n",
            "Precision: 0.8882233134825842\n",
            "Recall: 0.9832159624413146\n",
            "F1 Score: 0.9326129662592653\n",
            "Confusion Matrix:\n",
            "[[171.  41.]\n",
            " [  9. 348.]]\n",
            "\n"
          ]
        }
      ],
      "source": [
        "# YOUR CODE HERE\n",
        "X = df[features]\n",
        "y = cancer.target\n",
        "\n",
        "k_values = [5,10,50,100]\n",
        "f1_knn = []\n",
        "def valuate_knn(k, X, y):\n",
        "  model = KNeighborsClassifier(n_neighbors=k)\n",
        "  cv = StratifiedKFold(n_splits=5, shuffle=True, random_state=42)\n",
        "\n",
        "  precision = np.mean(cross_val_score(model, X.values, y, cv=cv, scoring=make_scorer(precision_score)))\n",
        "  recall = np.mean(cross_val_score(model, X.values, y, cv=cv, scoring=make_scorer(recall_score)))\n",
        "  f1 = np.mean(cross_val_score(model, X.values, y, cv=cv, scoring=make_scorer(f1_score)))\n",
        "\n",
        "  # Calcule a matriz de confusão média\n",
        "  cm = np.mean([confusion_matrix(y, model.fit(X, y).predict(X.values)) for _ in range(5)], axis=0)\n",
        "\n",
        "  return precision, recall, f1, cm\n",
        "\n",
        "for k in k_values:\n",
        "  precision, recall, f1, cm = valuate_knn(k, X, y)\n",
        "  print(f\"{k}\")\n",
        "  print(f\"Precision: {precision}\")\n",
        "  print(f\"Recall: {recall}\")\n",
        "  print(f\"F1 Score: {f1}\")\n",
        "  print(f\"Confusion Matrix:\\n{cm}\\n\")\n",
        "  f1_knn.append(f1)\n"
      ]
    },
    {
      "cell_type": "markdown",
      "metadata": {
        "id": "QWcCZPJtM2v3"
      },
      "source": [
        "# Exercício 03:\n",
        "\n",
        "Compare os resultados (F1 de cada método com cada configuração) em um gráfico. Qual foi o melhor método? Houve diferença significativa com as variações de parâmetros?"
      ]
    },
    {
      "cell_type": "code",
      "execution_count": 57,
      "metadata": {
        "id": "geE_6MXpM-4q"
      },
      "outputs": [
        {
          "data": {
            "image/png": "[encoded data removed]",
            "text/plain": [
              "<Figure size 640x480 with 1 Axes>"
            ]
          },
          "metadata": {},
          "output_type": "display_data"
        }
      ],
      "source": [
        "labels_rf = ['Config1 - k = 5', 'Config2 - k=10', 'Config3 - k = 50', 'Config4 - k=100']\n",
        "labels_knn = ['k=5','k=10', 'k=50', 'k=100']\n",
        "barWidth = 0.35\n",
        "index = np.arange(len(labels_rf))\n",
        "\n",
        "plt.bar(index, f1_rf, barWidth, color='blue', label='Random Forest')\n",
        "plt.bar([i + barWidth for i in index], f1_knn, barWidth, color='orange', label='KNN')\n",
        "\n",
        "plt.title('Comparação entre os classificadores por F1 Score')\n",
        "plt.xlabel('Configurações')\n",
        "plt.ylabel('F1 Score')\n",
        "plt.xticks([i + barWidth/2 for i in index], labels_rf)\n",
        "\n",
        "plt.show()\n"
      ]
    },
    {
      "cell_type": "markdown",
      "metadata": {
        "id": "mQEFIeXb83CT"
      },
      "source": [
        "# Exercício 04:\n",
        "\n",
        "Escolha a melhor configuração/método e refaça o modelo, agora usando apenas 5 features. (Você pode selecionar aleatoriamente ou usar alguma metodologia de feature selection). O que aconteceu com a F1? Por quê?"
      ]
    },
    {
      "cell_type": "code",
      "execution_count": 59,
      "metadata": {
        "id": "p8rCrGj8Dq0v"
      },
      "outputs": [
        {
          "name": "stdout",
          "output_type": "stream",
          "text": [
            "{'n_estimators': 50, 'max_depth': 5}\n",
            "Precision: 0.9303584855826618\n",
            "Recall: 0.9636150234741784\n",
            "F1 Score: 0.9303584855826618\n",
            "Confusion Matrix:\n",
            "[[197.  15.]\n",
            " [  1. 356.]]\n",
            "\n",
            "{'n_estimators': 100, 'max_depth': 5}\n",
            "Precision: 0.9355096937995621\n",
            "Recall: 0.9608372456964005\n",
            "F1 Score: 0.9355096937995621\n",
            "Confusion Matrix:\n",
            "[[198.  14.]\n",
            " [  2. 355.]]\n",
            "\n",
            "{'n_estimators': 150, 'max_depth': 15}\n",
            "Precision: 0.9345008734580205\n",
            "Recall: 0.9523865414710485\n",
            "F1 Score: 0.9345008734580205\n",
            "Confusion Matrix:\n",
            "[[212.   0.]\n",
            " [  0. 357.]]\n",
            "\n",
            "{'n_estimators': 200, 'max_depth': 10}\n",
            "Precision: 0.9358403790228783\n",
            "Recall: 0.9523865414710485\n",
            "F1 Score: 0.9358403790228783\n",
            "Confusion Matrix:\n",
            "[[212.   0.]\n",
            " [  0. 357.]]\n",
            "\n"
          ]
        },
        {
          "data": {
            "image/png": "[encoded data removed]",
            "text/plain": [
              "<Figure size 640x480 with 1 Axes>"
            ]
          },
          "metadata": {},
          "output_type": "display_data"
        }
      ],
      "source": [
        "New_features = ['mean radius', 'mean texture', 'mean perimeter', 'mean area', 'mean smoothness']\n",
        "X_new = df[New_features]\n",
        "y = cancer.target\n",
        "\n",
        "configs = [\n",
        "    {'n_estimators':50, 'max_depth': 5},\n",
        "    {'n_estimators':100, 'max_depth': 5},\n",
        "    {'n_estimators':150, 'max_depth': 15},\n",
        "    {'n_estimators':200, 'max_depth': 10}\n",
        "]\n",
        "f1_rf = []\n",
        "\n",
        "def valuate_RF(config, X, y):\n",
        "    model = RandomForestClassifier(n_estimators=config['n_estimators'], max_depth=config['max_depth'],random_state=42)\n",
        "    score = make_scorer(f1_score)\n",
        "    fold = StratifiedKFold(n_splits=SPLITS,shuffle=True, random_state=42)\n",
        "    \n",
        "    scores = cross_val_score(model, X.values, y, cv=fold, scoring=score)\n",
        "    precision = np.mean(scores)\n",
        "    recall = np.mean(cross_val_score(model, X.values, y, cv=fold, scoring='recall'))\n",
        "    f1 = np.mean(cross_val_score(model, X.values, y, cv=fold, scoring='f1'))\n",
        "    \n",
        "    cm = np.mean([confusion_matrix(y, model.fit(X, y).predict(X.values)) for _ in range(5)], axis=0)\n",
        "    \n",
        "    return precision, recall, f1, cm\n",
        "\n",
        "for config in configs:\n",
        "    precision, recall, f1, cm = valuate_RF(config, X_new, y)\n",
        "    print(f\"{config}\")\n",
        "    print(f\"Precision: {precision}\")\n",
        "    print(f\"Recall: {recall}\")\n",
        "    print(f\"F1 Score: {f1}\")\n",
        "    print(f\"Confusion Matrix:\\n{cm}\\n\")\n",
        "    f1_rf.append(f1)\n",
        "\n",
        "\n",
        "#Plotar resultados\n",
        "labels = ['Config1', 'Config2', 'Config3', 'Config4']\n",
        "barWidth = 0.35\n",
        "index = np.arange(len(labels))\n",
        "\n",
        "plt.bar(index, f1_rf, barWidth, color='blue', label='Random Forest')\n",
        "plt.title('F1 Score, menos features')\n",
        "plt.xlabel('Configurações')\n",
        "plt.ylabel('F1 Score')\n",
        "plt.show()"
      ]
    }
  ],
  "metadata": {
    "colab": {
      "provenance": []
    },
    "kernelspec": {
      "display_name": "Python 3",
      "language": "python",
      "name": "python3"
    },
    "language_info": {
      "codemirror_mode": {
        "name": "ipython",
        "version": 3
      },
      "file_extension": ".py",
      "mimetype": "text/x-python",
      "name": "python",
      "nbconvert_exporter": "python",
      "pygments_lexer": "ipython3",
      "version": "3.11.5"
    }
  },
  "nbformat": 4,
  "nbformat_minor": 0
}
