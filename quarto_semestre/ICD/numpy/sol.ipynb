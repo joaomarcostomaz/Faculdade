{
  "cells": [
    {
      "cell_type": "markdown",
      "metadata": {
        "id": "ipaFoa9tFb-2"
      },
      "source": [
        "# Lista 01 - Introdução e Revisão Numpy\n",
        "\n",
        "[NumPy](http://numpy.org) é um pacote incrivelmente poderoso em Python, onipresente em qualquer projeto de ciência de dados. Possui forte integração com o [Pandas](http://pandas.pydata.org), outra ferramenta que iremos abordar na matéria. NumPy adiciona suporte para matrizes multidimensionais e funções matemáticas que permitem que você execute facilmente cálculos de álgebra linear. Este notebook será uma coleção de exemplos de álgebra linear computados usando NumPy.\n",
        "\n",
        "## Numpy\n",
        "\n",
        "Para fazer uso de Numpy precisamos importar a biblioteca"
      ]
    },
    {
      "cell_type": "code",
      "execution_count": null,
      "metadata": {
        "id": "ACDu-iioFb-4"
      },
      "outputs": [],
      "source": [
        "# -*- coding: utf8\n",
        "\n",
        "import numpy as np"
      ]
    },
    {
      "cell_type": "markdown",
      "metadata": {
        "id": "Wag9PWwyFb-5"
      },
      "source": [
        "Quando pensamos no lado prático de ciência de dados, um aspecto chave que ajuda na implementação de novos algoritmos é a vetorização. De forma simples, vetorização consiste do uso de tipos como **escalar**, **vetor** e **matriz** para realizar uma computação mais eficaz (em tempo de execução).\n",
        "\n",
        "Uma matriz é uma coleção de valores, normalmente representada por uma grade 𝑚 × 𝑛, onde 𝑚 é o número de linhas e 𝑛 é o número de colunas. Os comprimentos das arestas 𝑚 e 𝑛 não precisam ser necessariamente diferentes. Se tivermos 𝑚 = 𝑛, chamamos isso de matriz quadrada. Um caso particularmente interessante de uma matriz é quando 𝑚 = 1 ou 𝑛 = 1. Nesse caso, temos um caso especial de uma matriz que chamamos de vetor. Embora haja um objeto de matriz em NumPy, faremos tudo usando matrizes NumPy porque elas podem ter dimensões maiores que 2.\n",
        "\n",
        "1. **Escalar:** Um vetor de zero dimensões"
      ]
    },
    {
      "cell_type": "code",
      "execution_count": null,
      "metadata": {
        "id": "4fFuPyN2Fb-5",
        "outputId": "d0fbfe0f-3d25-4ab0-e021-64c4ce837621"
      },
      "outputs": [
        {
          "data": {
            "text/plain": [
              "1"
            ]
          },
          "execution_count": 2,
          "metadata": {},
          "output_type": "execute_result"
        }
      ],
      "source": [
        "1"
      ]
    },
    {
      "cell_type": "code",
      "execution_count": null,
      "metadata": {
        "id": "ZqhKAfo4Fb-5",
        "outputId": "cfac52de-d92c-4595-e836-ab9742761ede"
      },
      "outputs": [
        {
          "data": {
            "text/plain": [
              "array(1)"
            ]
          },
          "execution_count": 3,
          "metadata": {},
          "output_type": "execute_result"
        }
      ],
      "source": [
        "np.array(1)"
      ]
    },
    {
      "cell_type": "markdown",
      "metadata": {
        "id": "NHr08gr3Fb-6"
      },
      "source": [
        "2. **Vetor:** Representa uma dimensão"
      ]
    },
    {
      "cell_type": "markdown",
      "metadata": {
        "id": "ym_gbOKaFb-6"
      },
      "source": [
        "Abaixo vamos criar um vetor simples. Inicialmente, vamos criar uma lista."
      ]
    },
    {
      "cell_type": "code",
      "execution_count": null,
      "metadata": {
        "id": "GeECk4xqFb-6"
      },
      "outputs": [],
      "source": [
        "data_list = [3.5, 5, 2, 8, 4.2]"
      ]
    },
    {
      "cell_type": "markdown",
      "metadata": {
        "id": "p5-MHE5NFb-6"
      },
      "source": [
        "Observe o tipo da mesma."
      ]
    },
    {
      "cell_type": "code",
      "execution_count": null,
      "metadata": {
        "id": "MRt3zHsSFb-6",
        "outputId": "a7aca346-7f35-42d3-f3f4-4dd84ebde86d"
      },
      "outputs": [
        {
          "data": {
            "text/plain": [
              "list"
            ]
          },
          "execution_count": 5,
          "metadata": {},
          "output_type": "execute_result"
        }
      ],
      "source": [
        "type(data_list)"
      ]
    },
    {
      "cell_type": "markdown",
      "metadata": {
        "id": "6RPEs8ufFb-6"
      },
      "source": [
        "Embora vetores e listas sejam parecidos, vetores Numpy são otimizados para operações de Álgebra Linear. Ciência de Dados faz bastante uso de tais operações, sendo este um dos motivos da dependência em Numpy.\n",
        "\n",
        "Abaixo criamos um vetor."
      ]
    },
    {
      "cell_type": "code",
      "execution_count": null,
      "metadata": {
        "id": "v0KLV-lJFb-6",
        "outputId": "6d6c6b37-783d-45ce-d0bb-9cad6ef13b95"
      },
      "outputs": [
        {
          "name": "stdout",
          "output_type": "stream",
          "text": [
            "[3.5 5.  2.  8.  4.2]\n",
            "<class 'numpy.ndarray'>\n"
          ]
        }
      ],
      "source": [
        "data = np.array(data_list)\n",
        "print(data)\n",
        "print(type(data))"
      ]
    },
    {
      "cell_type": "markdown",
      "metadata": {
        "id": "Ng3P2z0oFb-7"
      },
      "source": [
        "Observe como podemos somar o mesmo com um número. Não é possível fazer tal operação com listas."
      ]
    },
    {
      "cell_type": "code",
      "execution_count": null,
      "metadata": {
        "id": "7EVJNa0FFb-7",
        "outputId": "b7fa8676-2aec-4575-9468-127b79d2f595"
      },
      "outputs": [
        {
          "data": {
            "text/plain": [
              "array([10.5, 12. ,  9. , 15. , 11.2])"
            ]
          },
          "execution_count": 7,
          "metadata": {},
          "output_type": "execute_result"
        }
      ],
      "source": [
        "data + 7"
      ]
    },
    {
      "cell_type": "markdown",
      "metadata": {
        "id": "-BMA3cnuFb-7"
      },
      "source": [
        "3. **Matrizes:** Representam duas dimensões."
      ]
    },
    {
      "cell_type": "code",
      "execution_count": null,
      "metadata": {
        "id": "sYViXSNdFb-7",
        "outputId": "d133b011-ab65-4985-ceac-c4df132b51c6"
      },
      "outputs": [
        {
          "data": {
            "text/plain": [
              "array([[2, 4],\n",
              "       [1, 3]])"
            ]
          },
          "execution_count": 8,
          "metadata": {},
          "output_type": "execute_result"
        }
      ],
      "source": [
        "X = np.array([[2, 4],\n",
        "              [1, 3]])\n",
        "X"
      ]
    },
    {
      "cell_type": "markdown",
      "metadata": {
        "id": "fN8fK4rWFb-7"
      },
      "source": [
        "Podemos indexar as matrizes e os vetores."
      ]
    },
    {
      "cell_type": "code",
      "execution_count": null,
      "metadata": {
        "id": "BpyzH2afFb-7",
        "outputId": "ce8a301a-7ba4-4f15-f5ed-00d15522163a"
      },
      "outputs": [
        {
          "data": {
            "text/plain": [
              "3.5"
            ]
          },
          "execution_count": 9,
          "metadata": {},
          "output_type": "execute_result"
        }
      ],
      "source": [
        "data[0]"
      ]
    },
    {
      "cell_type": "code",
      "execution_count": null,
      "metadata": {
        "id": "E5qZwrUdFb-7",
        "outputId": "af1b868a-818d-4a2e-831c-c08469d8c786"
      },
      "outputs": [
        {
          "data": {
            "text/plain": [
              "4"
            ]
          },
          "execution_count": 10,
          "metadata": {},
          "output_type": "execute_result"
        }
      ],
      "source": [
        "X[0, 1] # aqui é primeira linha, segunda coluna"
      ]
    },
    {
      "cell_type": "markdown",
      "metadata": {
        "id": "_Vz-ADebFb-8"
      },
      "source": [
        "Podemos também criar vetores/matrizes de números aleatórios"
      ]
    },
    {
      "cell_type": "code",
      "execution_count": null,
      "metadata": {
        "id": "ybXSz5uSFb-8",
        "outputId": "fec86d05-d74f-445b-81f8-b57551e08453"
      },
      "outputs": [
        {
          "name": "stdout",
          "output_type": "stream",
          "text": [
            "[[-0.11836784  0.49523187  0.48974138]\n",
            " [ 0.21689251  0.09991091 -2.16855729]\n",
            " [-1.06024377  0.04837649 -1.39177152]\n",
            " [ 1.54629811  1.04417473  0.07377212]]\n"
          ]
        }
      ],
      "source": [
        "X = np.random.randn(4, 3) # Gera números aleatórios de uma normal\n",
        "print(X)"
      ]
    },
    {
      "cell_type": "markdown",
      "metadata": {
        "id": "wDLrB1x9Fb-8"
      },
      "source": [
        "### Indexando\n",
        "\n",
        "Pegando a primeira linha"
      ]
    },
    {
      "cell_type": "code",
      "execution_count": null,
      "metadata": {
        "id": "ILozTktbFb-8",
        "outputId": "e980fafc-34aa-42af-d0cc-338ee990602d"
      },
      "outputs": [
        {
          "data": {
            "text/plain": [
              "array([-0.11836784,  0.49523187,  0.48974138])"
            ]
          },
          "execution_count": 12,
          "metadata": {},
          "output_type": "execute_result"
        }
      ],
      "source": [
        "X[0] # observe que 0 é a linha 1, compare com o X[0, 1] de antes."
      ]
    },
    {
      "cell_type": "code",
      "execution_count": null,
      "metadata": {
        "id": "J9rDnRZaFb-8",
        "outputId": "ff97f9d2-3537-4d85-9997-5c1679cb3db7"
      },
      "outputs": [
        {
          "data": {
            "text/plain": [
              "array([ 0.21689251,  0.09991091, -2.16855729])"
            ]
          },
          "execution_count": 13,
          "metadata": {},
          "output_type": "execute_result"
        }
      ],
      "source": [
        "X[1] # segunda"
      ]
    },
    {
      "cell_type": "code",
      "execution_count": null,
      "metadata": {
        "id": "MPnJNay0Fb-8",
        "outputId": "844201da-d121-404f-b8aa-92930d0170a3"
      },
      "outputs": [
        {
          "data": {
            "text/plain": [
              "array([-1.06024377,  0.04837649, -1.39177152])"
            ]
          },
          "execution_count": 14,
          "metadata": {},
          "output_type": "execute_result"
        }
      ],
      "source": [
        "X[2] # terceira"
      ]
    },
    {
      "cell_type": "markdown",
      "metadata": {
        "id": "qGq-pM5zFb-8"
      },
      "source": [
        "Observe como todos os tipos retornados são `array`. Array é o nome genérico de Numpy para vetores e matrizes."
      ]
    },
    {
      "cell_type": "markdown",
      "metadata": {
        "id": "dSa92BDeFb-8"
      },
      "source": [
        "`X[:, c]` pega uma coluna"
      ]
    },
    {
      "cell_type": "code",
      "execution_count": null,
      "metadata": {
        "id": "01DOYG_kFb-8",
        "outputId": "8215554a-58c6-4ed1-eda5-90786406ad84"
      },
      "outputs": [
        {
          "data": {
            "text/plain": [
              "array([-0.11836784,  0.21689251, -1.06024377,  1.54629811])"
            ]
          },
          "execution_count": 15,
          "metadata": {},
          "output_type": "execute_result"
        }
      ],
      "source": [
        "X[:, 0]"
      ]
    },
    {
      "cell_type": "code",
      "execution_count": null,
      "metadata": {
        "id": "7LOrVwWDFb-9",
        "outputId": "481709fb-d975-4da5-b0ab-9d164ce0ea4c"
      },
      "outputs": [
        {
          "data": {
            "text/plain": [
              "array([0.49523187, 0.09991091, 0.04837649, 1.04417473])"
            ]
          },
          "execution_count": 16,
          "metadata": {},
          "output_type": "execute_result"
        }
      ],
      "source": [
        "X[:, 1]"
      ]
    },
    {
      "cell_type": "markdown",
      "metadata": {
        "id": "1lSGlStAFb-9"
      },
      "source": [
        "`X[um_vetor]` pega as linhas da matriz. `X[:, um_vetor]` pega as colunas"
      ]
    },
    {
      "cell_type": "code",
      "execution_count": null,
      "metadata": {
        "id": "-uHT1FI4Fb-9",
        "outputId": "f699694d-cc2a-4eac-bbd4-d5d58216a616"
      },
      "outputs": [
        {
          "data": {
            "text/plain": [
              "array([[-0.11836784,  0.49523187,  0.48974138],\n",
              "       [-0.11836784,  0.49523187,  0.48974138],\n",
              "       [ 0.21689251,  0.09991091, -2.16855729]])"
            ]
          },
          "execution_count": 17,
          "metadata": {},
          "output_type": "execute_result"
        }
      ],
      "source": [
        "X[[0, 0, 1]] # observe que pego a primeira linha, indexada por 0, duas vezes"
      ]
    },
    {
      "cell_type": "markdown",
      "metadata": {
        "id": "xE38fPKtFb-9"
      },
      "source": [
        "Abaixo pego a segunda a primeira coluna"
      ]
    },
    {
      "cell_type": "code",
      "execution_count": null,
      "metadata": {
        "id": "vzFOBB3FFb-9",
        "outputId": "18d6e534-cbea-4b39-882b-fadda33eadec"
      },
      "outputs": [
        {
          "data": {
            "text/plain": [
              "array([[ 0.49523187, -0.11836784],\n",
              "       [ 0.09991091,  0.21689251],\n",
              "       [ 0.04837649, -1.06024377],\n",
              "       [ 1.04417473,  1.54629811]])"
            ]
          },
          "execution_count": 18,
          "metadata": {},
          "output_type": "execute_result"
        }
      ],
      "source": [
        "X[:, [1, 0]]"
      ]
    },
    {
      "cell_type": "markdown",
      "metadata": {
        "id": "C8z4WtRIFb-9"
      },
      "source": [
        "### Indexação Booleana\n",
        "\n",
        "`X[vetor_booleano]` retorna as linhas (ou colunas quando X[:, vetor_booleano]) onde o vetor é true"
      ]
    },
    {
      "cell_type": "code",
      "execution_count": null,
      "metadata": {
        "id": "tMkhl4HuFb--",
        "outputId": "55376b5d-5332-490e-9952-637c52fad08b"
      },
      "outputs": [
        {
          "data": {
            "text/plain": [
              "array([[-0.11836784,  0.49523187,  0.48974138],\n",
              "       [-1.06024377,  0.04837649, -1.39177152]])"
            ]
          },
          "execution_count": 19,
          "metadata": {},
          "output_type": "execute_result"
        }
      ],
      "source": [
        "X[[True, False, True, False]]"
      ]
    },
    {
      "cell_type": "code",
      "execution_count": null,
      "metadata": {
        "id": "c8NmxnLmFb--",
        "outputId": "5c8b9f85-bd6e-4694-936e-dd7e8de3acc2"
      },
      "outputs": [
        {
          "data": {
            "text/plain": [
              "array([[ 0.49523187,  0.48974138],\n",
              "       [ 0.09991091, -2.16855729],\n",
              "       [ 0.04837649, -1.39177152],\n",
              "       [ 1.04417473,  0.07377212]])"
            ]
          },
          "execution_count": 20,
          "metadata": {},
          "output_type": "execute_result"
        }
      ],
      "source": [
        "X[:, [False, True, True]]"
      ]
    },
    {
      "cell_type": "markdown",
      "metadata": {
        "id": "FlbRu0YPFb--"
      },
      "source": [
        "### Reshape, Flatten e Ravel\n",
        "\n",
        "Todo vetor ou matriz pode ser redimensionado. Observe como uma matriz abaixo de 9x8=72 elementos. Podemos redimensionar os mesmos para outros arrays de tamanho 72."
      ]
    },
    {
      "cell_type": "code",
      "execution_count": null,
      "metadata": {
        "id": "ZHZxXdoRFb--"
      },
      "outputs": [],
      "source": [
        "X = np.random.randn(9, 8)"
      ]
    },
    {
      "cell_type": "markdown",
      "metadata": {
        "id": "D16hIVwcFb--"
      },
      "source": [
        "Criando uma matriz de 18x4."
      ]
    },
    {
      "cell_type": "code",
      "execution_count": null,
      "metadata": {
        "id": "0YBpZKJzFb-_",
        "outputId": "26e4cc57-5695-44f7-b15b-70b6fba8fb21"
      },
      "outputs": [
        {
          "data": {
            "text/plain": [
              "array([[-0.72276127, -0.06534088, -3.77670127, -2.84250342],\n",
              "       [-0.61655573,  0.35180561,  1.52215679, -0.42445502],\n",
              "       [-1.14147297, -0.30934899,  0.8286605 , -0.45803637],\n",
              "       [-2.2039506 ,  0.59763196,  0.01666778,  0.8052328 ],\n",
              "       [-0.09479352, -0.11127061, -0.98325536, -0.7099761 ],\n",
              "       [ 0.32557275,  0.75420001,  1.77172689, -0.80472022],\n",
              "       [-1.04706669,  0.93248579, -0.22975924,  0.26800388],\n",
              "       [-0.36579503, -0.91259952, -0.09536734, -0.4914888 ],\n",
              "       [ 1.44354528, -0.6767294 , -0.15015469, -0.17160804],\n",
              "       [ 1.55245382, -0.85363345, -2.26589934, -1.8120488 ],\n",
              "       [-0.48155017,  1.51634287, -0.37869656,  0.22018973],\n",
              "       [ 0.90519507, -1.2299283 , -0.75448178,  1.09450835],\n",
              "       [-0.24671096, -0.35427675,  0.12588131,  0.04356068],\n",
              "       [-0.53903691, -0.63526898,  1.39660581,  0.1028259 ],\n",
              "       [ 0.4968326 , -0.75346848,  0.12152051,  1.28928121],\n",
              "       [-0.82826565, -0.9800736 , -0.5269677 ,  0.05408668],\n",
              "       [-0.11132982,  0.01911487,  0.63418365,  0.94943183],\n",
              "       [ 0.21614905, -0.86647819, -0.06632612,  0.26298508]])"
            ]
          },
          "execution_count": 22,
          "metadata": {},
          "output_type": "execute_result"
        }
      ],
      "source": [
        "X.reshape((18, 4))"
      ]
    },
    {
      "cell_type": "markdown",
      "metadata": {
        "id": "XIRXw-ZrFb-_"
      },
      "source": [
        "Ou um vetor de 72"
      ]
    },
    {
      "cell_type": "code",
      "execution_count": null,
      "metadata": {
        "id": "sHz8tAMqFb-_",
        "outputId": "4af74f5e-4a96-454c-e6d0-c2da21fd69e8"
      },
      "outputs": [
        {
          "data": {
            "text/plain": [
              "array([-0.72276127, -0.06534088, -3.77670127, -2.84250342, -0.61655573,\n",
              "        0.35180561,  1.52215679, -0.42445502, -1.14147297, -0.30934899,\n",
              "        0.8286605 , -0.45803637, -2.2039506 ,  0.59763196,  0.01666778,\n",
              "        0.8052328 , -0.09479352, -0.11127061, -0.98325536, -0.7099761 ,\n",
              "        0.32557275,  0.75420001,  1.77172689, -0.80472022, -1.04706669,\n",
              "        0.93248579, -0.22975924,  0.26800388, -0.36579503, -0.91259952,\n",
              "       -0.09536734, -0.4914888 ,  1.44354528, -0.6767294 , -0.15015469,\n",
              "       -0.17160804,  1.55245382, -0.85363345, -2.26589934, -1.8120488 ,\n",
              "       -0.48155017,  1.51634287, -0.37869656,  0.22018973,  0.90519507,\n",
              "       -1.2299283 , -0.75448178,  1.09450835, -0.24671096, -0.35427675,\n",
              "        0.12588131,  0.04356068, -0.53903691, -0.63526898,  1.39660581,\n",
              "        0.1028259 ,  0.4968326 , -0.75346848,  0.12152051,  1.28928121,\n",
              "       -0.82826565, -0.9800736 , -0.5269677 ,  0.05408668, -0.11132982,\n",
              "        0.01911487,  0.63418365,  0.94943183,  0.21614905, -0.86647819,\n",
              "       -0.06632612,  0.26298508])"
            ]
          },
          "execution_count": 23,
          "metadata": {},
          "output_type": "execute_result"
        }
      ],
      "source": [
        "X.reshape(72)"
      ]
    },
    {
      "cell_type": "markdown",
      "metadata": {
        "id": "AdI7Vk4FFb-_"
      },
      "source": [
        "A chamada flatten e ravel faz a mesma coisa, criam uma visão de uma dimensão da matriz."
      ]
    },
    {
      "cell_type": "code",
      "execution_count": null,
      "metadata": {
        "id": "i_I5qMP2Fb-_",
        "outputId": "ca3f29e2-6144-45af-d099-a11e467d2b29"
      },
      "outputs": [
        {
          "data": {
            "text/plain": [
              "array([-0.72276127, -0.06534088, -3.77670127, -2.84250342, -0.61655573,\n",
              "        0.35180561,  1.52215679, -0.42445502, -1.14147297, -0.30934899,\n",
              "        0.8286605 , -0.45803637, -2.2039506 ,  0.59763196,  0.01666778,\n",
              "        0.8052328 , -0.09479352, -0.11127061, -0.98325536, -0.7099761 ,\n",
              "        0.32557275,  0.75420001,  1.77172689, -0.80472022, -1.04706669,\n",
              "        0.93248579, -0.22975924,  0.26800388, -0.36579503, -0.91259952,\n",
              "       -0.09536734, -0.4914888 ,  1.44354528, -0.6767294 , -0.15015469,\n",
              "       -0.17160804,  1.55245382, -0.85363345, -2.26589934, -1.8120488 ,\n",
              "       -0.48155017,  1.51634287, -0.37869656,  0.22018973,  0.90519507,\n",
              "       -1.2299283 , -0.75448178,  1.09450835, -0.24671096, -0.35427675,\n",
              "        0.12588131,  0.04356068, -0.53903691, -0.63526898,  1.39660581,\n",
              "        0.1028259 ,  0.4968326 , -0.75346848,  0.12152051,  1.28928121,\n",
              "       -0.82826565, -0.9800736 , -0.5269677 ,  0.05408668, -0.11132982,\n",
              "        0.01911487,  0.63418365,  0.94943183,  0.21614905, -0.86647819,\n",
              "       -0.06632612,  0.26298508])"
            ]
          },
          "execution_count": 24,
          "metadata": {},
          "output_type": "execute_result"
        }
      ],
      "source": [
        "X.flatten()"
      ]
    },
    {
      "cell_type": "code",
      "execution_count": null,
      "metadata": {
        "id": "KLUgMC43Fb_A",
        "outputId": "ebfc32b5-0068-4b1a-d256-c555a0104b2f"
      },
      "outputs": [
        {
          "data": {
            "text/plain": [
              "array([-0.72276127, -0.06534088, -3.77670127, -2.84250342, -0.61655573,\n",
              "        0.35180561,  1.52215679, -0.42445502, -1.14147297, -0.30934899,\n",
              "        0.8286605 , -0.45803637, -2.2039506 ,  0.59763196,  0.01666778,\n",
              "        0.8052328 , -0.09479352, -0.11127061, -0.98325536, -0.7099761 ,\n",
              "        0.32557275,  0.75420001,  1.77172689, -0.80472022, -1.04706669,\n",
              "        0.93248579, -0.22975924,  0.26800388, -0.36579503, -0.91259952,\n",
              "       -0.09536734, -0.4914888 ,  1.44354528, -0.6767294 , -0.15015469,\n",
              "       -0.17160804,  1.55245382, -0.85363345, -2.26589934, -1.8120488 ,\n",
              "       -0.48155017,  1.51634287, -0.37869656,  0.22018973,  0.90519507,\n",
              "       -1.2299283 , -0.75448178,  1.09450835, -0.24671096, -0.35427675,\n",
              "        0.12588131,  0.04356068, -0.53903691, -0.63526898,  1.39660581,\n",
              "        0.1028259 ,  0.4968326 , -0.75346848,  0.12152051,  1.28928121,\n",
              "       -0.82826565, -0.9800736 , -0.5269677 ,  0.05408668, -0.11132982,\n",
              "        0.01911487,  0.63418365,  0.94943183,  0.21614905, -0.86647819,\n",
              "       -0.06632612,  0.26298508])"
            ]
          },
          "execution_count": 25,
          "metadata": {},
          "output_type": "execute_result"
        }
      ],
      "source": [
        "X.ravel()"
      ]
    },
    {
      "cell_type": "markdown",
      "metadata": {
        "id": "I32VF9Y_Fb_A"
      },
      "source": [
        "As funções incorporadas ao NumPy podem ser facilmente chamadas em matrizes. A maioria das funções são aplicadas a um elemento de array (como a multiplicação escalar). Por exemplo, se chamarmos `log()` em um array, o logaritmo será obtido de cada elemento."
      ]
    },
    {
      "cell_type": "code",
      "execution_count": null,
      "metadata": {
        "id": "kUL-KU5UFb_A",
        "outputId": "13c8c656-7d1f-48fa-a3a5-79ebf9e2c25f"
      },
      "outputs": [
        {
          "data": {
            "text/plain": [
              "array([1.25276297, 1.60943791, 0.69314718, 2.07944154, 1.43508453])"
            ]
          },
          "execution_count": 26,
          "metadata": {},
          "output_type": "execute_result"
        }
      ],
      "source": [
        "np.log(data)"
      ]
    },
    {
      "cell_type": "markdown",
      "metadata": {
        "id": "_d-2_pEdFb_A"
      },
      "source": [
        "Mean tira a média"
      ]
    },
    {
      "cell_type": "code",
      "execution_count": null,
      "metadata": {
        "id": "Hap7AKN0Fb_A",
        "outputId": "2c8cc882-c566-4ddd-99ce-108a60c387de"
      },
      "outputs": [
        {
          "data": {
            "text/plain": [
              "4.54"
            ]
          },
          "execution_count": 27,
          "metadata": {},
          "output_type": "execute_result"
        }
      ],
      "source": [
        "np.mean(data)"
      ]
    },
    {
      "cell_type": "markdown",
      "metadata": {
        "id": "S2BPXBtQFb_A"
      },
      "source": [
        "Algumas funções podem ser chamadas direto no vetor, nem todas serão assim. O importante é ler a [documentação](http://numpy.org) e aprender. Com um pouco de prática você vai se acostumando."
      ]
    },
    {
      "cell_type": "code",
      "execution_count": null,
      "metadata": {
        "id": "UJByCEPoFb_B",
        "outputId": "aeae6cb3-6574-4492-834d-2146b765185e"
      },
      "outputs": [
        {
          "data": {
            "text/plain": [
              "4.54"
            ]
          },
          "execution_count": 28,
          "metadata": {},
          "output_type": "execute_result"
        }
      ],
      "source": [
        "data.mean()"
      ]
    },
    {
      "cell_type": "markdown",
      "metadata": {
        "id": "II_I1eTqFb_B"
      },
      "source": [
        "Abaixo temos a mediana,"
      ]
    },
    {
      "cell_type": "code",
      "execution_count": null,
      "metadata": {
        "id": "fwvTwYvWFb_B",
        "outputId": "1bb0aa61-46a7-450a-ee98-a5b8928e652c"
      },
      "outputs": [
        {
          "data": {
            "text/plain": [
              "4.2"
            ]
          },
          "execution_count": 29,
          "metadata": {},
          "output_type": "execute_result"
        }
      ],
      "source": [
        "np.median(data) # por exemplo, não existe data.median(). Faz sentido? Não. Mas é assim."
      ]
    },
    {
      "cell_type": "markdown",
      "metadata": {
        "id": "hIoWMDt_Fb_B"
      },
      "source": [
        "Em matrizes as funções operam em todos os elemntos."
      ]
    },
    {
      "cell_type": "code",
      "execution_count": null,
      "metadata": {
        "id": "YxG7nANnFb_B",
        "outputId": "95246759-c271-40e3-e3b3-f853afbfa215"
      },
      "outputs": [
        {
          "data": {
            "text/plain": [
              "-0.13074225484737123"
            ]
          },
          "execution_count": 30,
          "metadata": {},
          "output_type": "execute_result"
        }
      ],
      "source": [
        "np.median(X)"
      ]
    },
    {
      "cell_type": "code",
      "execution_count": null,
      "metadata": {
        "id": "BKCmESbIFb_B",
        "outputId": "1f8bfdd6-b9c9-4891-f6d6-17fb671f41e3"
      },
      "outputs": [
        {
          "data": {
            "text/plain": [
              "-0.17321268854824984"
            ]
          },
          "execution_count": 31,
          "metadata": {},
          "output_type": "execute_result"
        }
      ],
      "source": [
        "X.mean()"
      ]
    },
    {
      "cell_type": "code",
      "execution_count": null,
      "metadata": {
        "id": "PopNUbWdFb_B",
        "outputId": "81728e7f-5a43-4964-d5aa-23bf7e23278e"
      },
      "outputs": [
        {
          "data": {
            "text/plain": [
              "array([[2.22756395, 2.29602956, 1.82830011, 1.96816028, 2.23894689,\n",
              "        2.33716096, 2.44427186, 2.25921245],\n",
              "       [2.1813805 , 2.27116161, 2.38219637, 2.2556993 , 2.05361712,\n",
              "        2.36063058, 2.30425048, 2.38003054],\n",
              "       [2.29306053, 2.29139566, 2.19908336, 2.22894113, 2.33462361,\n",
              "        2.37529638, 2.46570063, 2.21869028],\n",
              "       [2.19198122, 2.3917387 , 2.27934111, 2.32903264, 2.26531978,\n",
              "        2.20688889, 2.29300259, 2.25218731],\n",
              "       [2.43742584, 2.23251349, 2.28745575, 2.28527534, 2.44689787,\n",
              "        2.2133567 , 2.04563921, 2.10266371],\n",
              "       [2.253232  , 2.44376715, 2.26397975, 2.32436515, 2.38923929,\n",
              "        2.17134498, 2.22413892, 2.40645024],\n",
              "       [2.27760457, 2.26651463, 2.31509465, 2.3069317 , 2.24717418,\n",
              "        2.23695061, 2.43331558, 2.31281518],\n",
              "       [2.35107355, 2.22424851, 2.3146639 , 2.42385371, 2.2161264 ,\n",
              "        2.19943617, 2.24844906, 2.30797919],\n",
              "       [2.29138968, 2.30449476, 2.36407368, 2.39328757, 2.32396971,\n",
              "        2.21195136, 2.29593039, 2.32854374]])"
            ]
          },
          "execution_count": 32,
          "metadata": {},
          "output_type": "execute_result"
        }
      ],
      "source": [
        "np.log(X + 10)"
      ]
    },
    {
      "cell_type": "markdown",
      "metadata": {
        "id": "Lv8mFSsfFb_B"
      },
      "source": [
        "Porém, caso você queira a media de linhas ou colunas use `axis`. Antes, vamos ver o tamanho do vetor."
      ]
    },
    {
      "cell_type": "code",
      "execution_count": null,
      "metadata": {
        "id": "QSa-oowNFb_B",
        "outputId": "8d8bb9a7-5ae8-4ab8-8956-f6048b21fd80"
      },
      "outputs": [
        {
          "data": {
            "text/plain": [
              "(9, 8)"
            ]
          },
          "execution_count": 33,
          "metadata": {},
          "output_type": "execute_result"
        }
      ],
      "source": [
        "X.shape"
      ]
    },
    {
      "cell_type": "code",
      "execution_count": null,
      "metadata": {
        "id": "275aTDS4Fb_C",
        "outputId": "2be2d16a-2ccb-41d8-df5d-89ee3a7a4a47"
      },
      "outputs": [
        {
          "data": {
            "text/plain": [
              "array([-0.21170084,  0.02194538, -0.42314679, -0.15685073, -0.17269258,\n",
              "       -0.41937161,  0.11090167, -0.134786  ])"
            ]
          },
          "execution_count": 34,
          "metadata": {},
          "output_type": "execute_result"
        }
      ],
      "source": [
        "np.mean(X, axis=0) # média das colunas. como temos 8 colunas, temos 8 elementos."
      ]
    },
    {
      "cell_type": "code",
      "execution_count": null,
      "metadata": {
        "id": "IQLnNKnqFb_C",
        "outputId": "1a870cb7-0af3-4297-93b3-5972c63575cd"
      },
      "outputs": [
        {
          "data": {
            "text/plain": [
              "(8,)"
            ]
          },
          "execution_count": 35,
          "metadata": {},
          "output_type": "execute_result"
        }
      ],
      "source": [
        "np.mean(X, axis=0).shape"
      ]
    },
    {
      "cell_type": "code",
      "execution_count": null,
      "metadata": {
        "id": "lngorIiLFb_D",
        "outputId": "d0c9576e-3e90-4219-9f30-06e5aa81c982"
      },
      "outputs": [
        {
          "data": {
            "text/plain": [
              "array([-0.8217944 , -0.23307699,  0.01843548, -0.24269837, -0.36675933,\n",
              "        0.1114474 , -0.01330249, -0.1408818 ,  0.12971629])"
            ]
          },
          "execution_count": 36,
          "metadata": {},
          "output_type": "execute_result"
        }
      ],
      "source": [
        "np.mean(X, axis=1) # média das linhas"
      ]
    },
    {
      "cell_type": "code",
      "execution_count": null,
      "metadata": {
        "id": "r-dT9OIiFb_D",
        "outputId": "05f6a438-bad4-4181-c9de-c210d5c02b6e"
      },
      "outputs": [
        {
          "data": {
            "text/plain": [
              "(9,)"
            ]
          },
          "execution_count": 37,
          "metadata": {},
          "output_type": "execute_result"
        }
      ],
      "source": [
        "np.mean(X, axis=1).shape"
      ]
    },
    {
      "cell_type": "markdown",
      "metadata": {
        "id": "PMD0iSz5Fb_D"
      },
      "source": [
        "Lembre-se que eixo 0 é coluna. Eixo 1 é linas."
      ]
    },
    {
      "cell_type": "markdown",
      "metadata": {
        "id": "Ay1_9bE-Fb_D"
      },
      "source": [
        "### Multiplicação de Matrizes"
      ]
    },
    {
      "cell_type": "markdown",
      "metadata": {
        "id": "vl98dPLZFb_D"
      },
      "source": [
        "Para transpor uma matriz fazemos uso de .T"
      ]
    },
    {
      "cell_type": "code",
      "execution_count": null,
      "metadata": {
        "id": "3jdClM3lFb_E",
        "outputId": "9981e7c5-f713-430a-c5b5-eee5ea8ac6f5"
      },
      "outputs": [
        {
          "data": {
            "text/plain": [
              "(9, 8)"
            ]
          },
          "execution_count": 38,
          "metadata": {},
          "output_type": "execute_result"
        }
      ],
      "source": [
        "X.shape"
      ]
    },
    {
      "cell_type": "code",
      "execution_count": null,
      "metadata": {
        "id": "kbL9ld2NFb_E",
        "outputId": "3914a2b2-7833-44d9-bbe3-edd0b76b21e3"
      },
      "outputs": [
        {
          "data": {
            "text/plain": [
              "(8, 9)"
            ]
          },
          "execution_count": 39,
          "metadata": {},
          "output_type": "execute_result"
        }
      ],
      "source": [
        "X.T.shape"
      ]
    },
    {
      "cell_type": "code",
      "execution_count": null,
      "metadata": {
        "id": "9A_4PnSYFb_E",
        "outputId": "d2f2997e-1b73-497a-ac2f-9f1a79a564ad"
      },
      "outputs": [
        {
          "data": {
            "text/plain": [
              "array([[-0.72276127, -1.14147297, -0.09479352, -1.04706669,  1.44354528,\n",
              "        -0.48155017, -0.24671096,  0.4968326 , -0.11132982],\n",
              "       [-0.06534088, -0.30934899, -0.11127061,  0.93248579, -0.6767294 ,\n",
              "         1.51634287, -0.35427675, -0.75346848,  0.01911487],\n",
              "       [-3.77670127,  0.8286605 , -0.98325536, -0.22975924, -0.15015469,\n",
              "        -0.37869656,  0.12588131,  0.12152051,  0.63418365],\n",
              "       [-2.84250342, -0.45803637, -0.7099761 ,  0.26800388, -0.17160804,\n",
              "         0.22018973,  0.04356068,  1.28928121,  0.94943183],\n",
              "       [-0.61655573, -2.2039506 ,  0.32557275, -0.36579503,  1.55245382,\n",
              "         0.90519507, -0.53903691, -0.82826565,  0.21614905],\n",
              "       [ 0.35180561,  0.59763196,  0.75420001, -0.91259952, -0.85363345,\n",
              "        -1.2299283 , -0.63526898, -0.9800736 , -0.86647819],\n",
              "       [ 1.52215679,  0.01666778,  1.77172689, -0.09536734, -2.26589934,\n",
              "        -0.75448178,  1.39660581, -0.5269677 , -0.06632612],\n",
              "       [-0.42445502,  0.8052328 , -0.80472022, -0.4914888 , -1.8120488 ,\n",
              "         1.09450835,  0.1028259 ,  0.05408668,  0.26298508]])"
            ]
          },
          "execution_count": 40,
          "metadata": {},
          "output_type": "execute_result"
        }
      ],
      "source": [
        "X.T"
      ]
    },
    {
      "cell_type": "markdown",
      "metadata": {
        "id": "HoAv6okHFb_E"
      },
      "source": [
        "Para multiplicar matrizes, do ponto de visto de multiplicação matricial como definido na álgebra linear, fazemos uso de `@`."
      ]
    },
    {
      "cell_type": "code",
      "execution_count": null,
      "metadata": {
        "id": "Rg2gHIwiFb_E",
        "outputId": "f2199ea5-b074-445d-bba4-06698c161e1a"
      },
      "outputs": [
        {
          "data": {
            "text/plain": [
              "array([[25.87098296,  0.27028688,  8.91036657,  0.76970611, -3.88164286,\n",
              "        -1.55050768,  1.79328756, -5.09280027, -5.66535341],\n",
              "       [ 0.27028688,  8.15837275, -1.2322329 ,  0.45702992, -6.9128257 ,\n",
              "        -2.1953596 ,  1.39000033,  0.45062754, -0.57174274],\n",
              "       [ 8.91036657, -1.2322329 ,  5.95363021, -0.54969684, -2.48679681,\n",
              "        -2.75746435,  1.64514906, -2.98410189, -2.20147875],\n",
              "       [ 0.76970611,  0.45702992, -0.54969684,  3.30779383, -0.83618085,\n",
              "         2.38953449,  0.50391167,  0.31585906,  0.8318884 ],\n",
              "       [-3.88164286, -6.9128257 , -2.48679681, -0.83618085, 14.15040501,\n",
              "         0.47924215, -3.78820279,  1.63442425,  0.31716169],\n",
              "       [-1.55050768, -2.1953596 , -2.75746435,  2.38953449,  0.47924215,\n",
              "         6.82237391, -1.1042486 , -0.23143517,  1.65073188],\n",
              "       [ 1.79328756,  1.39000033,  1.64514906,  0.50391167, -3.78820279,\n",
              "        -1.1042486 ,  2.85933038,  0.55449292,  0.51022873],\n",
              "       [-5.09280027,  0.45062754, -2.98410189,  0.31585906,  1.63442425,\n",
              "        -0.23143517,  0.55449292,  4.41875924,  1.95079548],\n",
              "       [-5.66535341, -0.57174274, -2.20147875,  0.8318884 ,  0.31716169,\n",
              "         1.65073188,  0.51022873,  1.95079548,  2.18743458]])"
            ]
          },
          "execution_count": 41,
          "metadata": {},
          "output_type": "execute_result"
        }
      ],
      "source": [
        "X @ X.T"
      ]
    },
    {
      "cell_type": "markdown",
      "metadata": {
        "id": "WbKXiJIGFb_E"
      },
      "source": [
        "O uso de `*` realiza uma operação ponto a ponto"
      ]
    },
    {
      "cell_type": "code",
      "execution_count": null,
      "metadata": {
        "id": "ICWVd91aFb_E",
        "outputId": "b4c8e423-2a87-4562-8112-b8717881d523"
      },
      "outputs": [
        {
          "data": {
            "text/plain": [
              "array([[5.22383857e-01, 4.26943123e-03, 1.42634724e+01, 8.07982571e+00,\n",
              "        3.80140965e-01, 1.23767184e-01, 2.31696130e+00, 1.80162065e-01],\n",
              "       [1.30296053e+00, 9.56967958e-02, 6.86678222e-01, 2.09797314e-01,\n",
              "        4.85739825e+00, 3.57163956e-01, 2.77814864e-04, 6.48399870e-01],\n",
              "       [8.98581215e-03, 1.23811496e-02, 9.66791099e-01, 5.04066064e-01,\n",
              "        1.05997615e-01, 5.68817662e-01, 3.13901617e+00, 6.47574633e-01],\n",
              "       [1.09634865e+00, 8.69529739e-01, 5.27893089e-02, 7.18260810e-02,\n",
              "        1.33806004e-01, 8.32837883e-01, 9.09492917e-03, 2.41561240e-01],\n",
              "       [2.08382297e+00, 4.57962687e-01, 2.25464315e-02, 2.94493181e-02,\n",
              "        2.41011286e+00, 7.28690065e-01, 5.13429981e+00, 3.28352087e+00],\n",
              "       [2.31890565e-01, 2.29929570e+00, 1.43411081e-01, 4.84835185e-02,\n",
              "        8.19378120e-01, 1.51272364e+00, 5.69242750e-01, 1.19794854e+00],\n",
              "       [6.08662996e-02, 1.25512017e-01, 1.58461031e-02, 1.89753326e-03,\n",
              "        2.90560795e-01, 4.03566677e-01, 1.95050779e+00, 1.05731664e-02],\n",
              "       [2.46842633e-01, 5.67714756e-01, 1.47672338e-02, 1.66224605e+00,\n",
              "        6.86023980e-01, 9.60544260e-01, 2.77694958e-01, 2.92536873e-03],\n",
              "       [1.23943283e-02, 3.65378100e-04, 4.02188897e-01, 9.01420799e-01,\n",
              "        4.67204130e-02, 7.50784453e-01, 4.39915385e-03, 6.91611527e-02]])"
            ]
          },
          "execution_count": 42,
          "metadata": {},
          "output_type": "execute_result"
        }
      ],
      "source": [
        "X * X"
      ]
    },
    {
      "cell_type": "markdown",
      "metadata": {
        "id": "XKs-adVPFb_E"
      },
      "source": [
        "Observe a diferença de tamanhos"
      ]
    },
    {
      "cell_type": "code",
      "execution_count": null,
      "metadata": {
        "id": "I1qw_N1mFb_E",
        "outputId": "af21ac3a-e447-4036-dfc6-fe9d0e40857c"
      },
      "outputs": [
        {
          "data": {
            "text/plain": [
              "(9, 8)"
            ]
          },
          "execution_count": 43,
          "metadata": {},
          "output_type": "execute_result"
        }
      ],
      "source": [
        "(X * X).shape"
      ]
    },
    {
      "cell_type": "code",
      "execution_count": null,
      "metadata": {
        "id": "jMkZgaypFb_F",
        "outputId": "57a36992-61ce-4f36-a721-441df632663c"
      },
      "outputs": [
        {
          "data": {
            "text/plain": [
              "(9, 9)"
            ]
          },
          "execution_count": 44,
          "metadata": {},
          "output_type": "execute_result"
        }
      ],
      "source": [
        "(X @ X.T).shape"
      ]
    },
    {
      "cell_type": "markdown",
      "metadata": {
        "id": "TSkZnWKcFb_F"
      },
      "source": [
        "**Pense:** Para o nosso `X` de tamanho `(9, 8)`, qual o motivo de `X * X.T` não funcionar? Qual o motivo de `X @ X` não funcionar?"
      ]
    },
    {
      "cell_type": "markdown",
      "metadata": {
        "id": "fO87mzbGFb_F"
      },
      "source": [
        "## Correção Automática\n",
        "\n",
        "Nossa correção automática depende das funções abaixo. Tais funções comparam valores que serão computados pelo seu código com uma saída esperada. Normalmente, vocês não fazer uso de tais funções em notebooks como este. Porém, elas são chave em ambientes de testes automáticos (fora do nosso escopo).\n",
        "\n",
        "Observe como algumas funções comparam valores e outras comparam vetores. Além do mais, temos funções para comparar dentro de algumas casas decimais."
      ]
    },
    {
      "cell_type": "code",
      "execution_count": null,
      "metadata": {
        "id": "490eWqXQFb_F"
      },
      "outputs": [],
      "source": [
        "from numpy.testing import assert_almost_equal\n",
        "from numpy.testing import assert_equal\n",
        "\n",
        "from numpy.testing import assert_array_almost_equal\n",
        "from numpy.testing import assert_array_equal"
      ]
    },
    {
      "cell_type": "code",
      "execution_count": null,
      "metadata": {
        "id": "9IWM3PdCFb_F"
      },
      "outputs": [],
      "source": [
        "# caso você mude um dos valores vamos receber um erro!\n",
        "assert_array_equal(2, 2)\n",
        "\n",
        "# caso você mude um dos valores vamos receber um erro!\n",
        "assert_array_equal([1, 2], [1, 2])\n",
        "\n",
        "# caso você mude um dos valores vamos receber um erro!\n",
        "assert_almost_equal(3.1415, 3.14, 1)"
      ]
    },
    {
      "cell_type": "markdown",
      "metadata": {
        "id": "0V9WDyAdFb_F"
      },
      "source": [
        "Caso você mude um dos valores abaixo vamos receber um erro! Como o abaixo.\n",
        "\n",
        "```\n",
        "-----------------------------------------------------------------------\n",
        "AssertionError                        Traceback (most recent call last)\n",
        "<ipython-input-10-396672d880f2> in <module>\n",
        "----> 1 assert_equal(2, 3) # caso você mude um dos valores vamos receber um erro!\n",
        "\n",
        "~/miniconda3/lib/python3.7/site-packages/numpy/testing/_private/utils.py in assert_equal(actual, desired, err_msg, verbose)\n",
        "    413         # Explicitly use __eq__ for comparison, gh-2552\n",
        "    414         if not (desired == actual):\n",
        "--> 415             raise AssertionError(msg)\n",
        "    416\n",
        "    417     except (DeprecationWarning, FutureWarning) as e:\n",
        "\n",
        "AssertionError:\n",
        "Items are not equal:\n",
        " ACTUAL: 2\n",
        " DESIRED: 3\n",
        " ```"
      ]
    },
    {
      "cell_type": "markdown",
      "metadata": {
        "id": "o3f7ElwNFb_F"
      },
      "source": [
        "É essencial que todo seu código execute sem erros! Portanto, antes de submeter clique em `Kernel` no menu acima. Depois clique em `Restart & Execute All.`\n",
        "\n",
        "**Garanta que o notebook executa até o fim!** Isto é, sem erros como o acima."
      ]
    },
    {
      "cell_type": "markdown",
      "metadata": {
        "id": "MJbKVI37Fb_F"
      },
      "source": [
        "## Funções em Python"
      ]
    },
    {
      "cell_type": "markdown",
      "metadata": {
        "id": "dRD0rP8GFb_F"
      },
      "source": [
        "Para criar uma função em Python fazemos uso da palavra-chave:\n",
        "```python\n",
        "def\n",
        "```\n",
        "\n",
        "Todos nossos exercícios farão uso de funções. **Mantenha a assinatura das funções exatamente como requisitado, a correção automática depende disso.** Abaixo, temos um exempo de uma função que imprime algo na tela!"
      ]
    },
    {
      "cell_type": "code",
      "execution_count": null,
      "metadata": {
        "id": "FfpLdH2uFb_F"
      },
      "outputs": [],
      "source": [
        "def print_something(txt):\n",
        "    print(f'Voce passou o argumento: {txt}')"
      ]
    },
    {
      "cell_type": "code",
      "execution_count": null,
      "metadata": {
        "id": "cpiSZpbDFb_G",
        "outputId": "7b460689-4c34-4fee-9d97-b43396664924"
      },
      "outputs": [
        {
          "name": "stdout",
          "output_type": "stream",
          "text": [
            "Voce passou o argumento: DCC 212\n"
          ]
        }
      ],
      "source": [
        "print_something('DCC 212')"
      ]
    },
    {
      "cell_type": "markdown",
      "metadata": {
        "id": "87ZEV-FMFb_K"
      },
      "source": [
        "Podemos também dizer o tipo do argumento, porém faremos pouco uso disto em ICD."
      ]
    },
    {
      "cell_type": "code",
      "execution_count": null,
      "metadata": {
        "id": "iFRxpAEAFb_K"
      },
      "outputs": [],
      "source": [
        "def print_something(txt: str):\n",
        "    print(f'Voce passou o argumento: {txt}')"
      ]
    },
    {
      "cell_type": "code",
      "execution_count": null,
      "metadata": {
        "id": "sXCJPpuvFb_K",
        "outputId": "93b7e147-548f-4e1f-a548-3f3663e19cd4"
      },
      "outputs": [
        {
          "name": "stdout",
          "output_type": "stream",
          "text": [
            "Voce passou o argumento: DCC 212\n"
          ]
        }
      ],
      "source": [
        "print_something('DCC 212')"
      ]
    },
    {
      "cell_type": "markdown",
      "metadata": {
        "id": "y4nYRlglFb_K"
      },
      "source": [
        "Abaixo temos uma função que soma, a soma, dois vetores"
      ]
    },
    {
      "cell_type": "code",
      "execution_count": null,
      "metadata": {
        "id": "vmkSUlIZFb_K"
      },
      "outputs": [],
      "source": [
        "def sum_of_sum_vectors(array_1, array_2):\n",
        "    return (array_1 + array_2).sum()"
      ]
    },
    {
      "cell_type": "code",
      "execution_count": null,
      "metadata": {
        "id": "NHKKpedCFb_K"
      },
      "outputs": [],
      "source": [
        "x = np.array([1, 2])\n",
        "y = np.array([1, 2])"
      ]
    },
    {
      "cell_type": "code",
      "execution_count": null,
      "metadata": {
        "id": "xaEa4x_qFb_L",
        "outputId": "5d920e1e-1572-4aac-81b0-17d14efcb957"
      },
      "outputs": [
        {
          "data": {
            "text/plain": [
              "6"
            ]
          },
          "execution_count": 53,
          "metadata": {},
          "output_type": "execute_result"
        }
      ],
      "source": [
        "sum_of_sum_vectors(x, y)"
      ]
    },
    {
      "cell_type": "markdown",
      "metadata": {
        "id": "DNyJ-HySFb_L"
      },
      "source": [
        "Abaixo temos um teste, tais testes vão avaliar o seu código. Nem todos estão aqui no notebook!"
      ]
    },
    {
      "cell_type": "code",
      "execution_count": null,
      "metadata": {
        "id": "8PBf4T-PFb_L"
      },
      "outputs": [],
      "source": [
        "assert_equal(6, sum_of_sum_vectors(x, y))"
      ]
    },
    {
      "cell_type": "markdown",
      "metadata": {
        "id": "yKL9uXDqFb_L"
      },
      "source": [
        "## Exercício 01\n",
        "\n",
        "Inicialmente, crie uma função que recebe duas listas de números, converte as duas para um vetor numpy usando `np.array` e retorna o produto interno das duas listas.\n",
        "\n",
        "__Dicas:__  \n",
        "1. Tente fazer um código sem nenhum **for**! Ou seja, numpy permite operações em vetores e matrizes, onde: `np.array([1, 2]) + np.array([2, 2]) = np.array([3, 4])`.\n",
        "\n",
        "__Funções:__\n",
        "1. `np.sum(array)` soma os elementos do array. `array.sum()` tem o mesmo efeito!"
      ]
    },
    {
      "cell_type": "code",
      "execution_count": 3,
      "metadata": {
        "id": "QU0Bsd0QFb_L"
      },
      "outputs": [],
      "source": [
        "def inner(array_1, array_2):\n",
        "    # Seu código aqui!\n",
        "    # Apague o return None abaixo e mude para seu retorno\n",
        "    list1 = np.array(array_1)\n",
        "    list2 = np.array(array_2)\n",
        "    produto_interno = list1 @ list2\n",
        "    return produto_interno"
      ]
    },
    {
      "cell_type": "code",
      "execution_count": null,
      "metadata": {
        "id": "bIW4ljA5Fb_L"
      },
      "outputs": [],
      "source": [
        "x1 = np.array([2, 4, 8])\n",
        "x2 = np.array([10, 100, 1000])\n",
        "assert_equal(20 + 400 + 8000, inner(x1, x2))"
      ]
    },
    {
      "cell_type": "markdown",
      "metadata": {
        "id": "8VjXcT8nFb_L"
      },
      "source": [
        "## Exercício 02\n",
        "\n",
        "Implemente uma função utilizando numpy que recebe duas matrizes, multiplica as duas e retorne o valor médio das células da multiplicação. Por exemplo, ao multiplicar:\n",
        "\n",
        "```\n",
        "[1 2]\n",
        "[3 4]\n",
        "\n",
        "com\n",
        "\n",
        "[2 1]\n",
        "[1 2]\n",
        "\n",
        "temos\n",
        "\n",
        "[4  5 ]\n",
        "[10 11]\n",
        "\n",
        "onde a média de [4, 5, 10, 11] é\n",
        "\n",
        "7.5, sua resposta final!\n",
        "```\n",
        "\n",
        "\n",
        "__Dicas:__  \n",
        "1. Use o operador @ para multiplicar matrizes!"
      ]
    },
    {
      "cell_type": "code",
      "execution_count": 4,
      "metadata": {
        "id": "SiBqShCfFb_L"
      },
      "outputs": [],
      "source": [
        "def medmult(X_1, X_2):\n",
        "    # Seu código aqui!\n",
        "    # Apague o return None abaixo e mude para seu retorno\n",
        "    mul = X_1 @ X_2\n",
        "    media = np.mean(mul)\n",
        "    return media"
      ]
    },
    {
      "cell_type": "code",
      "execution_count": null,
      "metadata": {
        "id": "LS2EpPLVFb_L"
      },
      "outputs": [],
      "source": [
        "X = np.array([1, 2, 3, 4]).reshape(2, 2)\n",
        "Y = np.array([2, 1, 1, 2]).reshape(2, 2)\n",
        "assert_equal(7.5, medmult(X, Y))"
      ]
    },
    {
      "cell_type": "code",
      "execution_count": null,
      "metadata": {
        "id": "tk-8G1LbFb_L"
      },
      "outputs": [],
      "source": []
    }
  ],
  "metadata": {
    "kernelspec": {
      "display_name": "Python 3 (ipykernel)",
      "language": "python",
      "name": "python3"
    },
    "language_info": {
      "codemirror_mode": {
        "name": "ipython",
        "version": 3
      },
      "file_extension": ".py",
      "mimetype": "text/x-python",
      "name": "python",
      "nbconvert_exporter": "python",
      "pygments_lexer": "ipython3",
      "version": "3.11.3"
    },
    "colab": {
      "provenance": []
    }
  },
  "nbformat": 4,
  "nbformat_minor": 0
}