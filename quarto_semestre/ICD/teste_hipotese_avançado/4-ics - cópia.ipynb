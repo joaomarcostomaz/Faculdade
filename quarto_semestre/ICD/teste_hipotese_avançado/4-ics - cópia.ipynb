{
  "cells": [
    {
      "cell_type": "markdown",
      "metadata": {
        "id": "oV8iH-KSPpsa"
      },
      "source": [
        "# Intervalos de Confiança\n",
        "\n",
        "Neste notebook, vamos aprender a calcular intervalos de confiança."
      ]
    },
    {
      "cell_type": "markdown",
      "metadata": {
        "id": "l2mGxqXAQY2u"
      },
      "source": [
        "## Uma breve introdução\n",
        "\n",
        "Embora intervalos de confiança sejam amplamente usados, pode ser difícil entender seu conceito e quando devemos usá-lo. Então vamos a um exemplo:\n",
        "\n",
        "Suponha que você queira saber qual a porcentagem de pessoas nos Brasil que amam futebol. Para obter uma resposta 100% correta a essa pergunta, você deveria perguntar a cada um dos 212 milhões habitantes se eles amam ou não futebol. Obviamente, não é viável falar com 212 milhões de pessoas.\n",
        "\n",
        "Você poderia então obter uma amostra aleatória de brasileiros (falando com muito menos pessoas) para obter a porcentagem de pessoas que amam futebol nessa amostra. Contudo, assim não estaria 100% confiante de que esse número está certo ou quão longe esse número está da resposta real.\n",
        "\n",
        "Você poderia tentar obter um intervalo, como: “Tenho 95% de certeza que a porcentagem de pessoas que amam futebol nos EUA está entre 58% e 62%”. É daí que vem o nome Intervalo de confiança, temos um intervalo e temos alguma confiança sobre ele."
      ]
    },
    {
      "cell_type": "markdown",
      "metadata": {
        "id": "8gy3R7pTUQ-R"
      },
      "source": [
        "## Como calcular intervalos de confiança"
      ]
    },
    {
      "cell_type": "markdown",
      "metadata": {
        "id": "sx68L-PHVeiF"
      },
      "source": [
        "O cálculo do intervalo de confiança (ou CI, Confidence Interval) envolve a melhor estimativa obtida pela amostra (média ou mediana) e uma margem de erro. A margem de erro é calculada usando o Z-score para a confiança desejada multiplicada pelo desvio padrão amostral da média.\n"
      ]
    },
    {
      "cell_type": "markdown",
      "metadata": {
        "id": "BAYsaU2IWzkL"
      },
      "source": [
        "![image.png](data:image/png;base64,iVBORw0KGgoAAAANSUhEUgAAAFAAAAA/CAYAAAB3s08iAAADtUlEQVR4Ae2a7XHkIAyGmbl/mSthtxH3cS24HlfjHlKDG7k/N7oRnwJjApKTTWxlZieEICMei1fCXgP6IyJgRNZqDApQGAQKUAEKCQjNNQIVoJCA0FwjUAEKCQjNNQIVoJCA0FwjUAEKCQjNNQIV4CiBDZbJgDHp89vMsI5exo+/WQQ6eL/mhGtbJlCA3dGzwh9jYFq2ZLEtME0LkJ70v47WLSNQEnEl05sBBIBtsVGIGphFYkmm8282wL//Omf4psPW2SURqoccV9kAOZO91GZboIQlTSC4ngOATmyfzyeEz+PxgLe3N5/+J6A6/FIwvZOvMxhD/fbljCCBNAD2evWDxhHtizWgEN69AH7Svd5vYRvqqUqPNSfpP7MMaK6rFjXkBGFOiKDm/B3/3AO0mX6yWpen+XAEojrSMYO/XingXZY73UIrvh9dcw4OqgIMtVIG0EdDjMiBiTDbcQBiqZH5QG4ux48Bl7uH1gH6u5wW7e56uZjeWbgAd9f3NzH5tRvx5R0HAAGAbB+MBInT5wB0pdWX6W/nrTgGCM5hTPkSeOjHGQDdyWFcfzs5sIc1AGIQGhjNdG6hKYvHmotmz9DuzaK+AuBKCJtOh+EhQIyasHipYIsicED3gr+f8fuIZR0g3nEbHe/2ycXrtrBLXt9N9yjMPUB8wEjOjLglpQvgRmCQg3wHrDALHsHTxZ/RLgC6xJE57PUn6xucmQXwQPestPRq56CfnOEEoK/wS+fCcarsH5htHKCvAMo5B/Sw7V6qMEb0snbNCBDfFbiL0VIhHJvOefhYc2Dfl89ZW6BkN9j5hO9BqM8RIO2UtINu1Ra+6ysjTDLxgC3uiLNKotMBDqzjRUMxwukuk7lxQ4DnZvH7AVxn8dGUxuztAKJGi5MQIXgzgHX9C4kvHRhImfNBorsXwF354komG5G2cJ9gWZd08uo4RFwSIEZU7fzeLF88rOzpU4Da+OLMpQCGrYj1ZtqOSbBa+mePiOQZAFphX+066YqHL9bpkB/Y9tGUF8ut8sWffjK9q/XtWVwqAtPyKotvli8uaZTAd1+FSxPE1kUBuu2HWzmULD36F8ZaOh0JBMddFiCEdzp2W743j281/aMv1bBdS0oXBxii0JUmrW+h2uST6R+iSbXgEbzLAwxfEMCt3IKAILg/F97CDkkobTJ949Kq2F0eIEbhR7VchUt31/UBdqPgDVSAPG7RSgFGFLyGAuRxi1YKMKLgNRQgj1u0UoARBa+hAHncopUCjCh4jf/snXhXpa+fLgAAAABJRU5ErkJggg==)\n",
        "\n",
        "\n"
      ]
    },
    {
      "cell_type": "markdown",
      "metadata": {
        "id": "DmUv_lmuEeeh"
      },
      "source": [
        "Em que ![image.png](data:image/png;base64,iVBORw0KGgoAAAANSUhEUgAAABIAAAATCAYAAACdkl3yAAAA8klEQVQ4EbWU0Q3DIAxELfUv6gjJIuzRFZiHadihMzDMVcaGxsRJ2iqNFCEMPM6HgXDRRz4n40GEZVn6P88zpmkCEYEoIBW7cgdkJ33S+yMoR5XPKRBiVj2r+J0iWripdRWVFCokGCMKUvD9YZgLQknVbAPSWFfYpGjrgyC73/oq6RvwZyAA1RM55hwJb+hAOFbEo1JLbPgZhGfvpCbbsBIKCUPtqQbb7ILayZkSsGtNzwexP1XJs57eb6mVhLC6S5yeV4BGztYjMbifOs/WijaxkWJBWrmjuVqIZ6Z3j/jZ2D4R7VrI2JFXHeSo/Sp0GegFmwS5SCQHnhUAAAAASUVORK5CYII=) é a média amostral, Z é o valor de Z-score associado ao nível de confiança desejado, e ![image.png](data:image/png;base64,iVBORw0KGgoAAAANSUhEUgAAAB0AAAAsCAYAAACZtbMHAAABzElEQVRYCe2X623EIAyALfVvJ2KPrsA8TMMOnYFhXBkCGOJwNrnqdNJVuiqQ4M9PMIAv+IMXMPEdoAmDAwTov2/wGI3uMlhagF++I1Jw+M/QiD8A6ELqdqWAzgVkM/3d4sls6Y5lM98ARcQUsrUU08HiWeqDsQ16CIu+JBKP7wPO8FoHTQFnwG4SEV0HjR4BHPYcOkpnI4n0UBbLVqObQD10iMj9gc699zmDhA90cMezBx/3Ptujg7zm3lb07IB+1txAVG+D86qb42bpTTmm5e8CLW2LNd7cFXZLN/uiW1A6vO+0KgQ3WkqHNz/Muf76ZyM0ot9ormd1bNDoT73SLFAzNkGpC2QNvka++I0BKseztqO9CWclddFH6aGnUikdYba8dosx9LtNnpM9c4KS5nOPSz5alsoBAG5ZVUS46DRodRPtNN1VPSSreJJCY19clJTkkMQGbeIPrccNYFUqUuMtzTWCAEVhwbJUhCskSnNLaHENubmWhyae9dssepFE9P7s3rKqXAlzYvwutz4pnsiTSPDSBbRa6zDE9W07JyDPWq40yJVwCeUXYKmEsuzNf9dQRKxlNMRrE8SXLaFk7VWtcSHW5zXUKk35/R8miVsZezHRigAAAABJRU5ErkJggg==) é o desvio padrão amostral da média."
      ]
    },
    {
      "cell_type": "markdown",
      "metadata": {
        "id": "uwHWVH4KXdsM"
      },
      "source": [
        "Aqui estão os z-scores para os níveis de confiança mais comuns:"
      ]
    },
    {
      "cell_type": "markdown",
      "metadata": {
        "id": "3ioFY0V3XwP3"
      },
      "source": [
        "Confiança | Z\n",
        "\n",
        "75%       | 1.15\n",
        "\n",
        "90%       | 1.64\n",
        "\n",
        "95%       | 1.96\n",
        "\n",
        "99%       | 2.57"
      ]
    },
    {
      "cell_type": "markdown",
      "metadata": {
        "id": "pZQQYw8IYy0E"
      },
      "source": [
        "## Vamos ao código!"
      ]
    },
    {
      "cell_type": "code",
      "execution_count": null,
      "metadata": {
        "id": "DoW5tEl7ron2"
      },
      "outputs": [],
      "source": [
        "import pandas as pd\n",
        "import numpy as np"
      ]
    },
    {
      "cell_type": "markdown",
      "metadata": {
        "id": "w5gPkU_mY3S3"
      },
      "source": [
        "## Base de dados\n",
        "Para este exercício, vamos utilizar uma base de dados do site [basedosdados.org](https://basedosdados.org), uma organização colaborativa que cataloga e divulga dados públicos brasileiros. Vocês podem usar esse site para buscar bases para projetos acadêmicos, sempre que necessitarem. Outro exemplo de site de reúne bases abertas (nesse caso, americanas) é o [UCI](https://archive.ics.uci.edu/ml/index.php)."
      ]
    },
    {
      "cell_type": "markdown",
      "metadata": {
        "id": "PK_W3lKVm9N9"
      },
      "source": [
        "Vamos usar a base de \"Indicadores de Mobilidade e Transportes em 2010\" para analisar os dados sobre tempo médio de deslocamento casa-trabalho para o ano de 2010.\n",
        "\n",
        "Para usar o arquivo, podemos usar duas opções: (1)  baixar o csv e importá-lo (usando pandas), ou (2) usar diretamente o pacote do basededados."
      ]
    },
    {
      "cell_type": "markdown",
      "metadata": {
        "id": "YgGzuKpXpK37"
      },
      "source": [
        "### Opção 1:\n",
        "Baixar a tabela 'tempo_deslocamento_casa_trabalho' em https://basedosdados.org/dataset/br-mobilidados-indicadores, adicionar em Files (menu da esquerda) e importar com pandas"
      ]
    },
    {
      "cell_type": "code",
      "execution_count": null,
      "metadata": {
        "id": "b2jzaNJbpGBB"
      },
      "outputs": [],
      "source": [
        "df = pd.read_csv(\"\")"
      ]
    },
    {
      "cell_type": "markdown",
      "metadata": {
        "id": "JPE1JAOMpXFD"
      },
      "source": [
        "### Opção 2:\n",
        "Instalar o pacote basedosdados, e importar a base diretamente. Mais detalhes em: https://basedosdados.github.io/mais/access_data_packages/#primeiros-passos.\n",
        "\n",
        "Vocês terão que criar um projeto em https://console.cloud.google.com/projectselector2/home/dashboard?pli=1 para pegar o billing_project_id (ID do projeto)"
      ]
    },
    {
      "cell_type": "code",
      "execution_count": 8,
      "metadata": {
        "id": "2LtkuGTKnZE1"
      },
      "outputs": [
        {
          "name": "stdout",
          "output_type": "stream",
          "text": [
            "Collecting basedosdados\n",
            "  Downloading basedosdados-1.6.1-py3-none-any.whl (44 kB)\n",
            "\u001b[2K     \u001b[90m━━━━━━━━━━━━━━━━━━━━━━━━━━━━━━━━━━━━━━━━\u001b[0m \u001b[32m44.8/44.8 kB\u001b[0m \u001b[31m2.3 MB/s\u001b[0m eta \u001b[36m0:00:00\u001b[0m\n",
            "\u001b[?25hCollecting Jinja2==2.11.2 (from basedosdados)\n",
            "  Downloading Jinja2-2.11.2-py2.py3-none-any.whl (125 kB)\n",
            "\u001b[2K     \u001b[90m━━━━━━━━━━━━━━━━━━━━━━━━━━━━━━━━━━━━━━━\u001b[0m \u001b[32m125.8/125.8 kB\u001b[0m \u001b[31m6.2 MB/s\u001b[0m eta \u001b[36m0:00:00\u001b[0m\n",
            "\u001b[?25hCollecting ckanapi==4.6 (from basedosdados)\n",
            "  Downloading ckanapi-4.6.tar.gz (32 kB)\n",
            "  Preparing metadata (setup.py) ... \u001b[?25ldone\n",
            "\u001b[?25hCollecting click==8.0.3 (from basedosdados)\n",
            "  Downloading click-8.0.3-py3-none-any.whl (97 kB)\n",
            "\u001b[2K     \u001b[90m━━━━━━━━━━━━━━━━━━━━━━━━━━━━━━━━━━━━━━━━\u001b[0m \u001b[32m97.5/97.5 kB\u001b[0m \u001b[31m11.4 MB/s\u001b[0m eta \u001b[36m0:00:00\u001b[0m\n",
            "\u001b[?25hINFO: pip is looking at multiple versions of basedosdados to determine which version is compatible with other requirements. This could take a while.\n",
            "Collecting basedosdados\n",
            "  Downloading basedosdados-1.6.0-py3-none-any.whl (41 kB)\n",
            "\u001b[2K     \u001b[90m━━━━━━━━━━━━━━━━━━━━━━━━━━━━━━━━━━━━━━━━\u001b[0m \u001b[32m41.5/41.5 kB\u001b[0m \u001b[31m9.4 MB/s\u001b[0m eta \u001b[36m0:00:00\u001b[0m\n",
            "\u001b[?25h  Downloading basedosdados-1.5.7-py3-none-any.whl (34 kB)\n",
            "Collecting click==7.1.2 (from basedosdados)\n",
            "  Downloading click-7.1.2-py2.py3-none-any.whl (82 kB)\n",
            "\u001b[2K     \u001b[90m━━━━━━━━━━━━━━━━━━━━━━━━━━━━━━━━━━━━━━━━\u001b[0m \u001b[32m82.8/82.8 kB\u001b[0m \u001b[31m9.9 MB/s\u001b[0m eta \u001b[36m0:00:00\u001b[0m\n",
            "\u001b[?25hCollecting google-cloud-bigquery==1.28.0 (from basedosdados)\n",
            "  Downloading google_cloud_bigquery-1.28.0-py2.py3-none-any.whl (187 kB)\n",
            "\u001b[2K     \u001b[90m━━━━━━━━━━━━━━━━━━━━━━━━━━━━━━━━━━━━━━\u001b[0m \u001b[32m187.2/187.2 kB\u001b[0m \u001b[31m16.7 MB/s\u001b[0m eta \u001b[36m0:00:00\u001b[0m\n",
            "\u001b[?25hCollecting google-cloud-bigquery-storage==1.1.0 (from basedosdados)\n",
            "  Downloading google_cloud_bigquery_storage-1.1.0-py2.py3-none-any.whl (135 kB)\n",
            "\u001b[2K     \u001b[90m━━━━━━━━━━━━━━━━━━━━━━━━━━━━━━━━━━━━━━\u001b[0m \u001b[32m135.2/135.2 kB\u001b[0m \u001b[31m24.3 MB/s\u001b[0m eta \u001b[36m0:00:00\u001b[0m\n",
            "\u001b[?25hCollecting google-cloud-storage==1.31.2 (from basedosdados)\n",
            "  Downloading google_cloud_storage-1.31.2-py2.py3-none-any.whl (88 kB)\n",
            "\u001b[2K     \u001b[90m━━━━━━━━━━━━━━━━━━━━━━━━━━━━━━━━━━━━━━━━\u001b[0m \u001b[32m88.8/88.8 kB\u001b[0m \u001b[31m17.1 MB/s\u001b[0m eta \u001b[36m0:00:00\u001b[0m\n",
            "\u001b[?25hCollecting pandas==1.2.4 (from basedosdados)\n",
            "  Downloading pandas-1.2.4.tar.gz (5.5 MB)\n",
            "\u001b[2K     \u001b[90m━━━━━━━━━━━━━━━━━━━━━━━━━━━━━━━━━━━━━━━━\u001b[0m \u001b[32m5.5/5.5 MB\u001b[0m \u001b[31m52.4 MB/s\u001b[0m eta \u001b[36m0:00:00\u001b[0ma \u001b[36m0:00:01\u001b[0m\n",
            "\u001b[?25h  Installing build dependencies ... \u001b[?25ldone\n",
            "\u001b[?25h  Getting requirements to build wheel ... \u001b[?25ldone\n",
            "\u001b[?25h  Preparing metadata (pyproject.toml) ... \u001b[?25ldone\n",
            "\u001b[?25hCollecting pandas-gbq==0.13.2 (from basedosdados)\n",
            "  Downloading pandas_gbq-0.13.2-py3-none-any.whl (24 kB)\n",
            "Collecting pyaml==20.4.0 (from basedosdados)\n",
            "  Downloading pyaml-20.4.0-py2.py3-none-any.whl (17 kB)\n",
            "Collecting ruamel.yaml==0.17.4 (from basedosdados)\n",
            "  Downloading ruamel.yaml-0.17.4-py3-none-any.whl (101 kB)\n",
            "\u001b[2K     \u001b[90m━━━━━━━━━━━━━━━━━━━━━━━━━━━━━━━━━━━━━━\u001b[0m \u001b[32m101.9/101.9 kB\u001b[0m \u001b[31m13.8 MB/s\u001b[0m eta \u001b[36m0:00:00\u001b[0m\n",
            "\u001b[?25hCollecting tomlkit==0.7.0 (from basedosdados)\n",
            "  Downloading tomlkit-0.7.0-py2.py3-none-any.whl (32 kB)\n",
            "Collecting tqdm==4.50.2 (from basedosdados)\n",
            "  Downloading tqdm-4.50.2-py2.py3-none-any.whl (70 kB)\n",
            "\u001b[2K     \u001b[90m━━━━━━━━━━━━━━━━━━━━━━━━━━━━━━━━━━━━━━━━\u001b[0m \u001b[32m70.9/70.9 kB\u001b[0m \u001b[31m11.4 MB/s\u001b[0m eta \u001b[36m0:00:00\u001b[0m\n",
            "\u001b[?25hCollecting google-api-core<2.0dev,>=1.21.0 (from google-cloud-bigquery==1.28.0->basedosdados)\n",
            "  Downloading google_api_core-1.34.0-py3-none-any.whl (120 kB)\n",
            "\u001b[2K     \u001b[90m━━━━━━━━━━━━━━━━━━━━━━━━━━━━━━━━━━━━━━\u001b[0m \u001b[32m120.2/120.2 kB\u001b[0m \u001b[31m14.7 MB/s\u001b[0m eta \u001b[36m0:00:00\u001b[0m\n",
            "\u001b[?25hCollecting google-cloud-core<2.0dev,>=1.4.1 (from google-cloud-bigquery==1.28.0->basedosdados)\n",
            "  Downloading google_cloud_core-1.7.3-py2.py3-none-any.whl (28 kB)\n",
            "Collecting google-resumable-media<2.0dev,>=0.6.0 (from google-cloud-bigquery==1.28.0->basedosdados)\n",
            "  Downloading google_resumable_media-1.3.3-py2.py3-none-any.whl (75 kB)\n",
            "\u001b[2K     \u001b[90m━━━━━━━━━━━━━━━━━━━━━━━━━━━━━━━━━━━━━━━━\u001b[0m \u001b[32m76.0/76.0 kB\u001b[0m \u001b[31m12.7 MB/s\u001b[0m eta \u001b[36m0:00:00\u001b[0m\n",
            "\u001b[?25hRequirement already satisfied: six<2.0.0dev,>=1.13.0 in /opt/homebrew/lib/python3.11/site-packages (from google-cloud-bigquery==1.28.0->basedosdados) (1.16.0)\n",
            "Collecting google-auth<2.0dev,>=1.11.0 (from google-cloud-storage==1.31.2->basedosdados)\n",
            "  Downloading google_auth-1.35.0-py2.py3-none-any.whl (152 kB)\n",
            "\u001b[2K     \u001b[90m━━━━━━━━━━━━━━━━━━━━━━━━━━━━━━━━━━━━━━\u001b[0m \u001b[32m152.9/152.9 kB\u001b[0m \u001b[31m18.8 MB/s\u001b[0m eta \u001b[36m0:00:00\u001b[0m\n",
            "\u001b[?25hRequirement already satisfied: requests<3.0.0dev,>=2.18.0 in /opt/homebrew/lib/python3.11/site-packages (from google-cloud-storage==1.31.2->basedosdados) (2.31.0)\n",
            "Collecting MarkupSafe>=0.23 (from Jinja2==2.11.2->basedosdados)\n",
            "  Obtaining dependency information for MarkupSafe>=0.23 from https://files.pythonhosted.org/packages/fe/09/c31503cb8150cf688c1534a7135cc39bb9092f8e0e6369ec73494d16ee0e/MarkupSafe-2.1.3-cp311-cp311-macosx_10_9_universal2.whl.metadata\n",
            "  Downloading MarkupSafe-2.1.3-cp311-cp311-macosx_10_9_universal2.whl.metadata (3.0 kB)\n",
            "Requirement already satisfied: python-dateutil>=2.7.3 in /opt/homebrew/lib/python3.11/site-packages (from pandas==1.2.4->basedosdados) (2.8.2)\n",
            "Requirement already satisfied: pytz>=2017.3 in /opt/homebrew/lib/python3.11/site-packages (from pandas==1.2.4->basedosdados) (2023.3)\n",
            "Requirement already satisfied: numpy>=1.16.5 in /opt/homebrew/lib/python3.11/site-packages (from pandas==1.2.4->basedosdados) (1.25.1)\n",
            "Requirement already satisfied: setuptools in /opt/homebrew/lib/python3.11/site-packages (from pandas-gbq==0.13.2->basedosdados) (68.1.2)\n",
            "Collecting pydata-google-auth (from pandas-gbq==0.13.2->basedosdados)\n",
            "  Obtaining dependency information for pydata-google-auth from https://files.pythonhosted.org/packages/28/6b/3320c9ddbfc572108917e8432a07e8bd1e40054d94b5ad40c755afdc1160/pydata_google_auth-1.8.2-py2.py3-none-any.whl.metadata\n",
            "  Downloading pydata_google_auth-1.8.2-py2.py3-none-any.whl.metadata (3.2 kB)\n",
            "Collecting google-auth-oauthlib (from pandas-gbq==0.13.2->basedosdados)\n",
            "  Obtaining dependency information for google-auth-oauthlib from https://files.pythonhosted.org/packages/ce/33/a907b4b67245647746dde8d61e1643ef5d210c88e090d491efd89eff9f95/google_auth_oauthlib-1.1.0-py2.py3-none-any.whl.metadata\n",
            "  Downloading google_auth_oauthlib-1.1.0-py2.py3-none-any.whl.metadata (2.7 kB)\n",
            "Collecting PyYAML (from pyaml==20.4.0->basedosdados)\n",
            "  Obtaining dependency information for PyYAML from https://files.pythonhosted.org/packages/28/09/55f715ddbf95a054b764b547f617e22f1d5e45d83905660e9a088078fe67/PyYAML-6.0.1-cp311-cp311-macosx_11_0_arm64.whl.metadata\n",
            "  Downloading PyYAML-6.0.1-cp311-cp311-macosx_11_0_arm64.whl.metadata (2.1 kB)\n",
            "Collecting googleapis-common-protos<2.0dev,>=1.56.2 (from google-api-core<2.0dev,>=1.21.0->google-cloud-bigquery==1.28.0->basedosdados)\n",
            "  Obtaining dependency information for googleapis-common-protos<2.0dev,>=1.56.2 from https://files.pythonhosted.org/packages/21/49/12996dc0238e017504dceea1d121a48bd49fb3f4416f40d59fc3e924b4f3/googleapis_common_protos-1.61.0-py2.py3-none-any.whl.metadata\n",
            "  Downloading googleapis_common_protos-1.61.0-py2.py3-none-any.whl.metadata (1.5 kB)\n",
            "Collecting protobuf!=3.20.0,!=3.20.1,!=4.21.0,!=4.21.1,!=4.21.2,!=4.21.3,!=4.21.4,!=4.21.5,<4.0.0dev,>=3.19.5 (from google-api-core<2.0dev,>=1.21.0->google-cloud-bigquery==1.28.0->basedosdados)\n",
            "  Downloading protobuf-3.20.3-py2.py3-none-any.whl (162 kB)\n",
            "\u001b[2K     \u001b[90m━━━━━━━━━━━━━━━━━━━━━━━━━━━━━━━━━━━━━━\u001b[0m \u001b[32m162.1/162.1 kB\u001b[0m \u001b[31m18.9 MB/s\u001b[0m eta \u001b[36m0:00:00\u001b[0m\n",
            "\u001b[?25hCollecting grpcio<2.0dev,>=1.33.2 (from google-api-core<2.0dev,>=1.21.0->google-cloud-bigquery==1.28.0->basedosdados)\n",
            "  Obtaining dependency information for grpcio<2.0dev,>=1.33.2 from https://files.pythonhosted.org/packages/bb/1c/4741e490b93488e077e36543b0acbfece41314b5a1ffae05bc7e2e9b3375/grpcio-1.59.0-cp311-cp311-macosx_10_10_universal2.whl.metadata\n",
            "  Downloading grpcio-1.59.0-cp311-cp311-macosx_10_10_universal2.whl.metadata (4.0 kB)\n",
            "Collecting grpcio-status<2.0dev,>=1.33.2 (from google-api-core<2.0dev,>=1.21.0->google-cloud-bigquery==1.28.0->basedosdados)\n",
            "  Obtaining dependency information for grpcio-status<2.0dev,>=1.33.2 from https://files.pythonhosted.org/packages/55/ce/e6d0382610240439ced22fe2183bcc387946bf80e5e0f17f5b5250978ff3/grpcio_status-1.59.0-py3-none-any.whl.metadata\n",
            "  Downloading grpcio_status-1.59.0-py3-none-any.whl.metadata (1.3 kB)\n",
            "Collecting cachetools<5.0,>=2.0.0 (from google-auth<2.0dev,>=1.11.0->google-cloud-storage==1.31.2->basedosdados)\n",
            "  Downloading cachetools-4.2.4-py3-none-any.whl (10 kB)\n",
            "Collecting pyasn1-modules>=0.2.1 (from google-auth<2.0dev,>=1.11.0->google-cloud-storage==1.31.2->basedosdados)\n",
            "  Downloading pyasn1_modules-0.3.0-py2.py3-none-any.whl (181 kB)\n",
            "\u001b[2K     \u001b[90m━━━━━━━━━━━━━━━━━━━━━━━━━━━━━━━━━━━━━━\u001b[0m \u001b[32m181.3/181.3 kB\u001b[0m \u001b[31m22.6 MB/s\u001b[0m eta \u001b[36m0:00:00\u001b[0m\n",
            "\u001b[?25hCollecting rsa<5,>=3.1.4 (from google-auth<2.0dev,>=1.11.0->google-cloud-storage==1.31.2->basedosdados)\n",
            "  Downloading rsa-4.9-py3-none-any.whl (34 kB)\n",
            "Collecting google-crc32c<2.0dev,>=1.0 (from google-resumable-media<2.0dev,>=0.6.0->google-cloud-bigquery==1.28.0->basedosdados)\n",
            "  Downloading google_crc32c-1.5.0-cp311-cp311-macosx_10_9_universal2.whl (32 kB)\n",
            "Requirement already satisfied: charset-normalizer<4,>=2 in /opt/homebrew/lib/python3.11/site-packages (from requests<3.0.0dev,>=2.18.0->google-cloud-storage==1.31.2->basedosdados) (3.2.0)\n",
            "Requirement already satisfied: idna<4,>=2.5 in /opt/homebrew/lib/python3.11/site-packages (from requests<3.0.0dev,>=2.18.0->google-cloud-storage==1.31.2->basedosdados) (3.4)\n",
            "Requirement already satisfied: urllib3<3,>=1.21.1 in /opt/homebrew/lib/python3.11/site-packages (from requests<3.0.0dev,>=2.18.0->google-cloud-storage==1.31.2->basedosdados) (2.0.4)\n",
            "Requirement already satisfied: certifi>=2017.4.17 in /opt/homebrew/lib/python3.11/site-packages (from requests<3.0.0dev,>=2.18.0->google-cloud-storage==1.31.2->basedosdados) (2023.7.22)\n",
            "INFO: pip is looking at multiple versions of google-auth-oauthlib to determine which version is compatible with other requirements. This could take a while.\n",
            "Collecting google-auth-oauthlib (from pandas-gbq==0.13.2->basedosdados)\n",
            "  Downloading google_auth_oauthlib-1.0.0-py2.py3-none-any.whl (18 kB)\n",
            "  Downloading google_auth_oauthlib-0.8.0-py2.py3-none-any.whl (19 kB)\n",
            "  Downloading google_auth_oauthlib-0.7.1-py2.py3-none-any.whl (19 kB)\n",
            "  Downloading google_auth_oauthlib-0.7.0-py2.py3-none-any.whl (19 kB)\n",
            "  Downloading google_auth_oauthlib-0.5.3-py2.py3-none-any.whl (19 kB)\n",
            "Collecting requests-oauthlib>=0.7.0 (from google-auth-oauthlib->pandas-gbq==0.13.2->basedosdados)\n",
            "  Downloading requests_oauthlib-1.3.1-py2.py3-none-any.whl (23 kB)\n",
            "INFO: pip is looking at multiple versions of grpcio-status to determine which version is compatible with other requirements. This could take a while.\n",
            "Collecting grpcio-status<2.0dev,>=1.33.2 (from google-api-core<2.0dev,>=1.21.0->google-cloud-bigquery==1.28.0->basedosdados)\n",
            "  Obtaining dependency information for grpcio-status<2.0dev,>=1.33.2 from https://files.pythonhosted.org/packages/f6/48/2bcf11bc2df159564eac099ea38d80663d291a56fa2f2f561d08bf083dfa/grpcio_status-1.58.0-py3-none-any.whl.metadata\n",
            "  Downloading grpcio_status-1.58.0-py3-none-any.whl.metadata (1.3 kB)\n",
            "  Obtaining dependency information for grpcio-status<2.0dev,>=1.33.2 from https://files.pythonhosted.org/packages/d0/3f/347d93056572fdbd64d4f0fc58a18d420763a7118f8b177437d9dab0ae6f/grpcio_status-1.57.0-py3-none-any.whl.metadata\n",
            "  Downloading grpcio_status-1.57.0-py3-none-any.whl.metadata (1.2 kB)\n",
            "  Obtaining dependency information for grpcio-status<2.0dev,>=1.33.2 from https://files.pythonhosted.org/packages/ef/16/3018689d96918e9c4c7407adf96b721df4d6748ba65db82c5eaa63564335/grpcio_status-1.56.2-py3-none-any.whl.metadata\n",
            "  Downloading grpcio_status-1.56.2-py3-none-any.whl.metadata (1.3 kB)\n",
            "  Obtaining dependency information for grpcio-status<2.0dev,>=1.33.2 from https://files.pythonhosted.org/packages/2b/21/aaff30111c5941fd9adb5abbf06e04a0e491a685f48ffb291f72ad595ec7/grpcio_status-1.56.0-py3-none-any.whl.metadata\n",
            "  Downloading grpcio_status-1.56.0-py3-none-any.whl.metadata (1.3 kB)\n",
            "  Obtaining dependency information for grpcio-status<2.0dev,>=1.33.2 from https://files.pythonhosted.org/packages/b6/c8/0efd0cf1ff62b3acc28619b9ba80a6ead4eb0ee42bb1c3b3841610af98a7/grpcio_status-1.55.3-py3-none-any.whl.metadata\n",
            "  Downloading grpcio_status-1.55.3-py3-none-any.whl.metadata (1.3 kB)\n",
            "  Obtaining dependency information for grpcio-status<2.0dev,>=1.33.2 from https://files.pythonhosted.org/packages/b9/ad/51cf59eb26ffa5360ba9dc318580b777e5dda1aa344ad34475103d97e5ac/grpcio_status-1.54.3-py3-none-any.whl.metadata\n",
            "  Downloading grpcio_status-1.54.3-py3-none-any.whl.metadata (1.3 kB)\n",
            "  Obtaining dependency information for grpcio-status<2.0dev,>=1.33.2 from https://files.pythonhosted.org/packages/5f/06/19520e0c6ab22fe09a0c8cfeabdf63b1ce6ea5d6ac88a65a2fa57b080976/grpcio_status-1.54.2-py3-none-any.whl.metadata\n",
            "  Downloading grpcio_status-1.54.2-py3-none-any.whl.metadata (1.3 kB)\n",
            "INFO: pip is still looking at multiple versions of grpcio-status to determine which version is compatible with other requirements. This could take a while.\n",
            "  Downloading grpcio_status-1.54.0-py3-none-any.whl (5.1 kB)\n",
            "  Obtaining dependency information for grpcio-status<2.0dev,>=1.33.2 from https://files.pythonhosted.org/packages/fb/c0/8ee53675cb1aecaa7fcbc9bea6575cb8c19a21dd0ce80fe6e5edb04426f4/grpcio_status-1.53.2-py3-none-any.whl.metadata\n",
            "  Downloading grpcio_status-1.53.2-py3-none-any.whl.metadata (1.3 kB)\n",
            "  Obtaining dependency information for grpcio-status<2.0dev,>=1.33.2 from https://files.pythonhosted.org/packages/61/14/6a4476403abaf954c0b5715de9cfdb7528143c5ac372316fa95704ae8551/grpcio_status-1.53.1-py3-none-any.whl.metadata\n",
            "  Downloading grpcio_status-1.53.1-py3-none-any.whl.metadata (1.3 kB)\n",
            "  Downloading grpcio_status-1.53.0-py3-none-any.whl (5.1 kB)\n",
            "  Downloading grpcio_status-1.51.3-py3-none-any.whl (5.1 kB)\n",
            "INFO: This is taking longer than usual. You might need to provide the dependency resolver with stricter constraints to reduce runtime. See https://pip.pypa.io/warnings/backtracking for guidance. If you want to abort this run, press Ctrl + C.\n",
            "  Downloading grpcio_status-1.51.1-py3-none-any.whl (5.1 kB)\n",
            "  Downloading grpcio_status-1.50.0-py3-none-any.whl (14 kB)\n",
            "  Downloading grpcio_status-1.49.1-py3-none-any.whl (14 kB)\n",
            "  Downloading grpcio_status-1.48.2-py3-none-any.whl (14 kB)\n",
            "Collecting pyasn1<0.6.0,>=0.4.6 (from pyasn1-modules>=0.2.1->google-auth<2.0dev,>=1.11.0->google-cloud-storage==1.31.2->basedosdados)\n",
            "  Downloading pyasn1-0.5.0-py2.py3-none-any.whl (83 kB)\n",
            "\u001b[2K     \u001b[90m━━━━━━━━━━━━━━━━━━━━━━━━━━━━━━━━━━━━━━━━\u001b[0m \u001b[32m83.9/83.9 kB\u001b[0m \u001b[31m13.0 MB/s\u001b[0m eta \u001b[36m0:00:00\u001b[0m\n",
            "\u001b[?25hCollecting oauthlib>=3.0.0 (from requests-oauthlib>=0.7.0->google-auth-oauthlib->pandas-gbq==0.13.2->basedosdados)\n",
            "  Downloading oauthlib-3.2.2-py3-none-any.whl (151 kB)\n",
            "\u001b[2K     \u001b[90m━━━━━━━━━━━━━━━━━━━━━━━━━━━━━━━━━━━━━━\u001b[0m \u001b[32m151.7/151.7 kB\u001b[0m \u001b[31m24.2 MB/s\u001b[0m eta \u001b[36m0:00:00\u001b[0m\n",
            "\u001b[?25hDownloading MarkupSafe-2.1.3-cp311-cp311-macosx_10_9_universal2.whl (17 kB)\n",
            "Downloading pydata_google_auth-1.8.2-py2.py3-none-any.whl (15 kB)\n",
            "Downloading PyYAML-6.0.1-cp311-cp311-macosx_11_0_arm64.whl (167 kB)\n",
            "\u001b[2K   \u001b[90m━━━━━━━━━━━━━━━━━━━━━━━━━━━━━━━━━━━━━━━━\u001b[0m \u001b[32m167.5/167.5 kB\u001b[0m \u001b[31m31.0 MB/s\u001b[0m eta \u001b[36m0:00:00\u001b[0m\n",
            "\u001b[?25hDownloading googleapis_common_protos-1.61.0-py2.py3-none-any.whl (230 kB)\n",
            "\u001b[2K   \u001b[90m━━━━━━━━━━━━━━━━━━━━━━━━━━━━━━━━━━━━━━━━\u001b[0m \u001b[32m230.9/230.9 kB\u001b[0m \u001b[31m30.5 MB/s\u001b[0m eta \u001b[36m0:00:00\u001b[0m\n",
            "\u001b[?25hDownloading grpcio-1.59.0-cp311-cp311-macosx_10_10_universal2.whl (9.5 MB)\n",
            "\u001b[2K   \u001b[90m━━━━━━━━━━━━━━━━━━━━━━━━━━━━━━━━━━━━━━━━\u001b[0m \u001b[32m9.5/9.5 MB\u001b[0m \u001b[31m63.7 MB/s\u001b[0m eta \u001b[36m0:00:00\u001b[0ma \u001b[36m0:00:01\u001b[0m\n",
            "\u001b[?25hBuilding wheels for collected packages: pandas\n",
            "  Building wheel for pandas (pyproject.toml) ... \u001b[?25ldone\n",
            "\u001b[?25h  Created wheel for pandas: filename=pandas-1.2.4-cp311-cp311-macosx_13_0_arm64.whl size=9180587 sha256=74422180b81da6aa3fd270c7403c2fda19991f673b867ad8e480a51ed576e115\n",
            "  Stored in directory: /Users/joaomarcostomaz/Library/Caches/pip/wheels/4c/30/2b/f6bd60c6ed226e106536dcc825b4c173987cecce65a06a7f9b\n",
            "Successfully built pandas\n",
            "Installing collected packages: tqdm, tomlkit, ruamel.yaml, PyYAML, pyasn1, protobuf, oauthlib, MarkupSafe, grpcio, google-crc32c, click, cachetools, rsa, requests-oauthlib, pyasn1-modules, pyaml, pandas, Jinja2, googleapis-common-protos, google-resumable-media, grpcio-status, google-auth, google-auth-oauthlib, google-api-core, pydata-google-auth, google-cloud-core, google-cloud-storage, google-cloud-bigquery-storage, google-cloud-bigquery, pandas-gbq, basedosdados\n",
            "  Attempting uninstall: tqdm\n",
            "    Found existing installation: tqdm 4.65.0\n",
            "    Uninstalling tqdm-4.65.0:\n",
            "      Successfully uninstalled tqdm-4.65.0\n",
            "  Attempting uninstall: protobuf\n",
            "    Found existing installation: protobuf 4.24.0\n",
            "    Uninstalling protobuf-4.24.0:\n",
            "      Successfully uninstalled protobuf-4.24.0\n",
            "  Attempting uninstall: click\n",
            "    Found existing installation: click 8.1.6\n",
            "    Uninstalling click-8.1.6:\n",
            "      Successfully uninstalled click-8.1.6\n",
            "  Attempting uninstall: pandas\n",
            "    Found existing installation: pandas 2.0.3\n",
            "    Uninstalling pandas-2.0.3:\n",
            "      Successfully uninstalled pandas-2.0.3\n",
            "\u001b[31mERROR: pip's dependency resolver does not currently take into account all the packages that are installed. This behaviour is the source of the following dependency conflicts.\n",
            "ortools 9.7.2996 requires protobuf>=4.23.3, but you have protobuf 3.20.3 which is incompatible.\u001b[0m\u001b[31m\n",
            "\u001b[0mSuccessfully installed Jinja2-2.11.2 MarkupSafe-2.1.3 PyYAML-6.0.1 basedosdados-1.5.7 cachetools-4.2.4 click-7.1.2 google-api-core-1.34.0 google-auth-1.35.0 google-auth-oauthlib-0.5.3 google-cloud-bigquery-1.28.0 google-cloud-bigquery-storage-1.1.0 google-cloud-core-1.7.3 google-cloud-storage-1.31.2 google-crc32c-1.5.0 google-resumable-media-1.3.3 googleapis-common-protos-1.61.0 grpcio-1.59.0 grpcio-status-1.48.2 oauthlib-3.2.2 pandas-1.2.4 pandas-gbq-0.13.2 protobuf-3.20.3 pyaml-20.4.0 pyasn1-0.5.0 pyasn1-modules-0.3.0 pydata-google-auth-1.8.2 requests-oauthlib-1.3.1 rsa-4.9 ruamel.yaml-0.17.4 tomlkit-0.7.0 tqdm-4.50.2\n",
            "Note: you may need to restart the kernel to use updated packages.\n"
          ]
        },
        {
          "ename": "InvalidRequirement",
          "evalue": "Expected matching RIGHT_PARENTHESIS for LEFT_PARENTHESIS, after version specifier\n    pyarrow (<2.0de,>=1.0.0) ; (python_version >= \"3.5\") and extra == 'all'\n            ~~~~~^",
          "output_type": "error",
          "traceback": [
            "\u001b[0;31m---------------------------------------------------------------------------\u001b[0m",
            "\u001b[0;31mAttributeError\u001b[0m                            Traceback (most recent call last)",
            "File \u001b[0;32m/opt/homebrew/lib/python3.11/site-packages/pkg_resources/__init__.py:3109\u001b[0m, in \u001b[0;36mDistInfoDistribution._dep_map\u001b[0;34m(self)\u001b[0m\n\u001b[1;32m   3108\u001b[0m \u001b[39mtry\u001b[39;00m:\n\u001b[0;32m-> 3109\u001b[0m     \u001b[39mreturn\u001b[39;00m \u001b[39mself\u001b[39;49m\u001b[39m.\u001b[39;49m__dep_map\n\u001b[1;32m   3110\u001b[0m \u001b[39mexcept\u001b[39;00m \u001b[39mAttributeError\u001b[39;00m:\n",
            "File \u001b[0;32m/opt/homebrew/lib/python3.11/site-packages/pkg_resources/__init__.py:2902\u001b[0m, in \u001b[0;36mDistribution.__getattr__\u001b[0;34m(self, attr)\u001b[0m\n\u001b[1;32m   2901\u001b[0m \u001b[39mif\u001b[39;00m attr\u001b[39m.\u001b[39mstartswith(\u001b[39m'\u001b[39m\u001b[39m_\u001b[39m\u001b[39m'\u001b[39m):\n\u001b[0;32m-> 2902\u001b[0m     \u001b[39mraise\u001b[39;00m \u001b[39mAttributeError\u001b[39;00m(attr)\n\u001b[1;32m   2903\u001b[0m \u001b[39mreturn\u001b[39;00m \u001b[39mgetattr\u001b[39m(\u001b[39mself\u001b[39m\u001b[39m.\u001b[39m_provider, attr)\n",
            "\u001b[0;31mAttributeError\u001b[0m: _DistInfoDistribution__dep_map",
            "\nDuring handling of the above exception, another exception occurred:\n",
            "\u001b[0;31mParserSyntaxError\u001b[0m                         Traceback (most recent call last)",
            "File \u001b[0;32m/opt/homebrew/lib/python3.11/site-packages/pkg_resources/_vendor/packaging/requirements.py:35\u001b[0m, in \u001b[0;36mRequirement.__init__\u001b[0;34m(self, requirement_string)\u001b[0m\n\u001b[1;32m     34\u001b[0m \u001b[39mtry\u001b[39;00m:\n\u001b[0;32m---> 35\u001b[0m     parsed \u001b[39m=\u001b[39m _parse_requirement(requirement_string)\n\u001b[1;32m     36\u001b[0m \u001b[39mexcept\u001b[39;00m ParserSyntaxError \u001b[39mas\u001b[39;00m e:\n",
            "File \u001b[0;32m/opt/homebrew/lib/python3.11/site-packages/pkg_resources/_vendor/packaging/_parser.py:64\u001b[0m, in \u001b[0;36mparse_requirement\u001b[0;34m(source)\u001b[0m\n\u001b[1;32m     63\u001b[0m \u001b[39mdef\u001b[39;00m \u001b[39mparse_requirement\u001b[39m(source: \u001b[39mstr\u001b[39m) \u001b[39m-\u001b[39m\u001b[39m>\u001b[39m ParsedRequirement:\n\u001b[0;32m---> 64\u001b[0m     \u001b[39mreturn\u001b[39;00m _parse_requirement(Tokenizer(source, rules\u001b[39m=\u001b[39;49mDEFAULT_RULES))\n",
            "File \u001b[0;32m/opt/homebrew/lib/python3.11/site-packages/pkg_resources/_vendor/packaging/_parser.py:82\u001b[0m, in \u001b[0;36m_parse_requirement\u001b[0;34m(tokenizer)\u001b[0m\n\u001b[1;32m     80\u001b[0m tokenizer\u001b[39m.\u001b[39mconsume(\u001b[39m\"\u001b[39m\u001b[39mWS\u001b[39m\u001b[39m\"\u001b[39m)\n\u001b[0;32m---> 82\u001b[0m url, specifier, marker \u001b[39m=\u001b[39m _parse_requirement_details(tokenizer)\n\u001b[1;32m     83\u001b[0m tokenizer\u001b[39m.\u001b[39mexpect(\u001b[39m\"\u001b[39m\u001b[39mEND\u001b[39m\u001b[39m\"\u001b[39m, expected\u001b[39m=\u001b[39m\u001b[39m\"\u001b[39m\u001b[39mend of dependency specifier\u001b[39m\u001b[39m\"\u001b[39m)\n",
            "File \u001b[0;32m/opt/homebrew/lib/python3.11/site-packages/pkg_resources/_vendor/packaging/_parser.py:120\u001b[0m, in \u001b[0;36m_parse_requirement_details\u001b[0;34m(tokenizer)\u001b[0m\n\u001b[1;32m    119\u001b[0m specifier_start \u001b[39m=\u001b[39m tokenizer\u001b[39m.\u001b[39mposition\n\u001b[0;32m--> 120\u001b[0m specifier \u001b[39m=\u001b[39m _parse_specifier(tokenizer)\n\u001b[1;32m    121\u001b[0m tokenizer\u001b[39m.\u001b[39mconsume(\u001b[39m\"\u001b[39m\u001b[39mWS\u001b[39m\u001b[39m\"\u001b[39m)\n",
            "File \u001b[0;32m/opt/homebrew/lib/python3.11/site-packages/pkg_resources/_vendor/packaging/_parser.py:210\u001b[0m, in \u001b[0;36m_parse_specifier\u001b[0;34m(tokenizer)\u001b[0m\n\u001b[1;32m    206\u001b[0m \u001b[39m\u001b[39m\u001b[39m\"\"\"\u001b[39;00m\n\u001b[1;32m    207\u001b[0m \u001b[39mspecifier = LEFT_PARENTHESIS WS? version_many WS? RIGHT_PARENTHESIS\u001b[39;00m\n\u001b[1;32m    208\u001b[0m \u001b[39m          | WS? version_many WS?\u001b[39;00m\n\u001b[1;32m    209\u001b[0m \u001b[39m\"\"\"\u001b[39;00m\n\u001b[0;32m--> 210\u001b[0m \u001b[39mwith\u001b[39;49;00m tokenizer\u001b[39m.\u001b[39;49menclosing_tokens(\n\u001b[1;32m    211\u001b[0m     \u001b[39m\"\u001b[39;49m\u001b[39mLEFT_PARENTHESIS\u001b[39;49m\u001b[39m\"\u001b[39;49m,\n\u001b[1;32m    212\u001b[0m     \u001b[39m\"\u001b[39;49m\u001b[39mRIGHT_PARENTHESIS\u001b[39;49m\u001b[39m\"\u001b[39;49m,\n\u001b[1;32m    213\u001b[0m     around\u001b[39m=\u001b[39;49m\u001b[39m\"\u001b[39;49m\u001b[39mversion specifier\u001b[39;49m\u001b[39m\"\u001b[39;49m,\n\u001b[1;32m    214\u001b[0m ):\n\u001b[1;32m    215\u001b[0m     tokenizer\u001b[39m.\u001b[39;49mconsume(\u001b[39m\"\u001b[39;49m\u001b[39mWS\u001b[39;49m\u001b[39m\"\u001b[39;49m)\n",
            "File \u001b[0;32m/opt/homebrew/Cellar/python@3.11/3.11.5/Frameworks/Python.framework/Versions/3.11/lib/python3.11/contextlib.py:144\u001b[0m, in \u001b[0;36m_GeneratorContextManager.__exit__\u001b[0;34m(self, typ, value, traceback)\u001b[0m\n\u001b[1;32m    143\u001b[0m \u001b[39mtry\u001b[39;00m:\n\u001b[0;32m--> 144\u001b[0m     \u001b[39mnext\u001b[39m(\u001b[39mself\u001b[39m\u001b[39m.\u001b[39mgen)\n\u001b[1;32m    145\u001b[0m \u001b[39mexcept\u001b[39;00m \u001b[39mStopIteration\u001b[39;00m:\n",
            "File \u001b[0;32m/opt/homebrew/lib/python3.11/site-packages/pkg_resources/_vendor/packaging/_tokenizer.py:187\u001b[0m, in \u001b[0;36mTokenizer.enclosing_tokens\u001b[0;34m(self, open_token, close_token, around)\u001b[0m\n\u001b[1;32m    186\u001b[0m \u001b[39mif\u001b[39;00m \u001b[39mnot\u001b[39;00m \u001b[39mself\u001b[39m\u001b[39m.\u001b[39mcheck(close_token):\n\u001b[0;32m--> 187\u001b[0m     \u001b[39mself\u001b[39;49m\u001b[39m.\u001b[39;49mraise_syntax_error(\n\u001b[1;32m    188\u001b[0m         \u001b[39mf\u001b[39;49m\u001b[39m\"\u001b[39;49m\u001b[39mExpected matching \u001b[39;49m\u001b[39m{\u001b[39;49;00mclose_token\u001b[39m}\u001b[39;49;00m\u001b[39m for \u001b[39;49m\u001b[39m{\u001b[39;49;00mopen_token\u001b[39m}\u001b[39;49;00m\u001b[39m, after \u001b[39;49m\u001b[39m{\u001b[39;49;00maround\u001b[39m}\u001b[39;49;00m\u001b[39m\"\u001b[39;49m,\n\u001b[1;32m    189\u001b[0m         span_start\u001b[39m=\u001b[39;49mopen_position,\n\u001b[1;32m    190\u001b[0m     )\n\u001b[1;32m    192\u001b[0m \u001b[39mself\u001b[39m\u001b[39m.\u001b[39mread()\n",
            "File \u001b[0;32m/opt/homebrew/lib/python3.11/site-packages/pkg_resources/_vendor/packaging/_tokenizer.py:165\u001b[0m, in \u001b[0;36mTokenizer.raise_syntax_error\u001b[0;34m(self, message, span_start, span_end)\u001b[0m\n\u001b[1;32m    161\u001b[0m span \u001b[39m=\u001b[39m (\n\u001b[1;32m    162\u001b[0m     \u001b[39mself\u001b[39m\u001b[39m.\u001b[39mposition \u001b[39mif\u001b[39;00m span_start \u001b[39mis\u001b[39;00m \u001b[39mNone\u001b[39;00m \u001b[39melse\u001b[39;00m span_start,\n\u001b[1;32m    163\u001b[0m     \u001b[39mself\u001b[39m\u001b[39m.\u001b[39mposition \u001b[39mif\u001b[39;00m span_end \u001b[39mis\u001b[39;00m \u001b[39mNone\u001b[39;00m \u001b[39melse\u001b[39;00m span_end,\n\u001b[1;32m    164\u001b[0m )\n\u001b[0;32m--> 165\u001b[0m \u001b[39mraise\u001b[39;00m ParserSyntaxError(\n\u001b[1;32m    166\u001b[0m     message,\n\u001b[1;32m    167\u001b[0m     source\u001b[39m=\u001b[39m\u001b[39mself\u001b[39m\u001b[39m.\u001b[39msource,\n\u001b[1;32m    168\u001b[0m     span\u001b[39m=\u001b[39mspan,\n\u001b[1;32m    169\u001b[0m )\n",
            "\u001b[0;31mParserSyntaxError\u001b[0m: Expected matching RIGHT_PARENTHESIS for LEFT_PARENTHESIS, after version specifier\n    pyarrow (<2.0de,>=1.0.0) ; (python_version >= \"3.5\") and extra == 'all'\n            ~~~~~^",
            "\nThe above exception was the direct cause of the following exception:\n",
            "\u001b[0;31mInvalidRequirement\u001b[0m                        Traceback (most recent call last)",
            "Cell \u001b[0;32mIn[8], line 2\u001b[0m\n\u001b[1;32m      1\u001b[0m get_ipython()\u001b[39m.\u001b[39mrun_line_magic(\u001b[39m'\u001b[39m\u001b[39mpip\u001b[39m\u001b[39m'\u001b[39m, \u001b[39m'\u001b[39m\u001b[39minstall basedosdados\u001b[39m\u001b[39m'\u001b[39m)\n\u001b[0;32m----> 2\u001b[0m \u001b[39mimport\u001b[39;00m \u001b[39mbasedosdados\u001b[39;00m \u001b[39mas\u001b[39;00m \u001b[39mbd\u001b[39;00m\n\u001b[1;32m      3\u001b[0m \u001b[39m# Para carregar o dado direto no pandas\u001b[39;00m\n\u001b[1;32m      4\u001b[0m df \u001b[39m=\u001b[39m bd\u001b[39m.\u001b[39mread_table(dataset_id\u001b[39m=\u001b[39m\u001b[39m'\u001b[39m\u001b[39mbr_mobilidados_indicadores\u001b[39m\u001b[39m'\u001b[39m,\n\u001b[1;32m      5\u001b[0m             table_id\u001b[39m=\u001b[39m\u001b[39m'\u001b[39m\u001b[39mtempo_deslocamento_casa_trabalho\u001b[39m\u001b[39m'\u001b[39m,\\\n\u001b[1;32m      6\u001b[0m             billing_project_id\u001b[39m=\u001b[39m\u001b[39m'\u001b[39m\u001b[39mbase-de-dados-402216\u001b[39m\u001b[39m'\u001b[39m)\u001b[39m#colocar aqui o ID do projeto do gcloud\u001b[39;00m\n",
            "File \u001b[0;32m/opt/homebrew/lib/python3.11/site-packages/basedosdados/__init__.py:5\u001b[0m\n\u001b[1;32m      2\u001b[0m \u001b[39mimport\u001b[39;00m \u001b[39msys\u001b[39;00m\n\u001b[1;32m      4\u001b[0m \u001b[39mfrom\u001b[39;00m \u001b[39mbasedosdados\u001b[39;00m\u001b[39m.\u001b[39;00m\u001b[39mconstants\u001b[39;00m \u001b[39mimport\u001b[39;00m constants\n\u001b[0;32m----> 5\u001b[0m \u001b[39mfrom\u001b[39;00m \u001b[39mbasedosdados\u001b[39;00m\u001b[39m.\u001b[39;00m\u001b[39mdownload\u001b[39;00m\u001b[39m.\u001b[39;00m\u001b[39mdownload\u001b[39;00m \u001b[39mimport\u001b[39;00m (\n\u001b[1;32m      6\u001b[0m     download,\n\u001b[1;32m      7\u001b[0m     get_dataset_description,\n\u001b[1;32m      8\u001b[0m     get_table_columns,\n\u001b[1;32m      9\u001b[0m     get_table_description,\n\u001b[1;32m     10\u001b[0m     get_table_size,\n\u001b[1;32m     11\u001b[0m     list_dataset_tables,\n\u001b[1;32m     12\u001b[0m     list_datasets,\n\u001b[1;32m     13\u001b[0m     read_sql,\n\u001b[1;32m     14\u001b[0m     read_table,\n\u001b[1;32m     15\u001b[0m )\n\u001b[1;32m     16\u001b[0m \u001b[39mfrom\u001b[39;00m \u001b[39mbasedosdados\u001b[39;00m\u001b[39m.\u001b[39;00m\u001b[39mupload\u001b[39;00m\u001b[39m.\u001b[39;00m\u001b[39mdataset\u001b[39;00m \u001b[39mimport\u001b[39;00m Dataset\n\u001b[1;32m     17\u001b[0m \u001b[39mfrom\u001b[39;00m \u001b[39mbasedosdados\u001b[39;00m\u001b[39m.\u001b[39;00m\u001b[39mupload\u001b[39;00m\u001b[39m.\u001b[39;00m\u001b[39mstorage\u001b[39;00m \u001b[39mimport\u001b[39;00m Storage\n",
            "File \u001b[0;32m/opt/homebrew/lib/python3.11/site-packages/basedosdados/download/download.py:6\u001b[0m\n\u001b[1;32m      3\u001b[0m \u001b[39mfrom\u001b[39;00m \u001b[39mpathlib\u001b[39;00m \u001b[39mimport\u001b[39;00m Path\n\u001b[1;32m      5\u001b[0m \u001b[39mimport\u001b[39;00m \u001b[39mpandas\u001b[39;00m \u001b[39mas\u001b[39;00m \u001b[39mpd\u001b[39;00m\n\u001b[0;32m----> 6\u001b[0m \u001b[39mimport\u001b[39;00m \u001b[39mpandas_gbq\u001b[39;00m\n\u001b[1;32m      7\u001b[0m \u001b[39mimport\u001b[39;00m \u001b[39mpydata_google_auth\u001b[39;00m\n\u001b[1;32m      8\u001b[0m \u001b[39mfrom\u001b[39;00m \u001b[39mbasedosdados\u001b[39;00m\u001b[39m.\u001b[39;00m\u001b[39mexceptions\u001b[39;00m \u001b[39mimport\u001b[39;00m (\n\u001b[1;32m      9\u001b[0m     BaseDosDadosAccessDeniedException,\n\u001b[1;32m     10\u001b[0m     BaseDosDadosAuthorizationException,\n\u001b[0;32m   (...)\u001b[0m\n\u001b[1;32m     13\u001b[0m     BaseDosDadosNoBillingProjectIDException,\n\u001b[1;32m     14\u001b[0m )\n",
            "File \u001b[0;32m/opt/homebrew/lib/python3.11/site-packages/pandas_gbq/__init__.py:1\u001b[0m\n\u001b[0;32m----> 1\u001b[0m \u001b[39mfrom\u001b[39;00m \u001b[39m.\u001b[39;00m\u001b[39mgbq\u001b[39;00m \u001b[39mimport\u001b[39;00m to_gbq, read_gbq, Context, context  \u001b[39m# noqa\u001b[39;00m\n\u001b[1;32m      3\u001b[0m \u001b[39mfrom\u001b[39;00m \u001b[39m.\u001b[39;00m\u001b[39m_version\u001b[39;00m \u001b[39mimport\u001b[39;00m get_versions\n\u001b[1;32m      5\u001b[0m versions \u001b[39m=\u001b[39m get_versions()\n",
            "File \u001b[0;32m/opt/homebrew/lib/python3.11/site-packages/pandas_gbq/gbq.py:12\u001b[0m\n\u001b[1;32m     10\u001b[0m \u001b[39mtry\u001b[39;00m:\n\u001b[1;32m     11\u001b[0m     \u001b[39mfrom\u001b[39;00m \u001b[39mgoogle\u001b[39;00m\u001b[39m.\u001b[39;00m\u001b[39mapi_core\u001b[39;00m \u001b[39mimport\u001b[39;00m exceptions \u001b[39mas\u001b[39;00m google_exceptions\n\u001b[0;32m---> 12\u001b[0m     \u001b[39mfrom\u001b[39;00m \u001b[39mgoogle\u001b[39;00m\u001b[39m.\u001b[39;00m\u001b[39mcloud\u001b[39;00m \u001b[39mimport\u001b[39;00m bigquery\n\u001b[1;32m     13\u001b[0m \u001b[39mexcept\u001b[39;00m \u001b[39mImportError\u001b[39;00m:  \u001b[39m# pragma: NO COVER\u001b[39;00m\n\u001b[1;32m     14\u001b[0m     bigquery \u001b[39m=\u001b[39m \u001b[39mNone\u001b[39;00m\n",
            "File \u001b[0;32m/opt/homebrew/lib/python3.11/site-packages/google/cloud/bigquery/__init__.py:33\u001b[0m\n\u001b[1;32m     15\u001b[0m \u001b[39m\"\"\"Google BigQuery API wrapper.\u001b[39;00m\n\u001b[1;32m     16\u001b[0m \n\u001b[1;32m     17\u001b[0m \u001b[39mThe main concepts with this API are:\u001b[39;00m\n\u001b[0;32m   (...)\u001b[0m\n\u001b[1;32m     27\u001b[0m \u001b[39m- :class:`~google.cloud.bigquery.table.Table` represents a single \"relation\".\u001b[39;00m\n\u001b[1;32m     28\u001b[0m \u001b[39m\"\"\"\u001b[39;00m\n\u001b[1;32m     31\u001b[0m \u001b[39mfrom\u001b[39;00m \u001b[39mpkg_resources\u001b[39;00m \u001b[39mimport\u001b[39;00m get_distribution\n\u001b[0;32m---> 33\u001b[0m __version__ \u001b[39m=\u001b[39m get_distribution(\u001b[39m\"\u001b[39;49m\u001b[39mgoogle-cloud-bigquery\u001b[39;49m\u001b[39m\"\u001b[39;49m)\u001b[39m.\u001b[39mversion\n\u001b[1;32m     35\u001b[0m \u001b[39mfrom\u001b[39;00m \u001b[39mgoogle\u001b[39;00m\u001b[39m.\u001b[39;00m\u001b[39mcloud\u001b[39;00m\u001b[39m.\u001b[39;00m\u001b[39mbigquery\u001b[39;00m\u001b[39m.\u001b[39;00m\u001b[39mclient\u001b[39;00m \u001b[39mimport\u001b[39;00m Client\n\u001b[1;32m     36\u001b[0m \u001b[39mfrom\u001b[39;00m \u001b[39mgoogle\u001b[39;00m\u001b[39m.\u001b[39;00m\u001b[39mcloud\u001b[39;00m\u001b[39m.\u001b[39;00m\u001b[39mbigquery\u001b[39;00m\u001b[39m.\u001b[39;00m\u001b[39mdataset\u001b[39;00m \u001b[39mimport\u001b[39;00m AccessEntry\n",
            "File \u001b[0;32m/opt/homebrew/lib/python3.11/site-packages/pkg_resources/__init__.py:528\u001b[0m, in \u001b[0;36mget_distribution\u001b[0;34m(dist)\u001b[0m\n\u001b[1;32m    526\u001b[0m     dist \u001b[39m=\u001b[39m Requirement\u001b[39m.\u001b[39mparse(dist)\n\u001b[1;32m    527\u001b[0m \u001b[39mif\u001b[39;00m \u001b[39misinstance\u001b[39m(dist, Requirement):\n\u001b[0;32m--> 528\u001b[0m     dist \u001b[39m=\u001b[39m get_provider(dist)\n\u001b[1;32m    529\u001b[0m \u001b[39mif\u001b[39;00m \u001b[39mnot\u001b[39;00m \u001b[39misinstance\u001b[39m(dist, Distribution):\n\u001b[1;32m    530\u001b[0m     \u001b[39mraise\u001b[39;00m \u001b[39mTypeError\u001b[39;00m(\u001b[39m\"\u001b[39m\u001b[39mExpected string, Requirement, or Distribution\u001b[39m\u001b[39m\"\u001b[39m, dist)\n",
            "File \u001b[0;32m/opt/homebrew/lib/python3.11/site-packages/pkg_resources/__init__.py:400\u001b[0m, in \u001b[0;36mget_provider\u001b[0;34m(moduleOrReq)\u001b[0m\n\u001b[1;32m    398\u001b[0m \u001b[39m\u001b[39m\u001b[39m\"\"\"Return an IResourceProvider for the named module or requirement\"\"\"\u001b[39;00m\n\u001b[1;32m    399\u001b[0m \u001b[39mif\u001b[39;00m \u001b[39misinstance\u001b[39m(moduleOrReq, Requirement):\n\u001b[0;32m--> 400\u001b[0m     \u001b[39mreturn\u001b[39;00m working_set\u001b[39m.\u001b[39mfind(moduleOrReq) \u001b[39mor\u001b[39;00m require(\u001b[39mstr\u001b[39;49m(moduleOrReq))[\u001b[39m0\u001b[39m]\n\u001b[1;32m    401\u001b[0m \u001b[39mtry\u001b[39;00m:\n\u001b[1;32m    402\u001b[0m     module \u001b[39m=\u001b[39m sys\u001b[39m.\u001b[39mmodules[moduleOrReq]\n",
            "File \u001b[0;32m/opt/homebrew/lib/python3.11/site-packages/pkg_resources/__init__.py:968\u001b[0m, in \u001b[0;36mWorkingSet.require\u001b[0;34m(self, *requirements)\u001b[0m\n\u001b[1;32m    959\u001b[0m \u001b[39mdef\u001b[39;00m \u001b[39mrequire\u001b[39m(\u001b[39mself\u001b[39m, \u001b[39m*\u001b[39mrequirements):\n\u001b[1;32m    960\u001b[0m \u001b[39m    \u001b[39m\u001b[39m\"\"\"Ensure that distributions matching `requirements` are activated\u001b[39;00m\n\u001b[1;32m    961\u001b[0m \n\u001b[1;32m    962\u001b[0m \u001b[39m    `requirements` must be a string or a (possibly-nested) sequence\u001b[39;00m\n\u001b[0;32m   (...)\u001b[0m\n\u001b[1;32m    966\u001b[0m \u001b[39m    included, even if they were already activated in this working set.\u001b[39;00m\n\u001b[1;32m    967\u001b[0m \u001b[39m    \"\"\"\u001b[39;00m\n\u001b[0;32m--> 968\u001b[0m     needed \u001b[39m=\u001b[39m \u001b[39mself\u001b[39;49m\u001b[39m.\u001b[39;49mresolve(parse_requirements(requirements))\n\u001b[1;32m    970\u001b[0m     \u001b[39mfor\u001b[39;00m dist \u001b[39min\u001b[39;00m needed:\n\u001b[1;32m    971\u001b[0m         \u001b[39mself\u001b[39m\u001b[39m.\u001b[39madd(dist)\n",
            "File \u001b[0;32m/opt/homebrew/lib/python3.11/site-packages/pkg_resources/__init__.py:834\u001b[0m, in \u001b[0;36mWorkingSet.resolve\u001b[0;34m(self, requirements, env, installer, replace_conflicting, extras)\u001b[0m\n\u001b[1;32m    829\u001b[0m dist \u001b[39m=\u001b[39m \u001b[39mself\u001b[39m\u001b[39m.\u001b[39m_resolve_dist(\n\u001b[1;32m    830\u001b[0m     req, best, replace_conflicting, env, installer, required_by, to_activate\n\u001b[1;32m    831\u001b[0m )\n\u001b[1;32m    833\u001b[0m \u001b[39m# push the new requirements onto the stack\u001b[39;00m\n\u001b[0;32m--> 834\u001b[0m new_requirements \u001b[39m=\u001b[39m dist\u001b[39m.\u001b[39;49mrequires(req\u001b[39m.\u001b[39;49mextras)[::\u001b[39m-\u001b[39m\u001b[39m1\u001b[39m]\n\u001b[1;32m    835\u001b[0m requirements\u001b[39m.\u001b[39mextend(new_requirements)\n\u001b[1;32m    837\u001b[0m \u001b[39m# Register the new requirements needed by req\u001b[39;00m\n",
            "File \u001b[0;32m/opt/homebrew/lib/python3.11/site-packages/pkg_resources/__init__.py:2822\u001b[0m, in \u001b[0;36mDistribution.requires\u001b[0;34m(self, extras)\u001b[0m\n\u001b[1;32m   2820\u001b[0m \u001b[39mdef\u001b[39;00m \u001b[39mrequires\u001b[39m(\u001b[39mself\u001b[39m, extras\u001b[39m=\u001b[39m()):\n\u001b[1;32m   2821\u001b[0m \u001b[39m    \u001b[39m\u001b[39m\"\"\"List of Requirements needed for this distro if `extras` are used\"\"\"\u001b[39;00m\n\u001b[0;32m-> 2822\u001b[0m     dm \u001b[39m=\u001b[39m \u001b[39mself\u001b[39;49m\u001b[39m.\u001b[39;49m_dep_map\n\u001b[1;32m   2823\u001b[0m     deps \u001b[39m=\u001b[39m []\n\u001b[1;32m   2824\u001b[0m     deps\u001b[39m.\u001b[39mextend(dm\u001b[39m.\u001b[39mget(\u001b[39mNone\u001b[39;00m, ()))\n",
            "File \u001b[0;32m/opt/homebrew/lib/python3.11/site-packages/pkg_resources/__init__.py:3111\u001b[0m, in \u001b[0;36mDistInfoDistribution._dep_map\u001b[0;34m(self)\u001b[0m\n\u001b[1;32m   3109\u001b[0m     \u001b[39mreturn\u001b[39;00m \u001b[39mself\u001b[39m\u001b[39m.\u001b[39m__dep_map\n\u001b[1;32m   3110\u001b[0m \u001b[39mexcept\u001b[39;00m \u001b[39mAttributeError\u001b[39;00m:\n\u001b[0;32m-> 3111\u001b[0m     \u001b[39mself\u001b[39m\u001b[39m.\u001b[39m__dep_map \u001b[39m=\u001b[39m \u001b[39mself\u001b[39;49m\u001b[39m.\u001b[39;49m_compute_dependencies()\n\u001b[1;32m   3112\u001b[0m     \u001b[39mreturn\u001b[39;00m \u001b[39mself\u001b[39m\u001b[39m.\u001b[39m__dep_map\n",
            "File \u001b[0;32m/opt/homebrew/lib/python3.11/site-packages/pkg_resources/__init__.py:3121\u001b[0m, in \u001b[0;36mDistInfoDistribution._compute_dependencies\u001b[0;34m(self)\u001b[0m\n\u001b[1;32m   3119\u001b[0m \u001b[39m# Including any condition expressions\u001b[39;00m\n\u001b[1;32m   3120\u001b[0m \u001b[39mfor\u001b[39;00m req \u001b[39min\u001b[39;00m \u001b[39mself\u001b[39m\u001b[39m.\u001b[39m_parsed_pkg_info\u001b[39m.\u001b[39mget_all(\u001b[39m'\u001b[39m\u001b[39mRequires-Dist\u001b[39m\u001b[39m'\u001b[39m) \u001b[39mor\u001b[39;00m []:\n\u001b[0;32m-> 3121\u001b[0m     reqs\u001b[39m.\u001b[39mextend(parse_requirements(req))\n\u001b[1;32m   3123\u001b[0m \u001b[39mdef\u001b[39;00m \u001b[39mreqs_for_extra\u001b[39m(extra):\n\u001b[1;32m   3124\u001b[0m     \u001b[39mfor\u001b[39;00m req \u001b[39min\u001b[39;00m reqs:\n",
            "File \u001b[0;32m/opt/homebrew/lib/python3.11/site-packages/pkg_resources/__init__.py:3174\u001b[0m, in \u001b[0;36mRequirement.__init__\u001b[0;34m(self, requirement_string)\u001b[0m\n\u001b[1;32m   3172\u001b[0m \u001b[39mdef\u001b[39;00m \u001b[39m__init__\u001b[39m(\u001b[39mself\u001b[39m, requirement_string):\n\u001b[1;32m   3173\u001b[0m \u001b[39m    \u001b[39m\u001b[39m\"\"\"DO NOT CALL THIS UNDOCUMENTED METHOD; use Requirement.parse()!\"\"\"\u001b[39;00m\n\u001b[0;32m-> 3174\u001b[0m     \u001b[39msuper\u001b[39;49m(Requirement, \u001b[39mself\u001b[39;49m)\u001b[39m.\u001b[39;49m\u001b[39m__init__\u001b[39;49m(requirement_string)\n\u001b[1;32m   3175\u001b[0m     \u001b[39mself\u001b[39m\u001b[39m.\u001b[39munsafe_name \u001b[39m=\u001b[39m \u001b[39mself\u001b[39m\u001b[39m.\u001b[39mname\n\u001b[1;32m   3176\u001b[0m     project_name \u001b[39m=\u001b[39m safe_name(\u001b[39mself\u001b[39m\u001b[39m.\u001b[39mname)\n",
            "File \u001b[0;32m/opt/homebrew/lib/python3.11/site-packages/pkg_resources/_vendor/packaging/requirements.py:37\u001b[0m, in \u001b[0;36mRequirement.__init__\u001b[0;34m(self, requirement_string)\u001b[0m\n\u001b[1;32m     35\u001b[0m     parsed \u001b[39m=\u001b[39m _parse_requirement(requirement_string)\n\u001b[1;32m     36\u001b[0m \u001b[39mexcept\u001b[39;00m ParserSyntaxError \u001b[39mas\u001b[39;00m e:\n\u001b[0;32m---> 37\u001b[0m     \u001b[39mraise\u001b[39;00m InvalidRequirement(\u001b[39mstr\u001b[39m(e)) \u001b[39mfrom\u001b[39;00m \u001b[39me\u001b[39;00m\n\u001b[1;32m     39\u001b[0m \u001b[39mself\u001b[39m\u001b[39m.\u001b[39mname: \u001b[39mstr\u001b[39m \u001b[39m=\u001b[39m parsed\u001b[39m.\u001b[39mname\n\u001b[1;32m     40\u001b[0m \u001b[39mif\u001b[39;00m parsed\u001b[39m.\u001b[39murl:\n",
            "\u001b[0;31mInvalidRequirement\u001b[0m: Expected matching RIGHT_PARENTHESIS for LEFT_PARENTHESIS, after version specifier\n    pyarrow (<2.0de,>=1.0.0) ; (python_version >= \"3.5\") and extra == 'all'\n            ~~~~~^"
          ]
        }
      ],
      "source": [
        "%pip install basedosdados\n",
        "import basedosdados as bd\n",
        "# Para carregar o dado direto no pandas\n",
        "df = bd.read_table(dataset_id='br_mobilidados_indicadores',\n",
        "            table_id='tempo_deslocamento_casa_trabalho',\\\n",
        "            billing_project_id='base-de-dados-402216')#colocar aqui o ID do projeto do gcloud\n",
        "            #billing_project_id='censo-331617')\n"
      ]
    },
    {
      "cell_type": "code",
      "execution_count": null,
      "metadata": {
        "id": "XJwqVNnr9BQY"
      },
      "outputs": [],
      "source": [
        "df"
      ]
    },
    {
      "cell_type": "markdown",
      "metadata": {
        "id": "_nL4_4PEaawP"
      },
      "source": [
        "Antes de começarmos a análise, é importante explorar se há valores faltantes."
      ]
    },
    {
      "cell_type": "code",
      "execution_count": null,
      "metadata": {
        "id": "D2yqkkLNan8S"
      },
      "outputs": [],
      "source": [
        "df['tempo_medio_deslocamento'].isnull().sum()"
      ]
    },
    {
      "cell_type": "markdown",
      "metadata": {
        "id": "SiR5qAW2bjco"
      },
      "source": [
        "Não há valores faltantes."
      ]
    },
    {
      "cell_type": "markdown",
      "metadata": {
        "id": "Qy6G6B-U-mY7"
      },
      "source": [
        "### Vamos calcular o intervalo de confiança para o tempo medio de deslocamento no estado de MG para um nível de confiança de 95%."
      ]
    },
    {
      "cell_type": "code",
      "execution_count": null,
      "metadata": {
        "id": "SF-lNDIE-iEq"
      },
      "outputs": [],
      "source": [
        "## Primeiro, vamos calcular a media e o o desvio padrao\n",
        "media_mg = np.mean(df.loc[df['sigla_uf']=='MG','tempo_medio_deslocamento'])\n",
        "std_mg = np.std(df.loc[df['sigla_uf']=='MG','tempo_medio_deslocamento'])\n",
        "\n",
        "print('O tempo médio de deslocamento no estado de MG é de', \\\n",
        "      np.round(media_mg,2), 'e o desvio padrão é de', np.round(std_mg,2))"
      ]
    },
    {
      "cell_type": "code",
      "execution_count": null,
      "metadata": {
        "id": "N0LfA7ClACtZ"
      },
      "outputs": [],
      "source": [
        "## Agora, voltando à tabela do Z-score, vemos que o valor de Z\n",
        "##correspondente a um nível de confiança de 95% é de 1.96\n",
        "## Assim, podemos calcular o intervalo de confiança:\n",
        "\n",
        "z = 1.96\n",
        "CI_inf_mg = media_mg - z*(std_mg/np.sqrt(len(df.loc[df['sigla_uf']=='MG'])))\n",
        "CI_sup_mg = media_mg + z*(std_mg/np.sqrt(len(df.loc[df['sigla_uf']=='MG'])))"
      ]
    },
    {
      "cell_type": "code",
      "execution_count": null,
      "metadata": {
        "id": "EwRgysOvA1-J"
      },
      "outputs": [],
      "source": [
        "print('(', np.round(CI_inf_mg,2), ',',np.round(CI_sup_mg,2), ')')"
      ]
    },
    {
      "cell_type": "markdown",
      "metadata": {
        "id": "WA2eaVytBfSo"
      },
      "source": [
        "## Exercício 1\n",
        "\n",
        "Qual é o CI do tempo médio de deslocamento casa-trabalho para o estado de MG, considerando um nível de confiança de 90%?"
      ]
    },
    {
      "cell_type": "code",
      "execution_count": null,
      "metadata": {
        "id": "b9sRK9UIUrWx"
      },
      "outputs": [],
      "source": []
    },
    {
      "cell_type": "markdown",
      "metadata": {
        "id": "QfiTVIclUrvc"
      },
      "source": [
        "## Exercício 2\n",
        "\n",
        "Qual é o CI do tempo médio de deslocamento casa-trabalho para o estado de SP, considerando um nível de confiança de 95%?"
      ]
    },
    {
      "cell_type": "code",
      "execution_count": null,
      "metadata": {
        "id": "503EGlrSU0y8"
      },
      "outputs": [],
      "source": []
    },
    {
      "cell_type": "markdown",
      "metadata": {
        "id": "qvCxFKxTU1nm"
      },
      "source": [
        "## Exercício 3\n",
        "\n",
        "Qual é o CI do tempo **mediano** de deslocamento casa-trabalho para o estado de SP, considerando um nível de confiança de 95%?"
      ]
    },
    {
      "cell_type": "code",
      "execution_count": null,
      "metadata": {
        "id": "26AF4cedU9kq"
      },
      "outputs": [],
      "source": []
    },
    {
      "cell_type": "markdown",
      "metadata": {
        "id": "fI7HkUs5U-Fa"
      },
      "source": [
        "### Biblioteca scipy.stats\n",
        "\n",
        "O módulo de funções estatísticas scipy stats nos permite calcular o CI chamando apenas uma função. Para maiores informações, ver https://docs.scipy.org/doc/scipy/reference/generated/scipy.stats.norm.html."
      ]
    },
    {
      "cell_type": "code",
      "execution_count": null,
      "metadata": {
        "id": "UXTBErLABclW"
      },
      "outputs": [],
      "source": [
        "import scipy.stats as st\n",
        "\n",
        "#Voltando ao problema inicial, vamos calcular o intervalo de confiança para\n",
        "#o tempo medio de deslocamento no estado de MG para um nível de confiança de 95%.\n",
        "#alpha = nivel de confiança\n",
        "#loc = array dos dados para media\n",
        "#scale = desvio padrão amostral da média\n",
        "\n",
        "ci = st.norm.interval(alpha=0.95, loc=np.mean(df.loc[df['sigla_uf']=='MG','tempo_medio_deslocamento']), \\\n",
        "                      scale=st.sem(df.loc[df['sigla_uf']=='MG','tempo_medio_deslocamento'], \\\n",
        "                                   ddof=0, nan_policy='omit'))"
      ]
    },
    {
      "cell_type": "code",
      "execution_count": null,
      "metadata": {
        "id": "jJox9e8kY3SA"
      },
      "outputs": [],
      "source": [
        "np.round(ci,2)"
      ]
    },
    {
      "cell_type": "markdown",
      "metadata": {
        "id": "AqXAYCAZW9LH"
      },
      "source": [
        "## Exercício 4\n",
        "\n",
        "Usando a biblioteca scipy.stats, calcule e imprima o CI do tempo médio de deslocamento para cada estado brasileiro, com nível de confiança de 99% ."
      ]
    },
    {
      "cell_type": "code",
      "execution_count": null,
      "metadata": {
        "id": "_8124dEUXRJw"
      },
      "outputs": [],
      "source": [
        "#Dica: a função unique dá o array de todos os estados\n",
        "df['sigla_uf'].unique()"
      ]
    },
    {
      "cell_type": "code",
      "execution_count": null,
      "metadata": {
        "id": "nD3qzzAlbEKf"
      },
      "outputs": [],
      "source": []
    },
    {
      "cell_type": "markdown",
      "metadata": {
        "id": "c0triLjibE3B"
      },
      "source": [
        "## Exercício 5\n",
        "Se não há valores valores, por que a função retorna NA para alguns estados?"
      ]
    },
    {
      "cell_type": "markdown",
      "metadata": {
        "id": "NDkZBh6abP8h"
      },
      "source": []
    },
    {
      "cell_type": "markdown",
      "metadata": {
        "id": "Uc6n2JacbQim"
      },
      "source": [
        "## Exercício 6\n",
        "\n",
        "Crie uma visualização (a seu critério) para mostrar os intervalos de confiança dos estados com valores não nulos. Qual padrão você observa?"
      ]
    },
    {
      "cell_type": "code",
      "execution_count": null,
      "metadata": {
        "id": "rHgfu15-bhFs"
      },
      "outputs": [],
      "source": []
    }
  ],
  "metadata": {
    "colab": {
      "private_outputs": true,
      "provenance": []
    },
    "kernelspec": {
      "display_name": "Python 3",
      "name": "python3"
    },
    "language_info": {
      "codemirror_mode": {
        "name": "ipython",
        "version": 3
      },
      "file_extension": ".py",
      "mimetype": "text/x-python",
      "name": "python",
      "nbconvert_exporter": "python",
      "pygments_lexer": "ipython3",
      "version": "3.11.4"
    }
  },
  "nbformat": 4,
  "nbformat_minor": 0
}
