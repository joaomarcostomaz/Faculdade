{
  "cells": [
    {
      "cell_type": "markdown",
      "metadata": {
        "id": "QQV5U59GOds8"
      },
      "source": [
        "# Lista 02 - Pandas Básico\n",
        "\n",
        "Uma parte significativa do trabalho de um cientista de dados é explorar, analisar e visualizar dados. Há uma grande variedade de ferramentas e linguagens de programação que eles podem usar para fazer isso, e uma das abordagens mais populares é usar notebooks Jupyter (como este) e Python.\n",
        "\n",
        "Neste notebook, vamos explorar o pacote [Pandas](http://pandas.pydata.org) e o [Matplotlib](http://matplotlib.org). Também aplicaremos técnicas básicas para analisar dados. Este notebook não é um exercício de programação Python abrangente; ou até mesmo um mergulho profundo na análise de dados. Em vez disso, pretende ser um curso intensivo sobre algumas das maneiras comuns em que os cientistas de dados podem usar Python para explorar com dados.\n",
        "\n",
        "## Imports Básicos\n",
        "\n",
        "As três células abaixo apenas configuram nosso notebook para ficar mais parecido com os das aulas"
      ]
    },
    {
      "cell_type": "code",
      "execution_count": 3,
      "metadata": {
        "id": "bxnbhJR0Ods_"
      },
      "outputs": [],
      "source": [
        "import numpy as np\n",
        "import matplotlib.pyplot as plt\n",
        "import pandas as pd"
      ]
    },
    {
      "cell_type": "code",
      "execution_count": null,
      "metadata": {
        "id": "nUfhojVQOds_"
      },
      "outputs": [],
      "source": [
        "plt.rcParams['figure.figsize']  = (16, 10)\n",
        "plt.rcParams['axes.labelsize']  = 20\n",
        "plt.rcParams['axes.titlesize']  = 20\n",
        "plt.rcParams['legend.fontsize'] = 20\n",
        "plt.rcParams['xtick.labelsize'] = 20\n",
        "plt.rcParams['ytick.labelsize'] = 20\n",
        "plt.rcParams['lines.linewidth'] = 4"
      ]
    },
    {
      "cell_type": "code",
      "execution_count": null,
      "metadata": {
        "id": "P77rf8GgOdtA"
      },
      "outputs": [],
      "source": [
        "plt.ion()\n",
        "plt.style.use('seaborn-colorblind')"
      ]
    },
    {
      "cell_type": "markdown",
      "metadata": {
        "id": "H1owrIR1OdtA"
      },
      "source": [
        "## NumPy Novamente\n",
        "\n",
        "Vamos começar examinando alguns dados simples.\n",
        "\n",
        "Em determinadas épocas do ano a venda de certos produtos sofre um aumento significativo. Um exemplo disso, são as vendas de sorvete que aumentam bastante no verão. Além do sorvete, outros itens como protetor solar e vestuário de banho podem ganhar maior atenção durante essa época do ano enquanto outros produtos podem não ser tão valorizados.\n",
        "\n",
        "Inicialmente, vamos criar alguns dadoos de vendas de sorvete."
      ]
    },
    {
      "cell_type": "code",
      "execution_count": null,
      "metadata": {
        "id": "5NJ_PZyhOdtA"
      },
      "outputs": [],
      "source": [
        "ice_cream = [3000, 2600, 1400, 1500, 1200, 500, 300, 400, 700, 600, 800, 1900]\n",
        "print(ice_cream)"
      ]
    },
    {
      "cell_type": "markdown",
      "metadata": {
        "id": "OjClW0L6OdtA"
      },
      "source": [
        "Os dados foram carregados em um TAD **list**. Como falamos no último laboratório, listas não são otimizadas para análise numérica. Para isso, vamos usar o pacote **NumPy** novamente. Então, vamos criar um vetor Numpy dos dados!"
      ]
    },
    {
      "cell_type": "code",
      "execution_count": null,
      "metadata": {
        "id": "BWRtFKfGOdtA"
      },
      "outputs": [],
      "source": [
        "ice_cream_v = np.array(ice_cream)\n",
        "print(ice_cream_v)"
      ]
    },
    {
      "cell_type": "markdown",
      "metadata": {
        "id": "8beZ3_9POdtA"
      },
      "source": [
        "Caso você ainda esteja se perguntando sobre as diferenças entre uma **list** e uma **array numpy (np.array)**, vamos comparar como esses tipos de dados se comportam quando os usamos em uma expressão que os multiplica por 2."
      ]
    },
    {
      "cell_type": "code",
      "execution_count": null,
      "metadata": {
        "id": "tnTRYiazOdtB"
      },
      "outputs": [],
      "source": [
        "print (type(ice_cream),'x 2:', ice_cream * 2)\n",
        "print('---')\n",
        "print (type(ice_cream_v),'x 2:', ice_cream_v * 2)"
      ]
    },
    {
      "cell_type": "markdown",
      "metadata": {
        "id": "vrrIZSOoOdtB"
      },
      "source": [
        "Observe que multiplicar uma lista por 2 cria uma nova lista com o dobro do comprimento e a sequência original de elementos da lista repetida. Multiplicar um array NumPy, por outro lado, realiza um cálculo elementar no qual o array se comporta como um *vetor*. Terminamos com um array do mesmo tamanho no qual cada elemento foi multiplicado por 2.\n",
        "\n",
        "A principal conclusão disso é que os arrays NumPy são projetados especificamente para suportar operações matemáticas em dados numéricos."
      ]
    },
    {
      "cell_type": "code",
      "execution_count": null,
      "metadata": {
        "id": "XiqLGZD_OdtB"
      },
      "outputs": [],
      "source": [
        "np.median(ice_cream_v)"
      ]
    },
    {
      "cell_type": "markdown",
      "metadata": {
        "id": "rBT6XytSOdtB"
      },
      "source": [
        "### Exercício 01\n",
        "\n",
        "Altere a função abaixo para retornar a mediana do valor dos sorvetes e o número de elementos no array."
      ]
    },
    {
      "cell_type": "code",
      "execution_count": null,
      "metadata": {
        "id": "MoeaMnAPOdtB"
      },
      "outputs": [],
      "source": [
        "def median_and_size(array):\n",
        "    # Retorne uma tupla, abaixo temos um return de exemplo\n",
        "    # return (median, size)\n",
        "    array_np = np.array(array)\n",
        "    median = np.median(array_np)\n",
        "    size = array_np.size\n",
        "    return (median,size)"
      ]
    },
    {
      "cell_type": "markdown",
      "metadata": {
        "id": "xkZKap3tOdtB"
      },
      "source": [
        "Novamente, vanos carregar os módulos de testes"
      ]
    },
    {
      "cell_type": "code",
      "execution_count": null,
      "metadata": {
        "id": "zS9PFH_nOdtB"
      },
      "outputs": [],
      "source": [
        "from numpy.testing import assert_almost_equal\n",
        "from numpy.testing import assert_equal\n",
        "\n",
        "from numpy.testing import assert_array_almost_equal\n",
        "from numpy.testing import assert_array_equal"
      ]
    },
    {
      "cell_type": "markdown",
      "metadata": {
        "id": "FbfHQVteOdtC"
      },
      "source": [
        "Nosso teste"
      ]
    },
    {
      "cell_type": "code",
      "execution_count": null,
      "metadata": {
        "id": "lVOBapEAOdtC"
      },
      "outputs": [],
      "source": [
        "median, size = median_and_size(ice_cream_v)\n",
        "assert_equal(1000, median)\n",
        "assert_equal(12, size)"
      ]
    },
    {
      "cell_type": "code",
      "execution_count": null,
      "metadata": {
        "id": "OCzTpwNGOdtC"
      },
      "outputs": [],
      "source": [
        "len(ice_cream_v)"
      ]
    },
    {
      "cell_type": "markdown",
      "metadata": {
        "id": "Utb_kjiLOdtC"
      },
      "source": [
        "## Pandas"
      ]
    },
    {
      "cell_type": "markdown",
      "metadata": {
        "id": "53F8ikB3OdtC"
      },
      "source": [
        "Embora o NumPy forneça muitas das funcionalidades de que você precisa para trabalhar com números, quando você começa a lidar com tabelas de dados bidimensionais, o pacote Pandas oferece uma estrutura mais conveniente para trabalhar - o DataFrame.\n",
        "\n",
        "Agora, vamos criar alguns dados de vendas de outros produtos. Além do mais, vamos criar um array de meses."
      ]
    },
    {
      "cell_type": "code",
      "execution_count": null,
      "metadata": {
        "id": "3PRuyfv8OdtC"
      },
      "outputs": [],
      "source": [
        "ice_cream = np.array([3000, 2600, 1400, 1500, 1200, 500, 300, 400, 700, 600, 800, 1900])\n",
        "sunglasses = np.array([1000, 800, 100, 70, 50, 190, 60, 50, 100, 120, 130, 900])\n",
        "coats = np.array([10, 20, 80, 120, 100, 500, 900, 780, 360, 100, 120, 20])\n",
        "labels = np.array([\"Jan\", \"Fev\", \"Mar\", \"Abr\", \"Mai\", \"Jun\", \"Jul\", \"Ago\", \"Set\", \"Out\", \"Nov\", \"Dez\"])"
      ]
    },
    {
      "cell_type": "markdown",
      "metadata": {
        "id": "YmZVTx0dOdtC"
      },
      "source": [
        "O código abaixo cria um DataFrame na mão. É mais comum ler dados de arquivos. Porém, neste laboratório inicial, vamos usar um DataFrame com a pequena base de dados acima. A tabela vai ser da seguinte forma:\n",
        "\n",
        "```\n",
        "       icecream   sunglasses   coats\n",
        "------------------------------------\n",
        "Jan     3000        1000        10\n",
        "Fev     2600        800         20\n",
        "...     ...         ...        ...\n",
        "Dez     1900        900         20\n",
        "```\n",
        "\n",
        "Observe que, além das colunas que você especificou, o DataFrame inclui um índice para identificar cada linha de forma exclusiva."
      ]
    },
    {
      "cell_type": "code",
      "execution_count": null,
      "metadata": {
        "id": "hSloqjgrOdtC"
      },
      "outputs": [],
      "source": [
        "df = pd.DataFrame({'icecream': ice_cream,      # coluna 0\n",
        "                   'sunglasses': sunglasses,   # coluna 1\n",
        "                   'coats': coats},            # coluna 2\n",
        "                   index=labels)"
      ]
    },
    {
      "cell_type": "markdown",
      "metadata": {
        "id": "YJjdbuZOOdtC"
      },
      "source": [
        "A chamada head mostra as 5 primeiras linhas do DataFrame."
      ]
    },
    {
      "cell_type": "code",
      "execution_count": null,
      "metadata": {
        "id": "RJKphPsgOdtD"
      },
      "outputs": [],
      "source": [
        "df.head()"
      ]
    },
    {
      "cell_type": "markdown",
      "metadata": {
        "id": "S4e8Vv5ROdtD"
      },
      "source": [
        "### Exercício 02\n",
        "\n",
        "Lembre-se da sala de aula que pandas contém chamadas `loc` e `iloc` para acessar o índice. Sabendo disto, implemente a função abaixo que retorna a quantidade de vendas em um dado mês na forma de `string`. A sua função deve retornar uma Series do pandas. Por exemplo, segue a saída esperada para 'Jan'.\n",
        "\n",
        "```python\n",
        "month_sales(df, 'Jan')\n",
        "```\n",
        "\n",
        "```\n",
        "icecream      3000\n",
        "sunglasses    1000\n",
        "coats           10\n",
        "Name: Jan, dtype: int64\n",
        "```"
      ]
    },
    {
      "cell_type": "code",
      "execution_count": 1,
      "metadata": {
        "id": "sxjux5ODOdtD"
      },
      "outputs": [],
      "source": [
        "def month_sales(df,mounth: str):\n",
        "    series = df.loc[mounth]\n",
        "    retorno = pd.Series(series)\n",
        "    return retorno"
      ]
    },
    {
      "cell_type": "code",
      "execution_count": null,
      "metadata": {
        "id": "d6wT1E26OdtD"
      },
      "outputs": [],
      "source": [
        "series = month_sales(df, 'Jan')\n",
        "assert_equal(3000, series.loc['icecream'])\n",
        "assert_equal(1000, series.loc['sunglasses'])\n",
        "assert_equal(10, series.loc['coats'])"
      ]
    },
    {
      "cell_type": "markdown",
      "metadata": {
        "id": "c1SJjrGlOdtD"
      },
      "source": [
        "### Exercício 03\n",
        "\n",
        "Agora, implemente uma função que retorna uma linha do DataFrame a partir do número da linha (um número inteiro)."
      ]
    },
    {
      "cell_type": "code",
      "execution_count": null,
      "metadata": {
        "id": "5ntfsDzoOdtD"
      },
      "outputs": [],
      "source": [
        "def row_sales(df, row: int):\n",
        "    return df.iloc[row]"
      ]
    },
    {
      "cell_type": "code",
      "execution_count": null,
      "metadata": {
        "id": "klAU_iy6OdtD"
      },
      "outputs": [],
      "source": [
        "series = row_sales(df, 0)\n",
        "assert_equal(3000, series.loc['icecream'])\n",
        "assert_equal(1000, series.loc['sunglasses'])\n",
        "assert_equal(10, series.loc['coats'])"
      ]
    },
    {
      "cell_type": "markdown",
      "metadata": {
        "id": "vHeQNc7wOdtE"
      },
      "source": [
        "### Exercício 04 (Sem correção Automática)\n",
        "\n",
        "Agora, faça um gráfico estilo o abaixo para entender a venda de produtos ao longo dos meses. Esta tarefa não tem correção automática, use o gráfico abaixo para saber se acertou ou não.\n",
        "\n",
        "Lembre-se que em Pandas os data frames contém um método [plot](https://pandas.pydata.org/pandas-docs/stable/reference/api/pandas.DataFrame.plot.html). Leia a documentação do mesmo caso necessário.\n",
        "\n",
        "![](https://raw.githubusercontent.com/icd-ufmg/icd-ufmg.github.io/master/listas/l2/plot1.png)"
      ]
    },
    {
      "cell_type": "code",
      "execution_count": null,
      "metadata": {
        "id": "8Wi_M8ilOdtF"
      },
      "outputs": [],
      "source": [
        "#seu código do Exercício 4 aqui:\n",
        "plt.figure(figsize=(8,6))\n",
        "df.plot(kind='bar')\n",
        "plt.xlabel=('Mês')\n",
        "plt.ylabel=('Vendas')\n",
        "plt.legend()\n",
        "\n",
        "plt.show()"
      ]
    },
    {
      "cell_type": "markdown",
      "metadata": {
        "id": "p1HzOOv9OdtF"
      },
      "source": [
        "### Exercício 05\n",
        "\n",
        "Agora, altere a função abaixo para retornar 'Norte' caso você acha ache que o país das vendas acima é do hemisfério norte. Retorne 'Sul' caso contrário."
      ]
    },
    {
      "cell_type": "code",
      "execution_count": null,
      "metadata": {
        "id": "iiwGYSKyOdtF"
      },
      "outputs": [],
      "source": [
        "def north_or_south():\n",
        "    # retorne 'Norte' ou 'Sul'\n",
        "    return 'Sul'"
      ]
    },
    {
      "cell_type": "markdown",
      "metadata": {
        "id": "R_3lCWsOOdtG"
      },
      "source": [
        "### Exercício 06\n",
        "\n",
        "Por fim, crie um método que retorne as estatísticas agregadas. Seu método deve retornar um novo DataFrame no seguinte formato.\n",
        "\n",
        "```\n",
        "          icecream   sunglasses       coats\n",
        "count    12.000000    12.000000   12.000000\n",
        "mean   1241.666667   297.500000  259.166667\n",
        "std     879.522942   367.896354  308.676304\n",
        "min     300.000000    50.000000   10.000000\n",
        "25%     575.000000    67.500000   65.000000\n",
        "50%    1000.000000   110.000000  110.000000\n",
        "75%    1600.000000   342.500000  395.000000\n",
        "max    3000.000000  1000.000000  900.000000\n",
        "```\n",
        "\n",
        "Uma única chamada Pandas resolve este problema!"
      ]
    },
    {
      "cell_type": "code",
      "execution_count": null,
      "metadata": {
        "id": "2RHOi4hJOdtG"
      },
      "outputs": [],
      "source": [
        "def questao6(df):\n",
        "    return df.describe()"
      ]
    },
    {
      "cell_type": "markdown",
      "metadata": {
        "id": "PUsXijqlOdtG"
      },
      "source": [
        "## Arquivos\n",
        "\n",
        "É bem mais comum fazer uso de DataFrames que já existem em arquivos. Note que o trabalho do cientista de dados nem sempre vai ter tais arquivos prontos. Em várias ocasiões, você vai ter que coletar e organizar os mesmos. Limpeza e coleta de dados é uma parte fundamental do seu trabalho. Durante a matéria, boa parte dos notebooks já vão ter dados prontos.\n",
        "\n",
        "Neste último exercício, vamos fazer uso dos dados de [John Snow](http://blog.rtwilson.com/john-snows-cholera-data-in-more-formats/). Os dados já foram limpos para a tarefa."
      ]
    },
    {
      "cell_type": "code",
      "execution_count": 4,
      "metadata": {
        "colab": {
          "base_uri": "https://localhost:8080/",
          "height": 204
        },
        "id": "Qzzee3QEOdtH",
        "outputId": "c767a321-69b8-4b5b-c74c-28a39bccb991"
      },
      "outputs": [
        {
          "data": {
            "text/html": [
              "\n",
              "  <div id=\"df-91b2db62-1ebe-4e27-8805-4a31890f6716\" class=\"colab-df-container\">\n",
              "    <div>\n",
              "<style scoped>\n",
              "    .dataframe tbody tr th:only-of-type {\n",
              "        vertical-align: middle;\n",
              "    }\n",
              "\n",
              "    .dataframe tbody tr th {\n",
              "        vertical-align: top;\n",
              "    }\n",
              "\n",
              "    .dataframe thead th {\n",
              "        text-align: right;\n",
              "    }\n",
              "</style>\n",
              "<table border=\"1\" class=\"dataframe\">\n",
              "  <thead>\n",
              "    <tr style=\"text-align: right;\">\n",
              "      <th></th>\n",
              "      <th>Count</th>\n",
              "      <th>geometry</th>\n",
              "      <th>NearestPumpID</th>\n",
              "    </tr>\n",
              "  </thead>\n",
              "  <tbody>\n",
              "    <tr>\n",
              "      <th>0</th>\n",
              "      <td>3</td>\n",
              "      <td>POINT (529308.7414200425 181031.3515464273)</td>\n",
              "      <td>0</td>\n",
              "    </tr>\n",
              "    <tr>\n",
              "      <th>1</th>\n",
              "      <td>2</td>\n",
              "      <td>POINT (529312.163571333 181025.1724011325)</td>\n",
              "      <td>0</td>\n",
              "    </tr>\n",
              "    <tr>\n",
              "      <th>2</th>\n",
              "      <td>1</td>\n",
              "      <td>POINT (529314.3824294576 181020.2936884186)</td>\n",
              "      <td>0</td>\n",
              "    </tr>\n",
              "    <tr>\n",
              "      <th>3</th>\n",
              "      <td>1</td>\n",
              "      <td>POINT (529317.3796448297 181014.2587706869)</td>\n",
              "      <td>0</td>\n",
              "    </tr>\n",
              "    <tr>\n",
              "      <th>4</th>\n",
              "      <td>4</td>\n",
              "      <td>POINT (529320.6754489439 181007.8716281414)</td>\n",
              "      <td>0</td>\n",
              "    </tr>\n",
              "  </tbody>\n",
              "</table>\n",
              "</div>\n",
              "    <div class=\"colab-df-buttons\">\n",
              "\n",
              "  <div class=\"colab-df-container\">\n",
              "    <button class=\"colab-df-convert\" onclick=\"convertToInteractive('df-91b2db62-1ebe-4e27-8805-4a31890f6716')\"\n",
              "            title=\"Convert this dataframe to an interactive table.\"\n",
              "            style=\"display:none;\">\n",
              "\n",
              "  <svg xmlns=\"http://www.w3.org/2000/svg\" height=\"24px\" viewBox=\"0 -960 960 960\">\n",
              "    <path d=\"M120-120v-720h720v720H120Zm60-500h600v-160H180v160Zm220 220h160v-160H400v160Zm0 220h160v-160H400v160ZM180-400h160v-160H180v160Zm440 0h160v-160H620v160ZM180-180h160v-160H180v160Zm440 0h160v-160H620v160Z\"/>\n",
              "  </svg>\n",
              "    </button>\n",
              "\n",
              "  <style>\n",
              "    .colab-df-container {\n",
              "      display:flex;\n",
              "      gap: 12px;\n",
              "    }\n",
              "\n",
              "    .colab-df-convert {\n",
              "      background-color: #E8F0FE;\n",
              "      border: none;\n",
              "      border-radius: 50%;\n",
              "      cursor: pointer;\n",
              "      display: none;\n",
              "      fill: #1967D2;\n",
              "      height: 32px;\n",
              "      padding: 0 0 0 0;\n",
              "      width: 32px;\n",
              "    }\n",
              "\n",
              "    .colab-df-convert:hover {\n",
              "      background-color: #E2EBFA;\n",
              "      box-shadow: 0px 1px 2px rgba(60, 64, 67, 0.3), 0px 1px 3px 1px rgba(60, 64, 67, 0.15);\n",
              "      fill: #174EA6;\n",
              "    }\n",
              "\n",
              "    .colab-df-buttons div {\n",
              "      margin-bottom: 4px;\n",
              "    }\n",
              "\n",
              "    [theme=dark] .colab-df-convert {\n",
              "      background-color: #3B4455;\n",
              "      fill: #D2E3FC;\n",
              "    }\n",
              "\n",
              "    [theme=dark] .colab-df-convert:hover {\n",
              "      background-color: #434B5C;\n",
              "      box-shadow: 0px 1px 3px 1px rgba(0, 0, 0, 0.15);\n",
              "      filter: drop-shadow(0px 1px 2px rgba(0, 0, 0, 0.3));\n",
              "      fill: #FFFFFF;\n",
              "    }\n",
              "  </style>\n",
              "\n",
              "    <script>\n",
              "      const buttonEl =\n",
              "        document.querySelector('#df-91b2db62-1ebe-4e27-8805-4a31890f6716 button.colab-df-convert');\n",
              "      buttonEl.style.display =\n",
              "        google.colab.kernel.accessAllowed ? 'block' : 'none';\n",
              "\n",
              "      async function convertToInteractive(key) {\n",
              "        const element = document.querySelector('#df-91b2db62-1ebe-4e27-8805-4a31890f6716');\n",
              "        const dataTable =\n",
              "          await google.colab.kernel.invokeFunction('convertToInteractive',\n",
              "                                                    [key], {});\n",
              "        if (!dataTable) return;\n",
              "\n",
              "        const docLinkHtml = 'Like what you see? Visit the ' +\n",
              "          '<a target=\"_blank\" href=https://colab.research.google.com/notebooks/data_table.ipynb>data table notebook</a>'\n",
              "          + ' to learn more about interactive tables.';\n",
              "        element.innerHTML = '';\n",
              "        dataTable['output_type'] = 'display_data';\n",
              "        await google.colab.output.renderOutput(dataTable, element);\n",
              "        const docLink = document.createElement('div');\n",
              "        docLink.innerHTML = docLinkHtml;\n",
              "        element.appendChild(docLink);\n",
              "      }\n",
              "    </script>\n",
              "  </div>\n",
              "\n",
              "\n",
              "<div id=\"df-00a3e222-40e0-4232-b889-71f770c35812\">\n",
              "  <button class=\"colab-df-quickchart\" onclick=\"quickchart('df-00a3e222-40e0-4232-b889-71f770c35812')\"\n",
              "            title=\"Suggest charts.\"\n",
              "            style=\"display:none;\">\n",
              "\n",
              "<svg xmlns=\"http://www.w3.org/2000/svg\" height=\"24px\"viewBox=\"0 0 24 24\"\n",
              "     width=\"24px\">\n",
              "    <g>\n",
              "        <path d=\"M19 3H5c-1.1 0-2 .9-2 2v14c0 1.1.9 2 2 2h14c1.1 0 2-.9 2-2V5c0-1.1-.9-2-2-2zM9 17H7v-7h2v7zm4 0h-2V7h2v10zm4 0h-2v-4h2v4z\"/>\n",
              "    </g>\n",
              "</svg>\n",
              "  </button>\n",
              "\n",
              "<style>\n",
              "  .colab-df-quickchart {\n",
              "    background-color: #E8F0FE;\n",
              "    border: none;\n",
              "    border-radius: 50%;\n",
              "    cursor: pointer;\n",
              "    display: none;\n",
              "    fill: #1967D2;\n",
              "    height: 32px;\n",
              "    padding: 0 0 0 0;\n",
              "    width: 32px;\n",
              "  }\n",
              "\n",
              "  .colab-df-quickchart:hover {\n",
              "    background-color: #E2EBFA;\n",
              "    box-shadow: 0px 1px 2px rgba(60, 64, 67, 0.3), 0px 1px 3px 1px rgba(60, 64, 67, 0.15);\n",
              "    fill: #174EA6;\n",
              "  }\n",
              "\n",
              "  [theme=dark] .colab-df-quickchart {\n",
              "    background-color: #3B4455;\n",
              "    fill: #D2E3FC;\n",
              "  }\n",
              "\n",
              "  [theme=dark] .colab-df-quickchart:hover {\n",
              "    background-color: #434B5C;\n",
              "    box-shadow: 0px 1px 3px 1px rgba(0, 0, 0, 0.15);\n",
              "    filter: drop-shadow(0px 1px 2px rgba(0, 0, 0, 0.3));\n",
              "    fill: #FFFFFF;\n",
              "  }\n",
              "</style>\n",
              "\n",
              "  <script>\n",
              "    async function quickchart(key) {\n",
              "      const charts = await google.colab.kernel.invokeFunction(\n",
              "          'suggestCharts', [key], {});\n",
              "    }\n",
              "    (() => {\n",
              "      let quickchartButtonEl =\n",
              "        document.querySelector('#df-00a3e222-40e0-4232-b889-71f770c35812 button');\n",
              "      quickchartButtonEl.style.display =\n",
              "        google.colab.kernel.accessAllowed ? 'block' : 'none';\n",
              "    })();\n",
              "  </script>\n",
              "</div>\n",
              "    </div>\n",
              "  </div>\n"
            ],
            "text/plain": [
              "   Count                                     geometry  NearestPumpID\n",
              "0      3  POINT (529308.7414200425 181031.3515464273)              0\n",
              "1      2   POINT (529312.163571333 181025.1724011325)              0\n",
              "2      1  POINT (529314.3824294576 181020.2936884186)              0\n",
              "3      1  POINT (529317.3796448297 181014.2587706869)              0\n",
              "4      4  POINT (529320.6754489439 181007.8716281414)              0"
            ]
          },
          "execution_count": 4,
          "metadata": {},
          "output_type": "execute_result"
        }
      ],
      "source": [
        "df = pd.read_csv('https://raw.githubusercontent.com/icd-ufmg/icd-ufmg.github.io/master/listas/l2/snow.csv')\n",
        "df.head()"
      ]
    },
    {
      "cell_type": "markdown",
      "metadata": {
        "id": "hAybnb0NOdtH"
      },
      "source": [
        "A coluna Count indica o número de mortes em uma casa. A NearestPumpID indica qual bomba d'água é a mais próxima da casa. Os dados não vão bater com os da aula, pois não tínhamos a informação precisa onde cada casa pegava água. Apenas assumi ser no local mais próximo!"
      ]
    },
    {
      "cell_type": "markdown",
      "metadata": {
        "id": "pxtZ75YuOdtI"
      },
      "source": [
        "## Groupby\n",
        "\n",
        "Vamos responder uma pergunta com a função groupby. Lembrando a ideia é separar os dados com base em valores comuns, ou seja, agrupar por nomes e realizar alguma operação. O comando abaixo agrupa todos os recem-náscidos por nome. Imagine a mesma fazendo uma operação equivalente ao laço abaixo:\n",
        "\n",
        "```python\n",
        "buckets = {}                    # Mapa de dados\n",
        "names = set(df['Name'])         # Conjunto de nomes únicos\n",
        "for idx, row in df.iterrows():  # Para cada linha dos dados\n",
        "    name = row['Name']\n",
        "    if name not in buckets:\n",
        "        buckets[name] = []      # Uma lista para cada nome\n",
        "    buckets[name].append(row)   # Separa a linha para cada nome\n",
        "```\n",
        "O código acima é bastante lento!!! Enquanto isso, o groupby é otimizado, sendo bem mais rápido!"
      ]
    },
    {
      "cell_type": "markdown",
      "metadata": {
        "id": "rt3oRtg1OdtI"
      },
      "source": [
        "### Exercício 07\n",
        "\n",
        "Implemente uma função que retorna a quantidade de mortes para cada bomba. Use o `groupby`."
      ]
    },
    {
      "cell_type": "code",
      "execution_count": 5,
      "metadata": {
        "id": "UB1K8ksBOdtI"
      },
      "outputs": [],
      "source": [
        "def mortes_por_pump(df):\n",
        "    return df.groupby('NearestPumpID')['Count'].sum()"
      ]
    },
    {
      "cell_type": "code",
      "execution_count": null,
      "metadata": {
        "id": "jN4XyAf5OdtI"
      },
      "outputs": [],
      "source": []
    }
  ],
  "metadata": {
    "colab": {
      "provenance": []
    },
    "kernelspec": {
      "display_name": "Python 3 (ipykernel)",
      "language": "python",
      "name": "python3"
    },
    "language_info": {
      "codemirror_mode": {
        "name": "ipython",
        "version": 3
      },
      "file_extension": ".py",
      "mimetype": "text/x-python",
      "name": "python",
      "nbconvert_exporter": "python",
      "pygments_lexer": "ipython3",
      "version": "3.11.3"
    },
    "vscode": {
      "interpreter": {
        "hash": "190605ead3d59fdd7149d57090309db6515571225da4d448ac9f06d043bf74ec"
      }
    }
  },
  "nbformat": 4,
  "nbformat_minor": 0
}
